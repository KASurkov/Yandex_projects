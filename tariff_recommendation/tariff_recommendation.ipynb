{
 "cells": [
  {
   "cell_type": "markdown",
   "metadata": {},
   "source": [
    "# Рекомендация тарифов"
   ]
  },
  {
   "cell_type": "markdown",
   "metadata": {},
   "source": [
    "В вашем распоряжении данные о поведении клиентов, которые уже перешли на эти тарифы (из проекта курса «Статистический анализ данных»). Нужно построить модель для задачи классификации, которая выберет подходящий тариф. Предобработка данных не понадобится — вы её уже сделали.\n",
    "\n",
    "Постройте модель с максимально большим значением *accuracy*. Чтобы сдать проект успешно, нужно довести долю правильных ответов по крайней мере до 0.75. Проверьте *accuracy* на тестовой выборке самостоятельно."
   ]
  },
  {
   "cell_type": "markdown",
   "metadata": {},
   "source": [
    "# Импорт библиотек"
   ]
  },
  {
   "cell_type": "code",
   "execution_count": 1,
   "metadata": {},
   "outputs": [],
   "source": [
    "import pandas as pd\n",
    "\n",
    "from sklearn.model_selection import train_test_split\n",
    "from sklearn.tree import DecisionTreeClassifier\n",
    "from sklearn.ensemble import RandomForestClassifier\n",
    "from sklearn.linear_model import LogisticRegression\n",
    "from sklearn.model_selection import RandomizedSearchCV\n",
    "from sklearn.dummy import DummyClassifier\n",
    "\n",
    "import scipy.stats as stats"
   ]
  },
  {
   "cell_type": "code",
   "execution_count": 2,
   "metadata": {},
   "outputs": [],
   "source": [
    "import warnings\n",
    "warnings.filterwarnings('ignore')"
   ]
  },
  {
   "cell_type": "markdown",
   "metadata": {
    "tags": []
   },
   "source": [
    "# Откройте и изучите файл"
   ]
  },
  {
   "cell_type": "markdown",
   "metadata": {},
   "source": [
    "**Описание данных**\n",
    "\n",
    "Признаки:\n",
    "* calls — количество звонков\n",
    "* minutes — суммарная длительность звонков в минутах\n",
    "* messages — количество sms-сообщений\n",
    "* mb_used — израсходованный интернет-трафик в Мб\n",
    "\n",
    "Целевой признак:\n",
    "* is_ultra — каким тарифом пользовался в течение месяца («Ультра» — 1, «Смарт» — 0)"
   ]
  },
  {
   "cell_type": "code",
   "execution_count": 3,
   "metadata": {},
   "outputs": [
    {
     "name": "stdout",
     "output_type": "stream",
     "text": [
      "<class 'pandas.core.frame.DataFrame'>\n",
      "RangeIndex: 3214 entries, 0 to 3213\n",
      "Data columns (total 5 columns):\n",
      " #   Column    Non-Null Count  Dtype  \n",
      "---  ------    --------------  -----  \n",
      " 0   calls     3214 non-null   float64\n",
      " 1   minutes   3214 non-null   float64\n",
      " 2   messages  3214 non-null   float64\n",
      " 3   mb_used   3214 non-null   float64\n",
      " 4   is_ultra  3214 non-null   int64  \n",
      "dtypes: float64(4), int64(1)\n",
      "memory usage: 125.7 KB\n",
      "None\n"
     ]
    },
    {
     "data": {
      "text/html": [
       "<div>\n",
       "<style scoped>\n",
       "    .dataframe tbody tr th:only-of-type {\n",
       "        vertical-align: middle;\n",
       "    }\n",
       "\n",
       "    .dataframe tbody tr th {\n",
       "        vertical-align: top;\n",
       "    }\n",
       "\n",
       "    .dataframe thead th {\n",
       "        text-align: right;\n",
       "    }\n",
       "</style>\n",
       "<table border=\"1\" class=\"dataframe\">\n",
       "  <thead>\n",
       "    <tr style=\"text-align: right;\">\n",
       "      <th></th>\n",
       "      <th>count</th>\n",
       "      <th>mean</th>\n",
       "      <th>std</th>\n",
       "      <th>min</th>\n",
       "      <th>25%</th>\n",
       "      <th>50%</th>\n",
       "      <th>75%</th>\n",
       "      <th>max</th>\n",
       "    </tr>\n",
       "  </thead>\n",
       "  <tbody>\n",
       "    <tr>\n",
       "      <th>calls</th>\n",
       "      <td>3214.0</td>\n",
       "      <td>63.038892</td>\n",
       "      <td>33.236368</td>\n",
       "      <td>0.0</td>\n",
       "      <td>40.0000</td>\n",
       "      <td>62.000</td>\n",
       "      <td>82.0000</td>\n",
       "      <td>244.00</td>\n",
       "    </tr>\n",
       "    <tr>\n",
       "      <th>minutes</th>\n",
       "      <td>3214.0</td>\n",
       "      <td>438.208787</td>\n",
       "      <td>234.569872</td>\n",
       "      <td>0.0</td>\n",
       "      <td>274.5750</td>\n",
       "      <td>430.600</td>\n",
       "      <td>571.9275</td>\n",
       "      <td>1632.06</td>\n",
       "    </tr>\n",
       "    <tr>\n",
       "      <th>messages</th>\n",
       "      <td>3214.0</td>\n",
       "      <td>38.281269</td>\n",
       "      <td>36.148326</td>\n",
       "      <td>0.0</td>\n",
       "      <td>9.0000</td>\n",
       "      <td>30.000</td>\n",
       "      <td>57.0000</td>\n",
       "      <td>224.00</td>\n",
       "    </tr>\n",
       "    <tr>\n",
       "      <th>mb_used</th>\n",
       "      <td>3214.0</td>\n",
       "      <td>17207.673836</td>\n",
       "      <td>7570.968246</td>\n",
       "      <td>0.0</td>\n",
       "      <td>12491.9025</td>\n",
       "      <td>16943.235</td>\n",
       "      <td>21424.7000</td>\n",
       "      <td>49745.73</td>\n",
       "    </tr>\n",
       "    <tr>\n",
       "      <th>is_ultra</th>\n",
       "      <td>3214.0</td>\n",
       "      <td>0.306472</td>\n",
       "      <td>0.461100</td>\n",
       "      <td>0.0</td>\n",
       "      <td>0.0000</td>\n",
       "      <td>0.000</td>\n",
       "      <td>1.0000</td>\n",
       "      <td>1.00</td>\n",
       "    </tr>\n",
       "  </tbody>\n",
       "</table>\n",
       "</div>"
      ],
      "text/plain": [
       "           count          mean          std  min         25%        50%  \\\n",
       "calls     3214.0     63.038892    33.236368  0.0     40.0000     62.000   \n",
       "minutes   3214.0    438.208787   234.569872  0.0    274.5750    430.600   \n",
       "messages  3214.0     38.281269    36.148326  0.0      9.0000     30.000   \n",
       "mb_used   3214.0  17207.673836  7570.968246  0.0  12491.9025  16943.235   \n",
       "is_ultra  3214.0      0.306472     0.461100  0.0      0.0000      0.000   \n",
       "\n",
       "                 75%       max  \n",
       "calls        82.0000    244.00  \n",
       "minutes     571.9275   1632.06  \n",
       "messages     57.0000    224.00  \n",
       "mb_used   21424.7000  49745.73  \n",
       "is_ultra      1.0000      1.00  "
      ]
     },
     "metadata": {},
     "output_type": "display_data"
    },
    {
     "data": {
      "text/html": [
       "<div>\n",
       "<style scoped>\n",
       "    .dataframe tbody tr th:only-of-type {\n",
       "        vertical-align: middle;\n",
       "    }\n",
       "\n",
       "    .dataframe tbody tr th {\n",
       "        vertical-align: top;\n",
       "    }\n",
       "\n",
       "    .dataframe thead th {\n",
       "        text-align: right;\n",
       "    }\n",
       "</style>\n",
       "<table border=\"1\" class=\"dataframe\">\n",
       "  <thead>\n",
       "    <tr style=\"text-align: right;\">\n",
       "      <th></th>\n",
       "      <th>calls</th>\n",
       "      <th>minutes</th>\n",
       "      <th>messages</th>\n",
       "      <th>mb_used</th>\n",
       "      <th>is_ultra</th>\n",
       "    </tr>\n",
       "  </thead>\n",
       "  <tbody>\n",
       "    <tr>\n",
       "      <th>0</th>\n",
       "      <td>40.0</td>\n",
       "      <td>311.90</td>\n",
       "      <td>83.0</td>\n",
       "      <td>19915.42</td>\n",
       "      <td>0</td>\n",
       "    </tr>\n",
       "    <tr>\n",
       "      <th>1</th>\n",
       "      <td>85.0</td>\n",
       "      <td>516.75</td>\n",
       "      <td>56.0</td>\n",
       "      <td>22696.96</td>\n",
       "      <td>0</td>\n",
       "    </tr>\n",
       "    <tr>\n",
       "      <th>2</th>\n",
       "      <td>77.0</td>\n",
       "      <td>467.66</td>\n",
       "      <td>86.0</td>\n",
       "      <td>21060.45</td>\n",
       "      <td>0</td>\n",
       "    </tr>\n",
       "    <tr>\n",
       "      <th>3</th>\n",
       "      <td>106.0</td>\n",
       "      <td>745.53</td>\n",
       "      <td>81.0</td>\n",
       "      <td>8437.39</td>\n",
       "      <td>1</td>\n",
       "    </tr>\n",
       "    <tr>\n",
       "      <th>4</th>\n",
       "      <td>66.0</td>\n",
       "      <td>418.74</td>\n",
       "      <td>1.0</td>\n",
       "      <td>14502.75</td>\n",
       "      <td>0</td>\n",
       "    </tr>\n",
       "  </tbody>\n",
       "</table>\n",
       "</div>"
      ],
      "text/plain": [
       "   calls  minutes  messages   mb_used  is_ultra\n",
       "0   40.0   311.90      83.0  19915.42         0\n",
       "1   85.0   516.75      56.0  22696.96         0\n",
       "2   77.0   467.66      86.0  21060.45         0\n",
       "3  106.0   745.53      81.0   8437.39         1\n",
       "4   66.0   418.74       1.0  14502.75         0"
      ]
     },
     "execution_count": 3,
     "metadata": {},
     "output_type": "execute_result"
    }
   ],
   "source": [
    "df = pd.read_csv('users_behavior.csv')\n",
    "print(df.info())\n",
    "display(df.describe().transpose())\n",
    "df.head()"
   ]
  },
  {
   "cell_type": "markdown",
   "metadata": {},
   "source": [
    "Пропусков нет, неожиданных значений нет."
   ]
  },
  {
   "cell_type": "markdown",
   "metadata": {},
   "source": [
    "# Разбейте данные на выборки"
   ]
  },
  {
   "cell_type": "code",
   "execution_count": 4,
   "metadata": {},
   "outputs": [],
   "source": [
    "features = df.iloc[:, :-1]\n",
    "target = df.iloc[:, -1]\n",
    "features_train, features_test, target_train, target_test = train_test_split(features, target, test_size=.25, random_state=24)"
   ]
  },
  {
   "cell_type": "markdown",
   "metadata": {},
   "source": [
    "Данные разбиты на 2 выборки обучающую и тестовую. Размеры которых соотносятся как 3 : 1 соответсвенно."
   ]
  },
  {
   "cell_type": "markdown",
   "metadata": {},
   "source": [
    "# Исследуйте модели"
   ]
  },
  {
   "cell_type": "markdown",
   "metadata": {},
   "source": [
    "Для сравнительно быстрого поиска лучших гиперпараметров моделей воспользуемся случайным поиском гиперпараметров **RandomizedSearchCV**. Количество итераций поиска установим на 100."
   ]
  },
  {
   "cell_type": "markdown",
   "metadata": {},
   "source": [
    "## Дерево классификации"
   ]
  },
  {
   "cell_type": "code",
   "execution_count": 5,
   "metadata": {},
   "outputs": [
    {
     "name": "stdout",
     "output_type": "stream",
     "text": [
      "Параметры лучшего дерева: \n",
      "глубина дерева = 18, \n",
      "доля примеров из общей выборки в одном узле = 45, \n",
      "количество листьев = 9,\n",
      "точность модели при кросс-валидации = 0.8012448132780083.\n"
     ]
    }
   ],
   "source": [
    "parameters_tree = {\n",
    "    'max_depth' : range(1, 21),\n",
    "    'min_samples_split' : range(2, 51),\n",
    "    'max_leaf_nodes' : range(2, 10)    \n",
    "}\n",
    "random_search = RandomizedSearchCV(DecisionTreeClassifier(random_state=24), param_distributions=parameters_tree, n_iter=100, random_state=24)\n",
    "random_search.fit(features_train, target_train)\n",
    "print(f'''Параметры лучшего дерева: \n",
    "глубина дерева = {random_search.best_params_['max_depth']}, \n",
    "доля примеров из общей выборки в одном узле = {random_search.best_params_['min_samples_split']}, \n",
    "количество листьев = {random_search.best_params_['max_leaf_nodes']},\n",
    "точность модели при кросс-валидации = {random_search.best_score_}.''')"
   ]
  },
  {
   "cell_type": "markdown",
   "metadata": {},
   "source": [
    "Создадим модель с полученными гиперпараметрами и обучим её."
   ]
  },
  {
   "cell_type": "code",
   "execution_count": 6,
   "metadata": {},
   "outputs": [
    {
     "name": "stdout",
     "output_type": "stream",
     "text": [
      "Дерево обучено\n"
     ]
    }
   ],
   "source": [
    "best_tree = DecisionTreeClassifier(max_depth=18, min_samples_split=45, max_leaf_nodes=9, random_state=24)\n",
    "best_tree.fit(features_train, target_train)\n",
    "print('Дерево обучено')"
   ]
  },
  {
   "cell_type": "markdown",
   "metadata": {},
   "source": [
    "## Случайный лес"
   ]
  },
  {
   "cell_type": "code",
   "execution_count": 7,
   "metadata": {},
   "outputs": [
    {
     "name": "stdout",
     "output_type": "stream",
     "text": [
      "Параметры лучшего леса: \n",
      "количество деревьев = 10\n",
      "глубина дерева = 17, \n",
      "доля примеров из общей выборки в одном узле = 3, \n",
      "количество листьев = 9,\n",
      "точность модели при кросс-валидации = 0.8074688796680498.\n"
     ]
    }
   ],
   "source": [
    "parameters_forest = {\n",
    "    'n_estimators' : range(2, 51),\n",
    "    'max_depth' : range(1, 21),\n",
    "    'min_samples_split' : range(2, 51),\n",
    "    'max_leaf_nodes' : range(2, 10)    \n",
    "}\n",
    "random_search = RandomizedSearchCV(RandomForestClassifier(random_state=24), param_distributions=parameters_forest, n_iter=100, random_state=24)\n",
    "random_search.fit(features_train, target_train)\n",
    "print(f'''Параметры лучшего леса: \n",
    "количество деревьев = {random_search.best_params_['n_estimators']}\n",
    "глубина дерева = {random_search.best_params_['max_depth']}, \n",
    "доля примеров из общей выборки в одном узле = {random_search.best_params_['min_samples_split']}, \n",
    "количество листьев = {random_search.best_params_['max_leaf_nodes']},\n",
    "точность модели при кросс-валидации = {random_search.best_score_}.''')"
   ]
  },
  {
   "cell_type": "markdown",
   "metadata": {},
   "source": [
    "Создадим модель с полученными гиперпараметрами и обучим её."
   ]
  },
  {
   "cell_type": "code",
   "execution_count": 8,
   "metadata": {},
   "outputs": [
    {
     "name": "stdout",
     "output_type": "stream",
     "text": [
      "Лес обучен\n"
     ]
    }
   ],
   "source": [
    "best_forest = RandomForestClassifier(n_estimators=10 ,max_depth=17, min_samples_split=3, max_leaf_nodes=9, random_state=24)\n",
    "best_forest.fit(features_train, target_train)\n",
    "print('Лес обучен')"
   ]
  },
  {
   "cell_type": "markdown",
   "metadata": {},
   "source": [
    "## Логистическая регрессия"
   ]
  },
  {
   "cell_type": "code",
   "execution_count": 9,
   "metadata": {},
   "outputs": [
    {
     "name": "stdout",
     "output_type": "stream",
     "text": [
      "Параметры лучшей регрессии: \n",
      "штрафование = l2\n",
      "C = 7.667849003365796e-06, \n",
      "l1_ratio = 0.3664147530835151, \n",
      "точность модели при кросс-валидации = 0.7489626556016598.\n"
     ]
    }
   ],
   "source": [
    "parameters_logistic = {\n",
    "    'penalty' : ['l1', 'l2', 'elasticnet', 'none'],\n",
    "    'C' : stats.loguniform(10**-8, 10),\n",
    "    'l1_ratio' : stats.uniform(0, 1), \n",
    "}\n",
    "random_search = RandomizedSearchCV(LogisticRegression(random_state=24), param_distributions=parameters_logistic, n_iter=100, random_state=24)\n",
    "random_search.fit(features_train, target_train)\n",
    "print(f'''Параметры лучшей регрессии: \n",
    "штрафование = {random_search.best_params_['penalty']}\n",
    "C = {random_search.best_params_['C']}, \n",
    "l1_ratio = {random_search.best_params_['l1_ratio']}, \n",
    "точность модели при кросс-валидации = {random_search.best_score_}.''')"
   ]
  },
  {
   "cell_type": "code",
   "execution_count": 10,
   "metadata": {},
   "outputs": [
    {
     "name": "stdout",
     "output_type": "stream",
     "text": [
      "Логистичесая регрессия обучена\n"
     ]
    }
   ],
   "source": [
    "model_regression = LogisticRegression(penalty='l2', C=7.667849003365796e-06, l1_ratio=0.3664147530835151, random_state=24)\n",
    "model_regression.fit(features_train, target_train)\n",
    "print('Логистичесая регрессия обучена')"
   ]
  },
  {
   "cell_type": "markdown",
   "metadata": {},
   "source": [
    "# Проверьте модель на тестовой выборке"
   ]
  },
  {
   "cell_type": "markdown",
   "metadata": {},
   "source": [
    "**Дерево классификации**"
   ]
  },
  {
   "cell_type": "code",
   "execution_count": 11,
   "metadata": {},
   "outputs": [
    {
     "data": {
      "text/plain": [
       "0.7947761194029851"
      ]
     },
     "execution_count": 11,
     "metadata": {},
     "output_type": "execute_result"
    }
   ],
   "source": [
    "accuracy = best_tree.score(features_test, target_test)\n",
    "accuracy"
   ]
  },
  {
   "cell_type": "markdown",
   "metadata": {},
   "source": [
    "**Случайный лес**"
   ]
  },
  {
   "cell_type": "code",
   "execution_count": 12,
   "metadata": {},
   "outputs": [
    {
     "data": {
      "text/plain": [
       "0.7960199004975125"
      ]
     },
     "execution_count": 12,
     "metadata": {},
     "output_type": "execute_result"
    }
   ],
   "source": [
    "accuracy = best_forest.score(features_test, target_test)\n",
    "accuracy"
   ]
  },
  {
   "cell_type": "markdown",
   "metadata": {},
   "source": [
    "**Логистическая регрессия**"
   ]
  },
  {
   "cell_type": "code",
   "execution_count": 13,
   "metadata": {},
   "outputs": [
    {
     "data": {
      "text/plain": [
       "0.7251243781094527"
      ]
     },
     "execution_count": 13,
     "metadata": {},
     "output_type": "execute_result"
    }
   ],
   "source": [
    "accuracy = model_regression.score(features_test, target_test)\n",
    "accuracy"
   ]
  },
  {
   "cell_type": "markdown",
   "metadata": {},
   "source": [
    "# (бонус) Проверьте модели на адекватность"
   ]
  },
  {
   "cell_type": "markdown",
   "metadata": {},
   "source": [
    "Для этого сгенерируем случайную модель, и проверим её на точность."
   ]
  },
  {
   "cell_type": "code",
   "execution_count": 14,
   "metadata": {},
   "outputs": [
    {
     "data": {
      "text/plain": [
       "0.6840796019900498"
      ]
     },
     "execution_count": 14,
     "metadata": {},
     "output_type": "execute_result"
    }
   ],
   "source": [
    "dummy = DummyClassifier(strategy='most_frequent', random_state=24)\n",
    "dummy.fit(features_train, target_train)\n",
    "dummy.score(features_test, target_test)"
   ]
  },
  {
   "cell_type": "markdown",
   "metadata": {},
   "source": [
    "Что меньше чем у любой из обученных моделей."
   ]
  },
  {
   "cell_type": "markdown",
   "metadata": {},
   "source": [
    "# Вывод"
   ]
  },
  {
   "cell_type": "markdown",
   "metadata": {},
   "source": [
    "Лучшей моделью для данной задачи оказался случайный лес. Он дал наибольшую точность предсказания среди других моделей (79.6 % точности). Недалеко позади находиться одиночное дерево (79.5 %). И на последнем месте логистическая регрессия (72.5 %).\n",
    "\n",
    "При этом все модели успешно прошли проверку на адекватность."
   ]
  },
  {
   "cell_type": "code",
   "execution_count": null,
   "metadata": {},
   "outputs": [],
   "source": []
  }
 ],
 "metadata": {
  "ExecuteTimeLog": [
   {
    "duration": 1124,
    "start_time": "2022-01-20T14:16:00.150Z"
   },
   {
    "duration": 83,
    "start_time": "2022-01-20T14:16:01.276Z"
   },
   {
    "duration": 8,
    "start_time": "2022-01-20T14:16:01.924Z"
   },
   {
    "duration": 1351,
    "start_time": "2022-01-20T14:16:03.116Z"
   },
   {
    "duration": 9,
    "start_time": "2022-01-20T14:16:04.468Z"
   },
   {
    "duration": 12862,
    "start_time": "2022-01-20T14:16:04.479Z"
   },
   {
    "duration": 111,
    "start_time": "2022-01-20T14:16:17.343Z"
   },
   {
    "duration": 13,
    "start_time": "2022-01-20T14:16:17.457Z"
   },
   {
    "duration": 7,
    "start_time": "2022-01-20T14:16:17.472Z"
   },
   {
    "duration": 13,
    "start_time": "2022-01-20T14:16:17.480Z"
   },
   {
    "duration": 26,
    "start_time": "2022-01-20T14:16:17.494Z"
   },
   {
    "duration": 17,
    "start_time": "2022-01-20T14:16:17.521Z"
   },
   {
    "duration": 227,
    "start_time": "2022-01-21T06:13:39.328Z"
   },
   {
    "duration": 992,
    "start_time": "2022-01-21T06:13:44.839Z"
   },
   {
    "duration": 158,
    "start_time": "2022-01-21T06:13:51.920Z"
   },
   {
    "duration": 8,
    "start_time": "2022-01-21T06:13:54.534Z"
   },
   {
    "duration": 6,
    "start_time": "2022-01-21T06:13:58.519Z"
   },
   {
    "duration": 10,
    "start_time": "2022-01-21T06:18:59.970Z"
   },
   {
    "duration": 8,
    "start_time": "2022-01-21T06:19:23.785Z"
   },
   {
    "duration": 1264,
    "start_time": "2022-01-21T06:19:56.456Z"
   },
   {
    "duration": 4,
    "start_time": "2022-01-21T06:21:23.760Z"
   },
   {
    "duration": 84,
    "start_time": "2022-01-21T06:21:23.765Z"
   },
   {
    "duration": 6,
    "start_time": "2022-01-21T06:21:23.851Z"
   },
   {
    "duration": 1365,
    "start_time": "2022-01-21T06:21:30.167Z"
   },
   {
    "duration": 1319,
    "start_time": "2022-01-21T06:21:34.287Z"
   },
   {
    "duration": 1391,
    "start_time": "2022-01-21T06:21:37.766Z"
   },
   {
    "duration": 9,
    "start_time": "2022-01-21T06:22:14.710Z"
   },
   {
    "duration": 14428,
    "start_time": "2022-01-21T06:22:24.134Z"
   },
   {
    "duration": 64,
    "start_time": "2022-01-21T06:23:44.405Z"
   },
   {
    "duration": 6,
    "start_time": "2022-01-21T06:23:55.836Z"
   },
   {
    "duration": 9,
    "start_time": "2022-01-21T06:23:57.651Z"
   },
   {
    "duration": 447,
    "start_time": "2022-01-21T06:30:26.405Z"
   },
   {
    "duration": 217,
    "start_time": "2022-01-21T06:30:32.341Z"
   },
   {
    "duration": 173,
    "start_time": "2022-01-21T06:30:43.357Z"
   },
   {
    "duration": 12,
    "start_time": "2022-01-21T06:31:11.532Z"
   },
   {
    "duration": 12,
    "start_time": "2022-01-21T06:31:15.500Z"
   },
   {
    "duration": 204,
    "start_time": "2022-01-21T06:31:21.636Z"
   },
   {
    "duration": 204,
    "start_time": "2022-01-21T06:31:33.476Z"
   },
   {
    "duration": 12,
    "start_time": "2022-01-21T06:31:42.052Z"
   },
   {
    "duration": 215,
    "start_time": "2022-01-21T06:35:58.081Z"
   },
   {
    "duration": 61,
    "start_time": "2022-01-21T06:37:12.055Z"
   },
   {
    "duration": 561,
    "start_time": "2022-01-21T06:37:21.326Z"
   },
   {
    "duration": 410,
    "start_time": "2022-01-21T06:37:33.782Z"
   },
   {
    "duration": 14,
    "start_time": "2022-01-21T06:42:30.889Z"
   },
   {
    "duration": 5,
    "start_time": "2022-01-21T06:43:12.976Z"
   },
   {
    "duration": 9,
    "start_time": "2022-01-21T06:43:14.047Z"
   },
   {
    "duration": 5,
    "start_time": "2022-01-21T06:43:15.535Z"
   },
   {
    "duration": 12,
    "start_time": "2022-01-21T06:43:25.703Z"
   },
   {
    "duration": 6,
    "start_time": "2022-01-21T06:43:27.871Z"
   },
   {
    "duration": 1047,
    "start_time": "2022-01-21T06:48:21.209Z"
   },
   {
    "duration": 86,
    "start_time": "2022-01-21T06:48:22.258Z"
   },
   {
    "duration": 7,
    "start_time": "2022-01-21T06:48:22.346Z"
   },
   {
    "duration": 1419,
    "start_time": "2022-01-21T06:48:22.354Z"
   },
   {
    "duration": 9,
    "start_time": "2022-01-21T06:48:23.775Z"
   },
   {
    "duration": 14434,
    "start_time": "2022-01-21T06:48:23.785Z"
   },
   {
    "duration": 64,
    "start_time": "2022-01-21T06:48:38.221Z"
   },
   {
    "duration": 271,
    "start_time": "2022-01-21T06:48:38.297Z"
   },
   {
    "duration": 890,
    "start_time": "2022-01-21T06:48:37.680Z"
   },
   {
    "duration": 886,
    "start_time": "2022-01-21T06:48:37.686Z"
   },
   {
    "duration": 883,
    "start_time": "2022-01-21T06:48:37.690Z"
   },
   {
    "duration": 880,
    "start_time": "2022-01-21T06:48:37.694Z"
   },
   {
    "duration": 12,
    "start_time": "2022-01-21T06:50:01.652Z"
   },
   {
    "duration": 9,
    "start_time": "2022-01-21T06:50:34.859Z"
   },
   {
    "duration": 6,
    "start_time": "2022-01-21T06:50:56.146Z"
   },
   {
    "duration": 9,
    "start_time": "2022-01-21T06:50:57.202Z"
   },
   {
    "duration": 6,
    "start_time": "2022-01-21T06:50:58.065Z"
   },
   {
    "duration": 1107,
    "start_time": "2022-01-21T06:51:16.203Z"
   },
   {
    "duration": 86,
    "start_time": "2022-01-21T06:51:17.312Z"
   },
   {
    "duration": 6,
    "start_time": "2022-01-21T06:51:17.400Z"
   },
   {
    "duration": 1431,
    "start_time": "2022-01-21T06:51:17.408Z"
   },
   {
    "duration": 8,
    "start_time": "2022-01-21T06:51:18.842Z"
   },
   {
    "duration": 14914,
    "start_time": "2022-01-21T06:51:18.852Z"
   },
   {
    "duration": 75,
    "start_time": "2022-01-21T06:51:33.767Z"
   },
   {
    "duration": 10,
    "start_time": "2022-01-21T06:51:33.844Z"
   },
   {
    "duration": 4,
    "start_time": "2022-01-21T06:51:33.856Z"
   },
   {
    "duration": 9,
    "start_time": "2022-01-21T06:51:33.862Z"
   },
   {
    "duration": 27,
    "start_time": "2022-01-21T06:51:33.873Z"
   },
   {
    "duration": 9,
    "start_time": "2022-01-21T06:51:33.902Z"
   },
   {
    "duration": 317,
    "start_time": "2022-01-21T06:53:08.756Z"
   },
   {
    "duration": 181,
    "start_time": "2022-01-21T06:53:27.576Z"
   },
   {
    "duration": 3,
    "start_time": "2022-01-21T06:53:33.776Z"
   },
   {
    "duration": 275,
    "start_time": "2022-01-21T06:53:40.224Z"
   },
   {
    "duration": 135,
    "start_time": "2022-01-21T06:53:48.767Z"
   },
   {
    "duration": 5,
    "start_time": "2022-01-21T06:53:52.544Z"
   },
   {
    "duration": 123,
    "start_time": "2022-01-21T06:56:09.278Z"
   },
   {
    "duration": 284,
    "start_time": "2022-01-21T06:56:20.719Z"
   },
   {
    "duration": 6,
    "start_time": "2022-01-21T06:56:23.829Z"
   },
   {
    "duration": 151,
    "start_time": "2022-01-21T06:56:29.852Z"
   },
   {
    "duration": 5,
    "start_time": "2022-01-21T06:56:32.436Z"
   },
   {
    "duration": 173,
    "start_time": "2022-01-21T06:56:42.723Z"
   },
   {
    "duration": 6,
    "start_time": "2022-01-21T06:56:45.700Z"
   },
   {
    "duration": 180,
    "start_time": "2022-01-21T06:57:27.723Z"
   },
   {
    "duration": 208,
    "start_time": "2022-01-21T06:58:18.691Z"
   },
   {
    "duration": 6,
    "start_time": "2022-01-21T06:58:27.202Z"
   },
   {
    "duration": 159,
    "start_time": "2022-01-21T07:00:02.145Z"
   },
   {
    "duration": 171,
    "start_time": "2022-01-21T07:00:38.328Z"
   },
   {
    "duration": 170,
    "start_time": "2022-01-21T07:02:53.230Z"
   },
   {
    "duration": 6,
    "start_time": "2022-01-21T07:02:56.458Z"
   },
   {
    "duration": 9,
    "start_time": "2022-01-21T07:02:57.533Z"
   },
   {
    "duration": 6,
    "start_time": "2022-01-21T07:02:58.774Z"
   },
   {
    "duration": 978,
    "start_time": "2022-01-21T07:03:10.751Z"
   },
   {
    "duration": 88,
    "start_time": "2022-01-21T07:03:11.731Z"
   },
   {
    "duration": 7,
    "start_time": "2022-01-21T07:03:11.821Z"
   },
   {
    "duration": 1363,
    "start_time": "2022-01-21T07:03:11.830Z"
   },
   {
    "duration": 10,
    "start_time": "2022-01-21T07:03:13.196Z"
   },
   {
    "duration": 14657,
    "start_time": "2022-01-21T07:03:13.207Z"
   },
   {
    "duration": 74,
    "start_time": "2022-01-21T07:03:27.865Z"
   },
   {
    "duration": 160,
    "start_time": "2022-01-21T07:03:27.941Z"
   },
   {
    "duration": 101,
    "start_time": "2022-01-21T07:03:28.103Z"
   },
   {
    "duration": 18,
    "start_time": "2022-01-21T07:03:28.297Z"
   },
   {
    "duration": 21,
    "start_time": "2022-01-21T07:03:28.316Z"
   },
   {
    "duration": 36,
    "start_time": "2022-01-21T07:03:28.339Z"
   }
  ],
  "kernelspec": {
   "display_name": "Python 3",
   "language": "python",
   "name": "python3"
  },
  "language_info": {
   "codemirror_mode": {
    "name": "ipython",
    "version": 3
   },
   "file_extension": ".py",
   "mimetype": "text/x-python",
   "name": "python",
   "nbconvert_exporter": "python",
   "pygments_lexer": "ipython3",
   "version": "3.8.8"
  },
  "toc": {
   "base_numbering": 1,
   "nav_menu": {},
   "number_sections": true,
   "sideBar": true,
   "skip_h1_title": true,
   "title_cell": "Table of Contents",
   "title_sidebar": "Contents",
   "toc_cell": false,
   "toc_position": {},
   "toc_section_display": true,
   "toc_window_display": false
  }
 },
 "nbformat": 4,
 "nbformat_minor": 4
}
