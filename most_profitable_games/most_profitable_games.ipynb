{
 "cells": [
  {
   "cell_type": "markdown",
   "id": "8e1ba035",
   "metadata": {},
   "source": [
    "# Описание проекта\n",
    "Из открытых источников доступны исторические данные о продажах игр, оценки пользователей и экспертов, жанры и платформы (например, Xbox или PlayStation). Вам нужно выявить определяющие успешность игры закономерности. Это позволит сделать ставку на потенциально популярный продукт и спланировать рекламные кампании.\n",
    "\n",
    "Перед вами данные до 2016 года. Представим, что сейчас декабрь 2016 г., и вы планируете кампанию на 2017-й. Нужно отработать принцип работы с данными. Неважно, прогнозируете ли вы продажи на 2017 год по данным 2016-го или же 2027-й — по данным 2026 года.\n",
    "\n",
    "В наборе данных попадается аббревиатура ESRB (Entertainment Software Rating Board) — это ассоциация, определяющая возрастной рейтинг компьютерных игр. ESRB оценивает игровой контент и присваивает ему подходящую возрастную категорию, например, «Для взрослых», «Для детей младшего возраста» или «Для подростков»."
   ]
  },
  {
   "cell_type": "markdown",
   "id": "491b1c94",
   "metadata": {},
   "source": [
    "# Задачи\n",
    "Выявить наиболее перспективные платформы для издания игр. \n",
    "\n",
    "Найти наиболее популярные жанры. \n",
    "\n",
    "Сделать прогноз о том как достигнуть наибольшей популярности продукта (игры). \n",
    "\n",
    "Выявить влияние оценок критиков и оценок игроков на продажи.\n",
    "\n",
    "Проверить гипотезы:\n",
    "- Средние пользовательские рейтинги платформ Xbox One и PC одинаковые;\n",
    "- Средние пользовательские рейтинги жанров Action и Sports разные."
   ]
  },
  {
   "cell_type": "markdown",
   "id": "a724f402",
   "metadata": {},
   "source": [
    "# Импорт библиотек"
   ]
  },
  {
   "cell_type": "code",
   "execution_count": 1,
   "id": "2a4e4d6a",
   "metadata": {},
   "outputs": [],
   "source": [
    "import pandas as pd\n",
    "pd.set_option('display.max_columns',None) # Убираем ограничение с ширины отображаемой таблицы\n",
    "import numpy as np\n",
    "from scipy import stats as st\n",
    "import matplotlib.pyplot as plt"
   ]
  },
  {
   "cell_type": "markdown",
   "id": "f54ed1ae",
   "metadata": {},
   "source": [
    "# Первичный осмотр\n",
    "\n",
    "**Описание данных:**\n",
    "\n",
    "* Name — название игры\n",
    "* Platform — платформа\n",
    "* Year_of_Release — год выпуска\n",
    "* Genre — жанр игры\n",
    "* NA_sales — продажи в Северной Америке (миллионы проданных копий)\n",
    "* EU_sales — продажи в Европе (миллионы проданных копий)\n",
    "* JP_sales — продажи в Японии (миллионы проданных копий)\n",
    "* Other_sales — продажи в других странах (миллионы проданных копий)\n",
    "* Critic_Score — оценка критиков (максимум 100)\n",
    "* User_Score — оценка пользователей (максимум 10)\n",
    "* Rating — рейтинг от организации ESRB (англ. Entertainment Software Rating Board). Эта ассоциация определяет рейтинг компьютерных игр и присваивает им подходящую возрастную категорию.\n",
    "\n",
    "Прочитаем таблицу, и посмотрим её краткое описание с помощью функций `info()` и `describe()`."
   ]
  },
  {
   "cell_type": "code",
   "execution_count": 2,
   "id": "cbd37476",
   "metadata": {},
   "outputs": [
    {
     "name": "stdout",
     "output_type": "stream",
     "text": [
      "<class 'pandas.core.frame.DataFrame'>\n",
      "RangeIndex: 16715 entries, 0 to 16714\n",
      "Data columns (total 11 columns):\n",
      " #   Column           Non-Null Count  Dtype  \n",
      "---  ------           --------------  -----  \n",
      " 0   Name             16713 non-null  object \n",
      " 1   Platform         16715 non-null  object \n",
      " 2   Year_of_Release  16446 non-null  float64\n",
      " 3   Genre            16713 non-null  object \n",
      " 4   NA_sales         16715 non-null  float64\n",
      " 5   EU_sales         16715 non-null  float64\n",
      " 6   JP_sales         16715 non-null  float64\n",
      " 7   Other_sales      16715 non-null  float64\n",
      " 8   Critic_Score     8137 non-null   float64\n",
      " 9   User_Score       10014 non-null  object \n",
      " 10  Rating           9949 non-null   object \n",
      "dtypes: float64(6), object(5)\n",
      "memory usage: 1.4+ MB\n",
      "None\n"
     ]
    },
    {
     "data": {
      "text/html": [
       "<div>\n",
       "<style scoped>\n",
       "    .dataframe tbody tr th:only-of-type {\n",
       "        vertical-align: middle;\n",
       "    }\n",
       "\n",
       "    .dataframe tbody tr th {\n",
       "        vertical-align: top;\n",
       "    }\n",
       "\n",
       "    .dataframe thead th {\n",
       "        text-align: right;\n",
       "    }\n",
       "</style>\n",
       "<table border=\"1\" class=\"dataframe\">\n",
       "  <thead>\n",
       "    <tr style=\"text-align: right;\">\n",
       "      <th></th>\n",
       "      <th>count</th>\n",
       "      <th>mean</th>\n",
       "      <th>std</th>\n",
       "      <th>min</th>\n",
       "      <th>25%</th>\n",
       "      <th>50%</th>\n",
       "      <th>75%</th>\n",
       "      <th>max</th>\n",
       "    </tr>\n",
       "  </thead>\n",
       "  <tbody>\n",
       "    <tr>\n",
       "      <th>Year_of_Release</th>\n",
       "      <td>16446.0</td>\n",
       "      <td>2006.484616</td>\n",
       "      <td>5.877050</td>\n",
       "      <td>1980.0</td>\n",
       "      <td>2003.0</td>\n",
       "      <td>2007.00</td>\n",
       "      <td>2010.00</td>\n",
       "      <td>2016.00</td>\n",
       "    </tr>\n",
       "    <tr>\n",
       "      <th>NA_sales</th>\n",
       "      <td>16715.0</td>\n",
       "      <td>0.263377</td>\n",
       "      <td>0.813604</td>\n",
       "      <td>0.0</td>\n",
       "      <td>0.0</td>\n",
       "      <td>0.08</td>\n",
       "      <td>0.24</td>\n",
       "      <td>41.36</td>\n",
       "    </tr>\n",
       "    <tr>\n",
       "      <th>EU_sales</th>\n",
       "      <td>16715.0</td>\n",
       "      <td>0.145060</td>\n",
       "      <td>0.503339</td>\n",
       "      <td>0.0</td>\n",
       "      <td>0.0</td>\n",
       "      <td>0.02</td>\n",
       "      <td>0.11</td>\n",
       "      <td>28.96</td>\n",
       "    </tr>\n",
       "    <tr>\n",
       "      <th>JP_sales</th>\n",
       "      <td>16715.0</td>\n",
       "      <td>0.077617</td>\n",
       "      <td>0.308853</td>\n",
       "      <td>0.0</td>\n",
       "      <td>0.0</td>\n",
       "      <td>0.00</td>\n",
       "      <td>0.04</td>\n",
       "      <td>10.22</td>\n",
       "    </tr>\n",
       "    <tr>\n",
       "      <th>Other_sales</th>\n",
       "      <td>16715.0</td>\n",
       "      <td>0.047342</td>\n",
       "      <td>0.186731</td>\n",
       "      <td>0.0</td>\n",
       "      <td>0.0</td>\n",
       "      <td>0.01</td>\n",
       "      <td>0.03</td>\n",
       "      <td>10.57</td>\n",
       "    </tr>\n",
       "    <tr>\n",
       "      <th>Critic_Score</th>\n",
       "      <td>8137.0</td>\n",
       "      <td>68.967679</td>\n",
       "      <td>13.938165</td>\n",
       "      <td>13.0</td>\n",
       "      <td>60.0</td>\n",
       "      <td>71.00</td>\n",
       "      <td>79.00</td>\n",
       "      <td>98.00</td>\n",
       "    </tr>\n",
       "  </tbody>\n",
       "</table>\n",
       "</div>"
      ],
      "text/plain": [
       "                   count         mean        std     min     25%      50%  \\\n",
       "Year_of_Release  16446.0  2006.484616   5.877050  1980.0  2003.0  2007.00   \n",
       "NA_sales         16715.0     0.263377   0.813604     0.0     0.0     0.08   \n",
       "EU_sales         16715.0     0.145060   0.503339     0.0     0.0     0.02   \n",
       "JP_sales         16715.0     0.077617   0.308853     0.0     0.0     0.00   \n",
       "Other_sales      16715.0     0.047342   0.186731     0.0     0.0     0.01   \n",
       "Critic_Score      8137.0    68.967679  13.938165    13.0    60.0    71.00   \n",
       "\n",
       "                     75%      max  \n",
       "Year_of_Release  2010.00  2016.00  \n",
       "NA_sales            0.24    41.36  \n",
       "EU_sales            0.11    28.96  \n",
       "JP_sales            0.04    10.22  \n",
       "Other_sales         0.03    10.57  \n",
       "Critic_Score       79.00    98.00  "
      ]
     },
     "metadata": {},
     "output_type": "display_data"
    },
    {
     "data": {
      "text/html": [
       "<div>\n",
       "<style scoped>\n",
       "    .dataframe tbody tr th:only-of-type {\n",
       "        vertical-align: middle;\n",
       "    }\n",
       "\n",
       "    .dataframe tbody tr th {\n",
       "        vertical-align: top;\n",
       "    }\n",
       "\n",
       "    .dataframe thead th {\n",
       "        text-align: right;\n",
       "    }\n",
       "</style>\n",
       "<table border=\"1\" class=\"dataframe\">\n",
       "  <thead>\n",
       "    <tr style=\"text-align: right;\">\n",
       "      <th></th>\n",
       "      <th>Name</th>\n",
       "      <th>Platform</th>\n",
       "      <th>Year_of_Release</th>\n",
       "      <th>Genre</th>\n",
       "      <th>NA_sales</th>\n",
       "      <th>EU_sales</th>\n",
       "      <th>JP_sales</th>\n",
       "      <th>Other_sales</th>\n",
       "      <th>Critic_Score</th>\n",
       "      <th>User_Score</th>\n",
       "      <th>Rating</th>\n",
       "    </tr>\n",
       "  </thead>\n",
       "  <tbody>\n",
       "    <tr>\n",
       "      <th>0</th>\n",
       "      <td>Wii Sports</td>\n",
       "      <td>Wii</td>\n",
       "      <td>2006.0</td>\n",
       "      <td>Sports</td>\n",
       "      <td>41.36</td>\n",
       "      <td>28.96</td>\n",
       "      <td>3.77</td>\n",
       "      <td>8.45</td>\n",
       "      <td>76.0</td>\n",
       "      <td>8</td>\n",
       "      <td>E</td>\n",
       "    </tr>\n",
       "    <tr>\n",
       "      <th>1</th>\n",
       "      <td>Super Mario Bros.</td>\n",
       "      <td>NES</td>\n",
       "      <td>1985.0</td>\n",
       "      <td>Platform</td>\n",
       "      <td>29.08</td>\n",
       "      <td>3.58</td>\n",
       "      <td>6.81</td>\n",
       "      <td>0.77</td>\n",
       "      <td>NaN</td>\n",
       "      <td>NaN</td>\n",
       "      <td>NaN</td>\n",
       "    </tr>\n",
       "    <tr>\n",
       "      <th>2</th>\n",
       "      <td>Mario Kart Wii</td>\n",
       "      <td>Wii</td>\n",
       "      <td>2008.0</td>\n",
       "      <td>Racing</td>\n",
       "      <td>15.68</td>\n",
       "      <td>12.76</td>\n",
       "      <td>3.79</td>\n",
       "      <td>3.29</td>\n",
       "      <td>82.0</td>\n",
       "      <td>8.3</td>\n",
       "      <td>E</td>\n",
       "    </tr>\n",
       "    <tr>\n",
       "      <th>3</th>\n",
       "      <td>Wii Sports Resort</td>\n",
       "      <td>Wii</td>\n",
       "      <td>2009.0</td>\n",
       "      <td>Sports</td>\n",
       "      <td>15.61</td>\n",
       "      <td>10.93</td>\n",
       "      <td>3.28</td>\n",
       "      <td>2.95</td>\n",
       "      <td>80.0</td>\n",
       "      <td>8</td>\n",
       "      <td>E</td>\n",
       "    </tr>\n",
       "    <tr>\n",
       "      <th>4</th>\n",
       "      <td>Pokemon Red/Pokemon Blue</td>\n",
       "      <td>GB</td>\n",
       "      <td>1996.0</td>\n",
       "      <td>Role-Playing</td>\n",
       "      <td>11.27</td>\n",
       "      <td>8.89</td>\n",
       "      <td>10.22</td>\n",
       "      <td>1.00</td>\n",
       "      <td>NaN</td>\n",
       "      <td>NaN</td>\n",
       "      <td>NaN</td>\n",
       "    </tr>\n",
       "    <tr>\n",
       "      <th>5</th>\n",
       "      <td>Tetris</td>\n",
       "      <td>GB</td>\n",
       "      <td>1989.0</td>\n",
       "      <td>Puzzle</td>\n",
       "      <td>23.20</td>\n",
       "      <td>2.26</td>\n",
       "      <td>4.22</td>\n",
       "      <td>0.58</td>\n",
       "      <td>NaN</td>\n",
       "      <td>NaN</td>\n",
       "      <td>NaN</td>\n",
       "    </tr>\n",
       "    <tr>\n",
       "      <th>6</th>\n",
       "      <td>New Super Mario Bros.</td>\n",
       "      <td>DS</td>\n",
       "      <td>2006.0</td>\n",
       "      <td>Platform</td>\n",
       "      <td>11.28</td>\n",
       "      <td>9.14</td>\n",
       "      <td>6.50</td>\n",
       "      <td>2.88</td>\n",
       "      <td>89.0</td>\n",
       "      <td>8.5</td>\n",
       "      <td>E</td>\n",
       "    </tr>\n",
       "    <tr>\n",
       "      <th>7</th>\n",
       "      <td>Wii Play</td>\n",
       "      <td>Wii</td>\n",
       "      <td>2006.0</td>\n",
       "      <td>Misc</td>\n",
       "      <td>13.96</td>\n",
       "      <td>9.18</td>\n",
       "      <td>2.93</td>\n",
       "      <td>2.84</td>\n",
       "      <td>58.0</td>\n",
       "      <td>6.6</td>\n",
       "      <td>E</td>\n",
       "    </tr>\n",
       "    <tr>\n",
       "      <th>8</th>\n",
       "      <td>New Super Mario Bros. Wii</td>\n",
       "      <td>Wii</td>\n",
       "      <td>2009.0</td>\n",
       "      <td>Platform</td>\n",
       "      <td>14.44</td>\n",
       "      <td>6.94</td>\n",
       "      <td>4.70</td>\n",
       "      <td>2.24</td>\n",
       "      <td>87.0</td>\n",
       "      <td>8.4</td>\n",
       "      <td>E</td>\n",
       "    </tr>\n",
       "    <tr>\n",
       "      <th>9</th>\n",
       "      <td>Duck Hunt</td>\n",
       "      <td>NES</td>\n",
       "      <td>1984.0</td>\n",
       "      <td>Shooter</td>\n",
       "      <td>26.93</td>\n",
       "      <td>0.63</td>\n",
       "      <td>0.28</td>\n",
       "      <td>0.47</td>\n",
       "      <td>NaN</td>\n",
       "      <td>NaN</td>\n",
       "      <td>NaN</td>\n",
       "    </tr>\n",
       "  </tbody>\n",
       "</table>\n",
       "</div>"
      ],
      "text/plain": [
       "                        Name Platform  Year_of_Release         Genre  \\\n",
       "0                 Wii Sports      Wii           2006.0        Sports   \n",
       "1          Super Mario Bros.      NES           1985.0      Platform   \n",
       "2             Mario Kart Wii      Wii           2008.0        Racing   \n",
       "3          Wii Sports Resort      Wii           2009.0        Sports   \n",
       "4   Pokemon Red/Pokemon Blue       GB           1996.0  Role-Playing   \n",
       "5                     Tetris       GB           1989.0        Puzzle   \n",
       "6      New Super Mario Bros.       DS           2006.0      Platform   \n",
       "7                   Wii Play      Wii           2006.0          Misc   \n",
       "8  New Super Mario Bros. Wii      Wii           2009.0      Platform   \n",
       "9                  Duck Hunt      NES           1984.0       Shooter   \n",
       "\n",
       "   NA_sales  EU_sales  JP_sales  Other_sales  Critic_Score User_Score Rating  \n",
       "0     41.36     28.96      3.77         8.45          76.0          8      E  \n",
       "1     29.08      3.58      6.81         0.77           NaN        NaN    NaN  \n",
       "2     15.68     12.76      3.79         3.29          82.0        8.3      E  \n",
       "3     15.61     10.93      3.28         2.95          80.0          8      E  \n",
       "4     11.27      8.89     10.22         1.00           NaN        NaN    NaN  \n",
       "5     23.20      2.26      4.22         0.58           NaN        NaN    NaN  \n",
       "6     11.28      9.14      6.50         2.88          89.0        8.5      E  \n",
       "7     13.96      9.18      2.93         2.84          58.0        6.6      E  \n",
       "8     14.44      6.94      4.70         2.24          87.0        8.4      E  \n",
       "9     26.93      0.63      0.28         0.47           NaN        NaN    NaN  "
      ]
     },
     "execution_count": 2,
     "metadata": {},
     "output_type": "execute_result"
    }
   ],
   "source": [
    "games = pd.read_csv('games.csv')\n",
    "print(games.info())\n",
    "display(games.describe().transpose())\n",
    "games.head(10)"
   ]
  },
  {
   "cell_type": "markdown",
   "id": "28b5c9f5",
   "metadata": {},
   "source": [
    "Из чего можно увидеть следующее:\n",
    "* В столбцах **Name** и **Genre** отсутсвуют по два значения, скорее всего это одни и те же строчки;\n",
    "* Есть несколько отсутсувующих значений в **Year_of_Release**;\n",
    "* Множество отсутсвующих значений в **Critic_Score**, **User_Score** и **Rating**, которые часто распологаются в одной и той же строчке;\n",
    "* В числовых значениях всё в пределах нормы."
   ]
  },
  {
   "cell_type": "markdown",
   "id": "f8f271b2-0b7e-44d3-831a-a3420faa30c6",
   "metadata": {},
   "source": [
    "# Обработка данных"
   ]
  },
  {
   "cell_type": "markdown",
   "id": "9b8150f9-6656-436b-adbe-0d0a2cee8ae0",
   "metadata": {},
   "source": [
    "## Названия столбцов"
   ]
  },
  {
   "cell_type": "code",
   "execution_count": 3,
   "id": "c180ca5e",
   "metadata": {},
   "outputs": [],
   "source": [
    "games.columns = games.columns.str.lower() # переводим названия колонок в змеиный формат"
   ]
  },
  {
   "cell_type": "markdown",
   "id": "e002993c",
   "metadata": {},
   "source": [
    "## Заполнение пропусков"
   ]
  },
  {
   "cell_type": "markdown",
   "id": "f6bd0ca7",
   "metadata": {},
   "source": [
    "Посмотрим на проблемы замеченные ранее.\n",
    "* *В столбцах **Name** и **Genre** отсутсвуют по два значения, скорее всего это одни и те же строчки;*"
   ]
  },
  {
   "cell_type": "code",
   "execution_count": 4,
   "id": "69bfcd00",
   "metadata": {},
   "outputs": [
    {
     "data": {
      "text/html": [
       "<div>\n",
       "<style scoped>\n",
       "    .dataframe tbody tr th:only-of-type {\n",
       "        vertical-align: middle;\n",
       "    }\n",
       "\n",
       "    .dataframe tbody tr th {\n",
       "        vertical-align: top;\n",
       "    }\n",
       "\n",
       "    .dataframe thead th {\n",
       "        text-align: right;\n",
       "    }\n",
       "</style>\n",
       "<table border=\"1\" class=\"dataframe\">\n",
       "  <thead>\n",
       "    <tr style=\"text-align: right;\">\n",
       "      <th></th>\n",
       "      <th>name</th>\n",
       "      <th>platform</th>\n",
       "      <th>year_of_release</th>\n",
       "      <th>genre</th>\n",
       "      <th>na_sales</th>\n",
       "      <th>eu_sales</th>\n",
       "      <th>jp_sales</th>\n",
       "      <th>other_sales</th>\n",
       "      <th>critic_score</th>\n",
       "      <th>user_score</th>\n",
       "      <th>rating</th>\n",
       "    </tr>\n",
       "  </thead>\n",
       "  <tbody>\n",
       "    <tr>\n",
       "      <th>659</th>\n",
       "      <td>NaN</td>\n",
       "      <td>GEN</td>\n",
       "      <td>1993.0</td>\n",
       "      <td>NaN</td>\n",
       "      <td>1.78</td>\n",
       "      <td>0.53</td>\n",
       "      <td>0.00</td>\n",
       "      <td>0.08</td>\n",
       "      <td>NaN</td>\n",
       "      <td>NaN</td>\n",
       "      <td>NaN</td>\n",
       "    </tr>\n",
       "    <tr>\n",
       "      <th>14244</th>\n",
       "      <td>NaN</td>\n",
       "      <td>GEN</td>\n",
       "      <td>1993.0</td>\n",
       "      <td>NaN</td>\n",
       "      <td>0.00</td>\n",
       "      <td>0.00</td>\n",
       "      <td>0.03</td>\n",
       "      <td>0.00</td>\n",
       "      <td>NaN</td>\n",
       "      <td>NaN</td>\n",
       "      <td>NaN</td>\n",
       "    </tr>\n",
       "  </tbody>\n",
       "</table>\n",
       "</div>"
      ],
      "text/plain": [
       "      name platform  year_of_release genre  na_sales  eu_sales  jp_sales  \\\n",
       "659    NaN      GEN           1993.0   NaN      1.78      0.53      0.00   \n",
       "14244  NaN      GEN           1993.0   NaN      0.00      0.00      0.03   \n",
       "\n",
       "       other_sales  critic_score user_score rating  \n",
       "659           0.08           NaN        NaN    NaN  \n",
       "14244         0.00           NaN        NaN    NaN  "
      ]
     },
     "execution_count": 4,
     "metadata": {},
     "output_type": "execute_result"
    }
   ],
   "source": [
    "games[games['name'].isna()]"
   ]
  },
  {
   "cell_type": "markdown",
   "id": "5014af42",
   "metadata": {},
   "source": [
    "Действительно, это оказались одни и те же строчки. Поскольку эти игры довольно старые их можно просто убрать."
   ]
  },
  {
   "cell_type": "code",
   "execution_count": 5,
   "id": "8db5f61b",
   "metadata": {},
   "outputs": [],
   "source": [
    "games.dropna(subset=['name'], inplace=True)"
   ]
  },
  {
   "cell_type": "markdown",
   "id": "c69b90a4",
   "metadata": {},
   "source": [
    "* *Есть несколько отсутсувующих значений в **Year_of_Release**;*"
   ]
  },
  {
   "cell_type": "markdown",
   "id": "e571b2a5",
   "metadata": {},
   "source": [
    "Посмотрим какие это строчки."
   ]
  },
  {
   "cell_type": "code",
   "execution_count": 6,
   "id": "c38f043b",
   "metadata": {},
   "outputs": [
    {
     "data": {
      "text/html": [
       "<div>\n",
       "<style scoped>\n",
       "    .dataframe tbody tr th:only-of-type {\n",
       "        vertical-align: middle;\n",
       "    }\n",
       "\n",
       "    .dataframe tbody tr th {\n",
       "        vertical-align: top;\n",
       "    }\n",
       "\n",
       "    .dataframe thead th {\n",
       "        text-align: right;\n",
       "    }\n",
       "</style>\n",
       "<table border=\"1\" class=\"dataframe\">\n",
       "  <thead>\n",
       "    <tr style=\"text-align: right;\">\n",
       "      <th></th>\n",
       "      <th>name</th>\n",
       "      <th>platform</th>\n",
       "      <th>year_of_release</th>\n",
       "      <th>genre</th>\n",
       "      <th>na_sales</th>\n",
       "      <th>eu_sales</th>\n",
       "      <th>jp_sales</th>\n",
       "      <th>other_sales</th>\n",
       "      <th>critic_score</th>\n",
       "      <th>user_score</th>\n",
       "      <th>rating</th>\n",
       "    </tr>\n",
       "  </thead>\n",
       "  <tbody>\n",
       "    <tr>\n",
       "      <th>183</th>\n",
       "      <td>Madden NFL 2004</td>\n",
       "      <td>PS2</td>\n",
       "      <td>NaN</td>\n",
       "      <td>Sports</td>\n",
       "      <td>4.26</td>\n",
       "      <td>0.26</td>\n",
       "      <td>0.01</td>\n",
       "      <td>0.71</td>\n",
       "      <td>94.0</td>\n",
       "      <td>8.5</td>\n",
       "      <td>E</td>\n",
       "    </tr>\n",
       "    <tr>\n",
       "      <th>377</th>\n",
       "      <td>FIFA Soccer 2004</td>\n",
       "      <td>PS2</td>\n",
       "      <td>NaN</td>\n",
       "      <td>Sports</td>\n",
       "      <td>0.59</td>\n",
       "      <td>2.36</td>\n",
       "      <td>0.04</td>\n",
       "      <td>0.51</td>\n",
       "      <td>84.0</td>\n",
       "      <td>6.4</td>\n",
       "      <td>E</td>\n",
       "    </tr>\n",
       "    <tr>\n",
       "      <th>456</th>\n",
       "      <td>LEGO Batman: The Videogame</td>\n",
       "      <td>Wii</td>\n",
       "      <td>NaN</td>\n",
       "      <td>Action</td>\n",
       "      <td>1.80</td>\n",
       "      <td>0.97</td>\n",
       "      <td>0.00</td>\n",
       "      <td>0.29</td>\n",
       "      <td>74.0</td>\n",
       "      <td>7.9</td>\n",
       "      <td>E10+</td>\n",
       "    </tr>\n",
       "    <tr>\n",
       "      <th>475</th>\n",
       "      <td>wwe Smackdown vs. Raw 2006</td>\n",
       "      <td>PS2</td>\n",
       "      <td>NaN</td>\n",
       "      <td>Fighting</td>\n",
       "      <td>1.57</td>\n",
       "      <td>1.02</td>\n",
       "      <td>0.00</td>\n",
       "      <td>0.41</td>\n",
       "      <td>NaN</td>\n",
       "      <td>NaN</td>\n",
       "      <td>NaN</td>\n",
       "    </tr>\n",
       "    <tr>\n",
       "      <th>609</th>\n",
       "      <td>Space Invaders</td>\n",
       "      <td>2600</td>\n",
       "      <td>NaN</td>\n",
       "      <td>Shooter</td>\n",
       "      <td>2.36</td>\n",
       "      <td>0.14</td>\n",
       "      <td>0.00</td>\n",
       "      <td>0.03</td>\n",
       "      <td>NaN</td>\n",
       "      <td>NaN</td>\n",
       "      <td>NaN</td>\n",
       "    </tr>\n",
       "  </tbody>\n",
       "</table>\n",
       "</div>"
      ],
      "text/plain": [
       "                           name platform  year_of_release     genre  na_sales  \\\n",
       "183             Madden NFL 2004      PS2              NaN    Sports      4.26   \n",
       "377            FIFA Soccer 2004      PS2              NaN    Sports      0.59   \n",
       "456  LEGO Batman: The Videogame      Wii              NaN    Action      1.80   \n",
       "475  wwe Smackdown vs. Raw 2006      PS2              NaN  Fighting      1.57   \n",
       "609              Space Invaders     2600              NaN   Shooter      2.36   \n",
       "\n",
       "     eu_sales  jp_sales  other_sales  critic_score user_score rating  \n",
       "183      0.26      0.01         0.71          94.0        8.5      E  \n",
       "377      2.36      0.04         0.51          84.0        6.4      E  \n",
       "456      0.97      0.00         0.29          74.0        7.9   E10+  \n",
       "475      1.02      0.00         0.41           NaN        NaN    NaN  \n",
       "609      0.14      0.00         0.03           NaN        NaN    NaN  "
      ]
     },
     "execution_count": 6,
     "metadata": {},
     "output_type": "execute_result"
    }
   ],
   "source": [
    "games[games['year_of_release'].isna()].head()"
   ]
  },
  {
   "cell_type": "markdown",
   "id": "62003ea6",
   "metadata": {},
   "source": [
    "Проверим не упоминается ли игра с отсутсвующей датой в таблице ещё раз."
   ]
  },
  {
   "cell_type": "code",
   "execution_count": 7,
   "id": "f75f2717",
   "metadata": {},
   "outputs": [
    {
     "data": {
      "text/html": [
       "<div>\n",
       "<style scoped>\n",
       "    .dataframe tbody tr th:only-of-type {\n",
       "        vertical-align: middle;\n",
       "    }\n",
       "\n",
       "    .dataframe tbody tr th {\n",
       "        vertical-align: top;\n",
       "    }\n",
       "\n",
       "    .dataframe thead th {\n",
       "        text-align: right;\n",
       "    }\n",
       "</style>\n",
       "<table border=\"1\" class=\"dataframe\">\n",
       "  <thead>\n",
       "    <tr style=\"text-align: right;\">\n",
       "      <th></th>\n",
       "      <th>name</th>\n",
       "      <th>platform</th>\n",
       "      <th>year_of_release</th>\n",
       "      <th>genre</th>\n",
       "      <th>na_sales</th>\n",
       "      <th>eu_sales</th>\n",
       "      <th>jp_sales</th>\n",
       "      <th>other_sales</th>\n",
       "      <th>critic_score</th>\n",
       "      <th>user_score</th>\n",
       "      <th>rating</th>\n",
       "    </tr>\n",
       "  </thead>\n",
       "  <tbody>\n",
       "    <tr>\n",
       "      <th>377</th>\n",
       "      <td>FIFA Soccer 2004</td>\n",
       "      <td>PS2</td>\n",
       "      <td>NaN</td>\n",
       "      <td>Sports</td>\n",
       "      <td>0.59</td>\n",
       "      <td>2.36</td>\n",
       "      <td>0.04</td>\n",
       "      <td>0.51</td>\n",
       "      <td>84.0</td>\n",
       "      <td>6.4</td>\n",
       "      <td>E</td>\n",
       "    </tr>\n",
       "    <tr>\n",
       "      <th>2606</th>\n",
       "      <td>FIFA Soccer 2004</td>\n",
       "      <td>XB</td>\n",
       "      <td>2003.0</td>\n",
       "      <td>Sports</td>\n",
       "      <td>0.24</td>\n",
       "      <td>0.49</td>\n",
       "      <td>0.00</td>\n",
       "      <td>0.05</td>\n",
       "      <td>82.0</td>\n",
       "      <td>8.2</td>\n",
       "      <td>E</td>\n",
       "    </tr>\n",
       "    <tr>\n",
       "      <th>12029</th>\n",
       "      <td>FIFA Soccer 2004</td>\n",
       "      <td>GC</td>\n",
       "      <td>2003.0</td>\n",
       "      <td>Sports</td>\n",
       "      <td>0.05</td>\n",
       "      <td>0.01</td>\n",
       "      <td>0.00</td>\n",
       "      <td>0.00</td>\n",
       "      <td>83.0</td>\n",
       "      <td>6.2</td>\n",
       "      <td>E</td>\n",
       "    </tr>\n",
       "    <tr>\n",
       "      <th>13086</th>\n",
       "      <td>FIFA Soccer 2004</td>\n",
       "      <td>GBA</td>\n",
       "      <td>2003.0</td>\n",
       "      <td>Sports</td>\n",
       "      <td>0.04</td>\n",
       "      <td>0.01</td>\n",
       "      <td>0.00</td>\n",
       "      <td>0.00</td>\n",
       "      <td>82.0</td>\n",
       "      <td>7.9</td>\n",
       "      <td>E</td>\n",
       "    </tr>\n",
       "  </tbody>\n",
       "</table>\n",
       "</div>"
      ],
      "text/plain": [
       "                   name platform  year_of_release   genre  na_sales  eu_sales  \\\n",
       "377    FIFA Soccer 2004      PS2              NaN  Sports      0.59      2.36   \n",
       "2606   FIFA Soccer 2004       XB           2003.0  Sports      0.24      0.49   \n",
       "12029  FIFA Soccer 2004       GC           2003.0  Sports      0.05      0.01   \n",
       "13086  FIFA Soccer 2004      GBA           2003.0  Sports      0.04      0.01   \n",
       "\n",
       "       jp_sales  other_sales  critic_score user_score rating  \n",
       "377        0.04         0.51          84.0        6.4      E  \n",
       "2606       0.00         0.05          82.0        8.2      E  \n",
       "12029      0.00         0.00          83.0        6.2      E  \n",
       "13086      0.00         0.00          82.0        7.9      E  "
      ]
     },
     "execution_count": 7,
     "metadata": {},
     "output_type": "execute_result"
    }
   ],
   "source": [
    "games[games['name'] == 'FIFA Soccer 2004']"
   ]
  },
  {
   "cell_type": "markdown",
   "id": "b0819889",
   "metadata": {},
   "source": [
    "Видно, что у одной и той же игры может отсутсвовать дата релиза для одной из платформ. Как правило год релиза на всех платформах совпадает (но не всегда). Для случаев где он не совпадает возьмем среднее арифметическое годов выпуска на других платформах, а после округлим до целого.\n",
    "\n",
    "Руководствуясь этим заполним пропуски."
   ]
  },
  {
   "cell_type": "code",
   "execution_count": 8,
   "id": "8c0e28fe",
   "metadata": {},
   "outputs": [
    {
     "name": "stdout",
     "output_type": "stream",
     "text": [
      "Пропусков до = 269\n",
      "Пропусков после = 146\n"
     ]
    }
   ],
   "source": [
    "print('Пропусков до =', games['year_of_release'].isna().sum())\n",
    "games['year_of_release'].fillna(games.groupby('name')['year_of_release'].transform(lambda x: x.mean()), inplace=True) # заполняем пустые значения средними для данной игры\n",
    "games['year_of_release'] = games[games['year_of_release'].notna()]['year_of_release'].round() # округляем\n",
    "print('Пропусков после =', games['year_of_release'].isna().sum())"
   ]
  },
  {
   "cell_type": "markdown",
   "id": "f508ed0f",
   "metadata": {},
   "source": [
    "Осталось 146 пустых значений. С ними уже ничего не поделаешь, вывести их из других значений не представляется возможным. Но, чтобы не терять их вклад в свой жанр, следует их оставить. Пустое значение заменим на -1."
   ]
  },
  {
   "cell_type": "code",
   "execution_count": 9,
   "id": "7f080797",
   "metadata": {},
   "outputs": [
    {
     "name": "stdout",
     "output_type": "stream",
     "text": [
      "Итого пропусков = 0\n"
     ]
    }
   ],
   "source": [
    "games['year_of_release'].fillna(-1, inplace=True)\n",
    "games['year_of_release'] = games['year_of_release'].astype(int)\n",
    "print('Итого пропусков =', games['year_of_release'].isna().sum())"
   ]
  },
  {
   "cell_type": "markdown",
   "id": "a98490a1",
   "metadata": {},
   "source": [
    "* *Множество отсутсвующих значений в **Critic_Score**, **User_Score** и **Rating**, которые часто распологаются в одной и той же строчке;*\n",
    "\n",
    "Сразу можно отметить, что помимо пропусков в **User_Score** имеются неопределенные значения `tbd`. Посмотрим на них."
   ]
  },
  {
   "cell_type": "code",
   "execution_count": 10,
   "id": "492aab17",
   "metadata": {},
   "outputs": [
    {
     "data": {
      "text/html": [
       "<div>\n",
       "<style scoped>\n",
       "    .dataframe tbody tr th:only-of-type {\n",
       "        vertical-align: middle;\n",
       "    }\n",
       "\n",
       "    .dataframe tbody tr th {\n",
       "        vertical-align: top;\n",
       "    }\n",
       "\n",
       "    .dataframe thead th {\n",
       "        text-align: right;\n",
       "    }\n",
       "</style>\n",
       "<table border=\"1\" class=\"dataframe\">\n",
       "  <thead>\n",
       "    <tr style=\"text-align: right;\">\n",
       "      <th></th>\n",
       "      <th>name</th>\n",
       "      <th>platform</th>\n",
       "      <th>year_of_release</th>\n",
       "      <th>genre</th>\n",
       "      <th>na_sales</th>\n",
       "      <th>eu_sales</th>\n",
       "      <th>jp_sales</th>\n",
       "      <th>other_sales</th>\n",
       "      <th>critic_score</th>\n",
       "      <th>user_score</th>\n",
       "      <th>rating</th>\n",
       "    </tr>\n",
       "  </thead>\n",
       "  <tbody>\n",
       "    <tr>\n",
       "      <th>119</th>\n",
       "      <td>Zumba Fitness</td>\n",
       "      <td>Wii</td>\n",
       "      <td>2010</td>\n",
       "      <td>Sports</td>\n",
       "      <td>3.45</td>\n",
       "      <td>2.59</td>\n",
       "      <td>0.0</td>\n",
       "      <td>0.66</td>\n",
       "      <td>NaN</td>\n",
       "      <td>tbd</td>\n",
       "      <td>E</td>\n",
       "    </tr>\n",
       "    <tr>\n",
       "      <th>301</th>\n",
       "      <td>Namco Museum: 50th Anniversary</td>\n",
       "      <td>PS2</td>\n",
       "      <td>2005</td>\n",
       "      <td>Misc</td>\n",
       "      <td>2.08</td>\n",
       "      <td>1.35</td>\n",
       "      <td>0.0</td>\n",
       "      <td>0.54</td>\n",
       "      <td>61.0</td>\n",
       "      <td>tbd</td>\n",
       "      <td>E10+</td>\n",
       "    </tr>\n",
       "    <tr>\n",
       "      <th>520</th>\n",
       "      <td>Zumba Fitness 2</td>\n",
       "      <td>Wii</td>\n",
       "      <td>2011</td>\n",
       "      <td>Sports</td>\n",
       "      <td>1.51</td>\n",
       "      <td>1.03</td>\n",
       "      <td>0.0</td>\n",
       "      <td>0.27</td>\n",
       "      <td>NaN</td>\n",
       "      <td>tbd</td>\n",
       "      <td>T</td>\n",
       "    </tr>\n",
       "    <tr>\n",
       "      <th>645</th>\n",
       "      <td>uDraw Studio</td>\n",
       "      <td>Wii</td>\n",
       "      <td>2010</td>\n",
       "      <td>Misc</td>\n",
       "      <td>1.65</td>\n",
       "      <td>0.57</td>\n",
       "      <td>0.0</td>\n",
       "      <td>0.20</td>\n",
       "      <td>71.0</td>\n",
       "      <td>tbd</td>\n",
       "      <td>E</td>\n",
       "    </tr>\n",
       "    <tr>\n",
       "      <th>657</th>\n",
       "      <td>Frogger's Adventures: Temple of the Frog</td>\n",
       "      <td>GBA</td>\n",
       "      <td>-1</td>\n",
       "      <td>Adventure</td>\n",
       "      <td>2.15</td>\n",
       "      <td>0.18</td>\n",
       "      <td>0.0</td>\n",
       "      <td>0.07</td>\n",
       "      <td>73.0</td>\n",
       "      <td>tbd</td>\n",
       "      <td>E</td>\n",
       "    </tr>\n",
       "  </tbody>\n",
       "</table>\n",
       "</div>"
      ],
      "text/plain": [
       "                                         name platform  year_of_release  \\\n",
       "119                             Zumba Fitness      Wii             2010   \n",
       "301            Namco Museum: 50th Anniversary      PS2             2005   \n",
       "520                           Zumba Fitness 2      Wii             2011   \n",
       "645                              uDraw Studio      Wii             2010   \n",
       "657  Frogger's Adventures: Temple of the Frog      GBA               -1   \n",
       "\n",
       "         genre  na_sales  eu_sales  jp_sales  other_sales  critic_score  \\\n",
       "119     Sports      3.45      2.59       0.0         0.66           NaN   \n",
       "301       Misc      2.08      1.35       0.0         0.54          61.0   \n",
       "520     Sports      1.51      1.03       0.0         0.27           NaN   \n",
       "645       Misc      1.65      0.57       0.0         0.20          71.0   \n",
       "657  Adventure      2.15      0.18       0.0         0.07          73.0   \n",
       "\n",
       "    user_score rating  \n",
       "119        tbd      E  \n",
       "301        tbd   E10+  \n",
       "520        tbd      T  \n",
       "645        tbd      E  \n",
       "657        tbd      E  "
      ]
     },
     "execution_count": 10,
     "metadata": {},
     "output_type": "execute_result"
    }
   ],
   "source": [
    "games[games['user_score'] == 'tbd'].head()"
   ]
  },
  {
   "cell_type": "markdown",
   "id": "c0b03c3e",
   "metadata": {},
   "source": [
    "Учитывая, что `tbd` означает to be determined, можно предположить, что так отмечены игры, для которых оценка игроков ещё не была определена (что странно, игры то старые даже для 2016 года). Для нас же они несут столько же смысловой нагузки, сколько пустые значения. Поэтому для избежания дальнейшей путаницы заменим `tbd` на пустые значения."
   ]
  },
  {
   "cell_type": "code",
   "execution_count": 11,
   "id": "01af9bb6",
   "metadata": {},
   "outputs": [],
   "source": [
    "games['user_score'].replace('tbd', np.nan, inplace=True)\n",
    "games['user_score'] = games['user_score'].astype(float) # для дальнейших расчетов необходимо сменить тип на float"
   ]
  },
  {
   "cell_type": "markdown",
   "id": "428fd020",
   "metadata": {},
   "source": [
    "Пустые значения в **critic_score** и **user_score** заменим на среднюю оценку для этой игры на других платформах, с округлением до целого и до десятой соответсвенно. Значение **rating** для одной игры на разных платформах варьироваться не должно, так что можно просто заменить на моду."
   ]
  },
  {
   "cell_type": "code",
   "execution_count": 12,
   "id": "81210cf7",
   "metadata": {},
   "outputs": [
    {
     "name": "stdout",
     "output_type": "stream",
     "text": [
      "Пропусков в critic_score до = 8576\n",
      "Пропусков в critic_score после = 7615\n",
      "Пропусков в user_score до = 9123\n",
      "Пропусков в user_score после = 8024\n",
      "Пропусков в rating до = 6764\n",
      "Пропусков в rating после = 6327\n"
     ]
    }
   ],
   "source": [
    "for i in ['critic_score', 'user_score']:\n",
    "    print('Пропусков в', i, 'до =', games[i].isna().sum())\n",
    "    games[i].fillna(games.groupby('name')[i].transform(lambda x: x.mean()), inplace=True) # заполняем пустые значения средними для данной игры\n",
    "    print('Пропусков в', i, 'после =', games[i].isna().sum())\n",
    "games['critic_score'] = games[games['critic_score'].notna()]['critic_score'].round() # округляем\n",
    "games['user_score'] = games[games['user_score'].notna()]['user_score'].round(1) # округляем\n",
    "print('Пропусков в rating до =', games['rating'].isna().sum())\n",
    "games['rating'].fillna(games.groupby('name')['rating'].transform(lambda x: x.dropna().mode()[0] if len(x.dropna().mode()) >= 1 else x.mode(dropna=False)[0]), inplace=True) \n",
    "# заполняем пустые значения модой, из-за того что мода порой выдает пустой список вводим условие по длине списка.\n",
    "print('Пропусков в rating после =', games['rating'].isna().sum())"
   ]
  },
  {
   "cell_type": "markdown",
   "id": "ee34680b",
   "metadata": {},
   "source": [
    "Достоверно заполнить оставшиеся пропуски не продоставляется возможным."
   ]
  },
  {
   "cell_type": "markdown",
   "id": "0a1a7238",
   "metadata": {},
   "source": [
    "## Суммарные продажи\n",
    "Создадим столбец с суммарным количеством проданных копий игры."
   ]
  },
  {
   "cell_type": "code",
   "execution_count": 13,
   "id": "13ec34b1",
   "metadata": {},
   "outputs": [
    {
     "data": {
      "text/html": [
       "<div>\n",
       "<style scoped>\n",
       "    .dataframe tbody tr th:only-of-type {\n",
       "        vertical-align: middle;\n",
       "    }\n",
       "\n",
       "    .dataframe tbody tr th {\n",
       "        vertical-align: top;\n",
       "    }\n",
       "\n",
       "    .dataframe thead th {\n",
       "        text-align: right;\n",
       "    }\n",
       "</style>\n",
       "<table border=\"1\" class=\"dataframe\">\n",
       "  <thead>\n",
       "    <tr style=\"text-align: right;\">\n",
       "      <th></th>\n",
       "      <th>name</th>\n",
       "      <th>platform</th>\n",
       "      <th>year_of_release</th>\n",
       "      <th>genre</th>\n",
       "      <th>na_sales</th>\n",
       "      <th>eu_sales</th>\n",
       "      <th>jp_sales</th>\n",
       "      <th>other_sales</th>\n",
       "      <th>critic_score</th>\n",
       "      <th>user_score</th>\n",
       "      <th>rating</th>\n",
       "      <th>tot_sales</th>\n",
       "    </tr>\n",
       "  </thead>\n",
       "  <tbody>\n",
       "    <tr>\n",
       "      <th>0</th>\n",
       "      <td>Wii Sports</td>\n",
       "      <td>Wii</td>\n",
       "      <td>2006</td>\n",
       "      <td>Sports</td>\n",
       "      <td>41.36</td>\n",
       "      <td>28.96</td>\n",
       "      <td>3.77</td>\n",
       "      <td>8.45</td>\n",
       "      <td>76.0</td>\n",
       "      <td>8.0</td>\n",
       "      <td>E</td>\n",
       "      <td>82.54</td>\n",
       "    </tr>\n",
       "    <tr>\n",
       "      <th>1</th>\n",
       "      <td>Super Mario Bros.</td>\n",
       "      <td>NES</td>\n",
       "      <td>1985</td>\n",
       "      <td>Platform</td>\n",
       "      <td>29.08</td>\n",
       "      <td>3.58</td>\n",
       "      <td>6.81</td>\n",
       "      <td>0.77</td>\n",
       "      <td>NaN</td>\n",
       "      <td>NaN</td>\n",
       "      <td>NaN</td>\n",
       "      <td>40.24</td>\n",
       "    </tr>\n",
       "    <tr>\n",
       "      <th>2</th>\n",
       "      <td>Mario Kart Wii</td>\n",
       "      <td>Wii</td>\n",
       "      <td>2008</td>\n",
       "      <td>Racing</td>\n",
       "      <td>15.68</td>\n",
       "      <td>12.76</td>\n",
       "      <td>3.79</td>\n",
       "      <td>3.29</td>\n",
       "      <td>82.0</td>\n",
       "      <td>8.3</td>\n",
       "      <td>E</td>\n",
       "      <td>35.52</td>\n",
       "    </tr>\n",
       "    <tr>\n",
       "      <th>3</th>\n",
       "      <td>Wii Sports Resort</td>\n",
       "      <td>Wii</td>\n",
       "      <td>2009</td>\n",
       "      <td>Sports</td>\n",
       "      <td>15.61</td>\n",
       "      <td>10.93</td>\n",
       "      <td>3.28</td>\n",
       "      <td>2.95</td>\n",
       "      <td>80.0</td>\n",
       "      <td>8.0</td>\n",
       "      <td>E</td>\n",
       "      <td>32.77</td>\n",
       "    </tr>\n",
       "    <tr>\n",
       "      <th>4</th>\n",
       "      <td>Pokemon Red/Pokemon Blue</td>\n",
       "      <td>GB</td>\n",
       "      <td>1996</td>\n",
       "      <td>Role-Playing</td>\n",
       "      <td>11.27</td>\n",
       "      <td>8.89</td>\n",
       "      <td>10.22</td>\n",
       "      <td>1.00</td>\n",
       "      <td>NaN</td>\n",
       "      <td>NaN</td>\n",
       "      <td>NaN</td>\n",
       "      <td>31.38</td>\n",
       "    </tr>\n",
       "  </tbody>\n",
       "</table>\n",
       "</div>"
      ],
      "text/plain": [
       "                       name platform  year_of_release         genre  na_sales  \\\n",
       "0                Wii Sports      Wii             2006        Sports     41.36   \n",
       "1         Super Mario Bros.      NES             1985      Platform     29.08   \n",
       "2            Mario Kart Wii      Wii             2008        Racing     15.68   \n",
       "3         Wii Sports Resort      Wii             2009        Sports     15.61   \n",
       "4  Pokemon Red/Pokemon Blue       GB             1996  Role-Playing     11.27   \n",
       "\n",
       "   eu_sales  jp_sales  other_sales  critic_score  user_score rating  tot_sales  \n",
       "0     28.96      3.77         8.45          76.0         8.0      E      82.54  \n",
       "1      3.58      6.81         0.77           NaN         NaN    NaN      40.24  \n",
       "2     12.76      3.79         3.29          82.0         8.3      E      35.52  \n",
       "3     10.93      3.28         2.95          80.0         8.0      E      32.77  \n",
       "4      8.89     10.22         1.00           NaN         NaN    NaN      31.38  "
      ]
     },
     "execution_count": 13,
     "metadata": {},
     "output_type": "execute_result"
    }
   ],
   "source": [
    "games['tot_sales'] = games['na_sales'] + games['eu_sales'] + games['jp_sales'] + games['other_sales']\n",
    "games.head()"
   ]
  },
  {
   "cell_type": "markdown",
   "id": "c8e99c85",
   "metadata": {},
   "source": [
    "Расчеты проведены корректно."
   ]
  },
  {
   "cell_type": "markdown",
   "id": "800abf91-48d4-4e12-bb6d-d951ef869ca5",
   "metadata": {},
   "source": [
    "# Исследовательский анализ данных"
   ]
  },
  {
   "cell_type": "markdown",
   "id": "7b150906-7bdd-4f3a-9001-c8e875c6a076",
   "metadata": {},
   "source": [
    "## Количество игр по годам"
   ]
  },
  {
   "cell_type": "code",
   "execution_count": 14,
   "id": "68702667",
   "metadata": {},
   "outputs": [
    {
     "data": {
      "image/png": "[encoded data removed]",
      "text/plain": [
       "<Figure size 1008x504 with 1 Axes>"
      ]
     },
     "metadata": {
      "needs_background": "light"
     },
     "output_type": "display_data"
    }
   ],
   "source": [
    "games.groupby('year_of_release')['name'].count().plot(kind='bar', figsize=(14, 7))\n",
    "plt.title('Количество выпущенных игр по годам')\n",
    "plt.xlabel('Год издания')\n",
    "plt.ylabel('Количество игр')\n",
    "plt.xlim(left=1)\n",
    "plt.show()"
   ]
  },
  {
   "cell_type": "markdown",
   "id": "c74dd450",
   "metadata": {},
   "source": [
    "Виден рост количества игр начиная с 1994 года. Так что наиболее важным периодом можно назвать период с 1994 года включительно. Его и примем за **актуальный период**.\n",
    "\n",
    "Рост достигает пика в 2008 году, затем количество игр идет на спад.\n",
    "\n",
    "Далее работа будет проводиться только с данными для актуального периода."
   ]
  },
  {
   "cell_type": "code",
   "execution_count": 15,
   "id": "da7c4566",
   "metadata": {},
   "outputs": [],
   "source": [
    "games = games.query('year_of_release >= 1994')"
   ]
  },
  {
   "cell_type": "markdown",
   "id": "e4d2b36e",
   "metadata": {},
   "source": [
    "## Количество игр по платформам и годам"
   ]
  },
  {
   "cell_type": "markdown",
   "id": "49413716",
   "metadata": {},
   "source": [
    "Возьмем 5 наиболее платформ с самым большим количеством игр."
   ]
  },
  {
   "cell_type": "code",
   "execution_count": 16,
   "id": "53bcd426",
   "metadata": {},
   "outputs": [
    {
     "name": "stdout",
     "output_type": "stream",
     "text": [
      "PS2     2140\n",
      "DS      2128\n",
      "PS3     1320\n",
      "Wii     1301\n",
      "X360    1250\n",
      "Name: platform, dtype: int64\n"
     ]
    },
    {
     "data": {
      "image/png": "[encoded data removed]",
      "text/plain": [
       "<Figure size 1008x504 with 1 Axes>"
      ]
     },
     "metadata": {
      "needs_background": "light"
     },
     "output_type": "display_data"
    }
   ],
   "source": [
    "top_5_platforms = games['platform'].value_counts()[0:5]\n",
    "print(top_5_platforms)\n",
    "top_5 = games.query('platform in @top_5_platforms.index').pivot_table(index='year_of_release', columns='platform', values='name', aggfunc='count')\n",
    "top_5.plot(kind='bar', figsize=(14, 7), stacked=True)\n",
    "plt.title('Количество выпущенных игр для 5 наиболее популярных игровых платформ')\n",
    "plt.xlabel('Год издания')\n",
    "plt.ylabel('Количество игр')\n",
    "plt.legend(title='Платформа')\n",
    "plt.show()"
   ]
  },
  {
   "cell_type": "markdown",
   "id": "ebd6280d",
   "metadata": {},
   "source": [
    "Из чего видно, что для трех из этих платформ срок жизни составил\n",
    "* для PS2 с 2000 по 2011 - 11 лет;\n",
    "* для DS с 2004  по 2012 - 8 лет;\n",
    "* для Wii с 2006 по 2014 - 8 лет.\n",
    "\n",
    "Срок жизни двух других платформ, судя по спаду количества выходящих игр, подходит к концу.\n",
    "* X360 с 2005 по 2016 - 11 лет\n",
    "* PS3 с 2006 по 20016 - 10 лет\n",
    "\n",
    "Средний срок жизни популярных платформ, таким образом, составлет приблизительно 10 лет."
   ]
  },
  {
   "cell_type": "markdown",
   "id": "8267fb42",
   "metadata": {},
   "source": [
    "## Лидеры 2016 года"
   ]
  },
  {
   "cell_type": "markdown",
   "id": "b3664313",
   "metadata": {},
   "source": [
    "Для определения перспективных лидеров 2016 года, воспользуемся графиком схожим с предыдущим."
   ]
  },
  {
   "cell_type": "code",
   "execution_count": 17,
   "id": "e8467630",
   "metadata": {},
   "outputs": [
    {
     "name": "stdout",
     "output_type": "stream",
     "text": [
      "PS4     164\n",
      "XOne     87\n",
      "PSV      85\n",
      "PC       54\n",
      "3DS      46\n",
      "Name: platform, dtype: int64\n"
     ]
    },
    {
     "data": {
      "image/png": "[encoded data removed]",
      "text/plain": [
       "<Figure size 1008x504 with 1 Axes>"
      ]
     },
     "metadata": {
      "needs_background": "light"
     },
     "output_type": "display_data"
    }
   ],
   "source": [
    "top_5_platforms_2016 = games.query('year_of_release == 2016')['platform'].value_counts()[0:5] # 5 платформ с наибольшим количесвом игр в 2016 году\n",
    "print(top_5_platforms_2016)\n",
    "top_5_2016 = games.query('platform in @top_5_platforms_2016.index').pivot_table(index='year_of_release', columns='platform', values='name', aggfunc='count')\n",
    "top_5_2016.plot(kind='bar', figsize=(14, 7), stacked=True)\n",
    "plt.title('Количество выпущенных игр для 5 наиболее популярных игровых платформ 2016-го года')\n",
    "plt.xlabel('Год издания')\n",
    "plt.ylabel('Количество игр')\n",
    "plt.legend(title='Платформа')\n",
    "plt.show()"
   ]
  },
  {
   "cell_type": "markdown",
   "id": "ca10f814",
   "metadata": {},
   "source": [
    "Из чего видно, что наиболее \"цветущими\" являются платформы PS4 и XOne. Они обе зародились в 2013 году, и, скорее всего их ожидает рост в последующие годы.\n",
    "\n",
    "PSV зародилась в 2011 году, то есть раньше чем PS4 и XOne а значит скорее всего её ожидает не столь выраженный рост.\n",
    "\n",
    "3DS выглядит довольно необычно из-за большого количества игр в самом начале своего существования. Однако, количество игр постепенно идет на спад.\n",
    "\n",
    "PC, из-за своего долгого существования, является необычной платформой. И она не подчиняется закономерностям по которым существуют другие платформы. Можно лишь заметить, что на этой платформе ежегодно выходит довольно значимое количество игр.\n",
    "\n",
    "Таким образом наиболее перспективными платформами 2016 года можно назвать **PS4** и **XOne**."
   ]
  },
  {
   "cell_type": "markdown",
   "id": "5679b01e",
   "metadata": {},
   "source": [
    "## Boxplot\n",
    "Построим Boxplot количества проданных копий для 5 платформ с наибольшим количеством вышедших в 2016 году игр."
   ]
  },
  {
   "cell_type": "code",
   "execution_count": 18,
   "id": "b51930f3",
   "metadata": {},
   "outputs": [
    {
     "data": {
      "image/png": "[encoded data removed]",
      "text/plain": [
       "<Figure size 576x720 with 1 Axes>"
      ]
     },
     "metadata": {
      "needs_background": "light"
     },
     "output_type": "display_data"
    }
   ],
   "source": [
    "games.query('platform in @top_5_platforms_2016.index')[['platform', 'tot_sales']].groupby('platform').boxplot(subplots=False, figsize=(8,10))\n",
    "plt.title('Количество копии проданных по всему миру для игр выпущенных на 5 наиболее популярных платформах 2016 года')\n",
    "plt.ylabel('Количество копии проданных по всему миру (млн. копий)')\n",
    "plt.xticks(ticks=[1, 2, 3, 4, 5],labels=['3DS', 'PC', 'PS4', 'PSV', 'XOne'])\n",
    "plt.show()"
   ]
  },
  {
   "cell_type": "markdown",
   "id": "4a85c6f4",
   "metadata": {},
   "source": [
    "Из более широких и больше уходящих вверх ящиков для PS4 и XOne (и более высоко достающих усов) видно, что платформами стабильно имеющими большее число продаж являются **PS4** и **XOne**."
   ]
  },
  {
   "cell_type": "markdown",
   "id": "5f3fa98e",
   "metadata": {},
   "source": [
    "## Scatterplot"
   ]
  },
  {
   "cell_type": "markdown",
   "id": "eada0ec7",
   "metadata": {},
   "source": [
    "Для постройки диаграммы рассеяния выберем PS4."
   ]
  },
  {
   "cell_type": "code",
   "execution_count": 19,
   "id": "eef5fbef",
   "metadata": {},
   "outputs": [
    {
     "name": "stdout",
     "output_type": "stream",
     "text": [
      "              tot_sales  critic_score\n",
      "tot_sales      1.000000      0.391644\n",
      "critic_score   0.391644      1.000000\n"
     ]
    },
    {
     "data": {
      "image/png": "[encoded data removed]",
      "text/plain": [
       "<Figure size 720x360 with 1 Axes>"
      ]
     },
     "metadata": {
      "needs_background": "light"
     },
     "output_type": "display_data"
    }
   ],
   "source": [
    "ps4 = games.query('platform == \"PS4\"')\n",
    "print(ps4[['tot_sales', 'critic_score']].corr())\n",
    "ps4.plot(kind='scatter', x='critic_score', y='tot_sales', alpha=0.3, figsize=(10, 5))\n",
    "plt.title('Зависимость продаж от оценки критиков')\n",
    "plt.ylabel('Продажи в мире (млн. копий)')\n",
    "plt.xlabel('Оценка критиков')\n",
    "plt.show()"
   ]
  },
  {
   "cell_type": "code",
   "execution_count": 20,
   "id": "8bf94779",
   "metadata": {},
   "outputs": [
    {
     "name": "stdout",
     "output_type": "stream",
     "text": [
      "            tot_sales  user_score\n",
      "tot_sales    1.000000   -0.021589\n",
      "user_score  -0.021589    1.000000\n"
     ]
    },
    {
     "data": {
      "image/png": "[encoded data removed]",
      "text/plain": [
       "<Figure size 720x360 with 1 Axes>"
      ]
     },
     "metadata": {
      "needs_background": "light"
     },
     "output_type": "display_data"
    }
   ],
   "source": [
    "print(ps4[['tot_sales', 'user_score']].corr())\n",
    "ps4.plot(kind='scatter', x='user_score', y='tot_sales', alpha=0.3, figsize=(10, 5))\n",
    "plt.title('Зависимость продаж от оценки игроков')\n",
    "plt.ylabel('Продажи в мире (млн. копий)')\n",
    "plt.xlabel('Оценка игроков')\n",
    "plt.show()"
   ]
  },
  {
   "cell_type": "markdown",
   "id": "23257d8e",
   "metadata": {},
   "source": [
    "Итого как по самим диаграммам рассеяния, так и по коэффициенту корреляции видно, что оценки критиков имеют значительно более выраженное прямое воздействие на продажи игры."
   ]
  },
  {
   "cell_type": "markdown",
   "id": "bd96694e",
   "metadata": {},
   "source": [
    "## Жанры\n",
    "Построим боксплоты для всех жанров."
   ]
  },
  {
   "cell_type": "code",
   "execution_count": 21,
   "id": "89e09b88",
   "metadata": {},
   "outputs": [
    {
     "data": {
      "image/png": "[encoded data removed]",
      "text/plain": [
       "<Figure size 1440x864 with 1 Axes>"
      ]
     },
     "metadata": {
      "needs_background": "light"
     },
     "output_type": "display_data"
    }
   ],
   "source": [
    "games[['genre', 'tot_sales']].groupby('genre').boxplot(subplots=False, figsize=(20, 12))\n",
    "plt.xticks(ticks=range(1, 13),labels=['Action', 'Adventure', 'Fighting', 'Misc', 'Platform', 'Puzzle', 'Racing', 'Role-Playing', 'Shooter', 'Simulation', 'Sports', 'Strategy'])\n",
    "plt.title('Количество копии проданных по всему миру для игр разных жанров')\n",
    "plt.ylabel('Количество копий проданных по всему миру (млн. копий)')\n",
    "plt.ylim((0, 4))\n",
    "plt.show()"
   ]
  },
  {
   "cell_type": "markdown",
   "id": "b3670de6",
   "metadata": {},
   "source": [
    "Из чего видно, что лидерами по продажам среди жанров являются:\n",
    "* Шутеры;\n",
    "* Платформеры;\n",
    "* Игры про спорт.\n",
    "\n",
    "Наименее продаваемые игры это:\n",
    "* Приключенческие игры;\n",
    "* Паззлы;\n",
    "* Стратегии."
   ]
  },
  {
   "cell_type": "markdown",
   "id": "50b5efa2-c501-4373-9afb-2de46a990c47",
   "metadata": {},
   "source": [
    "# Портрет пользователя каждого региона"
   ]
  },
  {
   "cell_type": "markdown",
   "id": "3b986c88-390f-455d-b52f-53728b0ea837",
   "metadata": {},
   "source": [
    "## Платформы\n",
    "Создадим таблицы с 5-ю самыми популярными платформами в различных регионах."
   ]
  },
  {
   "cell_type": "code",
   "execution_count": 22,
   "id": "6b0548ae",
   "metadata": {},
   "outputs": [],
   "source": [
    "top_5_platforms_na = games.groupby('platform')['na_sales'].sum().sort_values(ascending=False)[:5]\n",
    "top_5_platforms_eu = games.groupby('platform')['eu_sales'].sum().sort_values(ascending=False)[:5]\n",
    "top_5_platforms_jp = games.groupby('platform')['jp_sales'].sum().sort_values(ascending=False)[:5]\n",
    "top_platforms = pd.DataFrame([top_5_platforms_na, top_5_platforms_eu, top_5_platforms_jp])\n",
    "top_platforms_total = games.query('platform in @top_platforms.columns').groupby('platform')['tot_sales'].sum()"
   ]
  },
  {
   "cell_type": "markdown",
   "id": "0c1c407f",
   "metadata": {},
   "source": [
    "Для наглядности соберем их в одну столбчатую диаграмму."
   ]
  },
  {
   "cell_type": "code",
   "execution_count": 23,
   "id": "862b6e5b",
   "metadata": {},
   "outputs": [
    {
     "data": {
      "image/png": "[encoded data removed]",
      "text/plain": [
       "<Figure size 1008x504 with 1 Axes>"
      ]
     },
     "metadata": {
      "needs_background": "light"
     },
     "output_type": "display_data"
    }
   ],
   "source": [
    "ax = top_platforms_total.sort_index().plot(kind='bar', figsize=(14, 7), edgecolor='b', linewidth=6, alpha=0.3, legend=True)\n",
    "top_platforms.transpose().sort_index().plot(kind='bar', figsize=(14, 7), stacked=True, ax=ax)\n",
    "plt.title('Доли региональных продаж в мировых с распределением по платформам')\n",
    "plt.legend(['Во всем мире', 'Северная Америка', 'Европа', 'Япония'])\n",
    "plt.ylabel('Продажи 1994 - 2016 г (млн. копий)')\n",
    "plt.xlabel('Платформа')\n",
    "plt.show()"
   ]
  },
  {
   "cell_type": "markdown",
   "id": "6c0fbe72",
   "metadata": {},
   "source": [
    "В Северной Америке лидирующими платформами являются X360, PS2 и Wii. Причем продажи игр для платформы X360 и Wii в Америке составляют более половины от всемирных продаж для данных платформ.\n",
    "\n",
    "В Европе лидирующие позиции занимают PS2, PS3 и X360.\n",
    "\n",
    "В Японии DS, PS и PS2.\n",
    "\n",
    "Самую большую долю рынка для наиболее поплярных платформ составляют покупатели из Северной Америки."
   ]
  },
  {
   "cell_type": "markdown",
   "id": "de7785cf",
   "metadata": {},
   "source": [
    "## Жанры\n",
    "Аналогичное проделаем и для жанров."
   ]
  },
  {
   "cell_type": "code",
   "execution_count": 24,
   "id": "6d501966",
   "metadata": {},
   "outputs": [],
   "source": [
    "top_5_genres_na = games.groupby('genre')['na_sales'].sum().sort_values(ascending=False)[:5]\n",
    "top_5_genres_eu = games.groupby('genre')['eu_sales'].sum().sort_values(ascending=False)[:5]\n",
    "top_5_genres_jp = games.groupby('genre')['jp_sales'].sum().sort_values(ascending=False)[:5]\n",
    "top_genres = pd.DataFrame([top_5_genres_na, top_5_genres_eu, top_5_genres_jp])\n",
    "top_genres_total = games.query('genre in @top_genres.columns').groupby('genre')['tot_sales'].sum()"
   ]
  },
  {
   "cell_type": "code",
   "execution_count": 25,
   "id": "0b3bad73",
   "metadata": {},
   "outputs": [
    {
     "data": {
      "image/png": "[encoded data removed]",
      "text/plain": [
       "<Figure size 1008x504 with 1 Axes>"
      ]
     },
     "metadata": {
      "needs_background": "light"
     },
     "output_type": "display_data"
    }
   ],
   "source": [
    "ax = top_genres_total.sort_index().plot(kind='bar', figsize=(14, 7), edgecolor='b', linewidth=6, alpha=0.3, legend=True)\n",
    "top_genres.transpose().sort_index().plot(kind='bar', figsize=(14, 7), stacked=True, ax=ax)\n",
    "plt.title('Доли региональных продаж в мировых с распределением по жанрам')\n",
    "plt.legend(['Во всем мире', 'Северная Америка', 'Европа', 'Япония'])\n",
    "plt.ylabel('Продажи 1994 - 2016 г (млн. копий)')\n",
    "plt.xlabel('Жанр')\n",
    "plt.show()"
   ]
  },
  {
   "cell_type": "markdown",
   "id": "7dc6483f",
   "metadata": {},
   "source": [
    "В Северной Америке лидирующие жанры: Экшен, Игры про спорт, Шутеры. Ровно как и в Европе.\n",
    "\n",
    "В Японии Ролевые игры лидируют над Экшеном и Спортивными играми.\n",
    "\n",
    "Опять таки Северная Америка имеет наибольшую долю продаж."
   ]
  },
  {
   "cell_type": "markdown",
   "id": "2f651483",
   "metadata": {},
   "source": [
    "## Влияние рейтинга ESRB\n",
    "Для начала посмотрим какие типы рейтингов встречаются чаще всего."
   ]
  },
  {
   "cell_type": "code",
   "execution_count": 26,
   "id": "372e41c5",
   "metadata": {},
   "outputs": [
    {
     "data": {
      "text/plain": [
       "E       4113\n",
       "T       3056\n",
       "M       1642\n",
       "E10+    1457\n",
       "EC        10\n",
       "K-A        4\n",
       "RP         2\n",
       "AO         1\n",
       "Name: rating, dtype: int64"
      ]
     },
     "execution_count": 26,
     "metadata": {},
     "output_type": "execute_result"
    }
   ],
   "source": [
    "games['rating'].value_counts()"
   ]
  },
  {
   "cell_type": "markdown",
   "id": "9287033e",
   "metadata": {},
   "source": [
    "Получается это рейтинги: E, T, M, E10+."
   ]
  },
  {
   "cell_type": "code",
   "execution_count": 27,
   "id": "1ba8e825",
   "metadata": {},
   "outputs": [],
   "source": [
    "frequent_ratings = games['rating'].value_counts().index[:4]\n",
    "ratings = games.query('rating in @frequent_ratings').groupby('rating')[['na_sales', 'eu_sales', 'jp_sales', 'tot_sales']].sum()"
   ]
  },
  {
   "cell_type": "code",
   "execution_count": 28,
   "id": "41ce3d5c",
   "metadata": {},
   "outputs": [
    {
     "data": {
      "image/png": "[encoded data removed]",
      "text/plain": [
       "<Figure size 1008x504 with 1 Axes>"
      ]
     },
     "metadata": {
      "needs_background": "light"
     },
     "output_type": "display_data"
    }
   ],
   "source": [
    "ax = ratings['tot_sales'].plot(kind='bar', figsize=(14, 7), edgecolor='b', linewidth=6, alpha=0.3, legend=True)\n",
    "ratings[['na_sales', 'eu_sales', 'jp_sales']].plot(kind='bar', figsize=(14, 7), stacked=True, ax=ax)\n",
    "plt.title('Доли региональных продаж в мировых с распределением по рейтингу ESRB')\n",
    "plt.ylabel('Продажи 1994 - 2016 г (млн. копий)')\n",
    "plt.xlabel('ESRB рейтинг')\n",
    "plt.legend(['Во всем мире', 'Северная Америка', 'Европа', 'Япония'])\n",
    "plt.show()"
   ]
  },
  {
   "cell_type": "markdown",
   "id": "26e99e71",
   "metadata": {},
   "source": [
    "Из чего видно, доли продаж каждого региона для игр различного ESRB рейтинга остаются приблизительно постоянными. Значит этот рейтинг не влияет на продажи в отдельном регионе."
   ]
  },
  {
   "cell_type": "markdown",
   "id": "eb03b10f-a387-409b-bd71-6706634f0a8d",
   "metadata": {},
   "source": [
    "# Проверка гипотез"
   ]
  },
  {
   "cell_type": "markdown",
   "id": "5fb98ffd-1ac1-49e0-983c-fe3bba875e23",
   "metadata": {},
   "source": [
    "## Гипотеза о разнице средних пользовательских рейтингов Xbox One и PC\n",
    "Сформулируем нулевую гипотезу: Средние пользовательские рейтинги для игр на платформах Xbox One и PC одинаковы.\n",
    "\n",
    "Альтернативная гипотеза: Средние пользовательские рейтинги для игр на платформах Xbox One и PC различны.\n",
    "\n",
    "Пороговым значением p-критерия значимости будет значение в 0.05."
   ]
  },
  {
   "cell_type": "code",
   "execution_count": 29,
   "id": "6f717c49",
   "metadata": {},
   "outputs": [],
   "source": [
    "Xone = games.query('platform == \"XOne\"')['user_score'].dropna()\n",
    "PC = games.query('platform == \"PC\"')['user_score'].dropna()"
   ]
  },
  {
   "cell_type": "markdown",
   "id": "990d8f3a",
   "metadata": {},
   "source": [
    "Для начала посмотрим на распределения пользоватеьских рейтингов для обеих платформ."
   ]
  },
  {
   "cell_type": "code",
   "execution_count": 30,
   "id": "206d5112",
   "metadata": {},
   "outputs": [
    {
     "data": {
      "image/png": "[encoded data removed]",
      "text/plain": [
       "<Figure size 432x288 with 1 Axes>"
      ]
     },
     "metadata": {
      "needs_background": "light"
     },
     "output_type": "display_data"
    }
   ],
   "source": [
    "Xone.hist(bins=10)\n",
    "plt.title('Xbox One')\n",
    "plt.ylabel('Частота')\n",
    "plt.xlabel('Оценка пользователей')\n",
    "plt.show()"
   ]
  },
  {
   "cell_type": "code",
   "execution_count": 31,
   "id": "1ac76247",
   "metadata": {},
   "outputs": [
    {
     "data": {
      "image/png": "[encoded data removed]",
      "text/plain": [
       "<Figure size 432x288 with 1 Axes>"
      ]
     },
     "metadata": {
      "needs_background": "light"
     },
     "output_type": "display_data"
    }
   ],
   "source": [
    "PC.hist(bins=10)\n",
    "plt.title('PC')\n",
    "plt.ylabel('Частота')\n",
    "plt.xlabel('Оценка пользователей')\n",
    "plt.show()"
   ]
  },
  {
   "cell_type": "markdown",
   "id": "49a4464d",
   "metadata": {},
   "source": [
    "Эти распределения не очень похожи на нормальные. Поэтому для сравнения их дисперсий воспользуемся тестом Левена.\n",
    "\n",
    "Нулевая гипотеза для теста Левена: Дисперсии генеральных совокупностей для распределений пользовательских оценок обеих платформ равны. Пороговым значением критерия значимости назначим значение 0.05."
   ]
  },
  {
   "cell_type": "code",
   "execution_count": 32,
   "id": "8b3a3869",
   "metadata": {},
   "outputs": [
    {
     "name": "stdout",
     "output_type": "stream",
     "text": [
      "Дисперсия пользовательских оценок игроков на Xbox One = 1.8993466729812933\n",
      "Дисперсия пользовательских оценок игроков на PC = 2.304789500674493\n",
      "p-значение критерия Левена = 0.3181495146466027\n"
     ]
    }
   ],
   "source": [
    "print('Дисперсия пользовательских оценок игроков на Xbox One =', Xone.var())\n",
    "print('Дисперсия пользовательских оценок игроков на PC =', PC.var())\n",
    "print('p-значение критерия Левена =', st.levene(Xone, PC).pvalue)"
   ]
  },
  {
   "cell_type": "markdown",
   "id": "6522f4b8",
   "metadata": {},
   "source": [
    "Поскольку p-значение критерия Левена = 0.3181495146466027 больше 0.05,  не отвергаем нулевую гипотезу о равенстве дисперсий, а значит дальнейший анализ проведем при помощи t-критерия для независимых выборок с одинаковой дисперсией."
   ]
  },
  {
   "cell_type": "code",
   "execution_count": 33,
   "id": "a1e67644",
   "metadata": {},
   "outputs": [
    {
     "name": "stdout",
     "output_type": "stream",
     "text": [
      "Средняя пользовательская оценка игроков на Xbox One = 6.604368932038832\n",
      "Средняя пользовательская оценка игроков на PC = 7.067943805874853\n",
      "p-значение t-критерия = 7.617977656599233e-05\n"
     ]
    }
   ],
   "source": [
    "print('Средняя пользовательская оценка игроков на Xbox One =', Xone.mean())\n",
    "print('Средняя пользовательская оценка игроков на PC =', PC.mean())\n",
    "print('p-значение t-критерия =', st.ttest_ind(Xone, PC).pvalue)"
   ]
  },
  {
   "cell_type": "markdown",
   "id": "a39793e2",
   "metadata": {},
   "source": [
    "Что меньше чем 0.05. А значет нулевая гипотеза может быть отвергнута в пользу альтернативной. Альтернативная гипотеза: Средние пользовательские рейтинги для игр на платформах Xbox One и PC различны."
   ]
  },
  {
   "cell_type": "markdown",
   "id": "f37ff72d",
   "metadata": {},
   "source": [
    "## Гипотеза о разнице средних пользовательских рейтингов жанров Action и Sports\n",
    "Сформулируем нулевую гипотезу: Средние пользовательские рейтинги для игр жанров Action и Sports одинаковы.\n",
    "\n",
    "Альтернативная гипотеза: Средние пользовательские рейтинги для игр жанров Action и Sports различны.\n",
    "\n",
    "Пороговым значением p-критерия значимости будет значение в 0.05."
   ]
  },
  {
   "cell_type": "code",
   "execution_count": 34,
   "id": "4ef92f91",
   "metadata": {},
   "outputs": [],
   "source": [
    "action = games.query('genre == \"Action\"')['user_score'].dropna()\n",
    "sports = games.query('genre == \"Sports\"')['user_score'].dropna()"
   ]
  },
  {
   "cell_type": "code",
   "execution_count": 35,
   "id": "a5a056c8",
   "metadata": {},
   "outputs": [
    {
     "data": {
      "image/png": "[encoded data removed]",
      "text/plain": [
       "<Figure size 432x288 with 1 Axes>"
      ]
     },
     "metadata": {
      "needs_background": "light"
     },
     "output_type": "display_data"
    }
   ],
   "source": [
    "action.hist(bins=10)\n",
    "plt.title('Action')\n",
    "plt.ylabel('Частота')\n",
    "plt.xlabel('Оценка пользователей')\n",
    "plt.show()"
   ]
  },
  {
   "cell_type": "code",
   "execution_count": 36,
   "id": "c34ae78f",
   "metadata": {},
   "outputs": [
    {
     "data": {
      "image/png": "[encoded data removed]",
      "text/plain": [
       "<Figure size 432x288 with 1 Axes>"
      ]
     },
     "metadata": {
      "needs_background": "light"
     },
     "output_type": "display_data"
    }
   ],
   "source": [
    "sports.hist(bins=10)\n",
    "plt.title('Sports')\n",
    "plt.ylabel('Частота')\n",
    "plt.xlabel('Оценка пользователей')\n",
    "plt.show()"
   ]
  },
  {
   "cell_type": "markdown",
   "id": "89eb7eb5",
   "metadata": {},
   "source": [
    "Вновь распределения непохожи на нормальные, значит применим критерий Левена. Пороговым значением критерия значимости назначим значение 0.05."
   ]
  },
  {
   "cell_type": "code",
   "execution_count": 37,
   "id": "2ef65466",
   "metadata": {},
   "outputs": [
    {
     "name": "stdout",
     "output_type": "stream",
     "text": [
      "Дисперсия пользовательских оценок игроков жанра Action = 1.998446829508449\n",
      "Дисперсия пользовательских оценок игроков жанра Sports = 2.557978339225583\n",
      "p-значение критерия Левена = 7.529851925889322e-06\n"
     ]
    }
   ],
   "source": [
    "print('Дисперсия пользовательских оценок игроков жанра Action =', action.var())\n",
    "print('Дисперсия пользовательских оценок игроков жанра Sports =', sports.var())\n",
    "print('p-значение критерия Левена =', st.levene(action, sports).pvalue)"
   ]
  },
  {
   "cell_type": "markdown",
   "id": "d96c19d0",
   "metadata": {},
   "source": [
    "Поскольку p-значение критерия Левена меньше 0.05, отвергнем нулевую гипотезу в пользу гипотезы о том, что дисперсии генеральных совокупностей различны. А значит для сравнения средних выручек воспользуемся t-критерием Уэлча."
   ]
  },
  {
   "cell_type": "code",
   "execution_count": 38,
   "id": "36fe15f9",
   "metadata": {},
   "outputs": [
    {
     "name": "stdout",
     "output_type": "stream",
     "text": [
      "Средняя пользовательская оценка игроков жанра Action = 7.02339209147211\n",
      "Средняя пользовательская оценка игроков жанра Sports = 6.9232752084912725\n",
      "p-значение t-критерия = 0.06273547277121157\n"
     ]
    }
   ],
   "source": [
    "st.ttest_ind(action, sports, equal_var=False)\n",
    "print('Средняя пользовательская оценка игроков жанра Action =', action.mean())\n",
    "print('Средняя пользовательская оценка игроков жанра Sports =', sports.mean())\n",
    "print('p-значение t-критерия =', st.ttest_ind(action, sports, equal_var=False).pvalue)"
   ]
  },
  {
   "cell_type": "markdown",
   "id": "5d81a83c",
   "metadata": {},
   "source": [
    "Что больше чем 0.05. Значит, хоть значение и на грани, мы не отвергаем нулевую гипотезу о том, средние пользовательские рейтинги для игр жанров Action и Sports одинаковы."
   ]
  },
  {
   "cell_type": "markdown",
   "id": "fab93c10-bc23-4a6f-b7f1-d9d987450a4b",
   "metadata": {},
   "source": [
    "# Вывод"
   ]
  },
  {
   "cell_type": "markdown",
   "id": "d9a2ac4a-42ad-47f5-94b1-1b19fd370ea9",
   "metadata": {},
   "source": [
    "1. Время жизни игровой плотформы состаляет около 10 лет. Расцвет приходится на 3 - 7 год.\n",
    "\n",
    "---\n",
    "2. Платформами с наибольшим количеством выпущенных до 2016 года игр являются: PlayStation2, Nintendo DS, PlayStation 3, Wii, Xbox 360.\n",
    "\n",
    "В 2016 году платформы с наибольшим числом игр: PlayStation 4, Xbox One, PlayStaion Vita, PC, Nintendo 3DS.\n",
    "\n",
    "Из чего видно, больше всего игр выходит для платформ принадлежащих компаниям: Sony Interactive Entertainment (PlayStation), Nintendo и Microsoft (Xbox).\n",
    "\n",
    "---\n",
    "3. Более высокое ожидаемое количество проданных копий в мире для игры в 2016 году принадлежит играм на платформах PlayStation 4 и Xbox One. Обе на 2016 год являются растущими платформами (им по 3 и 4 года стоответсвенно).\n",
    "\n",
    "Жанры игр с наивысшими ожидаемыми продажами в мире с 1994 по 2016 год: шутеры, платформеры, игры про спорт.\n",
    "\n",
    "Низкие ожидаемые продажи у игр жанров: приключенческие игры, паззлы, стратегии.\n",
    "\n",
    "---\n",
    "4. Для **PlayStation 4**.\n",
    "\n",
    "Высокий рейтинг критиков положительно влияет на продажи.\n",
    "\n",
    "Влияние рейтинга пользователей на продажи не прослеживается.\n",
    "\n",
    "---\n",
    "5. В Северной Америке наиболее популярным платформами до 2016 года являлись: Xbox 360, PlayStation 2 и Wii. Жанры: Экшен, Игры про спорт, Шутеры.\n",
    "\n",
    "В Европе наиболее популярным платформами до 2016 года являлись: PlayStation 2, PlayStation 3 и Xbox 360. Жанры: Экшен, Игры про спорт, Шутеры.\n",
    "\n",
    "В Японии наиболее популярным платформами до 2016 года являлись: Nintendo DS, PlayStation и PlayStation 2. Жанры: Ролевые игры, Экшен, Игры про спорт.\n",
    "\n",
    "Самым большим потребителем игр является Северная Америка.\n",
    "\n",
    "---\n",
    "6. Влияние рейтинга ESRB на продажи одинаково во всех регионах.\n",
    "\n",
    "---\n",
    "7. Средняя оценка игры пользователей платформы Xbox One выше чем пользователей PC. Различие признано статистически значимым.\n",
    "\n",
    "Гипотеза о равенстве пользовательских оценок игр жанров экшен и спортивных симуляторов не может быть отвергнута.\n",
    "\n",
    "---\n",
    "**Общий вывод**\n",
    "\n",
    "С точки зрения объемов продаж наиболее перспективной платформой является PlayStation (любое поколение), так как во всех регионах она практически в любое время входит в списки самых популярных платформ. Однако, если расчитывать на самого крупного покупателя (Северную Америку), то также стоит сделать ставку и на Xbox.\n",
    "\n",
    "Абсолютно точно не стоит выпускать игру жанра паззл, стратегия или приключенческую. Лучше сконцентрироваться на таких жанрах как: экшен, шутеры и спортивные симуляторы (или ролевые игры для Японии).\n",
    "\n",
    "Для бóльших продаж стоит побеспокоиться о том, чтобы критики высоко оценили игру. ;-)\n",
    "\n",
    "Лучше всего выпускать игры для платформы которая на момент выпуска находится в стадии расцвета (3- 7 лет с момента появления на рынке)."
   ]
  },
  {
   "cell_type": "code",
   "execution_count": null,
   "id": "77a272ea-904f-4a1d-a727-2fcc3546a3f8",
   "metadata": {},
   "outputs": [],
   "source": []
  }
 ],
 "metadata": {
  "ExecuteTimeLog": [
   {
    "duration": 991,
    "start_time": "2021-12-23T12:44:59.655Z"
   },
   {
    "duration": 165,
    "start_time": "2021-12-23T12:45:00.650Z"
   },
   {
    "duration": 3,
    "start_time": "2021-12-23T12:45:00.817Z"
   },
   {
    "duration": 17,
    "start_time": "2021-12-23T12:45:00.823Z"
   },
   {
    "duration": 9,
    "start_time": "2021-12-23T12:45:00.842Z"
   },
   {
    "duration": 40,
    "start_time": "2021-12-23T12:45:00.853Z"
   },
   {
    "duration": 23,
    "start_time": "2021-12-23T12:45:00.895Z"
   },
   {
    "duration": 3511,
    "start_time": "2021-12-23T12:45:00.922Z"
   },
   {
    "duration": 6,
    "start_time": "2021-12-23T12:45:04.436Z"
   },
   {
    "duration": 14,
    "start_time": "2021-12-23T12:45:04.444Z"
   },
   {
    "duration": 31,
    "start_time": "2021-12-23T12:45:04.460Z"
   },
   {
    "duration": 18649,
    "start_time": "2021-12-23T12:45:04.493Z"
   },
   {
    "duration": 16,
    "start_time": "2021-12-23T12:45:23.144Z"
   },
   {
    "duration": 509,
    "start_time": "2021-12-23T12:45:23.162Z"
   },
   {
    "duration": -70,
    "start_time": "2021-12-23T12:45:23.744Z"
   },
   {
    "duration": -74,
    "start_time": "2021-12-23T12:45:23.749Z"
   },
   {
    "duration": -80,
    "start_time": "2021-12-23T12:45:23.755Z"
   },
   {
    "duration": -82,
    "start_time": "2021-12-23T12:45:23.758Z"
   },
   {
    "duration": -120,
    "start_time": "2021-12-23T12:45:23.797Z"
   },
   {
    "duration": -127,
    "start_time": "2021-12-23T12:45:23.805Z"
   },
   {
    "duration": -118,
    "start_time": "2021-12-23T12:45:23.808Z"
   },
   {
    "duration": -120,
    "start_time": "2021-12-23T12:45:23.811Z"
   },
   {
    "duration": -121,
    "start_time": "2021-12-23T12:45:23.813Z"
   },
   {
    "duration": -122,
    "start_time": "2021-12-23T12:45:23.815Z"
   },
   {
    "duration": -124,
    "start_time": "2021-12-23T12:45:23.818Z"
   },
   {
    "duration": -125,
    "start_time": "2021-12-23T12:45:23.820Z"
   },
   {
    "duration": -127,
    "start_time": "2021-12-23T12:45:23.823Z"
   },
   {
    "duration": -129,
    "start_time": "2021-12-23T12:45:23.826Z"
   },
   {
    "duration": -131,
    "start_time": "2021-12-23T12:45:23.829Z"
   },
   {
    "duration": -133,
    "start_time": "2021-12-23T12:45:23.831Z"
   },
   {
    "duration": -134,
    "start_time": "2021-12-23T12:45:23.834Z"
   },
   {
    "duration": -135,
    "start_time": "2021-12-23T12:45:23.836Z"
   },
   {
    "duration": -137,
    "start_time": "2021-12-23T12:45:23.839Z"
   },
   {
    "duration": -138,
    "start_time": "2021-12-23T12:45:23.841Z"
   },
   {
    "duration": -139,
    "start_time": "2021-12-23T12:45:23.843Z"
   },
   {
    "duration": -140,
    "start_time": "2021-12-23T12:45:23.845Z"
   },
   {
    "duration": -142,
    "start_time": "2021-12-23T12:45:23.848Z"
   },
   {
    "duration": -143,
    "start_time": "2021-12-23T12:45:23.850Z"
   },
   {
    "duration": 397,
    "start_time": "2021-12-23T12:46:15.998Z"
   },
   {
    "duration": 437,
    "start_time": "2021-12-23T12:46:21.177Z"
   },
   {
    "duration": 6,
    "start_time": "2021-12-23T12:46:21.616Z"
   },
   {
    "duration": 571,
    "start_time": "2021-12-23T12:46:21.624Z"
   },
   {
    "duration": -195,
    "start_time": "2021-12-23T12:46:22.392Z"
   },
   {
    "duration": -207,
    "start_time": "2021-12-23T12:46:22.405Z"
   },
   {
    "duration": -208,
    "start_time": "2021-12-23T12:46:22.407Z"
   },
   {
    "duration": -211,
    "start_time": "2021-12-23T12:46:22.410Z"
   },
   {
    "duration": -219,
    "start_time": "2021-12-23T12:46:22.419Z"
   },
   {
    "duration": -221,
    "start_time": "2021-12-23T12:46:22.422Z"
   },
   {
    "duration": -223,
    "start_time": "2021-12-23T12:46:22.425Z"
   },
   {
    "duration": -231,
    "start_time": "2021-12-23T12:46:22.433Z"
   },
   {
    "duration": -233,
    "start_time": "2021-12-23T12:46:22.436Z"
   },
   {
    "duration": -234,
    "start_time": "2021-12-23T12:46:22.438Z"
   },
   {
    "duration": -235,
    "start_time": "2021-12-23T12:46:22.440Z"
   },
   {
    "duration": -237,
    "start_time": "2021-12-23T12:46:22.443Z"
   },
   {
    "duration": -245,
    "start_time": "2021-12-23T12:46:22.452Z"
   },
   {
    "duration": -246,
    "start_time": "2021-12-23T12:46:22.454Z"
   },
   {
    "duration": -248,
    "start_time": "2021-12-23T12:46:22.457Z"
   },
   {
    "duration": -250,
    "start_time": "2021-12-23T12:46:22.460Z"
   },
   {
    "duration": -257,
    "start_time": "2021-12-23T12:46:22.468Z"
   },
   {
    "duration": -259,
    "start_time": "2021-12-23T12:46:22.471Z"
   },
   {
    "duration": -260,
    "start_time": "2021-12-23T12:46:22.473Z"
   },
   {
    "duration": -264,
    "start_time": "2021-12-23T12:46:22.478Z"
   },
   {
    "duration": -272,
    "start_time": "2021-12-23T12:46:22.487Z"
   },
   {
    "duration": -273,
    "start_time": "2021-12-23T12:46:22.489Z"
   },
   {
    "duration": 513,
    "start_time": "2021-12-23T12:47:20.924Z"
   },
   {
    "duration": 423,
    "start_time": "2021-12-23T12:47:26.329Z"
   },
   {
    "duration": -68,
    "start_time": "2021-12-23T12:47:26.822Z"
   },
   {
    "duration": -91,
    "start_time": "2021-12-23T12:47:26.847Z"
   },
   {
    "duration": -134,
    "start_time": "2021-12-23T12:47:26.891Z"
   },
   {
    "duration": -140,
    "start_time": "2021-12-23T12:47:26.898Z"
   },
   {
    "duration": -145,
    "start_time": "2021-12-23T12:47:26.904Z"
   },
   {
    "duration": -148,
    "start_time": "2021-12-23T12:47:26.908Z"
   },
   {
    "duration": -152,
    "start_time": "2021-12-23T12:47:26.913Z"
   },
   {
    "duration": -155,
    "start_time": "2021-12-23T12:47:26.917Z"
   },
   {
    "duration": -159,
    "start_time": "2021-12-23T12:47:26.922Z"
   },
   {
    "duration": -162,
    "start_time": "2021-12-23T12:47:26.926Z"
   },
   {
    "duration": -165,
    "start_time": "2021-12-23T12:47:26.930Z"
   },
   {
    "duration": -167,
    "start_time": "2021-12-23T12:47:26.933Z"
   },
   {
    "duration": -170,
    "start_time": "2021-12-23T12:47:26.936Z"
   },
   {
    "duration": -173,
    "start_time": "2021-12-23T12:47:26.940Z"
   },
   {
    "duration": -175,
    "start_time": "2021-12-23T12:47:26.943Z"
   },
   {
    "duration": -177,
    "start_time": "2021-12-23T12:47:26.946Z"
   },
   {
    "duration": -158,
    "start_time": "2021-12-23T12:47:26.949Z"
   },
   {
    "duration": -160,
    "start_time": "2021-12-23T12:47:26.952Z"
   },
   {
    "duration": -162,
    "start_time": "2021-12-23T12:47:26.955Z"
   },
   {
    "duration": -165,
    "start_time": "2021-12-23T12:47:26.958Z"
   },
   {
    "duration": -166,
    "start_time": "2021-12-23T12:47:26.961Z"
   },
   {
    "duration": 646,
    "start_time": "2021-12-23T12:48:05.838Z"
   },
   {
    "duration": 604,
    "start_time": "2021-12-23T12:48:11.567Z"
   },
   {
    "duration": 491,
    "start_time": "2021-12-23T12:48:12.174Z"
   },
   {
    "duration": -66,
    "start_time": "2021-12-23T12:48:12.734Z"
   },
   {
    "duration": -88,
    "start_time": "2021-12-23T12:48:12.758Z"
   },
   {
    "duration": -92,
    "start_time": "2021-12-23T12:48:12.763Z"
   },
   {
    "duration": -93,
    "start_time": "2021-12-23T12:48:12.766Z"
   },
   {
    "duration": -118,
    "start_time": "2021-12-23T12:48:12.792Z"
   },
   {
    "duration": -120,
    "start_time": "2021-12-23T12:48:12.795Z"
   },
   {
    "duration": -121,
    "start_time": "2021-12-23T12:48:12.798Z"
   },
   {
    "duration": -110,
    "start_time": "2021-12-23T12:48:12.801Z"
   },
   {
    "duration": -119,
    "start_time": "2021-12-23T12:48:12.811Z"
   },
   {
    "duration": -119,
    "start_time": "2021-12-23T12:48:12.813Z"
   },
   {
    "duration": -120,
    "start_time": "2021-12-23T12:48:12.816Z"
   },
   {
    "duration": -121,
    "start_time": "2021-12-23T12:48:12.818Z"
   },
   {
    "duration": -121,
    "start_time": "2021-12-23T12:48:12.820Z"
   },
   {
    "duration": -122,
    "start_time": "2021-12-23T12:48:12.822Z"
   },
   {
    "duration": -123,
    "start_time": "2021-12-23T12:48:12.825Z"
   },
   {
    "duration": -124,
    "start_time": "2021-12-23T12:48:12.827Z"
   },
   {
    "duration": -124,
    "start_time": "2021-12-23T12:48:12.829Z"
   },
   {
    "duration": -125,
    "start_time": "2021-12-23T12:48:12.831Z"
   },
   {
    "duration": -127,
    "start_time": "2021-12-23T12:48:12.834Z"
   },
   {
    "duration": -127,
    "start_time": "2021-12-23T12:48:12.836Z"
   },
   {
    "duration": 195,
    "start_time": "2021-12-23T12:49:13.540Z"
   },
   {
    "duration": 423,
    "start_time": "2021-12-23T12:49:23.099Z"
   },
   {
    "duration": 332,
    "start_time": "2021-12-23T12:51:01.875Z"
   },
   {
    "duration": 420,
    "start_time": "2021-12-23T12:51:49.305Z"
   },
   {
    "duration": 4,
    "start_time": "2021-12-23T12:52:16.567Z"
   },
   {
    "duration": 407,
    "start_time": "2021-12-23T12:53:43.737Z"
   },
   {
    "duration": 415,
    "start_time": "2021-12-23T12:56:10.429Z"
   },
   {
    "duration": 181,
    "start_time": "2021-12-23T12:57:01.364Z"
   },
   {
    "duration": 399,
    "start_time": "2021-12-23T12:57:10.818Z"
   },
   {
    "duration": 183,
    "start_time": "2021-12-23T12:57:15.659Z"
   },
   {
    "duration": 407,
    "start_time": "2021-12-23T12:58:04.618Z"
   },
   {
    "duration": 398,
    "start_time": "2021-12-23T12:58:08.786Z"
   },
   {
    "duration": 411,
    "start_time": "2021-12-23T13:08:14.960Z"
   },
   {
    "duration": 329,
    "start_time": "2021-12-23T13:10:00.665Z"
   },
   {
    "duration": 357,
    "start_time": "2021-12-23T13:10:00.996Z"
   },
   {
    "duration": 380,
    "start_time": "2021-12-23T13:10:01.355Z"
   },
   {
    "duration": 646,
    "start_time": "2021-12-23T13:10:01.737Z"
   },
   {
    "duration": -166,
    "start_time": "2021-12-23T13:10:02.552Z"
   },
   {
    "duration": -164,
    "start_time": "2021-12-23T13:10:02.555Z"
   },
   {
    "duration": -165,
    "start_time": "2021-12-23T13:10:02.557Z"
   },
   {
    "duration": -167,
    "start_time": "2021-12-23T13:10:02.560Z"
   },
   {
    "duration": -167,
    "start_time": "2021-12-23T13:10:02.562Z"
   },
   {
    "duration": -169,
    "start_time": "2021-12-23T13:10:02.565Z"
   },
   {
    "duration": -170,
    "start_time": "2021-12-23T13:10:02.567Z"
   },
   {
    "duration": -171,
    "start_time": "2021-12-23T13:10:02.569Z"
   },
   {
    "duration": -171,
    "start_time": "2021-12-23T13:10:02.571Z"
   },
   {
    "duration": -173,
    "start_time": "2021-12-23T13:10:02.574Z"
   },
   {
    "duration": -175,
    "start_time": "2021-12-23T13:10:02.577Z"
   },
   {
    "duration": -176,
    "start_time": "2021-12-23T13:10:02.579Z"
   },
   {
    "duration": -178,
    "start_time": "2021-12-23T13:10:02.582Z"
   },
   {
    "duration": -180,
    "start_time": "2021-12-23T13:10:02.584Z"
   },
   {
    "duration": -190,
    "start_time": "2021-12-23T13:10:02.595Z"
   },
   {
    "duration": -192,
    "start_time": "2021-12-23T13:10:02.598Z"
   },
   {
    "duration": -207,
    "start_time": "2021-12-23T13:10:02.614Z"
   },
   {
    "duration": 630,
    "start_time": "2021-12-23T13:10:43.318Z"
   },
   {
    "duration": 646,
    "start_time": "2021-12-23T13:10:51.704Z"
   },
   {
    "duration": 18,
    "start_time": "2021-12-23T13:10:52.352Z"
   },
   {
    "duration": 474,
    "start_time": "2021-12-23T13:10:52.372Z"
   },
   {
    "duration": -79,
    "start_time": "2021-12-23T13:10:52.929Z"
   },
   {
    "duration": -84,
    "start_time": "2021-12-23T13:10:52.935Z"
   },
   {
    "duration": -92,
    "start_time": "2021-12-23T13:10:52.945Z"
   },
   {
    "duration": -95,
    "start_time": "2021-12-23T13:10:52.949Z"
   },
   {
    "duration": -120,
    "start_time": "2021-12-23T13:10:52.975Z"
   },
   {
    "duration": -128,
    "start_time": "2021-12-23T13:10:52.985Z"
   },
   {
    "duration": -129,
    "start_time": "2021-12-23T13:10:52.987Z"
   },
   {
    "duration": -130,
    "start_time": "2021-12-23T13:10:52.990Z"
   },
   {
    "duration": -132,
    "start_time": "2021-12-23T13:10:52.993Z"
   },
   {
    "duration": -134,
    "start_time": "2021-12-23T13:10:52.997Z"
   },
   {
    "duration": -142,
    "start_time": "2021-12-23T13:10:53.006Z"
   },
   {
    "duration": -145,
    "start_time": "2021-12-23T13:10:53.010Z"
   },
   {
    "duration": -122,
    "start_time": "2021-12-23T13:10:53.014Z"
   },
   {
    "duration": -130,
    "start_time": "2021-12-23T13:10:53.023Z"
   },
   {
    "duration": -134,
    "start_time": "2021-12-23T13:10:53.028Z"
   },
   {
    "duration": 327,
    "start_time": "2021-12-23T13:11:22.637Z"
   },
   {
    "duration": 414,
    "start_time": "2021-12-23T13:11:26.920Z"
   },
   {
    "duration": 17,
    "start_time": "2021-12-23T13:11:27.335Z"
   },
   {
    "duration": 457,
    "start_time": "2021-12-23T13:11:27.354Z"
   },
   {
    "duration": -85,
    "start_time": "2021-12-23T13:11:27.898Z"
   },
   {
    "duration": -98,
    "start_time": "2021-12-23T13:11:27.912Z"
   },
   {
    "duration": -140,
    "start_time": "2021-12-23T13:11:27.955Z"
   },
   {
    "duration": -147,
    "start_time": "2021-12-23T13:11:27.962Z"
   },
   {
    "duration": -150,
    "start_time": "2021-12-23T13:11:27.966Z"
   },
   {
    "duration": -152,
    "start_time": "2021-12-23T13:11:27.969Z"
   },
   {
    "duration": -153,
    "start_time": "2021-12-23T13:11:27.971Z"
   },
   {
    "duration": -155,
    "start_time": "2021-12-23T13:11:27.974Z"
   },
   {
    "duration": -156,
    "start_time": "2021-12-23T13:11:27.976Z"
   },
   {
    "duration": -158,
    "start_time": "2021-12-23T13:11:27.978Z"
   },
   {
    "duration": -160,
    "start_time": "2021-12-23T13:11:27.981Z"
   },
   {
    "duration": -161,
    "start_time": "2021-12-23T13:11:27.983Z"
   },
   {
    "duration": -163,
    "start_time": "2021-12-23T13:11:27.986Z"
   },
   {
    "duration": 350,
    "start_time": "2021-12-23T13:11:54.836Z"
   },
   {
    "duration": 357,
    "start_time": "2021-12-23T13:11:58.799Z"
   },
   {
    "duration": 7,
    "start_time": "2021-12-23T13:11:59.157Z"
   },
   {
    "duration": 14,
    "start_time": "2021-12-23T13:11:59.165Z"
   },
   {
    "duration": 426,
    "start_time": "2021-12-23T13:11:59.180Z"
   },
   {
    "duration": -67,
    "start_time": "2021-12-23T13:11:59.675Z"
   },
   {
    "duration": -86,
    "start_time": "2021-12-23T13:11:59.695Z"
   },
   {
    "duration": -91,
    "start_time": "2021-12-23T13:11:59.701Z"
   },
   {
    "duration": -103,
    "start_time": "2021-12-23T13:11:59.715Z"
   },
   {
    "duration": -113,
    "start_time": "2021-12-23T13:11:59.726Z"
   },
   {
    "duration": -118,
    "start_time": "2021-12-23T13:11:59.732Z"
   },
   {
    "duration": -148,
    "start_time": "2021-12-23T13:11:59.763Z"
   },
   {
    "duration": -150,
    "start_time": "2021-12-23T13:11:59.766Z"
   },
   {
    "duration": -152,
    "start_time": "2021-12-23T13:11:59.769Z"
   },
   {
    "duration": -160,
    "start_time": "2021-12-23T13:11:59.777Z"
   },
   {
    "duration": 293,
    "start_time": "2021-12-23T13:12:26.724Z"
   },
   {
    "duration": 300,
    "start_time": "2021-12-23T13:12:30.006Z"
   },
   {
    "duration": 10,
    "start_time": "2021-12-23T13:12:30.308Z"
   },
   {
    "duration": 202,
    "start_time": "2021-12-23T13:12:30.320Z"
   },
   {
    "duration": 202,
    "start_time": "2021-12-23T13:12:30.524Z"
   },
   {
    "duration": 6,
    "start_time": "2021-12-23T13:12:30.728Z"
   },
   {
    "duration": 22,
    "start_time": "2021-12-23T13:12:30.736Z"
   },
   {
    "duration": 33,
    "start_time": "2021-12-23T13:12:30.759Z"
   },
   {
    "duration": 199,
    "start_time": "2021-12-23T13:12:30.794Z"
   },
   {
    "duration": 196,
    "start_time": "2021-12-23T13:12:30.995Z"
   },
   {
    "duration": 7,
    "start_time": "2021-12-23T13:12:31.193Z"
   },
   {
    "duration": 13,
    "start_time": "2021-12-23T13:12:31.201Z"
   },
   {
    "duration": 990,
    "start_time": "2021-12-23T13:12:42.943Z"
   },
   {
    "duration": 196,
    "start_time": "2021-12-23T13:12:43.935Z"
   },
   {
    "duration": 3,
    "start_time": "2021-12-23T13:12:44.134Z"
   },
   {
    "duration": 32,
    "start_time": "2021-12-23T13:12:44.138Z"
   },
   {
    "duration": 29,
    "start_time": "2021-12-23T13:12:44.172Z"
   },
   {
    "duration": 43,
    "start_time": "2021-12-23T13:12:44.203Z"
   },
   {
    "duration": 18,
    "start_time": "2021-12-23T13:12:44.248Z"
   },
   {
    "duration": 3533,
    "start_time": "2021-12-23T13:12:44.269Z"
   },
   {
    "duration": 6,
    "start_time": "2021-12-23T13:12:47.804Z"
   },
   {
    "duration": 14,
    "start_time": "2021-12-23T13:12:47.811Z"
   },
   {
    "duration": 5,
    "start_time": "2021-12-23T13:12:47.827Z"
   },
   {
    "duration": 18746,
    "start_time": "2021-12-23T13:12:47.833Z"
   },
   {
    "duration": 19,
    "start_time": "2021-12-23T13:13:06.580Z"
   },
   {
    "duration": 418,
    "start_time": "2021-12-23T13:13:06.600Z"
   },
   {
    "duration": 7,
    "start_time": "2021-12-23T13:13:07.019Z"
   },
   {
    "duration": 512,
    "start_time": "2021-12-23T13:13:07.027Z"
   },
   {
    "duration": 587,
    "start_time": "2021-12-23T13:13:07.540Z"
   },
   {
    "duration": 3,
    "start_time": "2021-12-23T13:13:08.128Z"
   },
   {
    "duration": 349,
    "start_time": "2021-12-23T13:13:08.132Z"
   },
   {
    "duration": 372,
    "start_time": "2021-12-23T13:13:08.482Z"
   },
   {
    "duration": 365,
    "start_time": "2021-12-23T13:13:08.856Z"
   },
   {
    "duration": 701,
    "start_time": "2021-12-23T13:13:09.223Z"
   },
   {
    "duration": 16,
    "start_time": "2021-12-23T13:13:09.927Z"
   },
   {
    "duration": 364,
    "start_time": "2021-12-23T13:13:09.944Z"
   },
   {
    "duration": 17,
    "start_time": "2021-12-23T13:13:10.309Z"
   },
   {
    "duration": 355,
    "start_time": "2021-12-23T13:13:10.327Z"
   },
   {
    "duration": 11,
    "start_time": "2021-12-23T13:13:10.683Z"
   },
   {
    "duration": 30,
    "start_time": "2021-12-23T13:13:10.695Z"
   },
   {
    "duration": 293,
    "start_time": "2021-12-23T13:13:10.726Z"
   },
   {
    "duration": 11,
    "start_time": "2021-12-23T13:13:11.021Z"
   },
   {
    "duration": 201,
    "start_time": "2021-12-23T13:13:11.033Z"
   },
   {
    "duration": 192,
    "start_time": "2021-12-23T13:13:11.236Z"
   },
   {
    "duration": 7,
    "start_time": "2021-12-23T13:13:11.429Z"
   },
   {
    "duration": 5,
    "start_time": "2021-12-23T13:13:11.438Z"
   },
   {
    "duration": 11,
    "start_time": "2021-12-23T13:13:11.445Z"
   },
   {
    "duration": 211,
    "start_time": "2021-12-23T13:13:11.457Z"
   },
   {
    "duration": 197,
    "start_time": "2021-12-23T13:13:11.670Z"
   },
   {
    "duration": 6,
    "start_time": "2021-12-23T13:13:11.869Z"
   },
   {
    "duration": 18,
    "start_time": "2021-12-23T13:13:11.876Z"
   },
   {
    "duration": 1443,
    "start_time": "2021-12-24T05:28:27.591Z"
   },
   {
    "duration": 230,
    "start_time": "2021-12-24T05:28:29.037Z"
   },
   {
    "duration": 5,
    "start_time": "2021-12-24T05:28:29.270Z"
   },
   {
    "duration": 45,
    "start_time": "2021-12-24T05:28:29.279Z"
   },
   {
    "duration": 9,
    "start_time": "2021-12-24T05:28:29.327Z"
   },
   {
    "duration": 22,
    "start_time": "2021-12-24T05:28:29.338Z"
   },
   {
    "duration": 21,
    "start_time": "2021-12-24T05:28:29.362Z"
   },
   {
    "duration": 6262,
    "start_time": "2021-12-24T05:28:29.386Z"
   },
   {
    "duration": 8,
    "start_time": "2021-12-24T05:28:35.651Z"
   },
   {
    "duration": 24,
    "start_time": "2021-12-24T05:28:35.661Z"
   },
   {
    "duration": 38,
    "start_time": "2021-12-24T05:28:35.687Z"
   },
   {
    "duration": 31967,
    "start_time": "2021-12-24T05:28:35.728Z"
   },
   {
    "duration": 35,
    "start_time": "2021-12-24T05:29:07.697Z"
   },
   {
    "duration": 616,
    "start_time": "2021-12-24T05:29:07.735Z"
   },
   {
    "duration": 10,
    "start_time": "2021-12-24T05:29:08.354Z"
   },
   {
    "duration": 860,
    "start_time": "2021-12-24T05:29:08.366Z"
   },
   {
    "duration": 898,
    "start_time": "2021-12-24T05:29:09.229Z"
   },
   {
    "duration": 494,
    "start_time": "2021-12-24T05:29:10.129Z"
   },
   {
    "duration": 464,
    "start_time": "2021-12-24T05:29:10.625Z"
   },
   {
    "duration": 464,
    "start_time": "2021-12-24T05:29:11.091Z"
   },
   {
    "duration": 1035,
    "start_time": "2021-12-24T05:29:11.557Z"
   },
   {
    "duration": 35,
    "start_time": "2021-12-24T05:29:12.595Z"
   },
   {
    "duration": 510,
    "start_time": "2021-12-24T05:29:12.635Z"
   },
   {
    "duration": 35,
    "start_time": "2021-12-24T05:29:13.148Z"
   },
   {
    "duration": 555,
    "start_time": "2021-12-24T05:29:13.186Z"
   },
   {
    "duration": 12,
    "start_time": "2021-12-24T05:29:13.744Z"
   },
   {
    "duration": 18,
    "start_time": "2021-12-24T05:29:13.758Z"
   },
   {
    "duration": 484,
    "start_time": "2021-12-24T05:29:13.779Z"
   },
   {
    "duration": 14,
    "start_time": "2021-12-24T05:29:14.265Z"
   },
   {
    "duration": 302,
    "start_time": "2021-12-24T05:29:14.281Z"
   },
   {
    "duration": 305,
    "start_time": "2021-12-24T05:29:14.586Z"
   },
   {
    "duration": 9,
    "start_time": "2021-12-24T05:29:14.894Z"
   },
   {
    "duration": 22,
    "start_time": "2021-12-24T05:29:14.906Z"
   },
   {
    "duration": 13,
    "start_time": "2021-12-24T05:29:14.931Z"
   },
   {
    "duration": 319,
    "start_time": "2021-12-24T05:29:14.946Z"
   },
   {
    "duration": 299,
    "start_time": "2021-12-24T05:29:15.268Z"
   },
   {
    "duration": 10,
    "start_time": "2021-12-24T05:29:15.569Z"
   },
   {
    "duration": 10,
    "start_time": "2021-12-24T05:29:15.581Z"
   },
   {
    "duration": 13,
    "start_time": "2021-12-24T05:30:33.194Z"
   }
  ],
  "kernelspec": {
   "display_name": "Python 3",
   "language": "python",
   "name": "python3"
  },
  "language_info": {
   "codemirror_mode": {
    "name": "ipython",
    "version": 3
   },
   "file_extension": ".py",
   "mimetype": "text/x-python",
   "name": "python",
   "nbconvert_exporter": "python",
   "pygments_lexer": "ipython3",
   "version": "3.8.8"
  },
  "toc": {
   "base_numbering": 1,
   "nav_menu": {},
   "number_sections": true,
   "sideBar": true,
   "skip_h1_title": true,
   "title_cell": "Table of Contents",
   "title_sidebar": "Contents",
   "toc_cell": false,
   "toc_position": {},
   "toc_section_display": true,
   "toc_window_display": false
  }
 },
 "nbformat": 4,
 "nbformat_minor": 5
}
