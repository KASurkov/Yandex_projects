{
 "cells": [
  {
   "cell_type": "markdown",
   "metadata": {},
   "source": [
    "# Отток клиентов"
   ]
  },
  {
   "cell_type": "markdown",
   "metadata": {},
   "source": [
    "Из «Бета-Банка» стали уходить клиенты. Каждый месяц. Немного, но заметно. Банковские маркетологи посчитали: сохранять текущих клиентов дешевле, чем привлекать новых.\n",
    "\n",
    "Нужно спрогнозировать, уйдёт клиент из банка в ближайшее время или нет. Вам предоставлены исторические данные о поведении клиентов и расторжении договоров с банком. \n",
    "\n",
    "Постройте модель с предельно большим значением *F1*-меры. Чтобы сдать проект успешно, нужно довести метрику до 0.59. Проверьте *F1*-меру на тестовой выборке самостоятельно.\n",
    "\n",
    "Дополнительно измеряйте *AUC-ROC*, сравнивайте её значение с *F1*-мерой.\n",
    "\n",
    "Источник данных: [https://www.kaggle.com/barelydedicated/bank-customer-churn-modeling](https://www.kaggle.com/barelydedicated/bank-customer-churn-modeling)"
   ]
  },
  {
   "cell_type": "markdown",
   "metadata": {},
   "source": [
    "# Задачи"
   ]
  },
  {
   "cell_type": "markdown",
   "metadata": {},
   "source": [
    "Построить наулучшую модель для предсказания оттока клиентов по данному датасету. Критерии качества модели: F1-мера и AUC-ROC.\n",
    "\n",
    "Провести сравнение между качеством моделей перед балансировкой классов и после."
   ]
  },
  {
   "cell_type": "markdown",
   "metadata": {},
   "source": [
    "# Импорт библиотек"
   ]
  },
  {
   "cell_type": "code",
   "execution_count": 1,
   "metadata": {},
   "outputs": [],
   "source": [
    "import pandas as pd\n",
    "\n",
    "from sklearn.linear_model import LogisticRegression\n",
    "from sklearn.ensemble import RandomForestClassifier\n",
    "from sklearn.neighbors import KNeighborsClassifier\n",
    "from sklearn.model_selection import train_test_split, RepeatedStratifiedKFold, RandomizedSearchCV\n",
    "from sklearn.metrics import f1_score, roc_curve, roc_auc_score\n",
    "from sklearn.preprocessing import StandardScaler\n",
    "from sklearn.utils import shuffle\n",
    "\n",
    "import scipy.stats as stats\n",
    "\n",
    "import matplotlib.pyplot as plt\n",
    "\n",
    "import numpy as np"
   ]
  },
  {
   "cell_type": "code",
   "execution_count": 2,
   "metadata": {},
   "outputs": [],
   "source": [
    "import warnings\n",
    "warnings.filterwarnings('ignore')"
   ]
  },
  {
   "cell_type": "markdown",
   "metadata": {},
   "source": [
    "# Подготовка данных"
   ]
  },
  {
   "cell_type": "markdown",
   "metadata": {},
   "source": [
    "## Первичный осмотр"
   ]
  },
  {
   "cell_type": "markdown",
   "metadata": {},
   "source": [
    "**Описание данных**\n",
    "\n",
    "Признаки:\n",
    "* RowNumber — индекс строки в данных\n",
    "* CustomerId — уникальный идентификатор клиента\n",
    "* Surname — фамилия\n",
    "* CreditScore — кредитный рейтинг\n",
    "* Geography — страна проживания\n",
    "* Gender — пол\n",
    "* Age — возраст\n",
    "* Tenure — сколько лет человек является клиентом банка\n",
    "* Balance — баланс на счёте\n",
    "* NumOfProducts — количество продуктов банка, используемых клиентом\n",
    "* HasCrCard — наличие кредитной карты\n",
    "* IsActiveMember — активность клиента\n",
    "* EstimatedSalary — предполагаемая зарплата\n",
    "\n",
    "Целевой признак:\n",
    "* Exited — факт ухода клиента"
   ]
  },
  {
   "cell_type": "code",
   "execution_count": 3,
   "metadata": {},
   "outputs": [
    {
     "name": "stdout",
     "output_type": "stream",
     "text": [
      "<class 'pandas.core.frame.DataFrame'>\n",
      "RangeIndex: 10000 entries, 0 to 9999\n",
      "Data columns (total 14 columns):\n",
      " #   Column           Non-Null Count  Dtype  \n",
      "---  ------           --------------  -----  \n",
      " 0   RowNumber        10000 non-null  int64  \n",
      " 1   CustomerId       10000 non-null  int64  \n",
      " 2   Surname          10000 non-null  object \n",
      " 3   CreditScore      10000 non-null  int64  \n",
      " 4   Geography        10000 non-null  object \n",
      " 5   Gender           10000 non-null  object \n",
      " 6   Age              10000 non-null  int64  \n",
      " 7   Tenure           9091 non-null   float64\n",
      " 8   Balance          10000 non-null  float64\n",
      " 9   NumOfProducts    10000 non-null  int64  \n",
      " 10  HasCrCard        10000 non-null  int64  \n",
      " 11  IsActiveMember   10000 non-null  int64  \n",
      " 12  EstimatedSalary  10000 non-null  float64\n",
      " 13  Exited           10000 non-null  int64  \n",
      "dtypes: float64(3), int64(8), object(3)\n",
      "memory usage: 1.1+ MB\n",
      "None\n"
     ]
    },
    {
     "data": {
      "text/html": [
       "<div>\n",
       "<style scoped>\n",
       "    .dataframe tbody tr th:only-of-type {\n",
       "        vertical-align: middle;\n",
       "    }\n",
       "\n",
       "    .dataframe tbody tr th {\n",
       "        vertical-align: top;\n",
       "    }\n",
       "\n",
       "    .dataframe thead th {\n",
       "        text-align: right;\n",
       "    }\n",
       "</style>\n",
       "<table border=\"1\" class=\"dataframe\">\n",
       "  <thead>\n",
       "    <tr style=\"text-align: right;\">\n",
       "      <th></th>\n",
       "      <th>count</th>\n",
       "      <th>mean</th>\n",
       "      <th>std</th>\n",
       "      <th>min</th>\n",
       "      <th>25%</th>\n",
       "      <th>50%</th>\n",
       "      <th>75%</th>\n",
       "      <th>max</th>\n",
       "    </tr>\n",
       "  </thead>\n",
       "  <tbody>\n",
       "    <tr>\n",
       "      <th>RowNumber</th>\n",
       "      <td>10000.0</td>\n",
       "      <td>5.000500e+03</td>\n",
       "      <td>2886.895680</td>\n",
       "      <td>1.00</td>\n",
       "      <td>2500.75</td>\n",
       "      <td>5.000500e+03</td>\n",
       "      <td>7.500250e+03</td>\n",
       "      <td>10000.00</td>\n",
       "    </tr>\n",
       "    <tr>\n",
       "      <th>CustomerId</th>\n",
       "      <td>10000.0</td>\n",
       "      <td>1.569094e+07</td>\n",
       "      <td>71936.186123</td>\n",
       "      <td>15565701.00</td>\n",
       "      <td>15628528.25</td>\n",
       "      <td>1.569074e+07</td>\n",
       "      <td>1.575323e+07</td>\n",
       "      <td>15815690.00</td>\n",
       "    </tr>\n",
       "    <tr>\n",
       "      <th>CreditScore</th>\n",
       "      <td>10000.0</td>\n",
       "      <td>6.505288e+02</td>\n",
       "      <td>96.653299</td>\n",
       "      <td>350.00</td>\n",
       "      <td>584.00</td>\n",
       "      <td>6.520000e+02</td>\n",
       "      <td>7.180000e+02</td>\n",
       "      <td>850.00</td>\n",
       "    </tr>\n",
       "    <tr>\n",
       "      <th>Age</th>\n",
       "      <td>10000.0</td>\n",
       "      <td>3.892180e+01</td>\n",
       "      <td>10.487806</td>\n",
       "      <td>18.00</td>\n",
       "      <td>32.00</td>\n",
       "      <td>3.700000e+01</td>\n",
       "      <td>4.400000e+01</td>\n",
       "      <td>92.00</td>\n",
       "    </tr>\n",
       "    <tr>\n",
       "      <th>Tenure</th>\n",
       "      <td>9091.0</td>\n",
       "      <td>4.997690e+00</td>\n",
       "      <td>2.894723</td>\n",
       "      <td>0.00</td>\n",
       "      <td>2.00</td>\n",
       "      <td>5.000000e+00</td>\n",
       "      <td>7.000000e+00</td>\n",
       "      <td>10.00</td>\n",
       "    </tr>\n",
       "    <tr>\n",
       "      <th>Balance</th>\n",
       "      <td>10000.0</td>\n",
       "      <td>7.648589e+04</td>\n",
       "      <td>62397.405202</td>\n",
       "      <td>0.00</td>\n",
       "      <td>0.00</td>\n",
       "      <td>9.719854e+04</td>\n",
       "      <td>1.276442e+05</td>\n",
       "      <td>250898.09</td>\n",
       "    </tr>\n",
       "    <tr>\n",
       "      <th>NumOfProducts</th>\n",
       "      <td>10000.0</td>\n",
       "      <td>1.530200e+00</td>\n",
       "      <td>0.581654</td>\n",
       "      <td>1.00</td>\n",
       "      <td>1.00</td>\n",
       "      <td>1.000000e+00</td>\n",
       "      <td>2.000000e+00</td>\n",
       "      <td>4.00</td>\n",
       "    </tr>\n",
       "    <tr>\n",
       "      <th>HasCrCard</th>\n",
       "      <td>10000.0</td>\n",
       "      <td>7.055000e-01</td>\n",
       "      <td>0.455840</td>\n",
       "      <td>0.00</td>\n",
       "      <td>0.00</td>\n",
       "      <td>1.000000e+00</td>\n",
       "      <td>1.000000e+00</td>\n",
       "      <td>1.00</td>\n",
       "    </tr>\n",
       "    <tr>\n",
       "      <th>IsActiveMember</th>\n",
       "      <td>10000.0</td>\n",
       "      <td>5.151000e-01</td>\n",
       "      <td>0.499797</td>\n",
       "      <td>0.00</td>\n",
       "      <td>0.00</td>\n",
       "      <td>1.000000e+00</td>\n",
       "      <td>1.000000e+00</td>\n",
       "      <td>1.00</td>\n",
       "    </tr>\n",
       "    <tr>\n",
       "      <th>EstimatedSalary</th>\n",
       "      <td>10000.0</td>\n",
       "      <td>1.000902e+05</td>\n",
       "      <td>57510.492818</td>\n",
       "      <td>11.58</td>\n",
       "      <td>51002.11</td>\n",
       "      <td>1.001939e+05</td>\n",
       "      <td>1.493882e+05</td>\n",
       "      <td>199992.48</td>\n",
       "    </tr>\n",
       "    <tr>\n",
       "      <th>Exited</th>\n",
       "      <td>10000.0</td>\n",
       "      <td>2.037000e-01</td>\n",
       "      <td>0.402769</td>\n",
       "      <td>0.00</td>\n",
       "      <td>0.00</td>\n",
       "      <td>0.000000e+00</td>\n",
       "      <td>0.000000e+00</td>\n",
       "      <td>1.00</td>\n",
       "    </tr>\n",
       "  </tbody>\n",
       "</table>\n",
       "</div>"
      ],
      "text/plain": [
       "                   count          mean           std          min  \\\n",
       "RowNumber        10000.0  5.000500e+03   2886.895680         1.00   \n",
       "CustomerId       10000.0  1.569094e+07  71936.186123  15565701.00   \n",
       "CreditScore      10000.0  6.505288e+02     96.653299       350.00   \n",
       "Age              10000.0  3.892180e+01     10.487806        18.00   \n",
       "Tenure            9091.0  4.997690e+00      2.894723         0.00   \n",
       "Balance          10000.0  7.648589e+04  62397.405202         0.00   \n",
       "NumOfProducts    10000.0  1.530200e+00      0.581654         1.00   \n",
       "HasCrCard        10000.0  7.055000e-01      0.455840         0.00   \n",
       "IsActiveMember   10000.0  5.151000e-01      0.499797         0.00   \n",
       "EstimatedSalary  10000.0  1.000902e+05  57510.492818        11.58   \n",
       "Exited           10000.0  2.037000e-01      0.402769         0.00   \n",
       "\n",
       "                         25%           50%           75%          max  \n",
       "RowNumber            2500.75  5.000500e+03  7.500250e+03     10000.00  \n",
       "CustomerId       15628528.25  1.569074e+07  1.575323e+07  15815690.00  \n",
       "CreditScore           584.00  6.520000e+02  7.180000e+02       850.00  \n",
       "Age                    32.00  3.700000e+01  4.400000e+01        92.00  \n",
       "Tenure                  2.00  5.000000e+00  7.000000e+00        10.00  \n",
       "Balance                 0.00  9.719854e+04  1.276442e+05    250898.09  \n",
       "NumOfProducts           1.00  1.000000e+00  2.000000e+00         4.00  \n",
       "HasCrCard               0.00  1.000000e+00  1.000000e+00         1.00  \n",
       "IsActiveMember          0.00  1.000000e+00  1.000000e+00         1.00  \n",
       "EstimatedSalary     51002.11  1.001939e+05  1.493882e+05    199992.48  \n",
       "Exited                  0.00  0.000000e+00  0.000000e+00         1.00  "
      ]
     },
     "metadata": {},
     "output_type": "display_data"
    },
    {
     "data": {
      "text/html": [
       "<div>\n",
       "<style scoped>\n",
       "    .dataframe tbody tr th:only-of-type {\n",
       "        vertical-align: middle;\n",
       "    }\n",
       "\n",
       "    .dataframe tbody tr th {\n",
       "        vertical-align: top;\n",
       "    }\n",
       "\n",
       "    .dataframe thead th {\n",
       "        text-align: right;\n",
       "    }\n",
       "</style>\n",
       "<table border=\"1\" class=\"dataframe\">\n",
       "  <thead>\n",
       "    <tr style=\"text-align: right;\">\n",
       "      <th></th>\n",
       "      <th>RowNumber</th>\n",
       "      <th>CustomerId</th>\n",
       "      <th>Surname</th>\n",
       "      <th>CreditScore</th>\n",
       "      <th>Geography</th>\n",
       "      <th>Gender</th>\n",
       "      <th>Age</th>\n",
       "      <th>Tenure</th>\n",
       "      <th>Balance</th>\n",
       "      <th>NumOfProducts</th>\n",
       "      <th>HasCrCard</th>\n",
       "      <th>IsActiveMember</th>\n",
       "      <th>EstimatedSalary</th>\n",
       "      <th>Exited</th>\n",
       "    </tr>\n",
       "  </thead>\n",
       "  <tbody>\n",
       "    <tr>\n",
       "      <th>0</th>\n",
       "      <td>1</td>\n",
       "      <td>15634602</td>\n",
       "      <td>Hargrave</td>\n",
       "      <td>619</td>\n",
       "      <td>France</td>\n",
       "      <td>Female</td>\n",
       "      <td>42</td>\n",
       "      <td>2.0</td>\n",
       "      <td>0.00</td>\n",
       "      <td>1</td>\n",
       "      <td>1</td>\n",
       "      <td>1</td>\n",
       "      <td>101348.88</td>\n",
       "      <td>1</td>\n",
       "    </tr>\n",
       "    <tr>\n",
       "      <th>1</th>\n",
       "      <td>2</td>\n",
       "      <td>15647311</td>\n",
       "      <td>Hill</td>\n",
       "      <td>608</td>\n",
       "      <td>Spain</td>\n",
       "      <td>Female</td>\n",
       "      <td>41</td>\n",
       "      <td>1.0</td>\n",
       "      <td>83807.86</td>\n",
       "      <td>1</td>\n",
       "      <td>0</td>\n",
       "      <td>1</td>\n",
       "      <td>112542.58</td>\n",
       "      <td>0</td>\n",
       "    </tr>\n",
       "    <tr>\n",
       "      <th>2</th>\n",
       "      <td>3</td>\n",
       "      <td>15619304</td>\n",
       "      <td>Onio</td>\n",
       "      <td>502</td>\n",
       "      <td>France</td>\n",
       "      <td>Female</td>\n",
       "      <td>42</td>\n",
       "      <td>8.0</td>\n",
       "      <td>159660.80</td>\n",
       "      <td>3</td>\n",
       "      <td>1</td>\n",
       "      <td>0</td>\n",
       "      <td>113931.57</td>\n",
       "      <td>1</td>\n",
       "    </tr>\n",
       "    <tr>\n",
       "      <th>3</th>\n",
       "      <td>4</td>\n",
       "      <td>15701354</td>\n",
       "      <td>Boni</td>\n",
       "      <td>699</td>\n",
       "      <td>France</td>\n",
       "      <td>Female</td>\n",
       "      <td>39</td>\n",
       "      <td>1.0</td>\n",
       "      <td>0.00</td>\n",
       "      <td>2</td>\n",
       "      <td>0</td>\n",
       "      <td>0</td>\n",
       "      <td>93826.63</td>\n",
       "      <td>0</td>\n",
       "    </tr>\n",
       "    <tr>\n",
       "      <th>4</th>\n",
       "      <td>5</td>\n",
       "      <td>15737888</td>\n",
       "      <td>Mitchell</td>\n",
       "      <td>850</td>\n",
       "      <td>Spain</td>\n",
       "      <td>Female</td>\n",
       "      <td>43</td>\n",
       "      <td>2.0</td>\n",
       "      <td>125510.82</td>\n",
       "      <td>1</td>\n",
       "      <td>1</td>\n",
       "      <td>1</td>\n",
       "      <td>79084.10</td>\n",
       "      <td>0</td>\n",
       "    </tr>\n",
       "    <tr>\n",
       "      <th>5</th>\n",
       "      <td>6</td>\n",
       "      <td>15574012</td>\n",
       "      <td>Chu</td>\n",
       "      <td>645</td>\n",
       "      <td>Spain</td>\n",
       "      <td>Male</td>\n",
       "      <td>44</td>\n",
       "      <td>8.0</td>\n",
       "      <td>113755.78</td>\n",
       "      <td>2</td>\n",
       "      <td>1</td>\n",
       "      <td>0</td>\n",
       "      <td>149756.71</td>\n",
       "      <td>1</td>\n",
       "    </tr>\n",
       "    <tr>\n",
       "      <th>6</th>\n",
       "      <td>7</td>\n",
       "      <td>15592531</td>\n",
       "      <td>Bartlett</td>\n",
       "      <td>822</td>\n",
       "      <td>France</td>\n",
       "      <td>Male</td>\n",
       "      <td>50</td>\n",
       "      <td>7.0</td>\n",
       "      <td>0.00</td>\n",
       "      <td>2</td>\n",
       "      <td>1</td>\n",
       "      <td>1</td>\n",
       "      <td>10062.80</td>\n",
       "      <td>0</td>\n",
       "    </tr>\n",
       "    <tr>\n",
       "      <th>7</th>\n",
       "      <td>8</td>\n",
       "      <td>15656148</td>\n",
       "      <td>Obinna</td>\n",
       "      <td>376</td>\n",
       "      <td>Germany</td>\n",
       "      <td>Female</td>\n",
       "      <td>29</td>\n",
       "      <td>4.0</td>\n",
       "      <td>115046.74</td>\n",
       "      <td>4</td>\n",
       "      <td>1</td>\n",
       "      <td>0</td>\n",
       "      <td>119346.88</td>\n",
       "      <td>1</td>\n",
       "    </tr>\n",
       "    <tr>\n",
       "      <th>8</th>\n",
       "      <td>9</td>\n",
       "      <td>15792365</td>\n",
       "      <td>He</td>\n",
       "      <td>501</td>\n",
       "      <td>France</td>\n",
       "      <td>Male</td>\n",
       "      <td>44</td>\n",
       "      <td>4.0</td>\n",
       "      <td>142051.07</td>\n",
       "      <td>2</td>\n",
       "      <td>0</td>\n",
       "      <td>1</td>\n",
       "      <td>74940.50</td>\n",
       "      <td>0</td>\n",
       "    </tr>\n",
       "    <tr>\n",
       "      <th>9</th>\n",
       "      <td>10</td>\n",
       "      <td>15592389</td>\n",
       "      <td>H?</td>\n",
       "      <td>684</td>\n",
       "      <td>France</td>\n",
       "      <td>Male</td>\n",
       "      <td>27</td>\n",
       "      <td>2.0</td>\n",
       "      <td>134603.88</td>\n",
       "      <td>1</td>\n",
       "      <td>1</td>\n",
       "      <td>1</td>\n",
       "      <td>71725.73</td>\n",
       "      <td>0</td>\n",
       "    </tr>\n",
       "  </tbody>\n",
       "</table>\n",
       "</div>"
      ],
      "text/plain": [
       "   RowNumber  CustomerId   Surname  CreditScore Geography  Gender  Age  \\\n",
       "0          1    15634602  Hargrave          619    France  Female   42   \n",
       "1          2    15647311      Hill          608     Spain  Female   41   \n",
       "2          3    15619304      Onio          502    France  Female   42   \n",
       "3          4    15701354      Boni          699    France  Female   39   \n",
       "4          5    15737888  Mitchell          850     Spain  Female   43   \n",
       "5          6    15574012       Chu          645     Spain    Male   44   \n",
       "6          7    15592531  Bartlett          822    France    Male   50   \n",
       "7          8    15656148    Obinna          376   Germany  Female   29   \n",
       "8          9    15792365        He          501    France    Male   44   \n",
       "9         10    15592389        H?          684    France    Male   27   \n",
       "\n",
       "   Tenure    Balance  NumOfProducts  HasCrCard  IsActiveMember  \\\n",
       "0     2.0       0.00              1          1               1   \n",
       "1     1.0   83807.86              1          0               1   \n",
       "2     8.0  159660.80              3          1               0   \n",
       "3     1.0       0.00              2          0               0   \n",
       "4     2.0  125510.82              1          1               1   \n",
       "5     8.0  113755.78              2          1               0   \n",
       "6     7.0       0.00              2          1               1   \n",
       "7     4.0  115046.74              4          1               0   \n",
       "8     4.0  142051.07              2          0               1   \n",
       "9     2.0  134603.88              1          1               1   \n",
       "\n",
       "   EstimatedSalary  Exited  \n",
       "0        101348.88       1  \n",
       "1        112542.58       0  \n",
       "2        113931.57       1  \n",
       "3         93826.63       0  \n",
       "4         79084.10       0  \n",
       "5        149756.71       1  \n",
       "6         10062.80       0  \n",
       "7        119346.88       1  \n",
       "8         74940.50       0  \n",
       "9         71725.73       0  "
      ]
     },
     "execution_count": 3,
     "metadata": {},
     "output_type": "execute_result"
    }
   ],
   "source": [
    "data = pd.read_csv('Churn.csv')\n",
    "print(data.info())\n",
    "display(data.describe().transpose())\n",
    "data.head(10)"
   ]
  },
  {
   "cell_type": "markdown",
   "metadata": {},
   "source": [
    "Сразу можно отметить несколько столбцов, которые в дальнейшем обучении модели будут бесполезны, а именно: **RowNumber**, **CustomerId** и **Surname**. Можно сразу их удалить."
   ]
  },
  {
   "cell_type": "code",
   "execution_count": 4,
   "metadata": {},
   "outputs": [],
   "source": [
    "data = data.drop(['RowNumber', 'CustomerId', 'Surname'], axis=1)"
   ]
  },
  {
   "cell_type": "markdown",
   "metadata": {},
   "source": [
    "---\n",
    "Оставшиеся значения в пределах нормы, но стоит обратить внимание на отсутсующие значения в столбце **Tenure**, пропуски в котором наблюдаются у 10 % примеров."
   ]
  },
  {
   "cell_type": "code",
   "execution_count": 5,
   "metadata": {},
   "outputs": [
    {
     "data": {
      "text/html": [
       "<div>\n",
       "<style scoped>\n",
       "    .dataframe tbody tr th:only-of-type {\n",
       "        vertical-align: middle;\n",
       "    }\n",
       "\n",
       "    .dataframe tbody tr th {\n",
       "        vertical-align: top;\n",
       "    }\n",
       "\n",
       "    .dataframe thead th {\n",
       "        text-align: right;\n",
       "    }\n",
       "</style>\n",
       "<table border=\"1\" class=\"dataframe\">\n",
       "  <thead>\n",
       "    <tr style=\"text-align: right;\">\n",
       "      <th></th>\n",
       "      <th>CreditScore</th>\n",
       "      <th>Geography</th>\n",
       "      <th>Gender</th>\n",
       "      <th>Age</th>\n",
       "      <th>Tenure</th>\n",
       "      <th>Balance</th>\n",
       "      <th>NumOfProducts</th>\n",
       "      <th>HasCrCard</th>\n",
       "      <th>IsActiveMember</th>\n",
       "      <th>EstimatedSalary</th>\n",
       "      <th>Exited</th>\n",
       "    </tr>\n",
       "  </thead>\n",
       "  <tbody>\n",
       "    <tr>\n",
       "      <th>30</th>\n",
       "      <td>591</td>\n",
       "      <td>Spain</td>\n",
       "      <td>Female</td>\n",
       "      <td>39</td>\n",
       "      <td>NaN</td>\n",
       "      <td>0.00</td>\n",
       "      <td>3</td>\n",
       "      <td>1</td>\n",
       "      <td>0</td>\n",
       "      <td>140469.38</td>\n",
       "      <td>1</td>\n",
       "    </tr>\n",
       "    <tr>\n",
       "      <th>48</th>\n",
       "      <td>550</td>\n",
       "      <td>Germany</td>\n",
       "      <td>Male</td>\n",
       "      <td>38</td>\n",
       "      <td>NaN</td>\n",
       "      <td>103391.38</td>\n",
       "      <td>1</td>\n",
       "      <td>0</td>\n",
       "      <td>1</td>\n",
       "      <td>90878.13</td>\n",
       "      <td>0</td>\n",
       "    </tr>\n",
       "    <tr>\n",
       "      <th>51</th>\n",
       "      <td>585</td>\n",
       "      <td>Germany</td>\n",
       "      <td>Male</td>\n",
       "      <td>36</td>\n",
       "      <td>NaN</td>\n",
       "      <td>146050.97</td>\n",
       "      <td>2</td>\n",
       "      <td>0</td>\n",
       "      <td>0</td>\n",
       "      <td>86424.57</td>\n",
       "      <td>0</td>\n",
       "    </tr>\n",
       "    <tr>\n",
       "      <th>53</th>\n",
       "      <td>655</td>\n",
       "      <td>Germany</td>\n",
       "      <td>Male</td>\n",
       "      <td>41</td>\n",
       "      <td>NaN</td>\n",
       "      <td>125561.97</td>\n",
       "      <td>1</td>\n",
       "      <td>0</td>\n",
       "      <td>0</td>\n",
       "      <td>164040.94</td>\n",
       "      <td>1</td>\n",
       "    </tr>\n",
       "    <tr>\n",
       "      <th>60</th>\n",
       "      <td>742</td>\n",
       "      <td>Germany</td>\n",
       "      <td>Male</td>\n",
       "      <td>35</td>\n",
       "      <td>NaN</td>\n",
       "      <td>136857.00</td>\n",
       "      <td>1</td>\n",
       "      <td>0</td>\n",
       "      <td>0</td>\n",
       "      <td>84509.57</td>\n",
       "      <td>0</td>\n",
       "    </tr>\n",
       "  </tbody>\n",
       "</table>\n",
       "</div>"
      ],
      "text/plain": [
       "    CreditScore Geography  Gender  Age  Tenure    Balance  NumOfProducts  \\\n",
       "30          591     Spain  Female   39     NaN       0.00              3   \n",
       "48          550   Germany    Male   38     NaN  103391.38              1   \n",
       "51          585   Germany    Male   36     NaN  146050.97              2   \n",
       "53          655   Germany    Male   41     NaN  125561.97              1   \n",
       "60          742   Germany    Male   35     NaN  136857.00              1   \n",
       "\n",
       "    HasCrCard  IsActiveMember  EstimatedSalary  Exited  \n",
       "30          1               0        140469.38       1  \n",
       "48          0               1         90878.13       0  \n",
       "51          0               0         86424.57       0  \n",
       "53          0               0        164040.94       1  \n",
       "60          0               0         84509.57       0  "
      ]
     },
     "execution_count": 5,
     "metadata": {},
     "output_type": "execute_result"
    }
   ],
   "source": [
    "data[data['Tenure'].isna()].head()"
   ]
  },
  {
   "cell_type": "code",
   "execution_count": 6,
   "metadata": {},
   "outputs": [
    {
     "data": {
      "image/png": "[encoded data removed]",
      "text/plain": [
       "<Figure size 432x288 with 1 Axes>"
      ]
     },
     "metadata": {
      "needs_background": "light"
     },
     "output_type": "display_data"
    }
   ],
   "source": [
    "data['Tenure'].plot(kind='hist', bins=11)\n",
    "plt.title('Гистограмма частот для параметра Tenure')\n",
    "plt.xlabel('Tenure')\n",
    "plt.ylabel('Частота')\n",
    "plt.show()"
   ]
  },
  {
   "cell_type": "markdown",
   "metadata": {},
   "source": [
    "Надежной замены для отсутсвующих значений в данном столбце нет. Значит наиболее разумной будет замена на случайное значение с добавлением метки о том, что это значение не является абсолютно истинным."
   ]
  },
  {
   "cell_type": "code",
   "execution_count": 7,
   "metadata": {},
   "outputs": [],
   "source": [
    "data['TenureWasNa'] = data['Tenure'].isna().astype('int64')\n",
    "rng = np.random.default_rng(24) # Убедимся что случайные числа всегда идентичны\n",
    "data['Tenure'] = data['Tenure'].fillna(\n",
    "    pd.Series(\n",
    "        rng.integers(0, 11, size=data['Tenure'].isna().sum()), index=data[data['Tenure'].isna()].index\n",
    "    )\n",
    ")"
   ]
  },
  {
   "cell_type": "markdown",
   "metadata": {},
   "source": [
    "При проверке видно, что замена прошла успешно, а расперделение сильно внешне не поменялось:"
   ]
  },
  {
   "cell_type": "code",
   "execution_count": 8,
   "metadata": {},
   "outputs": [
    {
     "data": {
      "image/png": "[encoded data removed]",
      "text/plain": [
       "<Figure size 432x288 with 1 Axes>"
      ]
     },
     "metadata": {
      "needs_background": "light"
     },
     "output_type": "display_data"
    }
   ],
   "source": [
    "data['Tenure'].plot(kind='hist', bins=11)\n",
    "plt.title('Гистограмма частот для параметра Tenure')\n",
    "plt.xlabel('Tenure')\n",
    "plt.ylabel('Частота')\n",
    "plt.show()"
   ]
  },
  {
   "cell_type": "code",
   "execution_count": 9,
   "metadata": {
    "scrolled": true
   },
   "outputs": [
    {
     "data": {
      "text/html": [
       "<div>\n",
       "<style scoped>\n",
       "    .dataframe tbody tr th:only-of-type {\n",
       "        vertical-align: middle;\n",
       "    }\n",
       "\n",
       "    .dataframe tbody tr th {\n",
       "        vertical-align: top;\n",
       "    }\n",
       "\n",
       "    .dataframe thead th {\n",
       "        text-align: right;\n",
       "    }\n",
       "</style>\n",
       "<table border=\"1\" class=\"dataframe\">\n",
       "  <thead>\n",
       "    <tr style=\"text-align: right;\">\n",
       "      <th></th>\n",
       "      <th>CreditScore</th>\n",
       "      <th>Geography</th>\n",
       "      <th>Gender</th>\n",
       "      <th>Age</th>\n",
       "      <th>Tenure</th>\n",
       "      <th>Balance</th>\n",
       "      <th>NumOfProducts</th>\n",
       "      <th>HasCrCard</th>\n",
       "      <th>IsActiveMember</th>\n",
       "      <th>EstimatedSalary</th>\n",
       "      <th>Exited</th>\n",
       "      <th>TenureWasNa</th>\n",
       "    </tr>\n",
       "  </thead>\n",
       "  <tbody>\n",
       "    <tr>\n",
       "      <th>0</th>\n",
       "      <td>619</td>\n",
       "      <td>France</td>\n",
       "      <td>Female</td>\n",
       "      <td>42</td>\n",
       "      <td>2.0</td>\n",
       "      <td>0.00</td>\n",
       "      <td>1</td>\n",
       "      <td>1</td>\n",
       "      <td>1</td>\n",
       "      <td>101348.88</td>\n",
       "      <td>1</td>\n",
       "      <td>0</td>\n",
       "    </tr>\n",
       "    <tr>\n",
       "      <th>1</th>\n",
       "      <td>608</td>\n",
       "      <td>Spain</td>\n",
       "      <td>Female</td>\n",
       "      <td>41</td>\n",
       "      <td>1.0</td>\n",
       "      <td>83807.86</td>\n",
       "      <td>1</td>\n",
       "      <td>0</td>\n",
       "      <td>1</td>\n",
       "      <td>112542.58</td>\n",
       "      <td>0</td>\n",
       "      <td>0</td>\n",
       "    </tr>\n",
       "    <tr>\n",
       "      <th>2</th>\n",
       "      <td>502</td>\n",
       "      <td>France</td>\n",
       "      <td>Female</td>\n",
       "      <td>42</td>\n",
       "      <td>8.0</td>\n",
       "      <td>159660.80</td>\n",
       "      <td>3</td>\n",
       "      <td>1</td>\n",
       "      <td>0</td>\n",
       "      <td>113931.57</td>\n",
       "      <td>1</td>\n",
       "      <td>0</td>\n",
       "    </tr>\n",
       "    <tr>\n",
       "      <th>3</th>\n",
       "      <td>699</td>\n",
       "      <td>France</td>\n",
       "      <td>Female</td>\n",
       "      <td>39</td>\n",
       "      <td>1.0</td>\n",
       "      <td>0.00</td>\n",
       "      <td>2</td>\n",
       "      <td>0</td>\n",
       "      <td>0</td>\n",
       "      <td>93826.63</td>\n",
       "      <td>0</td>\n",
       "      <td>0</td>\n",
       "    </tr>\n",
       "    <tr>\n",
       "      <th>4</th>\n",
       "      <td>850</td>\n",
       "      <td>Spain</td>\n",
       "      <td>Female</td>\n",
       "      <td>43</td>\n",
       "      <td>2.0</td>\n",
       "      <td>125510.82</td>\n",
       "      <td>1</td>\n",
       "      <td>1</td>\n",
       "      <td>1</td>\n",
       "      <td>79084.10</td>\n",
       "      <td>0</td>\n",
       "      <td>0</td>\n",
       "    </tr>\n",
       "  </tbody>\n",
       "</table>\n",
       "</div>"
      ],
      "text/plain": [
       "   CreditScore Geography  Gender  Age  Tenure    Balance  NumOfProducts  \\\n",
       "0          619    France  Female   42     2.0       0.00              1   \n",
       "1          608     Spain  Female   41     1.0   83807.86              1   \n",
       "2          502    France  Female   42     8.0  159660.80              3   \n",
       "3          699    France  Female   39     1.0       0.00              2   \n",
       "4          850     Spain  Female   43     2.0  125510.82              1   \n",
       "\n",
       "   HasCrCard  IsActiveMember  EstimatedSalary  Exited  TenureWasNa  \n",
       "0          1               1        101348.88       1            0  \n",
       "1          0               1        112542.58       0            0  \n",
       "2          1               0        113931.57       1            0  \n",
       "3          0               0         93826.63       0            0  \n",
       "4          1               1         79084.10       0            0  "
      ]
     },
     "metadata": {},
     "output_type": "display_data"
    },
    {
     "name": "stdout",
     "output_type": "stream",
     "text": [
      "Количество оставшихся пустых значений = 0\n"
     ]
    }
   ],
   "source": [
    "display(data.head())\n",
    "print('Количество оставшихся пустых значений =',data['Tenure'].isna().sum())"
   ]
  },
  {
   "cell_type": "markdown",
   "metadata": {},
   "source": [
    "---\n",
    "Теперь можно преобразовать оставшиеся категоральные признаки по технике OHE."
   ]
  },
  {
   "cell_type": "code",
   "execution_count": 10,
   "metadata": {
    "scrolled": true
   },
   "outputs": [
    {
     "data": {
      "text/html": [
       "<div>\n",
       "<style scoped>\n",
       "    .dataframe tbody tr th:only-of-type {\n",
       "        vertical-align: middle;\n",
       "    }\n",
       "\n",
       "    .dataframe tbody tr th {\n",
       "        vertical-align: top;\n",
       "    }\n",
       "\n",
       "    .dataframe thead th {\n",
       "        text-align: right;\n",
       "    }\n",
       "</style>\n",
       "<table border=\"1\" class=\"dataframe\">\n",
       "  <thead>\n",
       "    <tr style=\"text-align: right;\">\n",
       "      <th></th>\n",
       "      <th>CreditScore</th>\n",
       "      <th>Age</th>\n",
       "      <th>Tenure</th>\n",
       "      <th>Balance</th>\n",
       "      <th>NumOfProducts</th>\n",
       "      <th>HasCrCard</th>\n",
       "      <th>IsActiveMember</th>\n",
       "      <th>EstimatedSalary</th>\n",
       "      <th>Exited</th>\n",
       "      <th>TenureWasNa</th>\n",
       "      <th>Geography_Germany</th>\n",
       "      <th>Geography_Spain</th>\n",
       "      <th>Gender_Male</th>\n",
       "    </tr>\n",
       "  </thead>\n",
       "  <tbody>\n",
       "    <tr>\n",
       "      <th>0</th>\n",
       "      <td>619</td>\n",
       "      <td>42</td>\n",
       "      <td>2.0</td>\n",
       "      <td>0.00</td>\n",
       "      <td>1</td>\n",
       "      <td>1</td>\n",
       "      <td>1</td>\n",
       "      <td>101348.88</td>\n",
       "      <td>1</td>\n",
       "      <td>0</td>\n",
       "      <td>0</td>\n",
       "      <td>0</td>\n",
       "      <td>0</td>\n",
       "    </tr>\n",
       "    <tr>\n",
       "      <th>1</th>\n",
       "      <td>608</td>\n",
       "      <td>41</td>\n",
       "      <td>1.0</td>\n",
       "      <td>83807.86</td>\n",
       "      <td>1</td>\n",
       "      <td>0</td>\n",
       "      <td>1</td>\n",
       "      <td>112542.58</td>\n",
       "      <td>0</td>\n",
       "      <td>0</td>\n",
       "      <td>0</td>\n",
       "      <td>1</td>\n",
       "      <td>0</td>\n",
       "    </tr>\n",
       "    <tr>\n",
       "      <th>2</th>\n",
       "      <td>502</td>\n",
       "      <td>42</td>\n",
       "      <td>8.0</td>\n",
       "      <td>159660.80</td>\n",
       "      <td>3</td>\n",
       "      <td>1</td>\n",
       "      <td>0</td>\n",
       "      <td>113931.57</td>\n",
       "      <td>1</td>\n",
       "      <td>0</td>\n",
       "      <td>0</td>\n",
       "      <td>0</td>\n",
       "      <td>0</td>\n",
       "    </tr>\n",
       "    <tr>\n",
       "      <th>3</th>\n",
       "      <td>699</td>\n",
       "      <td>39</td>\n",
       "      <td>1.0</td>\n",
       "      <td>0.00</td>\n",
       "      <td>2</td>\n",
       "      <td>0</td>\n",
       "      <td>0</td>\n",
       "      <td>93826.63</td>\n",
       "      <td>0</td>\n",
       "      <td>0</td>\n",
       "      <td>0</td>\n",
       "      <td>0</td>\n",
       "      <td>0</td>\n",
       "    </tr>\n",
       "    <tr>\n",
       "      <th>4</th>\n",
       "      <td>850</td>\n",
       "      <td>43</td>\n",
       "      <td>2.0</td>\n",
       "      <td>125510.82</td>\n",
       "      <td>1</td>\n",
       "      <td>1</td>\n",
       "      <td>1</td>\n",
       "      <td>79084.10</td>\n",
       "      <td>0</td>\n",
       "      <td>0</td>\n",
       "      <td>0</td>\n",
       "      <td>1</td>\n",
       "      <td>0</td>\n",
       "    </tr>\n",
       "  </tbody>\n",
       "</table>\n",
       "</div>"
      ],
      "text/plain": [
       "   CreditScore  Age  Tenure    Balance  NumOfProducts  HasCrCard  \\\n",
       "0          619   42     2.0       0.00              1          1   \n",
       "1          608   41     1.0   83807.86              1          0   \n",
       "2          502   42     8.0  159660.80              3          1   \n",
       "3          699   39     1.0       0.00              2          0   \n",
       "4          850   43     2.0  125510.82              1          1   \n",
       "\n",
       "   IsActiveMember  EstimatedSalary  Exited  TenureWasNa  Geography_Germany  \\\n",
       "0               1        101348.88       1            0                  0   \n",
       "1               1        112542.58       0            0                  0   \n",
       "2               0        113931.57       1            0                  0   \n",
       "3               0         93826.63       0            0                  0   \n",
       "4               1         79084.10       0            0                  0   \n",
       "\n",
       "   Geography_Spain  Gender_Male  \n",
       "0                0            0  \n",
       "1                1            0  \n",
       "2                0            0  \n",
       "3                0            0  \n",
       "4                1            0  "
      ]
     },
     "execution_count": 10,
     "metadata": {},
     "output_type": "execute_result"
    }
   ],
   "source": [
    "data = pd.get_dummies(data, drop_first=1)\n",
    "data.head()"
   ]
  },
  {
   "cell_type": "markdown",
   "metadata": {},
   "source": [
    "---\n",
    "Необходимо разбить таблицу на обучающую и тестовую выборки. Так как в дальнейшем булет применяться кросс-валидация, валидационная выборка не потребуется."
   ]
  },
  {
   "cell_type": "code",
   "execution_count": 11,
   "metadata": {},
   "outputs": [
    {
     "name": "stdout",
     "output_type": "stream",
     "text": [
      "Размер обучающей выборки = (8000, 12), размер тестовой выборки = (2000, 12)\n"
     ]
    }
   ],
   "source": [
    "features = data.drop(['Exited'], axis=1)\n",
    "target = data['Exited']\n",
    "features_train, features_test, target_train, target_test = train_test_split(features, target, test_size=.2, random_state=24)\n",
    "print(f'Размер обучающей выборки = {features_train.shape}, размер тестовой выборки = {features_test.shape}')"
   ]
  },
  {
   "cell_type": "markdown",
   "metadata": {},
   "source": [
    "---\n",
    "Теперь можно привести все признаки к одному масштабу."
   ]
  },
  {
   "cell_type": "code",
   "execution_count": 12,
   "metadata": {},
   "outputs": [
    {
     "data": {
      "text/html": [
       "<div>\n",
       "<style scoped>\n",
       "    .dataframe tbody tr th:only-of-type {\n",
       "        vertical-align: middle;\n",
       "    }\n",
       "\n",
       "    .dataframe tbody tr th {\n",
       "        vertical-align: top;\n",
       "    }\n",
       "\n",
       "    .dataframe thead th {\n",
       "        text-align: right;\n",
       "    }\n",
       "</style>\n",
       "<table border=\"1\" class=\"dataframe\">\n",
       "  <thead>\n",
       "    <tr style=\"text-align: right;\">\n",
       "      <th></th>\n",
       "      <th>CreditScore</th>\n",
       "      <th>Age</th>\n",
       "      <th>Tenure</th>\n",
       "      <th>Balance</th>\n",
       "      <th>NumOfProducts</th>\n",
       "      <th>HasCrCard</th>\n",
       "      <th>IsActiveMember</th>\n",
       "      <th>EstimatedSalary</th>\n",
       "      <th>TenureWasNa</th>\n",
       "      <th>Geography_Germany</th>\n",
       "      <th>Geography_Spain</th>\n",
       "      <th>Gender_Male</th>\n",
       "    </tr>\n",
       "  </thead>\n",
       "  <tbody>\n",
       "    <tr>\n",
       "      <th>6604</th>\n",
       "      <td>1.278635</td>\n",
       "      <td>0.758090</td>\n",
       "      <td>-1.715264</td>\n",
       "      <td>0.295986</td>\n",
       "      <td>-0.914442</td>\n",
       "      <td>-1.540813</td>\n",
       "      <td>0.975549</td>\n",
       "      <td>-0.674262</td>\n",
       "      <td>3.165325</td>\n",
       "      <td>-0.578697</td>\n",
       "      <td>-0.569267</td>\n",
       "      <td>-1.098588</td>\n",
       "    </tr>\n",
       "    <tr>\n",
       "      <th>3203</th>\n",
       "      <td>0.708470</td>\n",
       "      <td>2.836051</td>\n",
       "      <td>-0.685720</td>\n",
       "      <td>-1.219089</td>\n",
       "      <td>0.798397</td>\n",
       "      <td>0.649008</td>\n",
       "      <td>0.975549</td>\n",
       "      <td>-0.728689</td>\n",
       "      <td>-0.315923</td>\n",
       "      <td>-0.578697</td>\n",
       "      <td>-0.569267</td>\n",
       "      <td>0.910259</td>\n",
       "    </tr>\n",
       "    <tr>\n",
       "      <th>2195</th>\n",
       "      <td>1.527435</td>\n",
       "      <td>1.797070</td>\n",
       "      <td>1.373369</td>\n",
       "      <td>-1.219089</td>\n",
       "      <td>0.798397</td>\n",
       "      <td>-1.540813</td>\n",
       "      <td>-1.025064</td>\n",
       "      <td>0.327406</td>\n",
       "      <td>-0.315923</td>\n",
       "      <td>-0.578697</td>\n",
       "      <td>1.756645</td>\n",
       "      <td>-1.098588</td>\n",
       "    </tr>\n",
       "    <tr>\n",
       "      <th>2576</th>\n",
       "      <td>-0.058661</td>\n",
       "      <td>-0.280891</td>\n",
       "      <td>-0.342538</td>\n",
       "      <td>-0.261098</td>\n",
       "      <td>0.798397</td>\n",
       "      <td>0.649008</td>\n",
       "      <td>-1.025064</td>\n",
       "      <td>-0.977633</td>\n",
       "      <td>-0.315923</td>\n",
       "      <td>-0.578697</td>\n",
       "      <td>1.756645</td>\n",
       "      <td>0.910259</td>\n",
       "    </tr>\n",
       "    <tr>\n",
       "      <th>4572</th>\n",
       "      <td>0.190138</td>\n",
       "      <td>-0.847607</td>\n",
       "      <td>0.687006</td>\n",
       "      <td>1.018151</td>\n",
       "      <td>-0.914442</td>\n",
       "      <td>0.649008</td>\n",
       "      <td>-1.025064</td>\n",
       "      <td>1.539484</td>\n",
       "      <td>-0.315923</td>\n",
       "      <td>1.728019</td>\n",
       "      <td>-0.569267</td>\n",
       "      <td>-1.098588</td>\n",
       "    </tr>\n",
       "  </tbody>\n",
       "</table>\n",
       "</div>"
      ],
      "text/plain": [
       "      CreditScore       Age    Tenure   Balance  NumOfProducts  HasCrCard  \\\n",
       "6604     1.278635  0.758090 -1.715264  0.295986      -0.914442  -1.540813   \n",
       "3203     0.708470  2.836051 -0.685720 -1.219089       0.798397   0.649008   \n",
       "2195     1.527435  1.797070  1.373369 -1.219089       0.798397  -1.540813   \n",
       "2576    -0.058661 -0.280891 -0.342538 -0.261098       0.798397   0.649008   \n",
       "4572     0.190138 -0.847607  0.687006  1.018151      -0.914442   0.649008   \n",
       "\n",
       "      IsActiveMember  EstimatedSalary  TenureWasNa  Geography_Germany  \\\n",
       "6604        0.975549        -0.674262     3.165325          -0.578697   \n",
       "3203        0.975549        -0.728689    -0.315923          -0.578697   \n",
       "2195       -1.025064         0.327406    -0.315923          -0.578697   \n",
       "2576       -1.025064        -0.977633    -0.315923          -0.578697   \n",
       "4572       -1.025064         1.539484    -0.315923           1.728019   \n",
       "\n",
       "      Geography_Spain  Gender_Male  \n",
       "6604        -0.569267    -1.098588  \n",
       "3203        -0.569267     0.910259  \n",
       "2195         1.756645    -1.098588  \n",
       "2576         1.756645     0.910259  \n",
       "4572        -0.569267    -1.098588  "
      ]
     },
     "execution_count": 12,
     "metadata": {},
     "output_type": "execute_result"
    }
   ],
   "source": [
    "scaler = StandardScaler()\n",
    "scaler.fit(features_train)\n",
    "features_train = pd.DataFrame(scaler.transform(features_train), columns=features_train.columns, index=features_train.index)\n",
    "features_test = pd.DataFrame(scaler.transform(features_test), columns=features_train.columns, index=features_test.index)\n",
    "features_train.head()"
   ]
  },
  {
   "cell_type": "markdown",
   "metadata": {},
   "source": [
    "Категоральные признаки также проходят масштабирование. Отрицательного влияния на модели это не окажет."
   ]
  },
  {
   "cell_type": "markdown",
   "metadata": {},
   "source": [
    "Таблица готова к построению моделей."
   ]
  },
  {
   "cell_type": "markdown",
   "metadata": {},
   "source": [
    "# Исследование задачи"
   ]
  },
  {
   "cell_type": "markdown",
   "metadata": {},
   "source": [
    "## Баланс классов"
   ]
  },
  {
   "cell_type": "markdown",
   "metadata": {},
   "source": [
    "Клиенты делятся на 2 класса: те кто ушел из банка и те кто остались."
   ]
  },
  {
   "cell_type": "code",
   "execution_count": 13,
   "metadata": {},
   "outputs": [
    {
     "data": {
      "text/plain": [
       "0    0.7963\n",
       "1    0.2037\n",
       "Name: Exited, dtype: float64"
      ]
     },
     "execution_count": 13,
     "metadata": {},
     "output_type": "execute_result"
    }
   ],
   "source": [
    "data['Exited'].value_counts(normalize=1)"
   ]
  },
  {
   "cell_type": "markdown",
   "metadata": {
    "tags": []
   },
   "source": [
    "Соотношение тех кто остался к тем кто ушел составляет 4:1 соответсвенно. Пока что этот дисбаланс оставим без изменений."
   ]
  },
  {
   "cell_type": "markdown",
   "metadata": {
    "tags": []
   },
   "source": [
    "## Перебор моделей"
   ]
  },
  {
   "cell_type": "markdown",
   "metadata": {},
   "source": [
    "Оценка всех построенных моделей будет проводиться одинаково согласно функции search_scoring, которая выводит значение F1-меры для кросс-валидации и тестовой выборки, выводит лучшие гиперпараметры из случайного поиска, строит ROC-кривую и расчитывает площадь под ней для данной модели."
   ]
  },
  {
   "cell_type": "code",
   "execution_count": 14,
   "metadata": {},
   "outputs": [],
   "source": [
    "def search_scoring(search, features_test, graph_title):\n",
    "    print('Лучшая F1-мера при кросс-валидации =', search.best_score_)\n",
    "    print('Лучшие гиперпараметры:', search.best_params_)\n",
    "    predicted = search.predict(features_test)\n",
    "    probabilities = search.predict_proba(features_test)[:, 1]\n",
    "\n",
    "    fpr, tpr, thresholds = roc_curve(target_test, probabilities)\n",
    "    plt.figure(figsize=(8,8))\n",
    "    plt.plot(fpr, tpr)\n",
    "    plt.plot([0, 1], [0, 1], linestyle='--')\n",
    "    plt.xlim([0.0, 1.0])\n",
    "    plt.ylim([0.0, 1.01])\n",
    "    plt.xlabel('False Positive Rate')\n",
    "    plt.ylabel('True Positive Rate')\n",
    "    plt.title(str(graph_title))\n",
    "    plt.show()\n",
    "\n",
    "    print(f'F1-мера на тестовой выборке = {f1_score(target_test, predicted):.4}')\n",
    "    print(f'Площадь под ROC-кривой = {roc_auc_score(target_test, probabilities):.4}')\n",
    "    return None"
   ]
  },
  {
   "cell_type": "markdown",
   "metadata": {
    "tags": []
   },
   "source": [
    "### Логистическая регрессия"
   ]
  },
  {
   "cell_type": "code",
   "execution_count": 15,
   "metadata": {},
   "outputs": [
    {
     "name": "stdout",
     "output_type": "stream",
     "text": [
      "Лучшая F1-мера при кросс-валидации = 0.3095562516529319\n",
      "Лучшие гиперпараметры: {'C': 121.51450019625558, 'penalty': 'l2', 'solver': 'lbfgs'}\n"
     ]
    },
    {
     "data": {
      "image/png": "[encoded data removed]",
      "text/plain": [
       "<Figure size 576x576 with 1 Axes>"
      ]
     },
     "metadata": {
      "needs_background": "light"
     },
     "output_type": "display_data"
    },
    {
     "name": "stdout",
     "output_type": "stream",
     "text": [
      "F1-мера на тестовой выборке = 0.2952\n",
      "Площадь под ROC-кривой = 0.7735\n"
     ]
    }
   ],
   "source": [
    "model = LogisticRegression(random_state=24)\n",
    "cv = RepeatedStratifiedKFold(n_splits=10, n_repeats=3, random_state=24)\n",
    "\n",
    "params = {}\n",
    "params['solver'] = ['newton-cg', 'lbfgs', 'liblinear'] \n",
    "params['penalty'] = ['none', 'l1', 'l2', 'elasticnet']\n",
    "params['C'] = stats.loguniform(1e-5, 10000)\n",
    "\n",
    "search = RandomizedSearchCV(model, params, n_iter=50, scoring='f1', n_jobs=-1, cv=cv, random_state=24)\n",
    "search.fit(features_train, target_train)\n",
    "search_scoring(search, features_test, 'ROC-кривая для модели логистической регрессии с дисбалансом классов')"
   ]
  },
  {
   "cell_type": "markdown",
   "metadata": {},
   "source": [
    "### Случайный лес"
   ]
  },
  {
   "cell_type": "code",
   "execution_count": 16,
   "metadata": {},
   "outputs": [
    {
     "name": "stdout",
     "output_type": "stream",
     "text": [
      "Лучшая F1-мера при кросс-валидации = 0.5741938789251559\n",
      "Лучшие гиперпараметры: {'bootstrap': False, 'max_depth': 43, 'min_samples_leaf': 0.0004864988011096544, 'min_samples_split': 0.0004290021013470081, 'n_estimators': 120}\n"
     ]
    },
    {
     "data": {
      "image/png": "[encoded data removed]",
      "text/plain": [
       "<Figure size 576x576 with 1 Axes>"
      ]
     },
     "metadata": {
      "needs_background": "light"
     },
     "output_type": "display_data"
    },
    {
     "name": "stdout",
     "output_type": "stream",
     "text": [
      "F1-мера на тестовой выборке = 0.5657\n",
      "Площадь под ROC-кривой = 0.861\n"
     ]
    }
   ],
   "source": [
    "model = RandomForestClassifier(random_state=24)\n",
    "\n",
    "params = {}\n",
    "params['n_estimators'] = range(10, 201, 10)\n",
    "params['max_depth'] = range(1, 51, 2)\n",
    "params['min_samples_split'] = stats.loguniform(2e-4, 1e-1)\n",
    "params['min_samples_leaf'] = stats.loguniform(2e-4, 1e-1)\n",
    "params['bootstrap'] = [True, False]\n",
    "\n",
    "search = RandomizedSearchCV(model, params, n_iter=50, scoring='f1', n_jobs=-1, cv=cv, random_state=24)\n",
    "search.fit(features_train, target_train)\n",
    "\n",
    "search_scoring(search, features_test, 'ROC-кривая для модели случайного леса с дисбалансом классов')"
   ]
  },
  {
   "cell_type": "markdown",
   "metadata": {},
   "source": [
    "### K-ближайших соседей"
   ]
  },
  {
   "cell_type": "code",
   "execution_count": 17,
   "metadata": {},
   "outputs": [
    {
     "name": "stdout",
     "output_type": "stream",
     "text": [
      "Лучшая F1-мера при кросс-валидации = 0.4693695969142278\n",
      "Лучшие гиперпараметры: {'weights': 'distance', 'n_neighbors': 4}\n"
     ]
    },
    {
     "data": {
      "image/png": "[encoded data removed]",
      "text/plain": [
       "<Figure size 576x576 with 1 Axes>"
      ]
     },
     "metadata": {
      "needs_background": "light"
     },
     "output_type": "display_data"
    },
    {
     "name": "stdout",
     "output_type": "stream",
     "text": [
      "F1-мера на тестовой выборке = 0.4746\n",
      "Площадь под ROC-кривой = 0.7512\n"
     ]
    }
   ],
   "source": [
    "model = KNeighborsClassifier()\n",
    "\n",
    "params = {}\n",
    "params['n_neighbors'] = range(2, 30)\n",
    "params['weights'] = ['uniform', 'distance']\n",
    "\n",
    "search = RandomizedSearchCV(model, params, n_iter=50, scoring='f1', n_jobs=-1, cv=cv, random_state=24)\n",
    "search.fit(features_train, target_train)\n",
    "\n",
    "search_scoring(search, features_test, 'ROC-кривая для модели k-ближайших соседей с дисбалансом классов')"
   ]
  },
  {
   "cell_type": "markdown",
   "metadata": {
    "tags": []
   },
   "source": [
    "## Вывод"
   ]
  },
  {
   "cell_type": "markdown",
   "metadata": {
    "tags": []
   },
   "source": [
    "Несбалансированные модели дали следующие рузультаты: \n",
    "* Логистическая регрессия: F1-мера на тестовой выборке = 0.2952, Площадь под ROC-кривой = 0.7735;\n",
    "* Случайный лес: F1-мера на тестовой выборке = 0.5657, Площадь под ROC-кривой = 0.861;\n",
    "* K-ближайших соседей: F1-мера на тестовой выборке = 0.4746, Площадь под ROC-кривой = 0.7512.\n",
    "\n",
    "Интересно, что метод k-ближайших соседей дал AUC-ROC меньшее чем у логистической регрессии, однако F1-мера оказалось большей."
   ]
  },
  {
   "cell_type": "markdown",
   "metadata": {},
   "source": [
    "# Борьба с дисбалансом"
   ]
  },
  {
   "cell_type": "markdown",
   "metadata": {},
   "source": [
    "## Балансировка весов классов"
   ]
  },
  {
   "cell_type": "markdown",
   "metadata": {},
   "source": [
    "Балансировка весов будет проводиться встроенным в модель параметром."
   ]
  },
  {
   "cell_type": "markdown",
   "metadata": {},
   "source": [
    "### Логистическая регрессия"
   ]
  },
  {
   "cell_type": "code",
   "execution_count": 18,
   "metadata": {},
   "outputs": [
    {
     "name": "stdout",
     "output_type": "stream",
     "text": [
      "Лучшая F1-мера при кросс-валидации = 0.4878376724028215\n",
      "Лучшие гиперпараметры: {'C': 0.041683649095317826, 'penalty': 'l2', 'solver': 'lbfgs'}\n"
     ]
    },
    {
     "data": {
      "image/png": "[encoded data removed]",
      "text/plain": [
       "<Figure size 576x576 with 1 Axes>"
      ]
     },
     "metadata": {
      "needs_background": "light"
     },
     "output_type": "display_data"
    },
    {
     "name": "stdout",
     "output_type": "stream",
     "text": [
      "F1-мера на тестовой выборке = 0.5096\n",
      "Площадь под ROC-кривой = 0.7775\n"
     ]
    }
   ],
   "source": [
    "model = LogisticRegression(random_state=24, class_weight='balanced')\n",
    "\n",
    "params = {}\n",
    "params['solver'] = ['newton-cg', 'lbfgs', 'liblinear']\n",
    "params['penalty'] = ['none', 'l1', 'l2', 'elasticnet']\n",
    "params['C'] = stats.loguniform(1e-5, 10000)\n",
    "\n",
    "search = RandomizedSearchCV(model, params, n_iter=50, scoring='f1', n_jobs=-1, cv=cv, random_state=24)\n",
    "search.fit(features_train, target_train)\n",
    "search_scoring(search, features_test, 'ROC-кривая для модели логистической регрессии со сбалансированными классами')"
   ]
  },
  {
   "cell_type": "markdown",
   "metadata": {},
   "source": [
    "### Случайный лес"
   ]
  },
  {
   "cell_type": "code",
   "execution_count": 19,
   "metadata": {},
   "outputs": [
    {
     "name": "stdout",
     "output_type": "stream",
     "text": [
      "Лучшая F1-мера при кросс-валидации = 0.6188007494570889\n",
      "Лучшие гиперпараметры: {'bootstrap': True, 'max_depth': 27, 'min_samples_leaf': 0.0006443751729717477, 'min_samples_split': 0.0018930060498037454, 'n_estimators': 110}\n"
     ]
    },
    {
     "data": {
      "image/png": "[encoded data removed]",
      "text/plain": [
       "<Figure size 576x576 with 1 Axes>"
      ]
     },
     "metadata": {
      "needs_background": "light"
     },
     "output_type": "display_data"
    },
    {
     "name": "stdout",
     "output_type": "stream",
     "text": [
      "F1-мера на тестовой выборке = 0.6399\n",
      "Площадь под ROC-кривой = 0.8622\n"
     ]
    }
   ],
   "source": [
    "model = RandomForestClassifier(random_state=24, class_weight='balanced')\n",
    "\n",
    "params = {}\n",
    "params['n_estimators'] = range(10, 201, 10)\n",
    "params['max_depth'] = range(1, 51, 2)\n",
    "params['min_samples_split'] = stats.loguniform(2e-4, 1e-1)\n",
    "params['min_samples_leaf'] = stats.loguniform(2e-4, 1e-1)\n",
    "params['bootstrap'] = [True, False]\n",
    "\n",
    "search = RandomizedSearchCV(model, params, n_iter=50, scoring='f1', n_jobs=-1, cv=cv, random_state=24)\n",
    "search.fit(features_train, target_train)\n",
    "\n",
    "search_scoring(search, features_test, 'ROC-кривая для модели случайного леса со сбалансированными классами')"
   ]
  },
  {
   "cell_type": "markdown",
   "metadata": {
    "tags": []
   },
   "source": [
    "## Вывод"
   ]
  },
  {
   "cell_type": "markdown",
   "metadata": {
    "jp-MarkdownHeadingCollapsed": true,
    "tags": []
   },
   "source": [
    "Сбалансированные по весам модели дали следующие рузультаты: \n",
    "* Логистическая регрессия: F1-мера на тестовой выборке = 0.5096, Площадь под ROC-кривой = 0.7775;\n",
    "* Случайный лес: F1-мера на тестовой выборке = 0.6399, Площадь под ROC-кривой = 0.8622;\n",
    "* K-ближайших соседей: не предполагает балансировки весов классов."
   ]
  },
  {
   "cell_type": "markdown",
   "metadata": {},
   "source": [
    "## Upsampling"
   ]
  },
  {
   "cell_type": "markdown",
   "metadata": {},
   "source": [
    "Будет проводиться при помощи следующей функции:"
   ]
  },
  {
   "cell_type": "code",
   "execution_count": 20,
   "metadata": {},
   "outputs": [],
   "source": [
    "def upsample(features, target, repeat):\n",
    "    features_zeros = features[target == 0]\n",
    "    features_ones = features[target == 1]\n",
    "    target_zeros = target[target == 0]\n",
    "    target_ones = target[target == 1]\n",
    "\n",
    "    features_upsampled = pd.concat([features_zeros] + [features_ones] * repeat)\n",
    "    target_upsampled = pd.concat([target_zeros] + [target_ones] * repeat)\n",
    "        \n",
    "    features_upsampled, target_upsampled = shuffle(\n",
    "        features_upsampled, target_upsampled, random_state=24)\n",
    "    \n",
    "    return features_upsampled, target_upsampled\n",
    "\n",
    "features_upsampled, target_upsampled = upsample(features_train, target_train, 3)"
   ]
  },
  {
   "cell_type": "markdown",
   "metadata": {},
   "source": [
    "### Логистическая регрессия"
   ]
  },
  {
   "cell_type": "code",
   "execution_count": 21,
   "metadata": {},
   "outputs": [
    {
     "name": "stdout",
     "output_type": "stream",
     "text": [
      "Лучшая F1-мера при кросс-валидации = 0.6481320345141672\n",
      "Лучшие гиперпараметры: {'C': 0.004048107173336376, 'penalty': 'l1', 'solver': 'liblinear'}\n"
     ]
    },
    {
     "data": {
      "image/png": "[encoded data removed]",
      "text/plain": [
       "<Figure size 576x576 with 1 Axes>"
      ]
     },
     "metadata": {
      "needs_background": "light"
     },
     "output_type": "display_data"
    },
    {
     "name": "stdout",
     "output_type": "stream",
     "text": [
      "F1-мера на тестовой выборке = 0.5223\n",
      "Площадь под ROC-кривой = 0.7813\n"
     ]
    }
   ],
   "source": [
    "model = LogisticRegression(random_state=24)\n",
    "\n",
    "params = {}\n",
    "params['solver'] = ['newton-cg', 'lbfgs', 'liblinear']\n",
    "params['penalty'] = ['none', 'l1', 'l2', 'elasticnet']\n",
    "params['C'] = stats.loguniform(1e-5, 10000)\n",
    "\n",
    "search = RandomizedSearchCV(model, params, n_iter=50, scoring='f1', n_jobs=-1, cv=cv, random_state=24)\n",
    "search.fit(features_upsampled, target_upsampled)\n",
    "search_scoring(search, features_test, 'ROC-кривая для модели логистической регрессии со сбалансированными классами')"
   ]
  },
  {
   "cell_type": "markdown",
   "metadata": {},
   "source": [
    "### Случайный лес"
   ]
  },
  {
   "cell_type": "code",
   "execution_count": 22,
   "metadata": {},
   "outputs": [
    {
     "name": "stdout",
     "output_type": "stream",
     "text": [
      "Лучшая F1-мера при кросс-валидации = 0.9047696856178536\n",
      "Лучшие гиперпараметры: {'bootstrap': False, 'max_depth': 43, 'min_samples_leaf': 0.0004864988011096544, 'min_samples_split': 0.0004290021013470081, 'n_estimators': 120}\n"
     ]
    },
    {
     "data": {
      "image/png": "[encoded data removed]",
      "text/plain": [
       "<Figure size 576x576 with 1 Axes>"
      ]
     },
     "metadata": {
      "needs_background": "light"
     },
     "output_type": "display_data"
    },
    {
     "name": "stdout",
     "output_type": "stream",
     "text": [
      "F1-мера на тестовой выборке = 0.6256\n",
      "Площадь под ROC-кривой = 0.8572\n"
     ]
    }
   ],
   "source": [
    "model = RandomForestClassifier(random_state=24)\n",
    "\n",
    "params = {}\n",
    "params['n_estimators'] = range(10, 201, 10)\n",
    "params['max_depth'] = range(1, 51, 2)\n",
    "params['min_samples_split'] = stats.loguniform(2e-4, 1e-1)\n",
    "params['min_samples_leaf'] = stats.loguniform(2e-4, 1e-1)\n",
    "params['bootstrap'] = [True, False]\n",
    "\n",
    "search = RandomizedSearchCV(model, params, n_iter=50, scoring='f1', n_jobs=-1, cv=cv, random_state=24)\n",
    "search.fit(features_upsampled, target_upsampled)\n",
    "\n",
    "search_scoring(search, features_test, 'ROC-кривая для модели случайного леса со сбалансированными классами')"
   ]
  },
  {
   "cell_type": "markdown",
   "metadata": {},
   "source": [
    "### K-ближайших соседей"
   ]
  },
  {
   "cell_type": "code",
   "execution_count": 23,
   "metadata": {
    "scrolled": true
   },
   "outputs": [
    {
     "name": "stdout",
     "output_type": "stream",
     "text": [
      "Лучшая F1-мера при кросс-валидации = 0.9148062840625907\n",
      "Лучшие гиперпараметры: {'weights': 'distance', 'n_neighbors': 2}\n"
     ]
    },
    {
     "data": {
      "image/png": "[encoded data removed]",
      "text/plain": [
       "<Figure size 576x576 with 1 Axes>"
      ]
     },
     "metadata": {
      "needs_background": "light"
     },
     "output_type": "display_data"
    },
    {
     "name": "stdout",
     "output_type": "stream",
     "text": [
      "F1-мера на тестовой выборке = 0.481\n",
      "Площадь под ROC-кривой = 0.7042\n"
     ]
    }
   ],
   "source": [
    "model = KNeighborsClassifier()\n",
    "\n",
    "params = {}\n",
    "params['n_neighbors'] = range(2, 30)\n",
    "params['weights'] = ['uniform', 'distance']\n",
    "\n",
    "search = RandomizedSearchCV(model, params, n_iter=50, scoring='f1', n_jobs=-1, cv=cv, random_state=24)\n",
    "search.fit(features_upsampled, target_upsampled)\n",
    "\n",
    "search_scoring(search, features_test, 'ROC-кривая для модели k-ближайших соседей со сбалансированными классами')"
   ]
  },
  {
   "cell_type": "markdown",
   "metadata": {
    "tags": []
   },
   "source": [
    "## Вывод"
   ]
  },
  {
   "cell_type": "markdown",
   "metadata": {
    "tags": []
   },
   "source": [
    "Сбалансированные с помощью upsampling модели дали следующие рузультаты: \n",
    "* Логистическая регрессия: F1-мера на тестовой выборке = 0.5223, Площадь под ROC-кривой = 0.7813;\n",
    "* Случайный лес: F1-мера на тестовой выборке = 0.6256, Площадь под ROC-кривой = 0.8572;\n",
    "* K-ближайших соседей: F1-мера на тестовой выборке = 0.481, Площадь под ROC-кривой = 0.7042.\n",
    "\n",
    "Однако:\n",
    "* Логистическая регрессия: Лучшая F1-мера при кросс-валидации = 0.6481320345141672\n",
    "* Случайный лес: Лучшая F1-мера при кросс-валидации = 0.9047696856178536\n",
    "* K-ближайших соседей: Лучшая F1-мера при кросс-валидации = 0.9148062840625907\n",
    "\n",
    "из того что F1-меры для кросс-валидации значительно больше F1-мер на тестовых выборках следует, что в случае балансирования с помощью upsampling переобучение модели было значительно сильнее чем в предыдущих вариантах."
   ]
  },
  {
   "cell_type": "markdown",
   "metadata": {},
   "source": [
    "## Downsampling\n",
    "\n",
    "Будет проводиться при помощи следующей функции:"
   ]
  },
  {
   "cell_type": "code",
   "execution_count": 24,
   "metadata": {},
   "outputs": [],
   "source": [
    "def downsample(features, target, fraction):\n",
    "    features_zeros = features[target == 0]\n",
    "    features_ones = features[target == 1]\n",
    "    target_zeros = target[target == 0]\n",
    "    target_ones = target[target == 1]\n",
    "\n",
    "    features_downsampled = pd.concat(\n",
    "        [features_zeros.sample(frac=fraction, random_state=24)] + [features_ones])\n",
    "    target_downsampled = pd.concat(\n",
    "        [target_zeros.sample(frac=fraction, random_state=24)] + [target_ones])\n",
    "    \n",
    "    features_downsampled, target_downsampled = shuffle(\n",
    "        features_downsampled, target_downsampled, random_state=24)\n",
    "    \n",
    "    return features_downsampled, target_downsampled\n",
    "\n",
    "features_downsampled, target_downsampled = downsample(features_train, target_train, 1/3)"
   ]
  },
  {
   "cell_type": "markdown",
   "metadata": {},
   "source": [
    "### Логистическая регрессия"
   ]
  },
  {
   "cell_type": "code",
   "execution_count": 25,
   "metadata": {},
   "outputs": [
    {
     "name": "stdout",
     "output_type": "stream",
     "text": [
      "Лучшая F1-мера при кросс-валидации = 0.6286878892108173\n",
      "Лучшие гиперпараметры: {'C': 4366.723868659863}\n"
     ]
    },
    {
     "data": {
      "image/png": "[encoded data removed]",
      "text/plain": [
       "<Figure size 576x576 with 1 Axes>"
      ]
     },
     "metadata": {
      "needs_background": "light"
     },
     "output_type": "display_data"
    },
    {
     "name": "stdout",
     "output_type": "stream",
     "text": [
      "F1-мера на тестовой выборке = 0.5026\n",
      "Площадь под ROC-кривой = 0.7761\n"
     ]
    }
   ],
   "source": [
    "model = LogisticRegression(random_state=24)\n",
    "\n",
    "params = {}\n",
    "# params['solver'] = ['newton-cg', 'lbfgs', 'liblinear'] \n",
    "# params['penalty'] = ['none', 'l1', 'l2', 'elasticnet']\n",
    "params['C'] = stats.loguniform(1e-5, 10000)\n",
    "\n",
    "search = RandomizedSearchCV(model, params, n_iter=50, scoring='f1', n_jobs=-1, cv=cv, random_state=24)\n",
    "search.fit(features_downsampled, target_downsampled)\n",
    "search_scoring(search, features_test, 'ROC-кривая для модели логистической регрессии со сбалансированными классами')"
   ]
  },
  {
   "cell_type": "markdown",
   "metadata": {},
   "source": [
    "### Случайный лес"
   ]
  },
  {
   "cell_type": "code",
   "execution_count": 26,
   "metadata": {},
   "outputs": [
    {
     "name": "stdout",
     "output_type": "stream",
     "text": [
      "Лучшая F1-мера при кросс-валидации = 0.7308983609673941\n",
      "Лучшие гиперпараметры: {'bootstrap': True, 'max_depth': 27, 'min_samples_leaf': 0.0006443751729717477, 'min_samples_split': 0.0018930060498037454, 'n_estimators': 110}\n"
     ]
    },
    {
     "data": {
      "image/png": "[encoded data removed]",
      "text/plain": [
       "<Figure size 576x576 with 1 Axes>"
      ]
     },
     "metadata": {
      "needs_background": "light"
     },
     "output_type": "display_data"
    },
    {
     "name": "stdout",
     "output_type": "stream",
     "text": [
      "F1-мера на тестовой выборке = 0.6291\n",
      "Площадь под ROC-кривой = 0.8631\n"
     ]
    }
   ],
   "source": [
    "model = RandomForestClassifier(random_state=24)\n",
    "\n",
    "params = {}\n",
    "params['n_estimators'] = range(10, 201, 10)\n",
    "params['max_depth'] = range(1, 51, 2)\n",
    "params['min_samples_split'] = stats.loguniform(2e-4, 1e-1)\n",
    "params['min_samples_leaf'] = stats.loguniform(2e-4, 1e-1)\n",
    "params['bootstrap'] = [True, False]\n",
    "\n",
    "search = RandomizedSearchCV(model, params, n_iter=50, scoring='f1', n_jobs=-1, cv=cv, random_state=24)\n",
    "search.fit(features_downsampled, target_downsampled)\n",
    "\n",
    "search_scoring(search, features_test, 'ROC-кривая для модели случайного леса со сбалансированными классами')"
   ]
  },
  {
   "cell_type": "markdown",
   "metadata": {},
   "source": [
    "### K-ближайших соседей"
   ]
  },
  {
   "cell_type": "code",
   "execution_count": 27,
   "metadata": {},
   "outputs": [
    {
     "name": "stdout",
     "output_type": "stream",
     "text": [
      "Лучшая F1-мера при кросс-валидации = 0.6723837859060559\n",
      "Лучшие гиперпараметры: {'weights': 'distance', 'n_neighbors': 12}\n"
     ]
    },
    {
     "data": {
      "image/png": "[encoded data removed]",
      "text/plain": [
       "<Figure size 576x576 with 1 Axes>"
      ]
     },
     "metadata": {
      "needs_background": "light"
     },
     "output_type": "display_data"
    },
    {
     "name": "stdout",
     "output_type": "stream",
     "text": [
      "F1-мера на тестовой выборке = 0.5469\n",
      "Площадь под ROC-кривой = 0.8118\n"
     ]
    }
   ],
   "source": [
    "model = KNeighborsClassifier()\n",
    "\n",
    "params = {}\n",
    "params['n_neighbors'] = range(2, 30)\n",
    "params['weights'] = ['uniform', 'distance']\n",
    "\n",
    "search = RandomizedSearchCV(model, params, n_iter=50, scoring='f1', n_jobs=-1, cv=cv, random_state=24)\n",
    "search.fit(features_downsampled, target_downsampled)\n",
    "\n",
    "search_scoring(search, features_test, 'ROC-кривая для модели k-ближайших соседей со сбалансированными классами')"
   ]
  },
  {
   "cell_type": "markdown",
   "metadata": {
    "tags": []
   },
   "source": [
    "## Вывод"
   ]
  },
  {
   "cell_type": "markdown",
   "metadata": {
    "tags": []
   },
   "source": [
    "Сбалансированные с помощью downsampling модели дали следующие рузультаты: \n",
    "* Логистическая регрессия: F1-мера на тестовой выборке = 0.5308, Площадь под ROC-кривой = 0.7808;\n",
    "* Случайный лес: F1-мера на тестовой выборке = 0.6291, Площадь под ROC-кривой = 0.8631;\n",
    "* K-ближайших соседей: F1-мера на тестовой выборке = 0.5469, Площадь под ROC-кривой = 0.8118.\n",
    "\n",
    "В отличие от метода upsampling в downsampling переобучение не так сильно:\n",
    "* Логистическая регрессия: Лучшая F1-мера при кросс-валидации = 0.6790603444238992;\n",
    "* Случайный лес: Лучшая F1-мера при кросс-валидации = 0.7308983609673941;\n",
    "* K-ближайших соседей: Лучшая F1-мера при кросс-валидации = 0.6723837859060559."
   ]
  },
  {
   "cell_type": "markdown",
   "metadata": {
    "tags": []
   },
   "source": [
    "# Сравнение моделей"
   ]
  },
  {
   "cell_type": "markdown",
   "metadata": {
    "tags": []
   },
   "source": [
    "## Логистическая регрессия"
   ]
  },
  {
   "cell_type": "markdown",
   "metadata": {
    "tags": []
   },
   "source": [
    "Несбалансированная:\n",
    "* F1-мера при кросс-валидации = 0.3095562516529319\n",
    "* F1-мера на тестовой выборке = 0.2952;\n",
    "* Площадь под ROC-кривой = 0.7735.\n",
    "\n",
    "Class_weight='balanced':\n",
    "* Лучшая F1-мера при кросс-валидации = 0.4878376724028215;\n",
    "* F1-мера на тестовой выборке = 0.5096;\n",
    "* Площадь под ROC-кривой = 0.7775.\n",
    "\n",
    "Upsamle:\n",
    "* Лучшая F1-мера при кросс-валидации = 0.6481320345141672;\n",
    "* F1-мера на тестовой выборке = 0.5223;\n",
    "* Площадь под ROC-кривой = 0.7813. **Наибольшая AUC-ROC**\n",
    "\n",
    "Downsample:\n",
    "* Лучшая F1-мера при кросс-валидации = 0.6790603444238992;\n",
    "* F1-мера на тестовой выборке = 0.5308; **Наибольшая F1-мера**\n",
    "* Площадь под ROC-кривой = 0.7808."
   ]
  },
  {
   "cell_type": "markdown",
   "metadata": {
    "tags": []
   },
   "source": [
    "## Случайный лес"
   ]
  },
  {
   "cell_type": "markdown",
   "metadata": {
    "jp-MarkdownHeadingCollapsed": true,
    "tags": []
   },
   "source": [
    "Несбалансированная:\n",
    "* Лучшая F1-мера при кросс валидации = 0.5741938789251559;\n",
    "* F1-мера на тестовой выборке = 0.5657;\n",
    "* Площадь под ROC-кривой = 0.861.\n",
    "\n",
    "Class_weight='balanced':\n",
    "* Лучшая F1-мера при кросс-валидации = 0.6199709544589651;\n",
    "* F1-мера на тестовой выборке = 0.6399; **Наибольшая F1-мера**\n",
    "* Площадь под ROC-кривой = 0.8622.\n",
    "\n",
    "Upsamle:\n",
    "* Лучшая F1-мера при кросс-валидации = 0.9047696856178536;\n",
    "* F1-мера на тестовой выборке = 0.6256; \n",
    "* Площадь под ROC-кривой = 0.8572. \n",
    "\n",
    "Downsample:\n",
    "* Лучшая F1-мера при кросс-валидации = 0.7308983609673941;\n",
    "* F1-мера на тестовой выборке = 0.6291;\n",
    "* Площадь под ROC-кривой = 0.8631. **Наибольшая AUC-ROC**"
   ]
  },
  {
   "cell_type": "markdown",
   "metadata": {
    "tags": []
   },
   "source": [
    "## K-ближайших соседей"
   ]
  },
  {
   "cell_type": "markdown",
   "metadata": {
    "tags": []
   },
   "source": [
    "Лучшая F1-мера при кросс-валидации = 0.6188007494570889\n",
    "Лучшие гиперпараметры: {'bootstrap': True, 'max_depth': 27, 'min_samples_leaf': 0.0006443751729717477, 'min_samples_split': 0.0018930060498037454, 'n_estimators': 110}\n",
    "\n",
    "F1-мера на тестовой выборке = 0.6399\n",
    "Площадь под ROC-кривой = 0.8622\n",
    "Несбалансированная:\n",
    "* Лучшая F1-мера при кросс-валидации = 0.4693695969142278;\n",
    "* F1-мера на тестовой выборке = 0.4746;\n",
    "* Площадь под ROC-кривой = 0.7512.\n",
    "\n",
    "Class_weight='balanced':\n",
    "* не предполагает балансировки весов классов.\n",
    "\n",
    "Upsamle:\n",
    "* Лучшая F1-мера при кросс-валидации = 0.9148062840625907;\n",
    "* F1-мера на тестовой выборке = 0.481; **Наибольшая F1-мера**\n",
    "* Площадь под ROC-кривой = 0.7042. \n",
    "\n",
    "Downsample:\n",
    "* Лучшая F1-мера при кросс-валидации = 0.6723837859060559;\n",
    "* F1-мера на тестовой выборке = 0.5469;\n",
    "* Площадь под ROC-кривой = 0.8118. **Наибольшая AUC-ROC**"
   ]
  },
  {
   "cell_type": "markdown",
   "metadata": {},
   "source": [
    "# Общий вывод"
   ]
  },
  {
   "cell_type": "markdown",
   "metadata": {},
   "source": [
    "Лучшей моделью и по показателю F1-меры, и по AUC-ROC оказался случайный лес, для которого классы были сбалансированны по весам встроенным параметром class_weight.\n",
    "\n",
    "Его результаты на тестовой выборке: F1-мера = 0.6399, Площадь под ROC-кривой = 0.8622.\n",
    "\n",
    "Его гиперпараметры: {'bootstrap': True, 'max_depth': 27, 'min_samples_leaf': 0.0006443751729717477, 'min_samples_split': 0.0018930060498037454, 'n_estimators': 110}\n",
    "\n",
    "Таким образом можно заключить что:\n",
    "1. Балансировка классов любым из методов позволяет получить лучшие показатели митрик F1-меры и AUC-ROC для всех испытанных моделей.\n",
    "2. Методы upsampling и downsampling дают немного меньший, но все же значительный прирост паказателей чем встроенный параметр модели class_weight='balanced'. И при этом способствуют переобучению модели."
   ]
  }
 ],
 "metadata": {
  "ExecuteTimeLog": [
   {
    "duration": 2629,
    "start_time": "2022-02-02T10:45:59.870Z"
   },
   {
    "duration": 1285,
    "start_time": "2022-02-02T10:46:02.502Z"
   },
   {
    "duration": 2220,
    "start_time": "2022-02-02T10:46:03.789Z"
   },
   {
    "duration": -852,
    "start_time": "2022-02-02T10:46:06.865Z"
   },
   {
    "duration": -856,
    "start_time": "2022-02-02T10:46:06.871Z"
   },
   {
    "duration": -861,
    "start_time": "2022-02-02T10:46:06.877Z"
   },
   {
    "duration": -863,
    "start_time": "2022-02-02T10:46:06.881Z"
   },
   {
    "duration": -866,
    "start_time": "2022-02-02T10:46:06.885Z"
   },
   {
    "duration": -868,
    "start_time": "2022-02-02T10:46:06.888Z"
   },
   {
    "duration": -872,
    "start_time": "2022-02-02T10:46:06.893Z"
   },
   {
    "duration": -874,
    "start_time": "2022-02-02T10:46:06.896Z"
   },
   {
    "duration": -876,
    "start_time": "2022-02-02T10:46:06.899Z"
   },
   {
    "duration": -879,
    "start_time": "2022-02-02T10:46:06.903Z"
   },
   {
    "duration": -883,
    "start_time": "2022-02-02T10:46:06.908Z"
   },
   {
    "duration": -884,
    "start_time": "2022-02-02T10:46:06.911Z"
   },
   {
    "duration": -886,
    "start_time": "2022-02-02T10:46:06.914Z"
   },
   {
    "duration": -887,
    "start_time": "2022-02-02T10:46:06.916Z"
   },
   {
    "duration": -886,
    "start_time": "2022-02-02T10:46:06.919Z"
   },
   {
    "duration": -886,
    "start_time": "2022-02-02T10:46:06.922Z"
   },
   {
    "duration": -891,
    "start_time": "2022-02-02T10:46:06.928Z"
   },
   {
    "duration": -903,
    "start_time": "2022-02-02T10:46:06.943Z"
   },
   {
    "duration": -904,
    "start_time": "2022-02-02T10:46:06.946Z"
   },
   {
    "duration": -904,
    "start_time": "2022-02-02T10:46:06.949Z"
   },
   {
    "duration": -908,
    "start_time": "2022-02-02T10:46:06.954Z"
   },
   {
    "duration": -910,
    "start_time": "2022-02-02T10:46:06.958Z"
   },
   {
    "duration": -913,
    "start_time": "2022-02-02T10:46:06.962Z"
   },
   {
    "duration": -914,
    "start_time": "2022-02-02T10:46:06.965Z"
   },
   {
    "duration": 2598,
    "start_time": "2022-02-02T10:46:27.450Z"
   },
   {
    "duration": 1283,
    "start_time": "2022-02-02T10:46:30.051Z"
   },
   {
    "duration": 217,
    "start_time": "2022-02-02T10:46:31.337Z"
   },
   {
    "duration": 5,
    "start_time": "2022-02-02T10:46:31.557Z"
   },
   {
    "duration": 52,
    "start_time": "2022-02-02T10:46:31.563Z"
   },
   {
    "duration": 230,
    "start_time": "2022-02-02T10:46:31.618Z"
   },
   {
    "duration": 10,
    "start_time": "2022-02-02T10:46:31.850Z"
   },
   {
    "duration": 251,
    "start_time": "2022-02-02T10:46:31.863Z"
   },
   {
    "duration": 21,
    "start_time": "2022-02-02T10:46:32.117Z"
   },
   {
    "duration": 32,
    "start_time": "2022-02-02T10:46:32.140Z"
   },
   {
    "duration": 36,
    "start_time": "2022-02-02T10:46:32.173Z"
   },
   {
    "duration": 37,
    "start_time": "2022-02-02T10:46:32.212Z"
   },
   {
    "duration": 14,
    "start_time": "2022-02-02T10:46:32.252Z"
   },
   {
    "duration": 8,
    "start_time": "2022-02-02T10:46:32.269Z"
   },
   {
    "duration": 458854,
    "start_time": "2022-02-02T10:46:32.279Z"
   },
   {
    "duration": 761740,
    "start_time": "2022-02-02T10:54:11.135Z"
   },
   {
    "duration": 159202,
    "start_time": "2022-02-02T11:06:52.877Z"
   },
   {
    "duration": 454644,
    "start_time": "2022-02-02T11:09:32.081Z"
   },
   {
    "duration": 204279,
    "start_time": "2022-02-02T11:17:06.726Z"
   },
   {
    "duration": 18,
    "start_time": "2022-02-02T11:20:31.010Z"
   },
   {
    "duration": 2497,
    "start_time": "2022-02-02T11:23:15.425Z"
   },
   {
    "duration": 1235,
    "start_time": "2022-02-02T11:23:17.924Z"
   },
   {
    "duration": 159,
    "start_time": "2022-02-02T11:23:19.163Z"
   },
   {
    "duration": 5,
    "start_time": "2022-02-02T11:23:19.324Z"
   },
   {
    "duration": 26,
    "start_time": "2022-02-02T11:23:19.331Z"
   },
   {
    "duration": 202,
    "start_time": "2022-02-02T11:23:19.359Z"
   },
   {
    "duration": 10,
    "start_time": "2022-02-02T11:23:19.563Z"
   },
   {
    "duration": 218,
    "start_time": "2022-02-02T11:23:19.576Z"
   },
   {
    "duration": 22,
    "start_time": "2022-02-02T11:23:19.796Z"
   },
   {
    "duration": 34,
    "start_time": "2022-02-02T11:23:19.820Z"
   },
   {
    "duration": 11,
    "start_time": "2022-02-02T11:23:19.856Z"
   },
   {
    "duration": 65,
    "start_time": "2022-02-02T11:23:19.870Z"
   },
   {
    "duration": 12,
    "start_time": "2022-02-02T11:23:19.938Z"
   },
   {
    "duration": 6,
    "start_time": "2022-02-02T11:23:19.952Z"
   },
   {
    "duration": 19,
    "start_time": "2022-02-02T11:23:37.205Z"
   },
   {
    "duration": 17,
    "start_time": "2022-02-02T11:23:41.206Z"
   },
   {
    "duration": 4,
    "start_time": "2022-02-02T11:40:41.974Z"
   },
   {
    "duration": 1484,
    "start_time": "2022-02-02T11:40:41.981Z"
   },
   {
    "duration": 139,
    "start_time": "2022-02-02T11:40:43.467Z"
   },
   {
    "duration": 4,
    "start_time": "2022-02-02T11:40:43.608Z"
   },
   {
    "duration": 28,
    "start_time": "2022-02-02T11:40:43.614Z"
   },
   {
    "duration": 193,
    "start_time": "2022-02-02T11:40:43.644Z"
   },
   {
    "duration": 21,
    "start_time": "2022-02-02T11:40:43.839Z"
   },
   {
    "duration": 182,
    "start_time": "2022-02-02T11:40:43.862Z"
   },
   {
    "duration": 16,
    "start_time": "2022-02-02T11:40:44.047Z"
   },
   {
    "duration": 24,
    "start_time": "2022-02-02T11:40:44.066Z"
   },
   {
    "duration": 8,
    "start_time": "2022-02-02T11:40:44.092Z"
   },
   {
    "duration": 17,
    "start_time": "2022-02-02T11:40:44.102Z"
   },
   {
    "duration": 6,
    "start_time": "2022-02-02T11:40:44.121Z"
   },
   {
    "duration": 33,
    "start_time": "2022-02-02T11:40:44.129Z"
   },
   {
    "duration": 224608,
    "start_time": "2022-02-02T11:40:44.164Z"
   },
   {
    "duration": 602486,
    "start_time": "2022-02-02T11:44:28.774Z"
   },
   {
    "duration": 142065,
    "start_time": "2022-02-02T11:54:31.262Z"
   },
   {
    "duration": 226051,
    "start_time": "2022-02-02T11:56:53.328Z"
   },
   {
    "duration": 588457,
    "start_time": "2022-02-02T12:00:39.380Z"
   },
   {
    "duration": 30,
    "start_time": "2022-02-02T12:10:27.839Z"
   },
   {
    "duration": 269236,
    "start_time": "2022-02-02T12:10:27.871Z"
   },
   {
    "duration": 811960,
    "start_time": "2022-02-02T12:14:57.109Z"
   },
   {
    "duration": 246836,
    "start_time": "2022-02-02T12:28:29.071Z"
   },
   {
    "duration": 10,
    "start_time": "2022-02-02T12:32:35.909Z"
   },
   {
    "duration": 12592,
    "start_time": "2022-02-02T12:32:35.921Z"
   },
   {
    "duration": 348262,
    "start_time": "2022-02-02T12:32:48.514Z"
   },
   {
    "duration": 49862,
    "start_time": "2022-02-02T12:38:36.779Z"
   },
   {
    "duration": 68,
    "start_time": "2022-02-02T12:42:28.701Z"
   },
   {
    "duration": 54,
    "start_time": "2022-02-02T12:50:10.671Z"
   },
   {
    "duration": 61,
    "start_time": "2022-02-02T13:03:31.961Z"
   },
   {
    "duration": 59,
    "start_time": "2022-02-02T13:16:49.978Z"
   },
   {
    "duration": 56,
    "start_time": "2022-02-02T13:27:43.801Z"
   },
   {
    "duration": 60,
    "start_time": "2022-02-02T13:47:23.624Z"
   },
   {
    "duration": 53,
    "start_time": "2022-02-02T13:49:54.232Z"
   },
   {
    "duration": 67,
    "start_time": "2022-02-02T13:56:12.882Z"
   },
   {
    "duration": 64,
    "start_time": "2022-02-02T14:00:57.892Z"
   },
   {
    "duration": 62,
    "start_time": "2022-02-02T14:08:04.144Z"
   },
   {
    "duration": 62,
    "start_time": "2022-02-02T14:16:04.299Z"
   },
   {
    "duration": 121,
    "start_time": "2022-02-02T14:17:23.662Z"
   }
  ],
  "kernelspec": {
   "display_name": "Python 3",
   "language": "python",
   "name": "python3"
  },
  "language_info": {
   "codemirror_mode": {
    "name": "ipython",
    "version": 3
   },
   "file_extension": ".py",
   "mimetype": "text/x-python",
   "name": "python",
   "nbconvert_exporter": "python",
   "pygments_lexer": "ipython3",
   "version": "3.8.8"
  },
  "toc": {
   "base_numbering": 1,
   "nav_menu": {},
   "number_sections": true,
   "sideBar": true,
   "skip_h1_title": true,
   "title_cell": "Содержание",
   "title_sidebar": "Contents",
   "toc_cell": true,
   "toc_position": {},
   "toc_section_display": true,
   "toc_window_display": false
  }
 },
 "nbformat": 4,
 "nbformat_minor": 4
}
