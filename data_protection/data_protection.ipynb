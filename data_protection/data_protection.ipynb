{
 "cells": [
  {
   "cell_type": "markdown",
   "metadata": {},
   "source": [
    "# Защита персональных данных клиентов"
   ]
  },
  {
   "cell_type": "markdown",
   "metadata": {},
   "source": [
    "Вам нужно защитить данные клиентов страховой компании «Хоть потоп». Разработайте такой метод преобразования данных, чтобы по ним было сложно восстановить персональную информацию. Обоснуйте корректность его работы.\n",
    "\n",
    "Нужно защитить данные, чтобы при преобразовании качество моделей машинного обучения не ухудшилось. Подбирать наилучшую модель не требуется."
   ]
  },
  {
   "cell_type": "markdown",
   "metadata": {},
   "source": [
    "# Импорт библиотек"
   ]
  },
  {
   "cell_type": "code",
   "execution_count": 1,
   "metadata": {},
   "outputs": [],
   "source": [
    "import pandas as pd\n",
    "\n",
    "from sklearn.linear_model import LinearRegression\n",
    "from sklearn.model_selection import train_test_split\n",
    "from sklearn.preprocessing import StandardScaler\n",
    "from sklearn.pipeline import Pipeline\n",
    "from sklearn.metrics import mean_absolute_error\n",
    "\n",
    "import numpy as np"
   ]
  },
  {
   "cell_type": "markdown",
   "metadata": {},
   "source": [
    "# Загрузка данных"
   ]
  },
  {
   "cell_type": "markdown",
   "metadata": {},
   "source": [
    "**Описание данных**\n",
    "\n",
    "Признаки: пол, возраст и зарплата застрахованного, количество членов его семьи.\n",
    "\n",
    "Целевой признак: количество страховых выплат клиенту за последние 5 лет."
   ]
  },
  {
   "cell_type": "code",
   "execution_count": 2,
   "metadata": {},
   "outputs": [
    {
     "name": "stdout",
     "output_type": "stream",
     "text": [
      "<class 'pandas.core.frame.DataFrame'>\n",
      "RangeIndex: 5000 entries, 0 to 4999\n",
      "Data columns (total 5 columns):\n",
      " #   Column             Non-Null Count  Dtype  \n",
      "---  ------             --------------  -----  \n",
      " 0   Пол                5000 non-null   int64  \n",
      " 1   Возраст            5000 non-null   float64\n",
      " 2   Зарплата           5000 non-null   float64\n",
      " 3   Члены семьи        5000 non-null   int64  \n",
      " 4   Страховые выплаты  5000 non-null   int64  \n",
      "dtypes: float64(2), int64(3)\n",
      "memory usage: 195.4 KB\n",
      "None\n",
      "               Пол      Возраст      Зарплата  Члены семьи  Страховые выплаты\n",
      "count  5000.000000  5000.000000   5000.000000  5000.000000        5000.000000\n",
      "mean      0.499000    30.952800  39916.360000     1.194200           0.148000\n",
      "std       0.500049     8.440807   9900.083569     1.091387           0.463183\n",
      "min       0.000000    18.000000   5300.000000     0.000000           0.000000\n",
      "25%       0.000000    24.000000  33300.000000     0.000000           0.000000\n",
      "50%       0.000000    30.000000  40200.000000     1.000000           0.000000\n",
      "75%       1.000000    37.000000  46600.000000     2.000000           0.000000\n",
      "max       1.000000    65.000000  79000.000000     6.000000           5.000000\n"
     ]
    },
    {
     "data": {
      "text/html": [
       "<div>\n",
       "<style scoped>\n",
       "    .dataframe tbody tr th:only-of-type {\n",
       "        vertical-align: middle;\n",
       "    }\n",
       "\n",
       "    .dataframe tbody tr th {\n",
       "        vertical-align: top;\n",
       "    }\n",
       "\n",
       "    .dataframe thead th {\n",
       "        text-align: right;\n",
       "    }\n",
       "</style>\n",
       "<table border=\"1\" class=\"dataframe\">\n",
       "  <thead>\n",
       "    <tr style=\"text-align: right;\">\n",
       "      <th></th>\n",
       "      <th>Пол</th>\n",
       "      <th>Возраст</th>\n",
       "      <th>Зарплата</th>\n",
       "      <th>Члены семьи</th>\n",
       "      <th>Страховые выплаты</th>\n",
       "    </tr>\n",
       "  </thead>\n",
       "  <tbody>\n",
       "    <tr>\n",
       "      <th>0</th>\n",
       "      <td>1</td>\n",
       "      <td>41.0</td>\n",
       "      <td>49600.0</td>\n",
       "      <td>1</td>\n",
       "      <td>0</td>\n",
       "    </tr>\n",
       "    <tr>\n",
       "      <th>1</th>\n",
       "      <td>0</td>\n",
       "      <td>46.0</td>\n",
       "      <td>38000.0</td>\n",
       "      <td>1</td>\n",
       "      <td>1</td>\n",
       "    </tr>\n",
       "    <tr>\n",
       "      <th>2</th>\n",
       "      <td>0</td>\n",
       "      <td>29.0</td>\n",
       "      <td>21000.0</td>\n",
       "      <td>0</td>\n",
       "      <td>0</td>\n",
       "    </tr>\n",
       "    <tr>\n",
       "      <th>3</th>\n",
       "      <td>0</td>\n",
       "      <td>21.0</td>\n",
       "      <td>41700.0</td>\n",
       "      <td>2</td>\n",
       "      <td>0</td>\n",
       "    </tr>\n",
       "    <tr>\n",
       "      <th>4</th>\n",
       "      <td>1</td>\n",
       "      <td>28.0</td>\n",
       "      <td>26100.0</td>\n",
       "      <td>0</td>\n",
       "      <td>0</td>\n",
       "    </tr>\n",
       "    <tr>\n",
       "      <th>5</th>\n",
       "      <td>1</td>\n",
       "      <td>43.0</td>\n",
       "      <td>41000.0</td>\n",
       "      <td>2</td>\n",
       "      <td>1</td>\n",
       "    </tr>\n",
       "    <tr>\n",
       "      <th>6</th>\n",
       "      <td>1</td>\n",
       "      <td>39.0</td>\n",
       "      <td>39700.0</td>\n",
       "      <td>2</td>\n",
       "      <td>0</td>\n",
       "    </tr>\n",
       "    <tr>\n",
       "      <th>7</th>\n",
       "      <td>1</td>\n",
       "      <td>25.0</td>\n",
       "      <td>38600.0</td>\n",
       "      <td>4</td>\n",
       "      <td>0</td>\n",
       "    </tr>\n",
       "    <tr>\n",
       "      <th>8</th>\n",
       "      <td>1</td>\n",
       "      <td>36.0</td>\n",
       "      <td>49700.0</td>\n",
       "      <td>1</td>\n",
       "      <td>0</td>\n",
       "    </tr>\n",
       "    <tr>\n",
       "      <th>9</th>\n",
       "      <td>1</td>\n",
       "      <td>32.0</td>\n",
       "      <td>51700.0</td>\n",
       "      <td>1</td>\n",
       "      <td>0</td>\n",
       "    </tr>\n",
       "  </tbody>\n",
       "</table>\n",
       "</div>"
      ],
      "text/plain": [
       "   Пол  Возраст  Зарплата  Члены семьи  Страховые выплаты\n",
       "0    1     41.0   49600.0            1                  0\n",
       "1    0     46.0   38000.0            1                  1\n",
       "2    0     29.0   21000.0            0                  0\n",
       "3    0     21.0   41700.0            2                  0\n",
       "4    1     28.0   26100.0            0                  0\n",
       "5    1     43.0   41000.0            2                  1\n",
       "6    1     39.0   39700.0            2                  0\n",
       "7    1     25.0   38600.0            4                  0\n",
       "8    1     36.0   49700.0            1                  0\n",
       "9    1     32.0   51700.0            1                  0"
      ]
     },
     "metadata": {},
     "output_type": "display_data"
    }
   ],
   "source": [
    "df = pd.read_csv('insurance.csv')\n",
    "print(df.info())\n",
    "print(df.describe())\n",
    "display(df.head(10))"
   ]
  },
  {
   "cell_type": "markdown",
   "metadata": {},
   "source": [
    "Пропусков нет, откровенных выбросов нет."
   ]
  },
  {
   "cell_type": "code",
   "execution_count": 3,
   "metadata": {},
   "outputs": [],
   "source": [
    "# Разбивка на признаки и целевой признак\n",
    "X = df.drop('Страховые выплаты', axis=1)\n",
    "y = df['Страховые выплаты']"
   ]
  },
  {
   "cell_type": "markdown",
   "metadata": {},
   "source": [
    "# Умножение матриц"
   ]
  },
  {
   "cell_type": "markdown",
   "metadata": {},
   "source": [
    "В этом задании вы можете записывать формулы в *Jupyter Notebook.*\n",
    "\n",
    "Чтобы записать формулу внутри текста, окружите её символами доллара \\\\$; если снаружи —  двойными символами \\\\$\\\\$. Эти формулы записываются на языке вёрстки *LaTeX.* \n",
    "\n",
    "Для примера мы записали формулы линейной регрессии. Можете их скопировать и отредактировать, чтобы решить задачу.\n",
    "\n",
    "Работать в *LaTeX* необязательно."
   ]
  },
  {
   "cell_type": "markdown",
   "metadata": {},
   "source": [
    "Обозначения:\n",
    "\n",
    "- $X$ — матрица признаков (нулевой столбец состоит из единиц)\n",
    "\n",
    "- $y$ — вектор целевого признака\n",
    "\n",
    "- $P$ — матрица, на которую умножаются признаки\n",
    "\n",
    "- $w$ — вектор весов линейной регрессии (нулевой элемент равен сдвигу)\n",
    "\n",
    "- $w_{ciphered}$ — вектор весов линейной регрессии после шифровки (нулевой элемент равен сдвигу)\n",
    "\n",
    "- $a$ — вектор предсказания"
   ]
  },
  {
   "cell_type": "markdown",
   "metadata": {},
   "source": [
    "Предсказания:\n",
    "\n",
    "$$\n",
    "a = Xw\n",
    "$$\n",
    "\n",
    "Задача обучения:\n",
    "\n",
    "$$\n",
    "w = \\arg\\min_w MSE(Xw, y)\n",
    "$$\n",
    "\n",
    "Формула обучения:\n",
    "\n",
    "$$\n",
    "w = (X^T X)^{-1} X^T y\n",
    "$$"
   ]
  },
  {
   "cell_type": "markdown",
   "metadata": {},
   "source": [
    "**Вопрос:** Признаки умножают на обратимую матрицу. Изменится ли качество линейной регрессии? (Её можно обучить заново.)\n",
    "\n",
    "**Ответ:** Нет.\n",
    "\n",
    "**Обоснование:** Поскольку качество линейной регрессии в данной задаче измеряется метрикой R2, то необходимо построить две модели линейной регрессии в одну дать оригинальные данные, в другую зашифрованные и сравнить их метрики R2 на тестовой выборке."
   ]
  },
  {
   "cell_type": "markdown",
   "metadata": {},
   "source": [
    "**Алгебраическое доказательство:**"
   ]
  },
  {
   "cell_type": "markdown",
   "metadata": {},
   "source": [
    "$$\n",
    "w' = ((XP)^T XP)^{-1} (XP)^T y\n",
    "$$\n",
    "$$\n",
    "w' = (P^T (X^T X) P)^{-1} (XP)^T y\n",
    "$$\n",
    "$$\n",
    "w' = (P^T (X^T X) P)^{-1} P^T X^T y\n",
    "$$\n",
    "$$\n",
    "w' = P^{-1} (X^T X)^{-1} (P^T)^{-1} P^T X^T y\n",
    "$$\n",
    "$$\n",
    "w' = P^{-1} (X^T X)^{-1} X^T y\n",
    "$$\n",
    "$$\n",
    "w' = P^{-1} w\n",
    "$$"
   ]
  },
  {
   "cell_type": "markdown",
   "metadata": {},
   "source": [
    "**Практическое доказательство:**"
   ]
  },
  {
   "cell_type": "markdown",
   "metadata": {},
   "source": [
    "Поскольку из матрицы признаков необходимо после умножения получить матрицу того же размера что и оригинальная матрица, то будем умножать на квадратную матрицу размером 4х4 (у нас 4 признака).\n",
    "\n",
    "Создадим случайную обратимую матрицу 4х4."
   ]
  },
  {
   "cell_type": "code",
   "execution_count": 4,
   "metadata": {},
   "outputs": [],
   "source": [
    "rng = np.random.default_rng(24)\n",
    "key = rng.normal(0, 1, size=(4, 4))\n",
    "while True:\n",
    "    if np.linalg.det(key) == 0: # Проверка на обратимость\n",
    "        key = rng.normal(0, 1, size=(4, 4))\n",
    "    else: break"
   ]
  },
  {
   "cell_type": "markdown",
   "metadata": {},
   "source": [
    "С помощью перемножения на созданную случайную матрицу зашифруем данные."
   ]
  },
  {
   "cell_type": "code",
   "execution_count": 5,
   "metadata": {},
   "outputs": [],
   "source": [
    "X_ciphered = pd.DataFrame(X @ key)\n",
    "X_ciphered.columns = X.columns"
   ]
  },
  {
   "cell_type": "markdown",
   "metadata": {},
   "source": [
    "Разобъем датафрейм на обучающую и тестовую выборки."
   ]
  },
  {
   "cell_type": "code",
   "execution_count": 6,
   "metadata": {},
   "outputs": [],
   "source": [
    "X_train, X_test, X_ciphered_train, X_ciphered_test, y_train, y_test = train_test_split(X, X_ciphered, y, test_size=0.2, random_state=24)"
   ]
  },
  {
   "cell_type": "markdown",
   "metadata": {},
   "source": [
    "И прогоним через модели."
   ]
  },
  {
   "cell_type": "code",
   "execution_count": 7,
   "metadata": {},
   "outputs": [
    {
     "name": "stdout",
     "output_type": "stream",
     "text": [
      "\n",
      "R2 для оригинальных данных = 0.37533999845221444, R2 для зашифрованных данных = 0.375339998452203, разница между ними = 1.1435297153639112e-14\n",
      "MAE между предсказаниями на оригинальных данных и предсказаниями на шифрованных данных = 1.2380603486850107e-13\n",
      "\n"
     ]
    }
   ],
   "source": [
    "pipe = Pipeline([ # Тут можно было просто подствить все в LinearRegression модель, но я раньше не пользовался пайплайном и мне хотелось попробовать.\n",
    "    ('scaler', StandardScaler()), # Не влияет на полученные метрики\n",
    "    ('model', LinearRegression())\n",
    "])\n",
    "\n",
    "pipe.fit(X_train, y_train) # Предсказание по оригинальным данным\n",
    "R2 = pipe.score(X_test, y_test)\n",
    "predicted = pipe.predict(X_test)\n",
    "\n",
    "pipe.fit(X_ciphered_train, y_train) # Предсказание по шифрованным данным\n",
    "R2_ciphered = pipe.score(X_ciphered_test, y_test)\n",
    "predicted_ciphered = pipe.predict(X_ciphered_test)\n",
    "\n",
    "print(f'''\n",
    "R2 для оригинальных данных = {R2}, R2 для зашифрованных данных = {R2_ciphered}, разница между ними = {R2 - R2_ciphered}\n",
    "MAE между предсказаниями на оригинальных данных и предсказаниями на шифрованных данных = {mean_absolute_error(predicted, predicted_ciphered)}\n",
    "''')"
   ]
  },
  {
   "cell_type": "markdown",
   "metadata": {},
   "source": [
    "Судя по крайне низкой разнице между метриками R2, и по более чем скромной величине MAE эти модели очень близки друг другу по качеству.\n",
    "\n",
    "---"
   ]
  },
  {
   "cell_type": "markdown",
   "metadata": {},
   "source": [
    "Из любопытства по формуле $w = (X^T X)^{-1} X^T y$ проверим как поменяются коэффициенты будущей линейной регрессии."
   ]
  },
  {
   "cell_type": "code",
   "execution_count": 8,
   "metadata": {},
   "outputs": [
    {
     "name": "stdout",
     "output_type": "stream",
     "text": [
      "w = [-4.62638950e-02  2.40537650e-02 -1.21177835e-05 -4.70494952e-02], w после шифровки = [-0.04557396 -0.04312553 -0.02421157 -0.01033225]\n"
     ]
    }
   ],
   "source": [
    "w = np.linalg.inv(X_train.T @ X_train) @ X_train.T @ y_train\n",
    "w_ciphered = np.linalg.inv(X_ciphered_train.T @ X_ciphered_train) @ X_ciphered_train.T @ y_train\n",
    "print(f'w = {w.values}, w после шифровки = {w_ciphered.values}')"
   ]
  },
  {
   "cell_type": "markdown",
   "metadata": {},
   "source": [
    "Параметры линейной регрессии в исходной задаче и в преобразованной связаны следующим образом:\n",
    "\n",
    "Поскольку $a = XPw_{ciphered}$ и $a = Xw$, то их можно привести к одному уравнению: $XPw_{ciphered} = Xw$, которое после преобразования примет вид: $w_{ciphered} = P^{-1}w$\n",
    "\n",
    "Проверим полученную формулу с помошью рассчета:"
   ]
  },
  {
   "cell_type": "code",
   "execution_count": 9,
   "metadata": {},
   "outputs": [
    {
     "name": "stdout",
     "output_type": "stream",
     "text": [
      "w при расчете через альтернативную формулу = [-0.04557388 -0.04312548 -0.02421157 -0.01033228]\n"
     ]
    }
   ],
   "source": [
    "w_check = np.linalg.inv(key) @ w\n",
    "print(f'w при расчете через альтернативную формулу = {w_check}')"
   ]
  },
  {
   "cell_type": "markdown",
   "metadata": {},
   "source": [
    "Что примерно совпадает с ранее полученным результатом."
   ]
  },
  {
   "cell_type": "markdown",
   "metadata": {},
   "source": [
    "# Алгоритм преобразования"
   ]
  },
  {
   "cell_type": "markdown",
   "metadata": {},
   "source": [
    "**Алгоритм**\n",
    "\n",
    "..."
   ]
  },
  {
   "cell_type": "markdown",
   "metadata": {},
   "source": [
    "**Обоснование**\n",
    "\n",
    "..."
   ]
  },
  {
   "cell_type": "markdown",
   "metadata": {},
   "source": [
    "Алгоритм шифровки и его обоснование указаны выше, в пункте **Умножение матриц**.\n",
    "\n",
    "Но можно отметить, что для постоянства шифровки в качестве \"пароля\" можно применять seed, забрасываемый в код: `rng = np.random.default_rng(fill_me_with_your_seed)`. В моем случае пароль это число 24."
   ]
  },
  {
   "cell_type": "markdown",
   "metadata": {},
   "source": [
    "# Проверка алгоритма"
   ]
  },
  {
   "cell_type": "markdown",
   "metadata": {},
   "source": [
    "Алгоритм написан и проверен выше, в пункте **Умножение матриц**."
   ]
  }
 ],
 "metadata": {
  "ExecuteTimeLog": [
   {
    "duration": 1286,
    "start_time": "2022-03-15T16:36:23.501Z"
   },
   {
    "duration": 154,
    "start_time": "2022-03-15T16:36:24.790Z"
   },
   {
    "duration": 6,
    "start_time": "2022-03-15T16:36:26.130Z"
   },
   {
    "duration": 5,
    "start_time": "2022-03-15T16:43:33.849Z"
   },
   {
    "duration": 86,
    "start_time": "2022-03-15T16:43:34.587Z"
   },
   {
    "duration": 6,
    "start_time": "2022-03-15T16:43:36.006Z"
   },
   {
    "duration": 5,
    "start_time": "2022-03-15T16:43:40.785Z"
   },
   {
    "duration": 5,
    "start_time": "2022-03-15T16:43:41.356Z"
   },
   {
    "duration": 11,
    "start_time": "2022-03-15T16:43:42.048Z"
   },
   {
    "duration": 25,
    "start_time": "2022-03-15T16:43:42.513Z"
   },
   {
    "duration": 74,
    "start_time": "2022-03-15T16:43:43.000Z"
   },
   {
    "duration": 7,
    "start_time": "2022-03-15T16:43:43.326Z"
   },
   {
    "duration": 378,
    "start_time": "2022-03-16T03:14:38.067Z"
   },
   {
    "duration": 1353,
    "start_time": "2022-03-16T03:14:43.007Z"
   },
   {
    "duration": 173,
    "start_time": "2022-03-16T03:14:44.363Z"
   },
   {
    "duration": 6,
    "start_time": "2022-03-16T03:14:44.539Z"
   },
   {
    "duration": 8,
    "start_time": "2022-03-16T03:14:44.548Z"
   },
   {
    "duration": 6,
    "start_time": "2022-03-16T03:14:44.558Z"
   },
   {
    "duration": 9,
    "start_time": "2022-03-16T03:14:44.566Z"
   },
   {
    "duration": 25,
    "start_time": "2022-03-16T03:14:44.577Z"
   },
   {
    "duration": 56,
    "start_time": "2022-03-16T03:14:44.605Z"
   },
   {
    "duration": 377,
    "start_time": "2022-03-16T03:14:45.995Z"
   },
   {
    "duration": 17,
    "start_time": "2022-03-16T03:15:14.934Z"
   },
   {
    "duration": 7,
    "start_time": "2022-03-16T03:15:23.973Z"
   },
   {
    "duration": 326,
    "start_time": "2022-03-16T03:15:56.072Z"
   },
   {
    "duration": 20,
    "start_time": "2022-03-16T03:17:04.907Z"
   },
   {
    "duration": 7,
    "start_time": "2022-03-16T03:21:30.963Z"
   }
  ],
  "kernelspec": {
   "display_name": "Python 3",
   "language": "python",
   "name": "python3"
  },
  "language_info": {
   "codemirror_mode": {
    "name": "ipython",
    "version": 3
   },
   "file_extension": ".py",
   "mimetype": "text/x-python",
   "name": "python",
   "nbconvert_exporter": "python",
   "pygments_lexer": "ipython3",
   "version": "3.8.8"
  },
  "toc": {
   "base_numbering": 1,
   "nav_menu": {},
   "number_sections": true,
   "sideBar": true,
   "skip_h1_title": true,
   "title_cell": "Содержание",
   "title_sidebar": "Contents",
   "toc_cell": true,
   "toc_position": {},
   "toc_section_display": true,
   "toc_window_display": true
  }
 },
 "nbformat": 4,
 "nbformat_minor": 4
}
