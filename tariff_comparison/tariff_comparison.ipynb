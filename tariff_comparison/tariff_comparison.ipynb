{
 "cells": [
  {
   "cell_type": "markdown",
   "id": "b7fd0c5c",
   "metadata": {},
   "source": [
    "# Описание проекта\n",
    "Клиентам компании «Мегалайн» предлагают два тарифных плана: «Смарт» и «Ультра». Чтобы скорректировать рекламный бюджет, коммерческий департамент хочет понять, какой тариф приносит больше денег.\n",
    "    \n",
    "Вам предстоит сделать предварительный анализ тарифов на небольшой выборке клиентов. В вашем распоряжении данные 500 пользователей «Мегалайна»: кто они, откуда, каким тарифом пользуются, сколько звонков и сообщений каждый отправил за 2018 год. Нужно проанализировать поведение клиентов и сделать вывод — какой тариф лучше."
   ]
  },
  {
   "cell_type": "markdown",
   "id": "26116fc4",
   "metadata": {},
   "source": [
    "# Задача\n",
    "Проверить гипотезы:\n",
    "- средняя выручка пользователей тарифов «Ультра» и «Смарт» различаются;\n",
    "- средняя выручка пользователей из Москвы отличается от выручки пользователей из других регионов."
   ]
  },
  {
   "cell_type": "markdown",
   "id": "ab7e205b",
   "metadata": {},
   "source": [
    "# Импорт библиотек"
   ]
  },
  {
   "cell_type": "code",
   "execution_count": 1,
   "id": "1260c7cc",
   "metadata": {},
   "outputs": [],
   "source": [
    "import pandas as pd\n",
    "pd.set_option('display.max_columns',None) # Убираем ограничение с ширины отображаемой таблицы\n",
    "import math\n",
    "from scipy import stats as st\n",
    "import matplotlib.pyplot as plt\n",
    "import numpy as np"
   ]
  },
  {
   "cell_type": "markdown",
   "id": "be525355",
   "metadata": {},
   "source": [
    "# Первичный осмотр\n",
    "\n",
    "**Описание данных:**\n",
    "\n",
    "*Таблица users (информация о пользователях):*\n",
    "- user_id — уникальный идентификатор пользователя\n",
    "- first_name — имя пользователя\n",
    "- last_name — фамилия пользователя\n",
    "- age — возраст пользователя (годы)\n",
    "- reg_date — дата подключения тарифа (день, месяц, год)\n",
    "- churn_date — дата прекращения пользования тарифом (если значение пропущено, то тариф ещё действовал на момент выгрузки данных)\n",
    "- city — город проживания пользователя\n",
    "- tarif — название тарифного плана\n",
    "\n",
    "*Таблица calls (информация о звонках):*\n",
    "- id — уникальный номер звонка\n",
    "- call_date — дата звонка\n",
    "- duration — длительность звонка в минутах\n",
    "- user_id — идентификатор пользователя, сделавшего звонок\n",
    "\n",
    "*Таблица messages (информация о сообщениях):*\n",
    "- id — уникальный номер сообщения\n",
    "- message_date — дата сообщения\n",
    "- user_id — идентификатор пользователя, отправившего сообщение\n",
    "\n",
    "*Таблица internet (информация об интернет-сессиях):*\n",
    "- id — уникальный номер сессии\n",
    "- mb_used — объём потраченного за сессию интернет-трафика (в мегабайтах)\n",
    "- session_date — дата интернет-сессии\n",
    "- user_id — идентификатор пользователя\n",
    "\n",
    "*Таблица tariffs (информация о тарифах):*\n",
    "- tariff_name — название тарифа\n",
    "- rub_monthly_fee — ежемесячная абонентская плата в рублях\n",
    "- minutes_included — количество минут разговора в месяц, включённых в абонентскую плату\n",
    "- messages_included — количество сообщений в месяц, включённых в абонентскую плату\n",
    "- mb_per_month_included — объём интернет-трафика, включённого в абонентскую плату (в мегабайтах)\n",
    "- rub_per_minute — стоимость минуты разговора сверх тарифного пакета (например, если в тарифе 100 минут разговора в месяц, то со 101 минуты будет взиматься плата)\n",
    "- rub_per_message — стоимость отправки сообщения сверх тарифного пакета\n",
    "- rub_per_gb — стоимость дополнительного гигабайта интернет-трафика сверх тарифного пакета (1 гигабайт = 1024 мегабайта)\n",
    "\n",
    "Прочитаем таблицы, и посмотрим их краткое описание с помощью функций `info()` и `describe()`."
   ]
  },
  {
   "cell_type": "code",
   "execution_count": 2,
   "id": "c941e91b",
   "metadata": {},
   "outputs": [],
   "source": [
    "calls = pd.read_csv('calls.csv')\n",
    "calls.name = 'Calls'\n",
    "internet = pd.read_csv('internet.csv')\n",
    "internet.name = 'Internet'\n",
    "messages = pd.read_csv('messages.csv')\n",
    "messages.name = 'Messages'\n",
    "tariffs = pd.read_csv('tariffs.csv')\n",
    "tariffs.name = 'Tariffs'\n",
    "users = pd.read_csv('users.csv')\n",
    "users.name = 'Users'"
   ]
  },
  {
   "cell_type": "code",
   "execution_count": 3,
   "id": "fe313409",
   "metadata": {},
   "outputs": [
    {
     "name": "stdout",
     "output_type": "stream",
     "text": [
      "\t***Calls***\n",
      "<class 'pandas.core.frame.DataFrame'>\n",
      "RangeIndex: 202607 entries, 0 to 202606\n",
      "Data columns (total 4 columns):\n",
      " #   Column     Non-Null Count   Dtype  \n",
      "---  ------     --------------   -----  \n",
      " 0   id         202607 non-null  object \n",
      " 1   call_date  202607 non-null  object \n",
      " 2   duration   202607 non-null  float64\n",
      " 3   user_id    202607 non-null  int64  \n",
      "dtypes: float64(1), int64(1), object(2)\n",
      "memory usage: 6.2+ MB\n",
      "None\n",
      "            duration        user_id\n",
      "count  202607.000000  202607.000000\n",
      "mean        6.755887    1253.940619\n",
      "std         5.843365     144.722751\n",
      "min         0.000000    1000.000000\n",
      "25%         1.300000    1126.000000\n",
      "50%         6.000000    1260.000000\n",
      "75%        10.700000    1379.000000\n",
      "max        38.000000    1499.000000\n"
     ]
    },
    {
     "data": {
      "text/html": [
       "<div>\n",
       "<style scoped>\n",
       "    .dataframe tbody tr th:only-of-type {\n",
       "        vertical-align: middle;\n",
       "    }\n",
       "\n",
       "    .dataframe tbody tr th {\n",
       "        vertical-align: top;\n",
       "    }\n",
       "\n",
       "    .dataframe thead th {\n",
       "        text-align: right;\n",
       "    }\n",
       "</style>\n",
       "<table border=\"1\" class=\"dataframe\">\n",
       "  <thead>\n",
       "    <tr style=\"text-align: right;\">\n",
       "      <th></th>\n",
       "      <th>id</th>\n",
       "      <th>call_date</th>\n",
       "      <th>duration</th>\n",
       "      <th>user_id</th>\n",
       "    </tr>\n",
       "  </thead>\n",
       "  <tbody>\n",
       "    <tr>\n",
       "      <th>0</th>\n",
       "      <td>1000_0</td>\n",
       "      <td>2018-07-25</td>\n",
       "      <td>0.00</td>\n",
       "      <td>1000</td>\n",
       "    </tr>\n",
       "    <tr>\n",
       "      <th>1</th>\n",
       "      <td>1000_1</td>\n",
       "      <td>2018-08-17</td>\n",
       "      <td>0.00</td>\n",
       "      <td>1000</td>\n",
       "    </tr>\n",
       "    <tr>\n",
       "      <th>2</th>\n",
       "      <td>1000_2</td>\n",
       "      <td>2018-06-11</td>\n",
       "      <td>2.85</td>\n",
       "      <td>1000</td>\n",
       "    </tr>\n",
       "    <tr>\n",
       "      <th>3</th>\n",
       "      <td>1000_3</td>\n",
       "      <td>2018-09-21</td>\n",
       "      <td>13.80</td>\n",
       "      <td>1000</td>\n",
       "    </tr>\n",
       "    <tr>\n",
       "      <th>4</th>\n",
       "      <td>1000_4</td>\n",
       "      <td>2018-12-15</td>\n",
       "      <td>5.18</td>\n",
       "      <td>1000</td>\n",
       "    </tr>\n",
       "  </tbody>\n",
       "</table>\n",
       "</div>"
      ],
      "text/plain": [
       "       id   call_date  duration  user_id\n",
       "0  1000_0  2018-07-25      0.00     1000\n",
       "1  1000_1  2018-08-17      0.00     1000\n",
       "2  1000_2  2018-06-11      2.85     1000\n",
       "3  1000_3  2018-09-21     13.80     1000\n",
       "4  1000_4  2018-12-15      5.18     1000"
      ]
     },
     "metadata": {},
     "output_type": "display_data"
    },
    {
     "name": "stdout",
     "output_type": "stream",
     "text": [
      "\n",
      "\t***Internet***\n",
      "<class 'pandas.core.frame.DataFrame'>\n",
      "RangeIndex: 149396 entries, 0 to 149395\n",
      "Data columns (total 5 columns):\n",
      " #   Column        Non-Null Count   Dtype  \n",
      "---  ------        --------------   -----  \n",
      " 0   Unnamed: 0    149396 non-null  int64  \n",
      " 1   id            149396 non-null  object \n",
      " 2   mb_used       149396 non-null  float64\n",
      " 3   session_date  149396 non-null  object \n",
      " 4   user_id       149396 non-null  int64  \n",
      "dtypes: float64(1), int64(2), object(2)\n",
      "memory usage: 5.7+ MB\n",
      "None\n",
      "          Unnamed: 0        mb_used        user_id\n",
      "count  149396.000000  149396.000000  149396.000000\n",
      "mean    74697.500000     370.192426    1252.099842\n",
      "std     43127.054745     278.300951     144.050823\n",
      "min         0.000000       0.000000    1000.000000\n",
      "25%     37348.750000     138.187500    1130.000000\n",
      "50%     74697.500000     348.015000    1251.000000\n",
      "75%    112046.250000     559.552500    1380.000000\n",
      "max    149395.000000    1724.830000    1499.000000\n"
     ]
    },
    {
     "data": {
      "text/html": [
       "<div>\n",
       "<style scoped>\n",
       "    .dataframe tbody tr th:only-of-type {\n",
       "        vertical-align: middle;\n",
       "    }\n",
       "\n",
       "    .dataframe tbody tr th {\n",
       "        vertical-align: top;\n",
       "    }\n",
       "\n",
       "    .dataframe thead th {\n",
       "        text-align: right;\n",
       "    }\n",
       "</style>\n",
       "<table border=\"1\" class=\"dataframe\">\n",
       "  <thead>\n",
       "    <tr style=\"text-align: right;\">\n",
       "      <th></th>\n",
       "      <th>Unnamed: 0</th>\n",
       "      <th>id</th>\n",
       "      <th>mb_used</th>\n",
       "      <th>session_date</th>\n",
       "      <th>user_id</th>\n",
       "    </tr>\n",
       "  </thead>\n",
       "  <tbody>\n",
       "    <tr>\n",
       "      <th>0</th>\n",
       "      <td>0</td>\n",
       "      <td>1000_0</td>\n",
       "      <td>112.95</td>\n",
       "      <td>2018-11-25</td>\n",
       "      <td>1000</td>\n",
       "    </tr>\n",
       "    <tr>\n",
       "      <th>1</th>\n",
       "      <td>1</td>\n",
       "      <td>1000_1</td>\n",
       "      <td>1052.81</td>\n",
       "      <td>2018-09-07</td>\n",
       "      <td>1000</td>\n",
       "    </tr>\n",
       "    <tr>\n",
       "      <th>2</th>\n",
       "      <td>2</td>\n",
       "      <td>1000_2</td>\n",
       "      <td>1197.26</td>\n",
       "      <td>2018-06-25</td>\n",
       "      <td>1000</td>\n",
       "    </tr>\n",
       "    <tr>\n",
       "      <th>3</th>\n",
       "      <td>3</td>\n",
       "      <td>1000_3</td>\n",
       "      <td>550.27</td>\n",
       "      <td>2018-08-22</td>\n",
       "      <td>1000</td>\n",
       "    </tr>\n",
       "    <tr>\n",
       "      <th>4</th>\n",
       "      <td>4</td>\n",
       "      <td>1000_4</td>\n",
       "      <td>302.56</td>\n",
       "      <td>2018-09-24</td>\n",
       "      <td>1000</td>\n",
       "    </tr>\n",
       "  </tbody>\n",
       "</table>\n",
       "</div>"
      ],
      "text/plain": [
       "   Unnamed: 0      id  mb_used session_date  user_id\n",
       "0           0  1000_0   112.95   2018-11-25     1000\n",
       "1           1  1000_1  1052.81   2018-09-07     1000\n",
       "2           2  1000_2  1197.26   2018-06-25     1000\n",
       "3           3  1000_3   550.27   2018-08-22     1000\n",
       "4           4  1000_4   302.56   2018-09-24     1000"
      ]
     },
     "metadata": {},
     "output_type": "display_data"
    },
    {
     "name": "stdout",
     "output_type": "stream",
     "text": [
      "\n",
      "\t***Messages***\n",
      "<class 'pandas.core.frame.DataFrame'>\n",
      "RangeIndex: 123036 entries, 0 to 123035\n",
      "Data columns (total 3 columns):\n",
      " #   Column        Non-Null Count   Dtype \n",
      "---  ------        --------------   ----- \n",
      " 0   id            123036 non-null  object\n",
      " 1   message_date  123036 non-null  object\n",
      " 2   user_id       123036 non-null  int64 \n",
      "dtypes: int64(1), object(2)\n",
      "memory usage: 2.8+ MB\n",
      "None\n",
      "             user_id\n",
      "count  123036.000000\n",
      "mean     1256.989410\n",
      "std       143.523967\n",
      "min      1000.000000\n",
      "25%      1134.000000\n",
      "50%      1271.000000\n",
      "75%      1381.000000\n",
      "max      1499.000000\n"
     ]
    },
    {
     "data": {
      "text/html": [
       "<div>\n",
       "<style scoped>\n",
       "    .dataframe tbody tr th:only-of-type {\n",
       "        vertical-align: middle;\n",
       "    }\n",
       "\n",
       "    .dataframe tbody tr th {\n",
       "        vertical-align: top;\n",
       "    }\n",
       "\n",
       "    .dataframe thead th {\n",
       "        text-align: right;\n",
       "    }\n",
       "</style>\n",
       "<table border=\"1\" class=\"dataframe\">\n",
       "  <thead>\n",
       "    <tr style=\"text-align: right;\">\n",
       "      <th></th>\n",
       "      <th>id</th>\n",
       "      <th>message_date</th>\n",
       "      <th>user_id</th>\n",
       "    </tr>\n",
       "  </thead>\n",
       "  <tbody>\n",
       "    <tr>\n",
       "      <th>0</th>\n",
       "      <td>1000_0</td>\n",
       "      <td>2018-06-27</td>\n",
       "      <td>1000</td>\n",
       "    </tr>\n",
       "    <tr>\n",
       "      <th>1</th>\n",
       "      <td>1000_1</td>\n",
       "      <td>2018-10-08</td>\n",
       "      <td>1000</td>\n",
       "    </tr>\n",
       "    <tr>\n",
       "      <th>2</th>\n",
       "      <td>1000_2</td>\n",
       "      <td>2018-08-04</td>\n",
       "      <td>1000</td>\n",
       "    </tr>\n",
       "    <tr>\n",
       "      <th>3</th>\n",
       "      <td>1000_3</td>\n",
       "      <td>2018-06-16</td>\n",
       "      <td>1000</td>\n",
       "    </tr>\n",
       "    <tr>\n",
       "      <th>4</th>\n",
       "      <td>1000_4</td>\n",
       "      <td>2018-12-05</td>\n",
       "      <td>1000</td>\n",
       "    </tr>\n",
       "  </tbody>\n",
       "</table>\n",
       "</div>"
      ],
      "text/plain": [
       "       id message_date  user_id\n",
       "0  1000_0   2018-06-27     1000\n",
       "1  1000_1   2018-10-08     1000\n",
       "2  1000_2   2018-08-04     1000\n",
       "3  1000_3   2018-06-16     1000\n",
       "4  1000_4   2018-12-05     1000"
      ]
     },
     "metadata": {},
     "output_type": "display_data"
    },
    {
     "name": "stdout",
     "output_type": "stream",
     "text": [
      "\n",
      "\t***Tariffs***\n",
      "<class 'pandas.core.frame.DataFrame'>\n",
      "RangeIndex: 2 entries, 0 to 1\n",
      "Data columns (total 8 columns):\n",
      " #   Column                 Non-Null Count  Dtype \n",
      "---  ------                 --------------  ----- \n",
      " 0   messages_included      2 non-null      int64 \n",
      " 1   mb_per_month_included  2 non-null      int64 \n",
      " 2   minutes_included       2 non-null      int64 \n",
      " 3   rub_monthly_fee        2 non-null      int64 \n",
      " 4   rub_per_gb             2 non-null      int64 \n",
      " 5   rub_per_message        2 non-null      int64 \n",
      " 6   rub_per_minute         2 non-null      int64 \n",
      " 7   tariff_name            2 non-null      object\n",
      "dtypes: int64(7), object(1)\n",
      "memory usage: 256.0+ bytes\n",
      "None\n",
      "       messages_included  mb_per_month_included  minutes_included  \\\n",
      "count           2.000000               2.000000          2.000000   \n",
      "mean          525.000000           23040.000000       1750.000000   \n",
      "std           671.751442           10861.160159       1767.766953   \n",
      "min            50.000000           15360.000000        500.000000   \n",
      "25%           287.500000           19200.000000       1125.000000   \n",
      "50%           525.000000           23040.000000       1750.000000   \n",
      "75%           762.500000           26880.000000       2375.000000   \n",
      "max          1000.000000           30720.000000       3000.000000   \n",
      "\n",
      "       rub_monthly_fee  rub_per_gb  rub_per_message  rub_per_minute  \n",
      "count         2.000000    2.000000         2.000000        2.000000  \n",
      "mean       1250.000000  175.000000         2.000000        2.000000  \n",
      "std         989.949494   35.355339         1.414214        1.414214  \n",
      "min         550.000000  150.000000         1.000000        1.000000  \n",
      "25%         900.000000  162.500000         1.500000        1.500000  \n",
      "50%        1250.000000  175.000000         2.000000        2.000000  \n",
      "75%        1600.000000  187.500000         2.500000        2.500000  \n",
      "max        1950.000000  200.000000         3.000000        3.000000  \n"
     ]
    },
    {
     "data": {
      "text/html": [
       "<div>\n",
       "<style scoped>\n",
       "    .dataframe tbody tr th:only-of-type {\n",
       "        vertical-align: middle;\n",
       "    }\n",
       "\n",
       "    .dataframe tbody tr th {\n",
       "        vertical-align: top;\n",
       "    }\n",
       "\n",
       "    .dataframe thead th {\n",
       "        text-align: right;\n",
       "    }\n",
       "</style>\n",
       "<table border=\"1\" class=\"dataframe\">\n",
       "  <thead>\n",
       "    <tr style=\"text-align: right;\">\n",
       "      <th></th>\n",
       "      <th>messages_included</th>\n",
       "      <th>mb_per_month_included</th>\n",
       "      <th>minutes_included</th>\n",
       "      <th>rub_monthly_fee</th>\n",
       "      <th>rub_per_gb</th>\n",
       "      <th>rub_per_message</th>\n",
       "      <th>rub_per_minute</th>\n",
       "      <th>tariff_name</th>\n",
       "    </tr>\n",
       "  </thead>\n",
       "  <tbody>\n",
       "    <tr>\n",
       "      <th>0</th>\n",
       "      <td>50</td>\n",
       "      <td>15360</td>\n",
       "      <td>500</td>\n",
       "      <td>550</td>\n",
       "      <td>200</td>\n",
       "      <td>3</td>\n",
       "      <td>3</td>\n",
       "      <td>smart</td>\n",
       "    </tr>\n",
       "    <tr>\n",
       "      <th>1</th>\n",
       "      <td>1000</td>\n",
       "      <td>30720</td>\n",
       "      <td>3000</td>\n",
       "      <td>1950</td>\n",
       "      <td>150</td>\n",
       "      <td>1</td>\n",
       "      <td>1</td>\n",
       "      <td>ultra</td>\n",
       "    </tr>\n",
       "  </tbody>\n",
       "</table>\n",
       "</div>"
      ],
      "text/plain": [
       "   messages_included  mb_per_month_included  minutes_included  \\\n",
       "0                 50                  15360               500   \n",
       "1               1000                  30720              3000   \n",
       "\n",
       "   rub_monthly_fee  rub_per_gb  rub_per_message  rub_per_minute tariff_name  \n",
       "0              550         200                3               3       smart  \n",
       "1             1950         150                1               1       ultra  "
      ]
     },
     "metadata": {},
     "output_type": "display_data"
    },
    {
     "name": "stdout",
     "output_type": "stream",
     "text": [
      "\n",
      "\t***Users***\n",
      "<class 'pandas.core.frame.DataFrame'>\n",
      "RangeIndex: 500 entries, 0 to 499\n",
      "Data columns (total 8 columns):\n",
      " #   Column      Non-Null Count  Dtype \n",
      "---  ------      --------------  ----- \n",
      " 0   user_id     500 non-null    int64 \n",
      " 1   age         500 non-null    int64 \n",
      " 2   churn_date  38 non-null     object\n",
      " 3   city        500 non-null    object\n",
      " 4   first_name  500 non-null    object\n",
      " 5   last_name   500 non-null    object\n",
      " 6   reg_date    500 non-null    object\n",
      " 7   tariff      500 non-null    object\n",
      "dtypes: int64(2), object(6)\n",
      "memory usage: 31.4+ KB\n",
      "None\n",
      "           user_id        age\n",
      "count   500.000000  500.00000\n",
      "mean   1249.500000   46.58800\n",
      "std     144.481833   16.66763\n",
      "min    1000.000000   18.00000\n",
      "25%    1124.750000   32.00000\n",
      "50%    1249.500000   46.00000\n",
      "75%    1374.250000   62.00000\n",
      "max    1499.000000   75.00000\n"
     ]
    },
    {
     "data": {
      "text/html": [
       "<div>\n",
       "<style scoped>\n",
       "    .dataframe tbody tr th:only-of-type {\n",
       "        vertical-align: middle;\n",
       "    }\n",
       "\n",
       "    .dataframe tbody tr th {\n",
       "        vertical-align: top;\n",
       "    }\n",
       "\n",
       "    .dataframe thead th {\n",
       "        text-align: right;\n",
       "    }\n",
       "</style>\n",
       "<table border=\"1\" class=\"dataframe\">\n",
       "  <thead>\n",
       "    <tr style=\"text-align: right;\">\n",
       "      <th></th>\n",
       "      <th>user_id</th>\n",
       "      <th>age</th>\n",
       "      <th>churn_date</th>\n",
       "      <th>city</th>\n",
       "      <th>first_name</th>\n",
       "      <th>last_name</th>\n",
       "      <th>reg_date</th>\n",
       "      <th>tariff</th>\n",
       "    </tr>\n",
       "  </thead>\n",
       "  <tbody>\n",
       "    <tr>\n",
       "      <th>0</th>\n",
       "      <td>1000</td>\n",
       "      <td>52</td>\n",
       "      <td>NaN</td>\n",
       "      <td>Краснодар</td>\n",
       "      <td>Рафаил</td>\n",
       "      <td>Верещагин</td>\n",
       "      <td>2018-05-25</td>\n",
       "      <td>ultra</td>\n",
       "    </tr>\n",
       "    <tr>\n",
       "      <th>1</th>\n",
       "      <td>1001</td>\n",
       "      <td>41</td>\n",
       "      <td>NaN</td>\n",
       "      <td>Москва</td>\n",
       "      <td>Иван</td>\n",
       "      <td>Ежов</td>\n",
       "      <td>2018-11-01</td>\n",
       "      <td>smart</td>\n",
       "    </tr>\n",
       "    <tr>\n",
       "      <th>2</th>\n",
       "      <td>1002</td>\n",
       "      <td>59</td>\n",
       "      <td>NaN</td>\n",
       "      <td>Стерлитамак</td>\n",
       "      <td>Евгений</td>\n",
       "      <td>Абрамович</td>\n",
       "      <td>2018-06-17</td>\n",
       "      <td>smart</td>\n",
       "    </tr>\n",
       "    <tr>\n",
       "      <th>3</th>\n",
       "      <td>1003</td>\n",
       "      <td>23</td>\n",
       "      <td>NaN</td>\n",
       "      <td>Москва</td>\n",
       "      <td>Белла</td>\n",
       "      <td>Белякова</td>\n",
       "      <td>2018-08-17</td>\n",
       "      <td>ultra</td>\n",
       "    </tr>\n",
       "    <tr>\n",
       "      <th>4</th>\n",
       "      <td>1004</td>\n",
       "      <td>68</td>\n",
       "      <td>NaN</td>\n",
       "      <td>Новокузнецк</td>\n",
       "      <td>Татьяна</td>\n",
       "      <td>Авдеенко</td>\n",
       "      <td>2018-05-14</td>\n",
       "      <td>ultra</td>\n",
       "    </tr>\n",
       "  </tbody>\n",
       "</table>\n",
       "</div>"
      ],
      "text/plain": [
       "   user_id  age churn_date         city first_name  last_name    reg_date  \\\n",
       "0     1000   52        NaN    Краснодар     Рафаил  Верещагин  2018-05-25   \n",
       "1     1001   41        NaN       Москва       Иван       Ежов  2018-11-01   \n",
       "2     1002   59        NaN  Стерлитамак    Евгений  Абрамович  2018-06-17   \n",
       "3     1003   23        NaN       Москва      Белла   Белякова  2018-08-17   \n",
       "4     1004   68        NaN  Новокузнецк    Татьяна   Авдеенко  2018-05-14   \n",
       "\n",
       "  tariff  \n",
       "0  ultra  \n",
       "1  smart  \n",
       "2  smart  \n",
       "3  ultra  \n",
       "4  ultra  "
      ]
     },
     "metadata": {},
     "output_type": "display_data"
    },
    {
     "name": "stdout",
     "output_type": "stream",
     "text": [
      "\n"
     ]
    }
   ],
   "source": [
    "frames = [calls, internet, messages, tariffs, users] #Создадим список со всеми таблицами.\n",
    "for frame in frames:\n",
    "    print('\\t***' + frame.name + '***')\n",
    "    print(frame.info())\n",
    "    print(frame.describe())\n",
    "    display(frame.head(5))\n",
    "    print()"
   ]
  },
  {
   "cell_type": "markdown",
   "id": "bb78ed4a",
   "metadata": {},
   "source": [
    "**Calls** - всё в пределах нормы. Пустых значений нет. *call_date* стоит перевести в тип `datetime`.\n",
    "\n",
    "**Internet** - лишний столбец *Unnamed: 0*. Остальные столбцы в пределах нормы. Пустых значений нет. *session_date* стоит перевести в тип `datetime`.\n",
    "\n",
    "**Messages** - всё в пределах нормы. Пустых значений нет. *message_date* стоит перевести в тип `datetime`.\n",
    "\n",
    "**Tariffs** - суперкороткая таблица с описанием тарифов.\n",
    "\n",
    "**Users** -  всё в пределах нормы. Пустые значения соответсвуют описанию. *churn_date* и *reg_date* стоит перевести в тип `datetime`."
   ]
  },
  {
   "cell_type": "markdown",
   "id": "b4fcabb8",
   "metadata": {},
   "source": [
    "# Предобработка\n",
    "Из описания таблицы **Internet** видно, что там появился один лишний столбец **Unnamed: 0**, который полностью повторяет значения `internet.index`. Если отрыть файл internet.csv, то можно увидеть, что это произошло из-за лишней запятой в начале файла. Этот столбец неиформативен и можно его спокойно удалить."
   ]
  },
  {
   "cell_type": "code",
   "execution_count": 4,
   "id": "48398ad5",
   "metadata": {},
   "outputs": [],
   "source": [
    "internet.drop('Unnamed: 0' ,axis='columns', inplace=True)"
   ]
  },
  {
   "cell_type": "markdown",
   "id": "74ea1f8a",
   "metadata": {},
   "source": [
    "Для дальнейшего удобства приведем все даты в таблицах к типу datetime."
   ]
  },
  {
   "cell_type": "code",
   "execution_count": 5,
   "id": "53ff5fa6",
   "metadata": {},
   "outputs": [],
   "source": [
    "for frame in frames:\n",
    "    for column in frame.columns:\n",
    "        if 'date' in column:\n",
    "            frame[column] = pd.to_datetime(frame[column], format='%Y-%m-%d')"
   ]
  },
  {
   "cell_type": "markdown",
   "id": "2ff3a1a8",
   "metadata": {},
   "source": [
    "В таблице **Calls** округлим минуты в большую сторону."
   ]
  },
  {
   "cell_type": "code",
   "execution_count": 6,
   "id": "5f1fae5d",
   "metadata": {},
   "outputs": [],
   "source": [
    "calls['duration'] = np.ceil(calls['duration'])"
   ]
  },
  {
   "cell_type": "markdown",
   "id": "6fb3eb06-12d2-42af-ba9c-4ac422137cb4",
   "metadata": {},
   "source": [
    "Оценим количество нулевых значений среди звонков и интернет-трафика."
   ]
  },
  {
   "cell_type": "code",
   "execution_count": 7,
   "id": "6b28fba1",
   "metadata": {},
   "outputs": [
    {
     "name": "stdout",
     "output_type": "stream",
     "text": [
      "<class 'pandas.core.frame.DataFrame'>\n",
      "Int64Index: 39613 entries, 0 to 202596\n",
      "Data columns (total 4 columns):\n",
      " #   Column     Non-Null Count  Dtype         \n",
      "---  ------     --------------  -----         \n",
      " 0   id         39613 non-null  object        \n",
      " 1   call_date  39613 non-null  datetime64[ns]\n",
      " 2   duration   39613 non-null  float64       \n",
      " 3   user_id    39613 non-null  int64         \n",
      "dtypes: datetime64[ns](1), float64(1), int64(1), object(1)\n",
      "memory usage: 1.5+ MB\n"
     ]
    }
   ],
   "source": [
    "calls.query('duration == 0').info()"
   ]
  },
  {
   "cell_type": "code",
   "execution_count": 8,
   "id": "c68d4149",
   "metadata": {},
   "outputs": [
    {
     "name": "stdout",
     "output_type": "stream",
     "text": [
      "<class 'pandas.core.frame.DataFrame'>\n",
      "Int64Index: 19598 entries, 11 to 149393\n",
      "Data columns (total 4 columns):\n",
      " #   Column        Non-Null Count  Dtype         \n",
      "---  ------        --------------  -----         \n",
      " 0   id            19598 non-null  object        \n",
      " 1   mb_used       19598 non-null  float64       \n",
      " 2   session_date  19598 non-null  datetime64[ns]\n",
      " 3   user_id       19598 non-null  int64         \n",
      "dtypes: datetime64[ns](1), float64(1), int64(1), object(1)\n",
      "memory usage: 765.5+ KB\n"
     ]
    }
   ],
   "source": [
    "internet.query('mb_used == 0').info()"
   ]
  },
  {
   "cell_type": "markdown",
   "id": "ccd1a716-34d6-47d4-9b82-18324396109c",
   "metadata": {},
   "source": [
    "Можно заметить, что нулевых значений среди продолжительностей звонков и количества использованного трафика довольно много, и по сути их можно было бы почти* спокойно дропнуть. Но поскольку в дальнейшем все эти значения суммируются по месяцам, то они на конечный результат не повлияют. В дальнейшем все равно будет использоваться скомпанованная таблица *total_usage*.\n",
    "\n",
    "Что касается возникновения таких значений. То нулевые звонки - это сброшенные или прорущенные. А нулевой трафик - это, например, тот трафик который не засчитывается (мессенджеры, соцсети).   \n",
    "\n",
    "**в теории может существовать месяц в котором все звонки были длиной в 0, интернета было использовано 0 и не было отправлено сообщений. И если убрать такой месяц, то он пропадет из финальной таблицы. Но абонентская плата ведь за такой месяц все равно берется. Так что это могло бы сделать датасет беднее.*"
   ]
  },
  {
   "cell_type": "markdown",
   "id": "f544d9cc",
   "metadata": {},
   "source": [
    "# Расчеты\n",
    "Для дальнейшего удобства добавим в таблицы **Calls**, **Internet** и **Messages** столбец под названием *month* с номером месяца."
   ]
  },
  {
   "cell_type": "code",
   "execution_count": 9,
   "id": "3b91c4e7-bc07-4b16-a658-c5c23f7753fe",
   "metadata": {},
   "outputs": [],
   "source": [
    "for frame in frames[:3]:\n",
    "    for column in frame.columns:\n",
    "        if 'date' in column:\n",
    "            frame['month'] = frame[column].astype('datetime64[M]')"
   ]
  },
  {
   "cell_type": "markdown",
   "id": "2f9bf4a0",
   "metadata": {},
   "source": [
    "Далее сгруппируем эти таблицы по значениям *user_id* и *month*."
   ]
  },
  {
   "cell_type": "code",
   "execution_count": 10,
   "id": "46df92c0",
   "metadata": {},
   "outputs": [],
   "source": [
    "by_calls = calls.groupby(['user_id', 'month'])['duration'].aggregate(['count', 'sum']) # количество сделанных звонков и израсходованных минут разговора по месяцам\n",
    "by_internet = internet.groupby(['user_id', 'month'])['mb_used'].sum() # объем израсходованного интернет-трафика по месяцам\n",
    "by_messages = messages.groupby(['user_id', 'month'])['id'].count() # количество отправленных сообщений по месяцам"
   ]
  },
  {
   "cell_type": "markdown",
   "id": "80e6a551",
   "metadata": {},
   "source": [
    "И всё это сольем в одну таблицу."
   ]
  },
  {
   "cell_type": "code",
   "execution_count": 11,
   "id": "1661b53b",
   "metadata": {},
   "outputs": [
    {
     "data": {
      "text/html": [
       "<div>\n",
       "<style scoped>\n",
       "    .dataframe tbody tr th:only-of-type {\n",
       "        vertical-align: middle;\n",
       "    }\n",
       "\n",
       "    .dataframe tbody tr th {\n",
       "        vertical-align: top;\n",
       "    }\n",
       "\n",
       "    .dataframe thead th {\n",
       "        text-align: right;\n",
       "    }\n",
       "</style>\n",
       "<table border=\"1\" class=\"dataframe\">\n",
       "  <thead>\n",
       "    <tr style=\"text-align: right;\">\n",
       "      <th></th>\n",
       "      <th></th>\n",
       "      <th>calls_count</th>\n",
       "      <th>calls_duration</th>\n",
       "      <th>mb_used</th>\n",
       "      <th>messages_count</th>\n",
       "    </tr>\n",
       "    <tr>\n",
       "      <th>user_id</th>\n",
       "      <th>month</th>\n",
       "      <th></th>\n",
       "      <th></th>\n",
       "      <th></th>\n",
       "      <th></th>\n",
       "    </tr>\n",
       "  </thead>\n",
       "  <tbody>\n",
       "    <tr>\n",
       "      <th rowspan=\"8\" valign=\"top\">1000</th>\n",
       "      <th>2018-05-01</th>\n",
       "      <td>22.0</td>\n",
       "      <td>159.0</td>\n",
       "      <td>2253.49</td>\n",
       "      <td>22.0</td>\n",
       "    </tr>\n",
       "    <tr>\n",
       "      <th>2018-06-01</th>\n",
       "      <td>43.0</td>\n",
       "      <td>172.0</td>\n",
       "      <td>23233.77</td>\n",
       "      <td>60.0</td>\n",
       "    </tr>\n",
       "    <tr>\n",
       "      <th>2018-07-01</th>\n",
       "      <td>47.0</td>\n",
       "      <td>340.0</td>\n",
       "      <td>14003.64</td>\n",
       "      <td>75.0</td>\n",
       "    </tr>\n",
       "    <tr>\n",
       "      <th>2018-08-01</th>\n",
       "      <td>52.0</td>\n",
       "      <td>408.0</td>\n",
       "      <td>14055.93</td>\n",
       "      <td>81.0</td>\n",
       "    </tr>\n",
       "    <tr>\n",
       "      <th>2018-09-01</th>\n",
       "      <td>58.0</td>\n",
       "      <td>466.0</td>\n",
       "      <td>14568.91</td>\n",
       "      <td>57.0</td>\n",
       "    </tr>\n",
       "    <tr>\n",
       "      <th>2018-10-01</th>\n",
       "      <td>57.0</td>\n",
       "      <td>350.0</td>\n",
       "      <td>14702.49</td>\n",
       "      <td>73.0</td>\n",
       "    </tr>\n",
       "    <tr>\n",
       "      <th>2018-11-01</th>\n",
       "      <td>43.0</td>\n",
       "      <td>338.0</td>\n",
       "      <td>14756.47</td>\n",
       "      <td>58.0</td>\n",
       "    </tr>\n",
       "    <tr>\n",
       "      <th>2018-12-01</th>\n",
       "      <td>46.0</td>\n",
       "      <td>333.0</td>\n",
       "      <td>9817.61</td>\n",
       "      <td>70.0</td>\n",
       "    </tr>\n",
       "    <tr>\n",
       "      <th rowspan=\"2\" valign=\"top\">1001</th>\n",
       "      <th>2018-11-01</th>\n",
       "      <td>59.0</td>\n",
       "      <td>430.0</td>\n",
       "      <td>18429.34</td>\n",
       "      <td>NaN</td>\n",
       "    </tr>\n",
       "    <tr>\n",
       "      <th>2018-12-01</th>\n",
       "      <td>63.0</td>\n",
       "      <td>414.0</td>\n",
       "      <td>14036.66</td>\n",
       "      <td>NaN</td>\n",
       "    </tr>\n",
       "    <tr>\n",
       "      <th rowspan=\"5\" valign=\"top\">1002</th>\n",
       "      <th>2018-06-01</th>\n",
       "      <td>15.0</td>\n",
       "      <td>117.0</td>\n",
       "      <td>10856.82</td>\n",
       "      <td>4.0</td>\n",
       "    </tr>\n",
       "    <tr>\n",
       "      <th>2018-07-01</th>\n",
       "      <td>26.0</td>\n",
       "      <td>214.0</td>\n",
       "      <td>17580.10</td>\n",
       "      <td>11.0</td>\n",
       "    </tr>\n",
       "    <tr>\n",
       "      <th>2018-08-01</th>\n",
       "      <td>42.0</td>\n",
       "      <td>289.0</td>\n",
       "      <td>20319.26</td>\n",
       "      <td>13.0</td>\n",
       "    </tr>\n",
       "    <tr>\n",
       "      <th>2018-09-01</th>\n",
       "      <td>36.0</td>\n",
       "      <td>206.0</td>\n",
       "      <td>16691.08</td>\n",
       "      <td>4.0</td>\n",
       "    </tr>\n",
       "    <tr>\n",
       "      <th>2018-10-01</th>\n",
       "      <td>33.0</td>\n",
       "      <td>212.0</td>\n",
       "      <td>13888.25</td>\n",
       "      <td>10.0</td>\n",
       "    </tr>\n",
       "  </tbody>\n",
       "</table>\n",
       "</div>"
      ],
      "text/plain": [
       "                    calls_count  calls_duration   mb_used  messages_count\n",
       "user_id month                                                            \n",
       "1000    2018-05-01         22.0           159.0   2253.49            22.0\n",
       "        2018-06-01         43.0           172.0  23233.77            60.0\n",
       "        2018-07-01         47.0           340.0  14003.64            75.0\n",
       "        2018-08-01         52.0           408.0  14055.93            81.0\n",
       "        2018-09-01         58.0           466.0  14568.91            57.0\n",
       "        2018-10-01         57.0           350.0  14702.49            73.0\n",
       "        2018-11-01         43.0           338.0  14756.47            58.0\n",
       "        2018-12-01         46.0           333.0   9817.61            70.0\n",
       "1001    2018-11-01         59.0           430.0  18429.34             NaN\n",
       "        2018-12-01         63.0           414.0  14036.66             NaN\n",
       "1002    2018-06-01         15.0           117.0  10856.82             4.0\n",
       "        2018-07-01         26.0           214.0  17580.10            11.0\n",
       "        2018-08-01         42.0           289.0  20319.26            13.0\n",
       "        2018-09-01         36.0           206.0  16691.08             4.0\n",
       "        2018-10-01         33.0           212.0  13888.25            10.0"
      ]
     },
     "execution_count": 11,
     "metadata": {},
     "output_type": "execute_result"
    }
   ],
   "source": [
    "total_usage = (by_calls.merge(by_internet, 'outer', left_index=True, right_index=True)).merge(by_messages, 'outer', left_index=True, right_index=True)\n",
    "total_usage.columns = ['calls_count', 'calls_duration', 'mb_used', 'messages_count']\n",
    "total_usage.head(15)"
   ]
  },
  {
   "cell_type": "code",
   "execution_count": 12,
   "id": "1ea1200f",
   "metadata": {},
   "outputs": [
    {
     "name": "stdout",
     "output_type": "stream",
     "text": [
      "<class 'pandas.core.frame.DataFrame'>\n",
      "MultiIndex: 3214 entries, (1000, Timestamp('2018-05-01 00:00:00')) to (1499, Timestamp('2018-12-01 00:00:00'))\n",
      "Data columns (total 4 columns):\n",
      " #   Column          Non-Null Count  Dtype  \n",
      "---  ------          --------------  -----  \n",
      " 0   calls_count     3174 non-null   float64\n",
      " 1   calls_duration  3174 non-null   float64\n",
      " 2   mb_used         3203 non-null   float64\n",
      " 3   messages_count  2717 non-null   float64\n",
      "dtypes: float64(4)\n",
      "memory usage: 130.4 KB\n"
     ]
    }
   ],
   "source": [
    "total_usage.info()"
   ]
  },
  {
   "cell_type": "markdown",
   "id": "013f47f1",
   "metadata": {},
   "source": [
    "Так как слияние проводилось по типу `outer` в некоторых столбцах появились пустые значения, что вполне логично, учитывая что человек мог в определенный месяц не пользоваться одной из предостовляемых провайдером услуг. А значит отсутсвующие значения можно заменить нулями."
   ]
  },
  {
   "cell_type": "code",
   "execution_count": 13,
   "id": "8ff6c004",
   "metadata": {},
   "outputs": [],
   "source": [
    "total_usage.fillna(0, inplace=True) # замена нулями"
   ]
  },
  {
   "cell_type": "markdown",
   "id": "4ce9d601",
   "metadata": {},
   "source": [
    "Отформатируем таблицу следующим образом:\n",
    "- столбцы *calls_count*, *total_calls_length* и *messages_count* переведем в тип int;\n",
    "- *total_mb_used* пересчитаем в гигабайты и округлим в большую сторону."
   ]
  },
  {
   "cell_type": "code",
   "execution_count": 14,
   "id": "3a9e68d2",
   "metadata": {},
   "outputs": [],
   "source": [
    "total_usage[['calls_count', 'messages_count', 'calls_duration']] = total_usage[['calls_count', 'messages_count', 'calls_duration']].astype(int)\n",
    "total_usage['mb_used'] = np.ceil(total_usage['mb_used']/1024)\n",
    "total_usage.rename(columns={'mb_used' : 'gb_used'}, inplace=True)"
   ]
  },
  {
   "cell_type": "markdown",
   "id": "1d3dcd18",
   "metadata": {},
   "source": [
    "Добавим в таблицу **total_usage** столбец с названием тарифа и с городом проживания пользователя из таблицы **Users**. Поскольку объединение будет проводиться по индексу сменим мультииндекс в **total_usage** на индекс *user_id*. А в **Users** установим *user_id* в качестве индекса."
   ]
  },
  {
   "cell_type": "code",
   "execution_count": 15,
   "id": "085b8f0c",
   "metadata": {},
   "outputs": [],
   "source": [
    "total_usage = total_usage.reset_index(level='month').merge(users.set_index('user_id')[['city', 'tariff']], left_index=True, right_index=True)\n",
    "total_usage.set_index('month', append=True, inplace=True) # возвращаем мультииндекс, он пригодится для дальнейших расчетов выручки в месяц"
   ]
  },
  {
   "cell_type": "markdown",
   "id": "256afef2",
   "metadata": {},
   "source": [
    "Для дальнейшего расчета выручки будет применяться функция `not_negative()` отсекающая отрицательные значения."
   ]
  },
  {
   "cell_type": "code",
   "execution_count": 16,
   "id": "3f0d1412",
   "metadata": {},
   "outputs": [],
   "source": [
    "def not_negative(num):\n",
    "    '''\n",
    "    Возвращает само число если оно положительное, 0 если оно отрицательное.\n",
    "    '''\n",
    "    if num <0: return 0\n",
    "    else: return num"
   ]
  },
  {
   "cell_type": "markdown",
   "id": "bb23b32c",
   "metadata": {},
   "source": [
    "Добавим в **total_usage** столбец с выручкой *proceeds*."
   ]
  },
  {
   "cell_type": "code",
   "execution_count": 17,
   "id": "0a3d05f7",
   "metadata": {},
   "outputs": [],
   "source": [
    "# smart\n",
    "smart = total_usage.query('tariff == \"smart\"')\n",
    "total_usage['proceeds'] = ((smart['calls_duration'] - 500).apply(not_negative) * 3) + ((smart['gb_used'] - 15).apply(not_negative) * 200) + ((smart['messages_count'] - 50).apply(not_negative) * 3) + 550\n",
    "\n",
    "# ultra\n",
    "ultra = total_usage.query('tariff == \"ultra\"')\n",
    "total_usage['proceeds'].fillna((((ultra['calls_duration'] - 3000).apply(not_negative) * 1) + ((ultra['gb_used'] - 30).apply(not_negative) * 150) + ((ultra['messages_count'] - 1000).apply(not_negative) * 1) + 1950), inplace=True)\n",
    "# заполнение оставшихся пропусков"
   ]
  },
  {
   "cell_type": "markdown",
   "id": "c73891b2",
   "metadata": {},
   "source": [
    "Осмотрим получившуюся таблицу."
   ]
  },
  {
   "cell_type": "code",
   "execution_count": 18,
   "id": "82adbd5d",
   "metadata": {},
   "outputs": [
    {
     "data": {
      "text/html": [
       "<div>\n",
       "<style scoped>\n",
       "    .dataframe tbody tr th:only-of-type {\n",
       "        vertical-align: middle;\n",
       "    }\n",
       "\n",
       "    .dataframe tbody tr th {\n",
       "        vertical-align: top;\n",
       "    }\n",
       "\n",
       "    .dataframe thead th {\n",
       "        text-align: right;\n",
       "    }\n",
       "</style>\n",
       "<table border=\"1\" class=\"dataframe\">\n",
       "  <thead>\n",
       "    <tr style=\"text-align: right;\">\n",
       "      <th></th>\n",
       "      <th></th>\n",
       "      <th>calls_count</th>\n",
       "      <th>calls_duration</th>\n",
       "      <th>gb_used</th>\n",
       "      <th>messages_count</th>\n",
       "      <th>city</th>\n",
       "      <th>tariff</th>\n",
       "      <th>proceeds</th>\n",
       "    </tr>\n",
       "    <tr>\n",
       "      <th>user_id</th>\n",
       "      <th>month</th>\n",
       "      <th></th>\n",
       "      <th></th>\n",
       "      <th></th>\n",
       "      <th></th>\n",
       "      <th></th>\n",
       "      <th></th>\n",
       "      <th></th>\n",
       "    </tr>\n",
       "  </thead>\n",
       "  <tbody>\n",
       "    <tr>\n",
       "      <th rowspan=\"8\" valign=\"top\">1000</th>\n",
       "      <th>2018-05-01</th>\n",
       "      <td>22</td>\n",
       "      <td>159</td>\n",
       "      <td>3.0</td>\n",
       "      <td>22</td>\n",
       "      <td>Краснодар</td>\n",
       "      <td>ultra</td>\n",
       "      <td>1950.0</td>\n",
       "    </tr>\n",
       "    <tr>\n",
       "      <th>2018-06-01</th>\n",
       "      <td>43</td>\n",
       "      <td>172</td>\n",
       "      <td>23.0</td>\n",
       "      <td>60</td>\n",
       "      <td>Краснодар</td>\n",
       "      <td>ultra</td>\n",
       "      <td>1950.0</td>\n",
       "    </tr>\n",
       "    <tr>\n",
       "      <th>2018-07-01</th>\n",
       "      <td>47</td>\n",
       "      <td>340</td>\n",
       "      <td>14.0</td>\n",
       "      <td>75</td>\n",
       "      <td>Краснодар</td>\n",
       "      <td>ultra</td>\n",
       "      <td>1950.0</td>\n",
       "    </tr>\n",
       "    <tr>\n",
       "      <th>2018-08-01</th>\n",
       "      <td>52</td>\n",
       "      <td>408</td>\n",
       "      <td>14.0</td>\n",
       "      <td>81</td>\n",
       "      <td>Краснодар</td>\n",
       "      <td>ultra</td>\n",
       "      <td>1950.0</td>\n",
       "    </tr>\n",
       "    <tr>\n",
       "      <th>2018-09-01</th>\n",
       "      <td>58</td>\n",
       "      <td>466</td>\n",
       "      <td>15.0</td>\n",
       "      <td>57</td>\n",
       "      <td>Краснодар</td>\n",
       "      <td>ultra</td>\n",
       "      <td>1950.0</td>\n",
       "    </tr>\n",
       "    <tr>\n",
       "      <th>2018-10-01</th>\n",
       "      <td>57</td>\n",
       "      <td>350</td>\n",
       "      <td>15.0</td>\n",
       "      <td>73</td>\n",
       "      <td>Краснодар</td>\n",
       "      <td>ultra</td>\n",
       "      <td>1950.0</td>\n",
       "    </tr>\n",
       "    <tr>\n",
       "      <th>2018-11-01</th>\n",
       "      <td>43</td>\n",
       "      <td>338</td>\n",
       "      <td>15.0</td>\n",
       "      <td>58</td>\n",
       "      <td>Краснодар</td>\n",
       "      <td>ultra</td>\n",
       "      <td>1950.0</td>\n",
       "    </tr>\n",
       "    <tr>\n",
       "      <th>2018-12-01</th>\n",
       "      <td>46</td>\n",
       "      <td>333</td>\n",
       "      <td>10.0</td>\n",
       "      <td>70</td>\n",
       "      <td>Краснодар</td>\n",
       "      <td>ultra</td>\n",
       "      <td>1950.0</td>\n",
       "    </tr>\n",
       "    <tr>\n",
       "      <th rowspan=\"2\" valign=\"top\">1001</th>\n",
       "      <th>2018-11-01</th>\n",
       "      <td>59</td>\n",
       "      <td>430</td>\n",
       "      <td>18.0</td>\n",
       "      <td>0</td>\n",
       "      <td>Москва</td>\n",
       "      <td>smart</td>\n",
       "      <td>1150.0</td>\n",
       "    </tr>\n",
       "    <tr>\n",
       "      <th>2018-12-01</th>\n",
       "      <td>63</td>\n",
       "      <td>414</td>\n",
       "      <td>14.0</td>\n",
       "      <td>0</td>\n",
       "      <td>Москва</td>\n",
       "      <td>smart</td>\n",
       "      <td>550.0</td>\n",
       "    </tr>\n",
       "    <tr>\n",
       "      <th rowspan=\"5\" valign=\"top\">1002</th>\n",
       "      <th>2018-06-01</th>\n",
       "      <td>15</td>\n",
       "      <td>117</td>\n",
       "      <td>11.0</td>\n",
       "      <td>4</td>\n",
       "      <td>Стерлитамак</td>\n",
       "      <td>smart</td>\n",
       "      <td>550.0</td>\n",
       "    </tr>\n",
       "    <tr>\n",
       "      <th>2018-07-01</th>\n",
       "      <td>26</td>\n",
       "      <td>214</td>\n",
       "      <td>18.0</td>\n",
       "      <td>11</td>\n",
       "      <td>Стерлитамак</td>\n",
       "      <td>smart</td>\n",
       "      <td>1150.0</td>\n",
       "    </tr>\n",
       "    <tr>\n",
       "      <th>2018-08-01</th>\n",
       "      <td>42</td>\n",
       "      <td>289</td>\n",
       "      <td>20.0</td>\n",
       "      <td>13</td>\n",
       "      <td>Стерлитамак</td>\n",
       "      <td>smart</td>\n",
       "      <td>1550.0</td>\n",
       "    </tr>\n",
       "    <tr>\n",
       "      <th>2018-09-01</th>\n",
       "      <td>36</td>\n",
       "      <td>206</td>\n",
       "      <td>17.0</td>\n",
       "      <td>4</td>\n",
       "      <td>Стерлитамак</td>\n",
       "      <td>smart</td>\n",
       "      <td>950.0</td>\n",
       "    </tr>\n",
       "    <tr>\n",
       "      <th>2018-10-01</th>\n",
       "      <td>33</td>\n",
       "      <td>212</td>\n",
       "      <td>14.0</td>\n",
       "      <td>10</td>\n",
       "      <td>Стерлитамак</td>\n",
       "      <td>smart</td>\n",
       "      <td>550.0</td>\n",
       "    </tr>\n",
       "  </tbody>\n",
       "</table>\n",
       "</div>"
      ],
      "text/plain": [
       "                    calls_count  calls_duration  gb_used  messages_count  \\\n",
       "user_id month                                                              \n",
       "1000    2018-05-01           22             159      3.0              22   \n",
       "        2018-06-01           43             172     23.0              60   \n",
       "        2018-07-01           47             340     14.0              75   \n",
       "        2018-08-01           52             408     14.0              81   \n",
       "        2018-09-01           58             466     15.0              57   \n",
       "        2018-10-01           57             350     15.0              73   \n",
       "        2018-11-01           43             338     15.0              58   \n",
       "        2018-12-01           46             333     10.0              70   \n",
       "1001    2018-11-01           59             430     18.0               0   \n",
       "        2018-12-01           63             414     14.0               0   \n",
       "1002    2018-06-01           15             117     11.0               4   \n",
       "        2018-07-01           26             214     18.0              11   \n",
       "        2018-08-01           42             289     20.0              13   \n",
       "        2018-09-01           36             206     17.0               4   \n",
       "        2018-10-01           33             212     14.0              10   \n",
       "\n",
       "                           city tariff  proceeds  \n",
       "user_id month                                     \n",
       "1000    2018-05-01    Краснодар  ultra    1950.0  \n",
       "        2018-06-01    Краснодар  ultra    1950.0  \n",
       "        2018-07-01    Краснодар  ultra    1950.0  \n",
       "        2018-08-01    Краснодар  ultra    1950.0  \n",
       "        2018-09-01    Краснодар  ultra    1950.0  \n",
       "        2018-10-01    Краснодар  ultra    1950.0  \n",
       "        2018-11-01    Краснодар  ultra    1950.0  \n",
       "        2018-12-01    Краснодар  ultra    1950.0  \n",
       "1001    2018-11-01       Москва  smart    1150.0  \n",
       "        2018-12-01       Москва  smart     550.0  \n",
       "1002    2018-06-01  Стерлитамак  smart     550.0  \n",
       "        2018-07-01  Стерлитамак  smart    1150.0  \n",
       "        2018-08-01  Стерлитамак  smart    1550.0  \n",
       "        2018-09-01  Стерлитамак  smart     950.0  \n",
       "        2018-10-01  Стерлитамак  smart     550.0  "
      ]
     },
     "execution_count": 18,
     "metadata": {},
     "output_type": "execute_result"
    }
   ],
   "source": [
    "total_usage.head(15)"
   ]
  },
  {
   "cell_type": "code",
   "execution_count": 19,
   "id": "740f8b94",
   "metadata": {},
   "outputs": [
    {
     "name": "stdout",
     "output_type": "stream",
     "text": [
      "<class 'pandas.core.frame.DataFrame'>\n",
      "MultiIndex: 3214 entries, (1000, Timestamp('2018-05-01 00:00:00')) to (1499, Timestamp('2018-12-01 00:00:00'))\n",
      "Data columns (total 7 columns):\n",
      " #   Column          Non-Null Count  Dtype  \n",
      "---  ------          --------------  -----  \n",
      " 0   calls_count     3214 non-null   int32  \n",
      " 1   calls_duration  3214 non-null   int32  \n",
      " 2   gb_used         3214 non-null   float64\n",
      " 3   messages_count  3214 non-null   int32  \n",
      " 4   city            3214 non-null   object \n",
      " 5   tariff          3214 non-null   object \n",
      " 6   proceeds        3214 non-null   float64\n",
      "dtypes: float64(2), int32(3), object(2)\n",
      "memory usage: 168.1+ KB\n"
     ]
    }
   ],
   "source": [
    "total_usage.info()"
   ]
  },
  {
   "cell_type": "markdown",
   "id": "70daffe9",
   "metadata": {},
   "source": [
    "Пропусков нет, рассчеты проведены корректно."
   ]
  },
  {
   "cell_type": "markdown",
   "id": "5a0016cb",
   "metadata": {},
   "source": [
    "# Анализ данных\n",
    "В качестве анализа пройдемся по количеству минут, объему интернет-трафика и количеству сообщений для для тарифов \"smart\" и \"ultra\". Посмотрим их средние, дисперсии и стандартные отклонения. Построоим гистограммы."
   ]
  },
  {
   "cell_type": "code",
   "execution_count": 20,
   "id": "2ae279be",
   "metadata": {},
   "outputs": [],
   "source": [
    "smart = total_usage[total_usage['tariff'] == 'smart']\n",
    "ultra = total_usage[total_usage['tariff'] == 'ultra']"
   ]
  },
  {
   "cell_type": "markdown",
   "id": "d201ed2c",
   "metadata": {},
   "source": [
    "## Звонки"
   ]
  },
  {
   "cell_type": "markdown",
   "id": "15c88277",
   "metadata": {},
   "source": [
    "**Smart**"
   ]
  },
  {
   "cell_type": "code",
   "execution_count": 21,
   "id": "61aa349b",
   "metadata": {},
   "outputs": [
    {
     "name": "stdout",
     "output_type": "stream",
     "text": [
      "Среднее количество = 417.9349484073576\n",
      "Дисперсия = 36219.315784344246\n",
      "Стандартное отклонение = 190.3137298892128\n"
     ]
    }
   ],
   "source": [
    "print('Среднее количество =', smart['calls_duration'].mean())\n",
    "print('Дисперсия =', smart['calls_duration'].var())\n",
    "print('Стандартное отклонение =', smart['calls_duration'].std())"
   ]
  },
  {
   "cell_type": "markdown",
   "id": "e3fbcddf",
   "metadata": {},
   "source": [
    "**Ultra**"
   ]
  },
  {
   "cell_type": "code",
   "execution_count": 22,
   "id": "b7b2779a",
   "metadata": {},
   "outputs": [
    {
     "name": "stdout",
     "output_type": "stream",
     "text": [
      "Среднее количество = 526.6233502538071\n",
      "Дисперсия = 100873.63339730092\n",
      "Стандартное отклонение = 317.6060978591263\n"
     ]
    }
   ],
   "source": [
    "print('Среднее количество =', ultra['calls_duration'].mean())\n",
    "print('Дисперсия =', ultra['calls_duration'].var())\n",
    "print('Стандартное отклонение =', ultra['calls_duration'].std())"
   ]
  },
  {
   "cell_type": "markdown",
   "id": "0a56408b",
   "metadata": {},
   "source": [
    "**Сравнение**"
   ]
  },
  {
   "cell_type": "code",
   "execution_count": 23,
   "id": "a9623eaa",
   "metadata": {},
   "outputs": [
    {
     "data": {
      "image/png": "[encoded data removed]",
      "text/plain": [
       "<Figure size 720x432 with 1 Axes>"
      ]
     },
     "metadata": {
      "needs_background": "light"
     },
     "output_type": "display_data"
    }
   ],
   "source": [
    "plt.vlines(x=500, ymin=0, ymax=0.0022, color='b', linestyle='dashed', label='Граница тарифа \"smart\"')\n",
    "smart['calls_duration'].plot(kind='hist', bins=20, label='smart', alpha=0.6, density=True)\n",
    "\n",
    "(\n",
    "    ultra['calls_duration'].plot(kind='hist', bins=20, label='ultra', alpha=0.4, density=True,\n",
    "                                 color='y', grid=True, figsize=(10, 6))\n",
    ")\n",
    "plt.legend()\n",
    "plt.title('Сравнение суммарной ежемесячной длительности звонков тарифов \"smart\" и \"ultra\"')\n",
    "plt.ylabel('Плотность вероятности')\n",
    "plt.xlabel('Суммарная длительность звонков в месяц (мин)')\n",
    "plt.show()"
   ]
  },
  {
   "cell_type": "markdown",
   "id": "a8244de1",
   "metadata": {},
   "source": [
    "Как из гистограмм, так и из полученых дисперсий заметно, что для тарифа \"ultra\" разброс и разнообразие значений выше чем у тарифа \"smart\".\n",
    "\n",
    "Также по падению значений после границы тарифа \"smart\" видно, что чаще всего после использования пакета минут пользователи тарифа \"smart\" начинают воздерживаться от долгих звонков. Для пользователей тарифа \"ultra\" их граничное значение (3000 мин) оказалось недостижимым, поэтому они, по сути, пользуются звонками без ограничений. Поэтому для них среднее несколько выше, чем для пользователей тарифа \"smart\".\n",
    "\n",
    "Кроме того, по некоторой причине доля клиентов \"ultra\", которые не пользуются звонками вовсе (или очень мало ими пользуются) больше чем для тарифа \"smart\"."
   ]
  },
  {
   "cell_type": "markdown",
   "id": "9a3d541b",
   "metadata": {},
   "source": [
    "## Сообщения"
   ]
  },
  {
   "cell_type": "markdown",
   "id": "8af47842",
   "metadata": {},
   "source": [
    "**Smart**"
   ]
  },
  {
   "cell_type": "code",
   "execution_count": 24,
   "id": "4b8054f0",
   "metadata": {},
   "outputs": [
    {
     "name": "stdout",
     "output_type": "stream",
     "text": [
      "Среднее количество = 33.384028712427096\n",
      "Дисперсия = 796.8129584480083\n",
      "Стандартное отклонение = 28.22787555676141\n"
     ]
    }
   ],
   "source": [
    "print('Среднее количество =', smart['messages_count'].mean())\n",
    "print('Дисперсия =', smart['messages_count'].var())\n",
    "print('Стандартное отклонение =', smart['messages_count'].std())"
   ]
  },
  {
   "cell_type": "markdown",
   "id": "c201fb26",
   "metadata": {},
   "source": [
    "**Ultra**"
   ]
  },
  {
   "cell_type": "code",
   "execution_count": 25,
   "id": "2dd959e1",
   "metadata": {},
   "outputs": [
    {
     "name": "stdout",
     "output_type": "stream",
     "text": [
      "Среднее количество = 49.36345177664975\n",
      "Дисперсия = 2285.2661425446836\n",
      "Стандартное отклонение = 47.80445735017482\n"
     ]
    }
   ],
   "source": [
    "print('Среднее количество =', ultra['messages_count'].mean())\n",
    "print('Дисперсия =', ultra['messages_count'].var())\n",
    "print('Стандартное отклонение =', ultra['messages_count'].std())"
   ]
  },
  {
   "cell_type": "markdown",
   "id": "e5b081f8",
   "metadata": {},
   "source": [
    "**Сравнение**"
   ]
  },
  {
   "cell_type": "code",
   "execution_count": 26,
   "id": "1d49924d",
   "metadata": {},
   "outputs": [
    {
     "data": {
      "image/png": "[encoded data removed]",
      "text/plain": [
       "<Figure size 720x432 with 1 Axes>"
      ]
     },
     "metadata": {
      "needs_background": "light"
     },
     "output_type": "display_data"
    }
   ],
   "source": [
    "plt.vlines(x=50, ymin=0, ymax=0.015, color='b', linestyle='dashed', label='Граница тарифа \"smart\"')\n",
    "smart['messages_count'].plot(kind='hist', bins=20, label='smart', alpha=0.6, density=True)\n",
    "\n",
    "(\n",
    "    ultra['messages_count'].plot(kind='hist', bins=20, label='ultra', alpha=0.4, density=True,\n",
    "                                 color='y', grid=True, figsize=(10, 6))\n",
    ")\n",
    "plt.legend()\n",
    "plt.title('Сравнение суммарного количества сообщений тарифов \"smart\" и \"ultra\"')\n",
    "plt.ylabel('Плотность вероятности')\n",
    "plt.xlabel('Суммарное количество сообщений в месяц (мин)')\n",
    "plt.show()"
   ]
  },
  {
   "cell_type": "markdown",
   "id": "f06ed9df",
   "metadata": {},
   "source": [
    "Вновь как по дисперсии так и по самим гистограммам видно, что разнообразие количества сообщений для пользователей \"ultra\" несколько шире, чем для пользователей \"smart\".\n",
    "\n",
    "И вновь видно как количество отравленных сообщений постепенно падает для пользователей \"smart\" после достижения границы. Поэтому среднее количество отправленных сообщений пользователей тарифа \"ultra\" несколько выше.\n",
    "\n",
    "Тем не менее среди пользователей обоих тарифов велика доля тех кто почти или вовсе не пользуется сообщениями."
   ]
  },
  {
   "cell_type": "markdown",
   "id": "d6839ebb",
   "metadata": {},
   "source": [
    "## Интернет-трафик"
   ]
  },
  {
   "cell_type": "markdown",
   "id": "9e2bd911",
   "metadata": {},
   "source": [
    "**Smart**"
   ]
  },
  {
   "cell_type": "code",
   "execution_count": 27,
   "id": "fea0d4e4",
   "metadata": {},
   "outputs": [
    {
     "name": "stdout",
     "output_type": "stream",
     "text": [
      "Среднее количество = 16.328847016599372\n",
      "Дисперсия = 33.02870517811158\n",
      "Стандартное отклонение = 5.747060568509052\n"
     ]
    }
   ],
   "source": [
    "print('Среднее количество =', smart['gb_used'].mean())\n",
    "print('Дисперсия =', smart['gb_used'].var())\n",
    "print('Стандартное отклонение =', smart['gb_used'].std())"
   ]
  },
  {
   "cell_type": "markdown",
   "id": "524694fa",
   "metadata": {},
   "source": [
    "**Ultra**"
   ]
  },
  {
   "cell_type": "code",
   "execution_count": 28,
   "id": "1400feb2",
   "metadata": {},
   "outputs": [
    {
     "name": "stdout",
     "output_type": "stream",
     "text": [
      "Среднее количество = 19.494416243654822\n",
      "Дисперсия = 97.09168626965469\n",
      "Стандартное отклонение = 9.853511367510299\n"
     ]
    }
   ],
   "source": [
    "print('Среднее количество =', ultra['gb_used'].mean())\n",
    "print('Дисперсия =', ultra['gb_used'].var())\n",
    "print('Стандартное отклонение =', ultra['gb_used'].std())"
   ]
  },
  {
   "cell_type": "markdown",
   "id": "caac5667",
   "metadata": {},
   "source": [
    "**Сравнение**"
   ]
  },
  {
   "cell_type": "code",
   "execution_count": 29,
   "id": "25758cf2",
   "metadata": {},
   "outputs": [
    {
     "data": {
      "image/png": "[encoded data removed]",
      "text/plain": [
       "<Figure size 720x432 with 1 Axes>"
      ]
     },
     "metadata": {
      "needs_background": "light"
     },
     "output_type": "display_data"
    }
   ],
   "source": [
    "plt.vlines(x=15, ymin=0, ymax=0.085, color='b', linestyle='dashed', label='Граница тарифа \"smart\"')\n",
    "plt.vlines(x=30, ymin=0, ymax=0.05, color='m', linestyle='dashed', label='Граница тарифа \"ultra\"')\n",
    "smart['gb_used'].plot(kind='hist', bins=20, label='smart', alpha=0.6, density=True)\n",
    "\n",
    "(\n",
    "    ultra['gb_used'].plot(kind='hist', bins=20, label='ultra', alpha=0.4, density=True,\n",
    "                                 color='y', grid=True, figsize=(10, 6))\n",
    ")\n",
    "plt.legend()\n",
    "plt.title('Сравнение суммарного использованного интернет-трафика тарифов \"smart\" и \"ultra\"')\n",
    "plt.ylabel('Плотность вероятности')\n",
    "plt.xlabel('Суммарный использованный интернет-трафик в месяц (Гб)')\n",
    "plt.show()"
   ]
  },
  {
   "cell_type": "markdown",
   "id": "16ee4f7b",
   "metadata": {},
   "source": [
    "Эти гистограммы выглядят более пестро чем предыдущие, тем не менее по-прежнему как дисперсия так и внешний вид гистограммы указывают на более широкое распределение для тарифа \"ultra\", чем для \"smart\".\n",
    "\n",
    "В этот раз видно, что хоть пользователи тарифа \"smart\" стараются держаться ближе к границе своего тарифа, все же они довольно часто её переходят, и продолжают пользоваться интернетом, несмотря на исчерпание пакета интернет-трафика.\n",
    "\n",
    "Более того, даже пользователи тарифа \"ultra\" порой исчерпывают свой пакет гигабайт, и, несмотря на это, продолжают пользоваться интернетом. Хотя это и происходит значительно реже чем для пользователей \"smart\". В среднем пользователи \"ultra\" ислоьзуют больше интернет трафика, чем пользователи \"smart\".\n",
    "\n",
    "Из всего этого видно, что изначального пакета интернета для пользователей обоих тарифов бывает недостаточно."
   ]
  },
  {
   "cell_type": "markdown",
   "id": "c096a326",
   "metadata": {},
   "source": [
    "# Проверка гипотез\n",
    "## Гипотеза о различии выручек с тарифов\n",
    "Средняя выручка с пользователей тарифов «Ультра» и «Смарт» различается.\n",
    "\n",
    "Сформулируем нулевую гипотезу: Средняя выручка с пользователей тарифов «Ультра» и «Смарт» одинакова.\n",
    "\n",
    "Альтернативная гипотеза: Средняя выручка с пользователей тарифов «Ультра» и «Смарт» различается.\n",
    "\n",
    "Пороговым значением p-критерия значимости будет значение в 0.05."
   ]
  },
  {
   "cell_type": "code",
   "execution_count": 30,
   "id": "387e7694",
   "metadata": {},
   "outputs": [],
   "source": [
    "ser_tariff = total_usage.reset_index().groupby(['user_id', 'tariff'])['proceeds'].mean()\n",
    "ser_smart = ser_tariff.loc[(slice(None), 'smart')]\n",
    "ser_ultra = ser_tariff.loc[(slice(None), 'ultra')]"
   ]
  },
  {
   "cell_type": "markdown",
   "id": "99ceb86f",
   "metadata": {},
   "source": [
    "Для начала посмотрим на распределение средних месячных выручек с клиента для этих тарифов."
   ]
  },
  {
   "cell_type": "code",
   "execution_count": 31,
   "id": "b6bd6c9c",
   "metadata": {},
   "outputs": [
    {
     "data": {
      "image/png": "[encoded data removed]",
      "text/plain": [
       "<Figure size 432x288 with 1 Axes>"
      ]
     },
     "metadata": {
      "needs_background": "light"
     },
     "output_type": "display_data"
    }
   ],
   "source": [
    "ser_smart.hist()\n",
    "plt.title('Тариф \"smart\"')\n",
    "plt.ylabel('Частота')\n",
    "plt.xlabel('Средняя месячная выручка с клиента (руб)')\n",
    "plt.show()"
   ]
  },
  {
   "cell_type": "code",
   "execution_count": 32,
   "id": "d5a640b0",
   "metadata": {},
   "outputs": [
    {
     "data": {
      "image/png": "[encoded data removed]",
      "text/plain": [
       "<Figure size 432x288 with 1 Axes>"
      ]
     },
     "metadata": {
      "needs_background": "light"
     },
     "output_type": "display_data"
    }
   ],
   "source": [
    "ser_ultra.hist()\n",
    "plt.title('Тариф \"ultra\"')\n",
    "plt.ylabel('Частота')\n",
    "plt.xlabel('Средняя месячная выручка с клиента (руб)')\n",
    "plt.show()"
   ]
  },
  {
   "cell_type": "markdown",
   "id": "025eeafc",
   "metadata": {},
   "source": [
    "Эти распределения не очень похожи на нормальные. Поэтому для сравнения их дисперсий воспользуемся тестом Левена.\n",
    "\n",
    "Нулевая гипотеза для теста Левена: Дисперсии генеральных совокупностей для распределений выручек тарифов \"smart\" и \"ultra\" равны. Пороговым значением критерия значимости назначим значение 0.05."
   ]
  },
  {
   "cell_type": "code",
   "execution_count": 33,
   "id": "a594dd8a",
   "metadata": {},
   "outputs": [
    {
     "name": "stdout",
     "output_type": "stream",
     "text": [
      "Дисперсия средних месячных выручек тарифа \"smart\" = 367285.1500142482\n",
      "Дисперсия средних месячных выручек тарифа \"ultra\" = 89121.78498148198\n",
      "p-значение критерия Левена = 1.5891478588670946e-18\n"
     ]
    }
   ],
   "source": [
    "levene = st.levene(ser_smart, ser_ultra)\n",
    "print('Дисперсия средних месячных выручек тарифа \"smart\" =', ser_smart.var())\n",
    "print('Дисперсия средних месячных выручек тарифа \"ultra\" =', ser_ultra.var())\n",
    "print('p-значение критерия Левена =', levene.pvalue)"
   ]
  },
  {
   "cell_type": "markdown",
   "id": "9c6d30cb",
   "metadata": {},
   "source": [
    "Поскольку p-значение критерия Левена = 1.5891478588670946e-18 значительно меньше 0.05, отвергнем нулевую гипотезу в пользу гипотезы о том, что дисперсии генеральных совокупностей различны. А значит для сравнения средних выручек воспользуемся t-критерием Уэлча."
   ]
  },
  {
   "cell_type": "code",
   "execution_count": 34,
   "id": "76e897c8",
   "metadata": {},
   "outputs": [
    {
     "name": "stdout",
     "output_type": "stream",
     "text": [
      "Средняя выручка для тарифа \"smart\" = 1324.4010192743758\n",
      "Средняя выручка для тарифа \"ultra\" = 2086.4646586521594\n",
      "p-значение t-критерия Уэлча = 2.084961899583595e-59\n"
     ]
    }
   ],
   "source": [
    "results = st.ttest_ind(ser_smart, ser_ultra, equal_var=False)\n",
    "print('Средняя выручка для тарифа \"smart\" =', ser_smart.mean())\n",
    "print('Средняя выручка для тарифа \"ultra\" =', ser_ultra.mean())\n",
    "print('p-значение t-критерия Уэлча =' ,results.pvalue)"
   ]
  },
  {
   "cell_type": "markdown",
   "id": "67aeb90f",
   "metadata": {},
   "source": [
    "Полученное p-значенние значительно меньше порогового 0.05. А значит примем альтернативную гипотезу о том, что средняя выручка с разных тарифов различна."
   ]
  },
  {
   "cell_type": "markdown",
   "id": "0d4c89f1",
   "metadata": {},
   "source": [
    "## Гипотеза о различии выручек с в Москве и других регионах\n",
    "Средняя выручка пользователей из Москвы отличается от выручки пользователей из других регионов.\n",
    "\n",
    "Сформулируем нулевую гипотезу: Средняя выручка с пользователей из Москвы и с ползователей из регионов одинакова.\n",
    "\n",
    "Альтернативная гипотеза: Средняя выручка с пользователей из Москвы и с ползователей из регионов различается.\n",
    "\n",
    "Пороговым значением p-критерия значимости будет значение в 0.05. Пойдем по алгоритму проверки схожему с проверкой предыдущей гипотезы."
   ]
  },
  {
   "cell_type": "code",
   "execution_count": 35,
   "id": "2206323f",
   "metadata": {},
   "outputs": [],
   "source": [
    "ser_city = total_usage.copy()\n",
    "ser_city['city'].where(ser_city['city'] == 'Москва', 'не Москва', inplace=True)\n",
    "ser_city = ser_city.reset_index().groupby(['user_id', 'city'])['proceeds'].mean()\n",
    "ser_moscow = ser_city.loc[(slice(None), 'Москва')]\n",
    "ser_not_moscow = ser_city.loc[(slice(None), 'не Москва')]"
   ]
  },
  {
   "cell_type": "code",
   "execution_count": 36,
   "id": "b813a4e0",
   "metadata": {},
   "outputs": [
    {
     "data": {
      "image/png": "[encoded data removed]",
      "text/plain": [
       "<Figure size 432x288 with 1 Axes>"
      ]
     },
     "metadata": {
      "needs_background": "light"
     },
     "output_type": "display_data"
    }
   ],
   "source": [
    "ser_moscow.hist()\n",
    "plt.title('Москва')\n",
    "plt.ylabel('Частота')\n",
    "plt.xlabel('Средняя месячная выручка с клиента (руб)')\n",
    "plt.show()"
   ]
  },
  {
   "cell_type": "code",
   "execution_count": 37,
   "id": "0c8f2404",
   "metadata": {},
   "outputs": [
    {
     "data": {
      "image/png": "[encoded data removed]",
      "text/plain": [
       "<Figure size 432x288 with 1 Axes>"
      ]
     },
     "metadata": {
      "needs_background": "light"
     },
     "output_type": "display_data"
    }
   ],
   "source": [
    "ser_not_moscow.hist()\n",
    "plt.title('Регионы')\n",
    "plt.ylabel('Частота')\n",
    "plt.xlabel('Средняя месячная выручка с клиента (руб)')\n",
    "plt.show()"
   ]
  },
  {
   "cell_type": "markdown",
   "id": "3343f5b2",
   "metadata": {},
   "source": [
    "Распределения непохожи на нормальные, применим тест Левена. Пороговым значением критерия значимости назначим значение 0.05."
   ]
  },
  {
   "cell_type": "code",
   "execution_count": 38,
   "id": "f2801103",
   "metadata": {},
   "outputs": [
    {
     "name": "stdout",
     "output_type": "stream",
     "text": [
      "Дисперсия средних месячных выручек с пользователей из Москвы = 367815.3267880204\n",
      "Дисперсия средних месячных выручек с пользователей из регионов = 415337.8863947992\n",
      "p-значение критерия Левена = 0.9512125221472596\n"
     ]
    }
   ],
   "source": [
    "levene = st.levene(ser_moscow, ser_not_moscow)\n",
    "print('Дисперсия средних месячных выручек с пользователей из Москвы =', ser_moscow.var())\n",
    "print('Дисперсия средних месячных выручек с пользователей из регионов =', ser_not_moscow.var())\n",
    "print('p-значение критерия Левена =', levene.pvalue)"
   ]
  },
  {
   "cell_type": "markdown",
   "id": "201a5322",
   "metadata": {},
   "source": [
    "Что больше 0.05. Гипотезу от том, что дисперсии генеральных совокупностей одинаковы не отвергаем. Значит проверку различия средних будем проводить стандартным t-тестом для независимых выборок."
   ]
  },
  {
   "cell_type": "code",
   "execution_count": 39,
   "id": "d131eaff",
   "metadata": {},
   "outputs": [
    {
     "name": "stdout",
     "output_type": "stream",
     "text": [
      "Средняя выручка с пользователей из Москвы = 1498.465851152215\n",
      "Средняя выручка с пользователей из регионов = 1563.8822229636137\n",
      "p-значение t-критерия = 0.36094633224451433\n"
     ]
    }
   ],
   "source": [
    "results = st.ttest_ind(ser_moscow, ser_not_moscow)\n",
    "print('Средняя выручка с пользователей из Москвы =', ser_moscow.mean())\n",
    "print('Средняя выручка с пользователей из регионов =', ser_not_moscow.mean())\n",
    "print('p-значение t-критерия =' ,results.pvalue)"
   ]
  },
  {
   "cell_type": "markdown",
   "id": "322c0c23",
   "metadata": {},
   "source": [
    "Что вновь больше чем 0.05. Значит не отвергаем нулевую гипотезу о том, что средняя выручка с пользователей из Москвы и с пользователей из регионов одинакова."
   ]
  },
  {
   "cell_type": "markdown",
   "id": "d116fa24",
   "metadata": {},
   "source": [
    "# Выводы\n",
    "1. Средняя выручка для тарифа \"smart\" = 1324 руб, средняя выручка для тарифа \"ultra\" = 2086 руб для данной выборки. Различие признано статистически значимым. Значит продвижение тарифа \"ultra\" является более выгодным.\n",
    "2. Гипотеза о различии средних выручек с клиентов из Москвы и с клиентов из регионов себя не оправдала. Они приносят примерно одинаковый доход."
   ]
  }
 ],
 "metadata": {
  "ExecuteTimeLog": [
   {
    "duration": 1411,
    "start_time": "2021-12-14T18:55:46.375Z"
   },
   {
    "duration": 1157,
    "start_time": "2021-12-14T18:55:47.794Z"
   },
   {
    "duration": 263,
    "start_time": "2021-12-14T18:55:48.954Z"
   },
   {
    "duration": 12,
    "start_time": "2021-12-14T18:55:49.220Z"
   },
   {
    "duration": 109,
    "start_time": "2021-12-14T18:55:49.234Z"
   },
   {
    "duration": 102,
    "start_time": "2021-12-14T18:55:49.346Z"
   },
   {
    "duration": 77,
    "start_time": "2021-12-14T18:55:49.450Z"
   },
   {
    "duration": 52,
    "start_time": "2021-12-14T18:55:49.531Z"
   },
   {
    "duration": 53,
    "start_time": "2021-12-14T18:55:49.586Z"
   },
   {
    "duration": 9,
    "start_time": "2021-12-14T18:55:49.641Z"
   },
   {
    "duration": 6,
    "start_time": "2021-12-14T18:55:49.652Z"
   },
   {
    "duration": 16,
    "start_time": "2021-12-14T18:55:49.660Z"
   },
   {
    "duration": 45,
    "start_time": "2021-12-14T18:55:49.678Z"
   },
   {
    "duration": 4,
    "start_time": "2021-12-14T18:55:49.725Z"
   },
   {
    "duration": 37,
    "start_time": "2021-12-14T18:55:49.731Z"
   },
   {
    "duration": 24,
    "start_time": "2021-12-14T18:55:49.770Z"
   },
   {
    "duration": 40,
    "start_time": "2021-12-14T18:55:49.797Z"
   },
   {
    "duration": 16,
    "start_time": "2021-12-14T18:55:49.840Z"
   },
   {
    "duration": 351,
    "start_time": "2021-12-14T18:55:49.859Z"
   },
   {
    "duration": 311,
    "start_time": "2021-12-14T18:55:50.213Z"
   },
   {
    "duration": 9,
    "start_time": "2021-12-14T18:55:50.527Z"
   },
   {
    "duration": 10,
    "start_time": "2021-12-14T18:55:50.539Z"
   },
   {
    "duration": 62,
    "start_time": "2021-12-14T18:55:50.555Z"
   },
   {
    "duration": 307,
    "start_time": "2021-12-14T18:55:50.620Z"
   },
   {
    "duration": 331,
    "start_time": "2021-12-14T18:55:50.930Z"
   },
   {
    "duration": 8,
    "start_time": "2021-12-14T18:55:51.263Z"
   },
   {
    "duration": 9,
    "start_time": "2021-12-14T18:55:51.274Z"
   },
   {
    "duration": 275,
    "start_time": "2021-12-14T18:56:49.893Z"
   },
   {
    "duration": 32,
    "start_time": "2021-12-14T18:57:27.854Z"
   },
   {
    "duration": 34,
    "start_time": "2021-12-14T18:57:29.220Z"
   },
   {
    "duration": 24,
    "start_time": "2021-12-14T18:59:39.630Z"
   },
   {
    "duration": 16,
    "start_time": "2021-12-14T18:59:48.821Z"
   },
   {
    "duration": 5,
    "start_time": "2021-12-14T19:00:00.110Z"
   },
   {
    "duration": 8,
    "start_time": "2021-12-14T19:00:12.915Z"
   },
   {
    "duration": 6,
    "start_time": "2021-12-14T19:00:16.389Z"
   },
   {
    "duration": 18,
    "start_time": "2021-12-14T19:00:24.751Z"
   },
   {
    "duration": 7,
    "start_time": "2021-12-14T19:00:33.806Z"
   },
   {
    "duration": 26,
    "start_time": "2021-12-14T19:00:38.695Z"
   },
   {
    "duration": 6,
    "start_time": "2021-12-14T19:00:47.122Z"
   },
   {
    "duration": 6,
    "start_time": "2021-12-14T19:01:07.430Z"
   },
   {
    "duration": 15,
    "start_time": "2021-12-14T19:01:19.216Z"
   },
   {
    "duration": 6,
    "start_time": "2021-12-14T19:01:35.808Z"
   },
   {
    "duration": 15,
    "start_time": "2021-12-14T19:06:23.719Z"
   },
   {
    "duration": 5,
    "start_time": "2021-12-14T19:06:38.722Z"
   },
   {
    "duration": 7,
    "start_time": "2021-12-14T19:06:47.918Z"
   },
   {
    "duration": 7,
    "start_time": "2021-12-14T19:06:52.834Z"
   },
   {
    "duration": 17,
    "start_time": "2021-12-14T19:07:07.145Z"
   },
   {
    "duration": 16,
    "start_time": "2021-12-14T20:17:42.536Z"
   },
   {
    "duration": 6,
    "start_time": "2021-12-14T20:21:29.432Z"
   },
   {
    "duration": 9197,
    "start_time": "2021-12-14T20:21:57.726Z"
   },
   {
    "duration": 26,
    "start_time": "2021-12-14T20:22:11.718Z"
   },
   {
    "duration": 4,
    "start_time": "2021-12-14T20:22:35.576Z"
   },
   {
    "duration": 1256,
    "start_time": "2021-12-14T20:22:35.982Z"
   },
   {
    "duration": 241,
    "start_time": "2021-12-14T20:22:37.241Z"
   },
   {
    "duration": 32,
    "start_time": "2021-12-14T20:22:37.485Z"
   },
   {
    "duration": 113,
    "start_time": "2021-12-14T20:22:37.529Z"
   },
   {
    "duration": 91,
    "start_time": "2021-12-14T20:22:37.995Z"
   },
   {
    "duration": 72,
    "start_time": "2021-12-14T20:22:38.993Z"
   },
   {
    "duration": 52,
    "start_time": "2021-12-14T20:22:39.559Z"
   },
   {
    "duration": 6,
    "start_time": "2021-12-14T20:22:40.007Z"
   },
   {
    "duration": 376,
    "start_time": "2021-12-14T20:22:40.488Z"
   },
   {
    "duration": 26,
    "start_time": "2021-12-14T20:22:45.284Z"
   },
   {
    "duration": 52,
    "start_time": "2021-12-14T20:22:54.114Z"
   },
   {
    "duration": 23,
    "start_time": "2021-12-14T20:22:59.840Z"
   },
   {
    "duration": 6,
    "start_time": "2021-12-14T20:23:06.464Z"
   },
   {
    "duration": 8975,
    "start_time": "2021-12-14T20:23:56.321Z"
   },
   {
    "duration": 9,
    "start_time": "2021-12-14T20:24:11.679Z"
   },
   {
    "duration": 4,
    "start_time": "2021-12-14T20:24:12.526Z"
   },
   {
    "duration": 13,
    "start_time": "2021-12-14T20:24:17.014Z"
   },
   {
    "duration": 105,
    "start_time": "2021-12-14T20:24:19.678Z"
   },
   {
    "duration": 6,
    "start_time": "2021-12-14T20:24:21.574Z"
   },
   {
    "duration": 18,
    "start_time": "2021-12-14T20:24:42.244Z"
   },
   {
    "duration": 6,
    "start_time": "2021-12-14T20:24:51.051Z"
   },
   {
    "duration": 33,
    "start_time": "2021-12-14T20:25:13.938Z"
   },
   {
    "duration": 6,
    "start_time": "2021-12-14T20:25:21.394Z"
   },
   {
    "duration": 7,
    "start_time": "2021-12-14T20:25:25.891Z"
   },
   {
    "duration": 387,
    "start_time": "2021-12-14T20:25:48.385Z"
   },
   {
    "duration": 333,
    "start_time": "2021-12-14T20:25:54.578Z"
   },
   {
    "duration": 4,
    "start_time": "2021-12-14T20:26:02.686Z"
   },
   {
    "duration": 6,
    "start_time": "2021-12-14T20:26:02.958Z"
   },
   {
    "duration": 33,
    "start_time": "2021-12-14T20:29:18.504Z"
   },
   {
    "duration": 330,
    "start_time": "2021-12-14T20:29:21.026Z"
   },
   {
    "duration": 4,
    "start_time": "2021-12-14T20:29:33.134Z"
   },
   {
    "duration": 13,
    "start_time": "2021-12-14T20:29:33.846Z"
   },
   {
    "duration": 25,
    "start_time": "2021-12-14T20:29:36.786Z"
   },
   {
    "duration": 5,
    "start_time": "2021-12-14T20:29:53.308Z"
   },
   {
    "duration": 6,
    "start_time": "2021-12-14T20:30:12.703Z"
   },
   {
    "duration": 6,
    "start_time": "2021-12-14T20:30:22.370Z"
   },
   {
    "duration": 6,
    "start_time": "2021-12-14T20:30:25.062Z"
   },
   {
    "duration": 6,
    "start_time": "2021-12-14T20:30:32.179Z"
   },
   {
    "duration": 8495,
    "start_time": "2021-12-14T20:36:18.304Z"
   },
   {
    "duration": 6,
    "start_time": "2021-12-14T20:36:27.384Z"
   },
   {
    "duration": 28,
    "start_time": "2021-12-14T20:38:45.717Z"
   },
   {
    "duration": 9156,
    "start_time": "2021-12-14T20:38:52.813Z"
   },
   {
    "duration": 10,
    "start_time": "2021-12-14T20:39:09.077Z"
   },
   {
    "duration": 355,
    "start_time": "2021-12-14T20:39:18.225Z"
   },
   {
    "duration": 8,
    "start_time": "2021-12-14T20:39:22.636Z"
   },
   {
    "duration": 25,
    "start_time": "2021-12-14T20:42:42.718Z"
   },
   {
    "duration": 11,
    "start_time": "2021-12-14T20:48:42.164Z"
   },
   {
    "duration": 338,
    "start_time": "2021-12-14T20:48:52.888Z"
   },
   {
    "duration": 321,
    "start_time": "2021-12-14T20:49:02.564Z"
   },
   {
    "duration": 11,
    "start_time": "2021-12-14T20:49:06.416Z"
   },
   {
    "duration": 7,
    "start_time": "2021-12-14T20:49:20.986Z"
   },
   {
    "duration": 349,
    "start_time": "2021-12-14T20:51:11.186Z"
   },
   {
    "duration": 356,
    "start_time": "2021-12-14T20:51:21.005Z"
   },
   {
    "duration": 5,
    "start_time": "2021-12-14T20:51:24.489Z"
   },
   {
    "duration": 1004,
    "start_time": "2021-12-14T20:51:24.498Z"
   },
   {
    "duration": 262,
    "start_time": "2021-12-14T20:51:25.505Z"
   },
   {
    "duration": 12,
    "start_time": "2021-12-14T20:51:25.770Z"
   },
   {
    "duration": 120,
    "start_time": "2021-12-14T20:51:25.784Z"
   },
   {
    "duration": 100,
    "start_time": "2021-12-14T20:51:25.906Z"
   },
   {
    "duration": 74,
    "start_time": "2021-12-14T20:51:26.008Z"
   },
   {
    "duration": 77,
    "start_time": "2021-12-14T20:51:26.086Z"
   },
   {
    "duration": 36,
    "start_time": "2021-12-14T20:51:26.166Z"
   },
   {
    "duration": 20,
    "start_time": "2021-12-14T20:51:26.204Z"
   },
   {
    "duration": 4,
    "start_time": "2021-12-14T20:51:26.226Z"
   },
   {
    "duration": 15,
    "start_time": "2021-12-14T20:51:26.233Z"
   },
   {
    "duration": 13,
    "start_time": "2021-12-14T20:51:26.250Z"
   },
   {
    "duration": 4,
    "start_time": "2021-12-14T20:51:26.265Z"
   },
   {
    "duration": 78,
    "start_time": "2021-12-14T20:51:26.271Z"
   },
   {
    "duration": 18,
    "start_time": "2021-12-14T20:51:26.352Z"
   },
   {
    "duration": 11,
    "start_time": "2021-12-14T20:51:26.372Z"
   },
   {
    "duration": 40,
    "start_time": "2021-12-14T20:51:26.386Z"
   },
   {
    "duration": 339,
    "start_time": "2021-12-14T20:51:26.429Z"
   },
   {
    "duration": 321,
    "start_time": "2021-12-14T20:51:26.771Z"
   },
   {
    "duration": 8,
    "start_time": "2021-12-14T20:51:27.095Z"
   },
   {
    "duration": 16,
    "start_time": "2021-12-14T20:51:27.105Z"
   },
   {
    "duration": 18,
    "start_time": "2021-12-14T20:51:27.125Z"
   },
   {
    "duration": 332,
    "start_time": "2021-12-14T20:51:27.145Z"
   },
   {
    "duration": 331,
    "start_time": "2021-12-14T20:51:27.480Z"
   },
   {
    "duration": 8,
    "start_time": "2021-12-14T20:51:27.816Z"
   },
   {
    "duration": 13,
    "start_time": "2021-12-14T20:51:27.826Z"
   },
   {
    "duration": 668,
    "start_time": "2021-12-14T20:51:40.455Z"
   },
   {
    "duration": 341,
    "start_time": "2021-12-14T20:51:44.822Z"
   },
   {
    "duration": 370,
    "start_time": "2021-12-14T20:51:48.446Z"
   },
   {
    "duration": 395,
    "start_time": "2021-12-14T20:51:50.934Z"
   },
   {
    "duration": 296,
    "start_time": "2021-12-14T20:52:26.634Z"
   },
   {
    "duration": 323,
    "start_time": "2021-12-14T20:52:29.112Z"
   },
   {
    "duration": 346,
    "start_time": "2021-12-14T20:52:38.040Z"
   },
   {
    "duration": 361,
    "start_time": "2021-12-14T20:52:40.949Z"
   },
   {
    "duration": 10994,
    "start_time": "2021-12-14T20:53:29.705Z"
   },
   {
    "duration": 544,
    "start_time": "2021-12-14T20:53:51.564Z"
   },
   {
    "duration": 17,
    "start_time": "2021-12-14T20:54:44.126Z"
   },
   {
    "duration": 497,
    "start_time": "2021-12-14T20:55:07.333Z"
   },
   {
    "duration": 308,
    "start_time": "2021-12-14T20:55:16.961Z"
   },
   {
    "duration": 310,
    "start_time": "2021-12-14T20:56:25.527Z"
   },
   {
    "duration": 1054,
    "start_time": "2021-12-15T03:40:22.768Z"
   },
   {
    "duration": 1314,
    "start_time": "2021-12-15T03:40:23.824Z"
   },
   {
    "duration": 148,
    "start_time": "2021-12-15T03:40:25.140Z"
   },
   {
    "duration": 8,
    "start_time": "2021-12-15T03:40:25.290Z"
   },
   {
    "duration": 58,
    "start_time": "2021-12-15T03:40:25.299Z"
   },
   {
    "duration": 3,
    "start_time": "2021-12-15T03:41:35.353Z"
   },
   {
    "duration": 4,
    "start_time": "2021-12-15T03:41:44.311Z"
   },
   {
    "duration": 10,
    "start_time": "2021-12-15T03:41:52.763Z"
   },
   {
    "duration": 20,
    "start_time": "2021-12-15T03:43:07.977Z"
   },
   {
    "duration": 15,
    "start_time": "2021-12-15T03:43:36.927Z"
   },
   {
    "duration": 33,
    "start_time": "2021-12-15T03:45:21.062Z"
   },
   {
    "duration": 364,
    "start_time": "2021-12-15T03:47:12.461Z"
   },
   {
    "duration": 404,
    "start_time": "2021-12-15T08:24:37.103Z"
   },
   {
    "duration": 1392,
    "start_time": "2021-12-15T08:24:44.940Z"
   },
   {
    "duration": 1007,
    "start_time": "2021-12-15T08:24:46.335Z"
   },
   {
    "duration": 189,
    "start_time": "2021-12-15T08:24:47.344Z"
   },
   {
    "duration": 28,
    "start_time": "2021-12-15T08:24:47.535Z"
   },
   {
    "duration": 101,
    "start_time": "2021-12-15T08:24:47.565Z"
   },
   {
    "duration": 5,
    "start_time": "2021-12-15T08:24:47.668Z"
   },
   {
    "duration": 24,
    "start_time": "2021-12-15T08:24:47.675Z"
   },
   {
    "duration": 18,
    "start_time": "2021-12-15T08:24:47.701Z"
   },
   {
    "duration": 14,
    "start_time": "2021-12-15T08:25:02.045Z"
   },
   {
    "duration": 24,
    "start_time": "2021-12-15T08:25:09.566Z"
   },
   {
    "duration": 3,
    "start_time": "2021-12-15T08:43:08.059Z"
   },
   {
    "duration": 309,
    "start_time": "2021-12-15T08:49:22.757Z"
   },
   {
    "duration": 3,
    "start_time": "2021-12-15T08:49:30.079Z"
   },
   {
    "duration": 1067,
    "start_time": "2021-12-15T08:49:30.085Z"
   },
   {
    "duration": 184,
    "start_time": "2021-12-15T08:49:31.154Z"
   },
   {
    "duration": 12,
    "start_time": "2021-12-15T08:49:31.364Z"
   },
   {
    "duration": 66,
    "start_time": "2021-12-15T08:49:31.378Z"
   },
   {
    "duration": 3,
    "start_time": "2021-12-15T08:49:31.446Z"
   },
   {
    "duration": 25,
    "start_time": "2021-12-15T08:49:31.464Z"
   },
   {
    "duration": 16,
    "start_time": "2021-12-15T08:49:31.491Z"
   },
   {
    "duration": 75,
    "start_time": "2021-12-15T08:49:31.508Z"
   },
   {
    "duration": 53,
    "start_time": "2021-12-15T08:49:31.585Z"
   },
   {
    "duration": 43,
    "start_time": "2021-12-15T08:49:31.640Z"
   },
   {
    "duration": 7,
    "start_time": "2021-12-15T08:49:31.685Z"
   },
   {
    "duration": 28,
    "start_time": "2021-12-15T08:49:31.694Z"
   },
   {
    "duration": 15,
    "start_time": "2021-12-15T08:49:31.724Z"
   },
   {
    "duration": 11,
    "start_time": "2021-12-15T08:49:31.740Z"
   },
   {
    "duration": 4,
    "start_time": "2021-12-15T08:49:31.753Z"
   },
   {
    "duration": 35,
    "start_time": "2021-12-15T08:49:31.758Z"
   },
   {
    "duration": 13,
    "start_time": "2021-12-15T08:49:31.795Z"
   },
   {
    "duration": 9,
    "start_time": "2021-12-15T08:49:31.810Z"
   },
   {
    "duration": 180,
    "start_time": "2021-12-15T08:49:33.532Z"
   },
   {
    "duration": 186,
    "start_time": "2021-12-15T08:50:08.444Z"
   },
   {
    "duration": 179,
    "start_time": "2021-12-15T08:50:18.324Z"
   },
   {
    "duration": 199,
    "start_time": "2021-12-15T08:50:22.787Z"
   },
   {
    "duration": 207,
    "start_time": "2021-12-15T08:50:45.235Z"
   },
   {
    "duration": 12,
    "start_time": "2021-12-15T08:56:33.701Z"
   },
   {
    "duration": 600,
    "start_time": "2021-12-15T09:00:33.706Z"
   },
   {
    "duration": 7,
    "start_time": "2021-12-15T09:00:59.818Z"
   },
   {
    "duration": 524,
    "start_time": "2021-12-15T15:31:00.044Z"
   },
   {
    "duration": 1577,
    "start_time": "2021-12-15T15:31:05.473Z"
   },
   {
    "duration": 3036,
    "start_time": "2021-12-15T15:31:07.052Z"
   },
   {
    "duration": 281,
    "start_time": "2021-12-15T15:31:10.091Z"
   },
   {
    "duration": 13,
    "start_time": "2021-12-15T15:31:10.376Z"
   },
   {
    "duration": 159,
    "start_time": "2021-12-15T15:31:10.393Z"
   },
   {
    "duration": 4,
    "start_time": "2021-12-15T15:31:10.556Z"
   },
   {
    "duration": 34,
    "start_time": "2021-12-15T15:31:10.562Z"
   },
   {
    "duration": 22,
    "start_time": "2021-12-15T15:31:10.601Z"
   },
   {
    "duration": 116,
    "start_time": "2021-12-15T15:31:10.627Z"
   },
   {
    "duration": 68,
    "start_time": "2021-12-15T15:31:10.747Z"
   },
   {
    "duration": 57,
    "start_time": "2021-12-15T15:31:10.817Z"
   },
   {
    "duration": 10,
    "start_time": "2021-12-15T15:31:10.876Z"
   },
   {
    "duration": 5,
    "start_time": "2021-12-15T15:31:10.888Z"
   },
   {
    "duration": 12,
    "start_time": "2021-12-15T15:31:10.896Z"
   },
   {
    "duration": 59,
    "start_time": "2021-12-15T15:31:10.911Z"
   },
   {
    "duration": 5,
    "start_time": "2021-12-15T15:31:10.973Z"
   },
   {
    "duration": 53,
    "start_time": "2021-12-15T15:31:10.981Z"
   },
   {
    "duration": 47,
    "start_time": "2021-12-15T15:31:11.037Z"
   },
   {
    "duration": 11,
    "start_time": "2021-12-15T15:31:11.086Z"
   },
   {
    "duration": 10,
    "start_time": "2021-12-15T15:31:11.100Z"
   },
   {
    "duration": 49,
    "start_time": "2021-12-15T15:31:11.114Z"
   },
   {
    "duration": 374,
    "start_time": "2021-12-15T15:31:11.166Z"
   },
   {
    "duration": 16,
    "start_time": "2021-12-15T15:31:11.544Z"
   },
   {
    "duration": 309,
    "start_time": "2021-12-15T15:32:58.496Z"
   },
   {
    "duration": 358,
    "start_time": "2021-12-15T15:43:55.124Z"
   },
   {
    "duration": 912,
    "start_time": "2021-12-15T15:45:41.379Z"
   },
   {
    "duration": 1069,
    "start_time": "2021-12-15T15:46:03.010Z"
   },
   {
    "duration": 632,
    "start_time": "2021-12-15T15:46:31.178Z"
   },
   {
    "duration": 347,
    "start_time": "2021-12-15T15:47:13.185Z"
   },
   {
    "duration": 8,
    "start_time": "2021-12-15T16:02:10.993Z"
   },
   {
    "duration": 1060,
    "start_time": "2021-12-16T05:04:07.468Z"
   },
   {
    "duration": 1058,
    "start_time": "2021-12-16T05:04:08.531Z"
   },
   {
    "duration": 175,
    "start_time": "2021-12-16T05:04:09.591Z"
   },
   {
    "duration": 9,
    "start_time": "2021-12-16T05:04:09.768Z"
   },
   {
    "duration": 70,
    "start_time": "2021-12-16T05:04:09.779Z"
   },
   {
    "duration": 15,
    "start_time": "2021-12-16T05:04:09.850Z"
   },
   {
    "duration": 24,
    "start_time": "2021-12-16T05:04:09.866Z"
   },
   {
    "duration": 13,
    "start_time": "2021-12-16T05:04:09.893Z"
   },
   {
    "duration": 67,
    "start_time": "2021-12-16T05:04:09.908Z"
   },
   {
    "duration": 41,
    "start_time": "2021-12-16T05:04:09.977Z"
   },
   {
    "duration": 27,
    "start_time": "2021-12-16T05:04:10.020Z"
   },
   {
    "duration": 21,
    "start_time": "2021-12-16T05:04:10.048Z"
   },
   {
    "duration": 5,
    "start_time": "2021-12-16T05:04:10.071Z"
   },
   {
    "duration": 12,
    "start_time": "2021-12-16T05:04:10.078Z"
   },
   {
    "duration": 14,
    "start_time": "2021-12-16T05:04:10.091Z"
   },
   {
    "duration": 4,
    "start_time": "2021-12-16T05:04:10.106Z"
   },
   {
    "duration": 57,
    "start_time": "2021-12-16T05:04:10.111Z"
   },
   {
    "duration": 13,
    "start_time": "2021-12-16T05:04:10.169Z"
   },
   {
    "duration": 11,
    "start_time": "2021-12-16T05:04:10.183Z"
   },
   {
    "duration": 11,
    "start_time": "2021-12-16T05:04:10.196Z"
   },
   {
    "duration": 6,
    "start_time": "2021-12-16T05:04:10.208Z"
   },
   {
    "duration": 228,
    "start_time": "2021-12-16T05:04:10.216Z"
   },
   {
    "duration": 6,
    "start_time": "2021-12-16T05:04:10.449Z"
   },
   {
    "duration": 7,
    "start_time": "2021-12-16T05:04:10.464Z"
   },
   {
    "duration": 331,
    "start_time": "2021-12-16T05:04:10.473Z"
   },
   {
    "duration": 6,
    "start_time": "2021-12-16T05:04:10.807Z"
   },
   {
    "duration": 329,
    "start_time": "2021-12-16T05:04:10.816Z"
   },
   {
    "duration": 7,
    "start_time": "2021-12-16T05:04:11.147Z"
   },
   {
    "duration": 308,
    "start_time": "2021-12-16T05:04:11.164Z"
   },
   {
    "duration": 7,
    "start_time": "2021-12-16T05:04:11.475Z"
   },
   {
    "duration": 352,
    "start_time": "2021-12-16T05:04:11.484Z"
   },
   {
    "duration": 8,
    "start_time": "2021-12-16T05:04:11.838Z"
   },
   {
    "duration": 443,
    "start_time": "2021-12-16T05:04:11.848Z"
   },
   {
    "duration": 9,
    "start_time": "2021-12-16T05:04:12.294Z"
   },
   {
    "duration": 201,
    "start_time": "2021-12-16T05:04:12.305Z"
   },
   {
    "duration": 181,
    "start_time": "2021-12-16T05:04:12.508Z"
   },
   {
    "duration": 6,
    "start_time": "2021-12-16T05:04:12.691Z"
   },
   {
    "duration": 8,
    "start_time": "2021-12-16T05:04:12.699Z"
   },
   {
    "duration": 13,
    "start_time": "2021-12-16T05:04:12.709Z"
   },
   {
    "duration": 300,
    "start_time": "2021-12-16T05:04:12.724Z"
   },
   {
    "duration": 192,
    "start_time": "2021-12-16T05:04:13.026Z"
   },
   {
    "duration": 6,
    "start_time": "2021-12-16T05:04:13.220Z"
   },
   {
    "duration": 7,
    "start_time": "2021-12-16T05:04:13.227Z"
   },
   {
    "duration": 345,
    "start_time": "2021-12-16T05:07:48.488Z"
   },
   {
    "duration": 21,
    "start_time": "2021-12-16T05:07:53.066Z"
   },
   {
    "duration": 9,
    "start_time": "2021-12-16T05:08:50.672Z"
   },
   {
    "duration": 194,
    "start_time": "2021-12-16T05:10:13.863Z"
   },
   {
    "duration": 186,
    "start_time": "2021-12-16T05:10:27.597Z"
   },
   {
    "duration": 301,
    "start_time": "2021-12-16T05:10:31.581Z"
   },
   {
    "duration": 89,
    "start_time": "2021-12-16T05:15:47.729Z"
   },
   {
    "duration": 104,
    "start_time": "2021-12-16T05:16:10.143Z"
   },
   {
    "duration": 244,
    "start_time": "2021-12-16T05:16:39.896Z"
   },
   {
    "duration": 252,
    "start_time": "2021-12-16T05:16:58.063Z"
   },
   {
    "duration": 242,
    "start_time": "2021-12-16T05:17:13.735Z"
   },
   {
    "duration": 303,
    "start_time": "2021-12-16T05:17:41.990Z"
   },
   {
    "duration": 284,
    "start_time": "2021-12-16T05:18:30.493Z"
   },
   {
    "duration": 266,
    "start_time": "2021-12-16T05:18:46.725Z"
   },
   {
    "duration": 278,
    "start_time": "2021-12-16T05:19:00.812Z"
   },
   {
    "duration": 82,
    "start_time": "2021-12-16T05:20:36.444Z"
   },
   {
    "duration": 305,
    "start_time": "2021-12-16T05:20:46.340Z"
   },
   {
    "duration": 325,
    "start_time": "2021-12-16T05:24:09.944Z"
   },
   {
    "duration": 327,
    "start_time": "2021-12-16T05:24:21.223Z"
   },
   {
    "duration": 694,
    "start_time": "2021-12-16T05:29:15.059Z"
   },
   {
    "duration": 311,
    "start_time": "2021-12-16T05:29:58.002Z"
   },
   {
    "duration": 324,
    "start_time": "2021-12-16T05:30:04.018Z"
   },
   {
    "duration": 325,
    "start_time": "2021-12-16T05:30:08.162Z"
   },
   {
    "duration": 454,
    "start_time": "2021-12-16T05:30:15.065Z"
   },
   {
    "duration": 321,
    "start_time": "2021-12-16T05:30:23.177Z"
   },
   {
    "duration": 320,
    "start_time": "2021-12-16T05:30:36.113Z"
   },
   {
    "duration": 316,
    "start_time": "2021-12-16T05:31:02.362Z"
   },
   {
    "duration": 320,
    "start_time": "2021-12-16T05:31:06.737Z"
   },
   {
    "duration": 312,
    "start_time": "2021-12-16T05:31:24.673Z"
   },
   {
    "duration": 320,
    "start_time": "2021-12-16T05:32:15.648Z"
   },
   {
    "duration": 590,
    "start_time": "2021-12-16T05:32:27.287Z"
   },
   {
    "duration": 530,
    "start_time": "2021-12-16T05:32:38.113Z"
   },
   {
    "duration": 316,
    "start_time": "2021-12-16T05:33:48.390Z"
   },
   {
    "duration": 316,
    "start_time": "2021-12-16T05:33:57.170Z"
   },
   {
    "duration": 447,
    "start_time": "2021-12-16T05:34:12.950Z"
   },
   {
    "duration": 497,
    "start_time": "2021-12-16T05:34:38.566Z"
   },
   {
    "duration": 373,
    "start_time": "2021-12-16T05:34:50.341Z"
   },
   {
    "duration": 323,
    "start_time": "2021-12-16T05:35:38.484Z"
   },
   {
    "duration": 326,
    "start_time": "2021-12-16T05:35:43.012Z"
   },
   {
    "duration": 331,
    "start_time": "2021-12-16T05:35:47.100Z"
   },
   {
    "duration": 475,
    "start_time": "2021-12-16T05:35:58.300Z"
   },
   {
    "duration": 309,
    "start_time": "2021-12-16T05:49:55.357Z"
   },
   {
    "duration": 304,
    "start_time": "2021-12-16T05:50:10.790Z"
   },
   {
    "duration": 305,
    "start_time": "2021-12-16T05:50:22.589Z"
   },
   {
    "duration": 460,
    "start_time": "2021-12-16T05:50:30.285Z"
   },
   {
    "duration": 313,
    "start_time": "2021-12-16T05:56:27.103Z"
   },
   {
    "duration": 347,
    "start_time": "2021-12-16T05:56:48.351Z"
   },
   {
    "duration": 327,
    "start_time": "2021-12-16T05:57:09.702Z"
   },
   {
    "duration": 341,
    "start_time": "2021-12-16T05:57:17.438Z"
   },
   {
    "duration": 321,
    "start_time": "2021-12-16T05:57:21.142Z"
   },
   {
    "duration": 376,
    "start_time": "2021-12-16T05:57:43.061Z"
   },
   {
    "duration": 429,
    "start_time": "2021-12-16T05:57:49.901Z"
   },
   {
    "duration": 327,
    "start_time": "2021-12-16T05:58:03.885Z"
   },
   {
    "duration": 470,
    "start_time": "2021-12-16T05:58:22.997Z"
   },
   {
    "duration": 352,
    "start_time": "2021-12-16T05:58:51.125Z"
   },
   {
    "duration": 375,
    "start_time": "2021-12-16T05:59:21.484Z"
   },
   {
    "duration": 488,
    "start_time": "2021-12-16T05:59:30.156Z"
   },
   {
    "duration": 350,
    "start_time": "2021-12-16T05:59:38.573Z"
   },
   {
    "duration": 502,
    "start_time": "2021-12-16T05:59:41.924Z"
   },
   {
    "duration": 445,
    "start_time": "2021-12-16T06:01:33.067Z"
   },
   {
    "duration": 326,
    "start_time": "2021-12-16T06:03:32.281Z"
   },
   {
    "duration": 452,
    "start_time": "2021-12-16T06:03:39.920Z"
   },
   {
    "duration": 4,
    "start_time": "2021-12-16T06:04:59.379Z"
   },
   {
    "duration": 5,
    "start_time": "2021-12-16T06:05:06.422Z"
   },
   {
    "duration": 1108,
    "start_time": "2021-12-16T06:27:23.128Z"
   },
   {
    "duration": 1098,
    "start_time": "2021-12-16T06:27:24.238Z"
   },
   {
    "duration": 160,
    "start_time": "2021-12-16T06:27:25.338Z"
   },
   {
    "duration": 8,
    "start_time": "2021-12-16T06:27:25.500Z"
   },
   {
    "duration": 87,
    "start_time": "2021-12-16T06:27:25.510Z"
   },
   {
    "duration": 5,
    "start_time": "2021-12-16T06:27:25.599Z"
   },
   {
    "duration": 30,
    "start_time": "2021-12-16T06:27:25.605Z"
   },
   {
    "duration": 25,
    "start_time": "2021-12-16T06:27:25.638Z"
   },
   {
    "duration": 49,
    "start_time": "2021-12-16T06:27:25.665Z"
   },
   {
    "duration": 50,
    "start_time": "2021-12-16T06:27:25.715Z"
   },
   {
    "duration": 25,
    "start_time": "2021-12-16T06:27:25.767Z"
   },
   {
    "duration": 6,
    "start_time": "2021-12-16T06:27:25.793Z"
   },
   {
    "duration": 4,
    "start_time": "2021-12-16T06:27:25.800Z"
   },
   {
    "duration": 9,
    "start_time": "2021-12-16T06:27:25.806Z"
   },
   {
    "duration": 9,
    "start_time": "2021-12-16T06:27:25.817Z"
   },
   {
    "duration": 3,
    "start_time": "2021-12-16T06:27:25.827Z"
   },
   {
    "duration": 28,
    "start_time": "2021-12-16T06:27:25.864Z"
   },
   {
    "duration": 11,
    "start_time": "2021-12-16T06:27:25.894Z"
   },
   {
    "duration": 11,
    "start_time": "2021-12-16T06:27:25.907Z"
   },
   {
    "duration": 9,
    "start_time": "2021-12-16T06:27:25.920Z"
   },
   {
    "duration": 9,
    "start_time": "2021-12-16T06:27:25.931Z"
   },
   {
    "duration": 5,
    "start_time": "2021-12-16T06:27:25.963Z"
   },
   {
    "duration": 341,
    "start_time": "2021-12-16T06:27:25.973Z"
   },
   {
    "duration": 5,
    "start_time": "2021-12-16T06:27:26.316Z"
   },
   {
    "duration": 15,
    "start_time": "2021-12-16T06:27:26.322Z"
   },
   {
    "duration": 322,
    "start_time": "2021-12-16T06:27:26.339Z"
   },
   {
    "duration": 5,
    "start_time": "2021-12-16T06:27:26.663Z"
   },
   {
    "duration": 35,
    "start_time": "2021-12-16T06:27:26.670Z"
   },
   {
    "duration": 348,
    "start_time": "2021-12-16T06:27:26.707Z"
   },
   {
    "duration": 11,
    "start_time": "2021-12-16T06:27:27.057Z"
   },
   {
    "duration": 193,
    "start_time": "2021-12-16T06:27:27.070Z"
   },
   {
    "duration": 182,
    "start_time": "2021-12-16T06:27:27.266Z"
   },
   {
    "duration": 17,
    "start_time": "2021-12-16T06:27:27.450Z"
   },
   {
    "duration": 9,
    "start_time": "2021-12-16T06:27:27.469Z"
   },
   {
    "duration": 12,
    "start_time": "2021-12-16T06:27:27.480Z"
   },
   {
    "duration": 279,
    "start_time": "2021-12-16T06:27:27.494Z"
   },
   {
    "duration": 203,
    "start_time": "2021-12-16T06:27:27.775Z"
   },
   {
    "duration": 5,
    "start_time": "2021-12-16T06:27:27.980Z"
   },
   {
    "duration": 23,
    "start_time": "2021-12-16T06:27:27.987Z"
   },
   {
    "duration": 64,
    "start_time": "2021-12-16T18:38:16.180Z"
   }
  ],
  "kernelspec": {
   "display_name": "Python 3",
   "language": "python",
   "name": "python3"
  },
  "language_info": {
   "codemirror_mode": {
    "name": "ipython",
    "version": 3
   },
   "file_extension": ".py",
   "mimetype": "text/x-python",
   "name": "python",
   "nbconvert_exporter": "python",
   "pygments_lexer": "ipython3",
   "version": "3.8.8"
  },
  "toc": {
   "base_numbering": 1,
   "nav_menu": {},
   "number_sections": true,
   "sideBar": true,
   "skip_h1_title": true,
   "title_cell": "Table of Contents",
   "title_sidebar": "Contents",
   "toc_cell": false,
   "toc_position": {},
   "toc_section_display": true,
   "toc_window_display": false
  }
 },
 "nbformat": 4,
 "nbformat_minor": 5
}
