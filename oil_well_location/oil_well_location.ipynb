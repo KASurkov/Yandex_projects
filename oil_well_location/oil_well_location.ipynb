{
 "cells": [
  {
   "cell_type": "markdown",
   "metadata": {},
   "source": [
    "# Выбор локации для скважины"
   ]
  },
  {
   "cell_type": "markdown",
   "metadata": {},
   "source": [
    "Допустим, вы работаете в добывающей компании «ГлавРосГосНефть». Нужно решить, где бурить новую скважину.\n",
    "\n",
    "Вам предоставлены пробы нефти в трёх регионах: в каждом 10 000 месторождений, где измерили качество нефти и объём её запасов. Постройте модель машинного обучения, которая поможет определить регион, где добыча принесёт наибольшую прибыль. Проанализируйте возможную прибыль и риски техникой *Bootstrap.*\n",
    "\n",
    "Шаги для выбора локации:\n",
    "\n",
    "- В избранном регионе ищут месторождения, для каждого определяют значения признаков;\n",
    "- Строят модель и оценивают объём запасов;\n",
    "- Выбирают месторождения с самым высокими оценками значений. Количество месторождений зависит от бюджета компании и стоимости разработки одной скважины;\n",
    "- Прибыль равна суммарной прибыли отобранных месторождений."
   ]
  },
  {
   "cell_type": "markdown",
   "metadata": {},
   "source": [
    "# Задачи"
   ]
  },
  {
   "cell_type": "markdown",
   "metadata": {},
   "source": [
    "**Условия задачи:**\n",
    "- Для обучения модели подходит только линейная регрессия (остальные — недостаточно предсказуемые).\n",
    "- При разведке региона исследуют 500 точек, из которых с помощью машинного обучения выбирают 200 лучших для разработки.\n",
    "- Бюджет на разработку скважин в регионе — 10 млрд рублей.\n",
    "- При нынешних ценах один баррель сырья приносит 450 рублей дохода. Доход с каждой единицы продукта составляет 450 тыс. рублей, поскольку объём указан в тысячах баррелей.\n",
    "- После оценки рисков нужно оставить лишь те регионы, в которых вероятность убытков меньше 2.5%. Среди них выбирают регион с наибольшей средней прибылью.\n",
    "\n",
    "**Задачи:**\n",
    "- Построить наулучшую модель для предсказания объема продукции скважины руководствуясь метрикой RMSE;\n",
    "- С помощью модели по технике Bootstrap оценить в каком регионе добыча принесет наибольшую прибыль."
   ]
  },
  {
   "cell_type": "markdown",
   "metadata": {},
   "source": [
    "# Импорт библиотек"
   ]
  },
  {
   "cell_type": "code",
   "execution_count": 1,
   "metadata": {},
   "outputs": [],
   "source": [
    "import pandas as pd\n",
    "import seaborn as sns\n",
    "import matplotlib.pyplot as plt\n",
    "from sklearn.model_selection import train_test_split\n",
    "from sklearn.linear_model import LinearRegression\n",
    "from sklearn.metrics import mean_squared_error\n",
    "from numpy.random import RandomState\n",
    "import scipy.stats as st"
   ]
  },
  {
   "cell_type": "markdown",
   "metadata": {},
   "source": [
    "# Загрузка и подготовка данных"
   ]
  },
  {
   "cell_type": "markdown",
   "metadata": {},
   "source": [
    "**Описание данных:**\n",
    "- Данные геологоразведки трёх регионов находятся в файлах: geo_data_0.csv, geo_data_1.csv, geo_data_2.csv.\n",
    "- id — уникальный идентификатор скважины;\n",
    "- f0, f1, f2 — три признака точек (неважно, что они означают, но сами признаки значимы);\n",
    "- product — объём запасов в скважине (тыс. баррелей)."
   ]
  },
  {
   "cell_type": "code",
   "execution_count": 2,
   "metadata": {},
   "outputs": [],
   "source": [
    "data_0 = pd.read_csv('geo_data_0.csv')\n",
    "data_1 = pd.read_csv('geo_data_1.csv')\n",
    "data_2 = pd.read_csv('geo_data_2.csv')\n",
    "data_0.name = 'Регион 0'\n",
    "data_1.name = 'Регион 1'\n",
    "data_2.name = 'Регион 2'"
   ]
  },
  {
   "cell_type": "code",
   "execution_count": 3,
   "metadata": {},
   "outputs": [],
   "source": [
    "def whats_inside(data):\n",
    "    print(f'\\t**** {data.name} ***')\n",
    "    print(data.info())\n",
    "    display(data.describe())\n",
    "    display(data.head())\n",
    "    print(f'Всего дубликатов = {data.duplicated().sum()}')\n",
    "    print()\n",
    "    return None"
   ]
  },
  {
   "cell_type": "code",
   "execution_count": 4,
   "metadata": {},
   "outputs": [
    {
     "name": "stdout",
     "output_type": "stream",
     "text": [
      "\t**** Регион 0 ***\n",
      "<class 'pandas.core.frame.DataFrame'>\n",
      "RangeIndex: 100000 entries, 0 to 99999\n",
      "Data columns (total 5 columns):\n",
      " #   Column   Non-Null Count   Dtype  \n",
      "---  ------   --------------   -----  \n",
      " 0   id       100000 non-null  object \n",
      " 1   f0       100000 non-null  float64\n",
      " 2   f1       100000 non-null  float64\n",
      " 3   f2       100000 non-null  float64\n",
      " 4   product  100000 non-null  float64\n",
      "dtypes: float64(4), object(1)\n",
      "memory usage: 3.8+ MB\n",
      "None\n"
     ]
    },
    {
     "data": {
      "text/html": [
       "<div>\n",
       "<style scoped>\n",
       "    .dataframe tbody tr th:only-of-type {\n",
       "        vertical-align: middle;\n",
       "    }\n",
       "\n",
       "    .dataframe tbody tr th {\n",
       "        vertical-align: top;\n",
       "    }\n",
       "\n",
       "    .dataframe thead th {\n",
       "        text-align: right;\n",
       "    }\n",
       "</style>\n",
       "<table border=\"1\" class=\"dataframe\">\n",
       "  <thead>\n",
       "    <tr style=\"text-align: right;\">\n",
       "      <th></th>\n",
       "      <th>f0</th>\n",
       "      <th>f1</th>\n",
       "      <th>f2</th>\n",
       "      <th>product</th>\n",
       "    </tr>\n",
       "  </thead>\n",
       "  <tbody>\n",
       "    <tr>\n",
       "      <th>count</th>\n",
       "      <td>100000.000000</td>\n",
       "      <td>100000.000000</td>\n",
       "      <td>100000.000000</td>\n",
       "      <td>100000.000000</td>\n",
       "    </tr>\n",
       "    <tr>\n",
       "      <th>mean</th>\n",
       "      <td>0.500419</td>\n",
       "      <td>0.250143</td>\n",
       "      <td>2.502647</td>\n",
       "      <td>92.500000</td>\n",
       "    </tr>\n",
       "    <tr>\n",
       "      <th>std</th>\n",
       "      <td>0.871832</td>\n",
       "      <td>0.504433</td>\n",
       "      <td>3.248248</td>\n",
       "      <td>44.288691</td>\n",
       "    </tr>\n",
       "    <tr>\n",
       "      <th>min</th>\n",
       "      <td>-1.408605</td>\n",
       "      <td>-0.848218</td>\n",
       "      <td>-12.088328</td>\n",
       "      <td>0.000000</td>\n",
       "    </tr>\n",
       "    <tr>\n",
       "      <th>25%</th>\n",
       "      <td>-0.072580</td>\n",
       "      <td>-0.200881</td>\n",
       "      <td>0.287748</td>\n",
       "      <td>56.497507</td>\n",
       "    </tr>\n",
       "    <tr>\n",
       "      <th>50%</th>\n",
       "      <td>0.502360</td>\n",
       "      <td>0.250252</td>\n",
       "      <td>2.515969</td>\n",
       "      <td>91.849972</td>\n",
       "    </tr>\n",
       "    <tr>\n",
       "      <th>75%</th>\n",
       "      <td>1.073581</td>\n",
       "      <td>0.700646</td>\n",
       "      <td>4.715088</td>\n",
       "      <td>128.564089</td>\n",
       "    </tr>\n",
       "    <tr>\n",
       "      <th>max</th>\n",
       "      <td>2.362331</td>\n",
       "      <td>1.343769</td>\n",
       "      <td>16.003790</td>\n",
       "      <td>185.364347</td>\n",
       "    </tr>\n",
       "  </tbody>\n",
       "</table>\n",
       "</div>"
      ],
      "text/plain": [
       "                  f0             f1             f2        product\n",
       "count  100000.000000  100000.000000  100000.000000  100000.000000\n",
       "mean        0.500419       0.250143       2.502647      92.500000\n",
       "std         0.871832       0.504433       3.248248      44.288691\n",
       "min        -1.408605      -0.848218     -12.088328       0.000000\n",
       "25%        -0.072580      -0.200881       0.287748      56.497507\n",
       "50%         0.502360       0.250252       2.515969      91.849972\n",
       "75%         1.073581       0.700646       4.715088     128.564089\n",
       "max         2.362331       1.343769      16.003790     185.364347"
      ]
     },
     "metadata": {},
     "output_type": "display_data"
    },
    {
     "data": {
      "text/html": [
       "<div>\n",
       "<style scoped>\n",
       "    .dataframe tbody tr th:only-of-type {\n",
       "        vertical-align: middle;\n",
       "    }\n",
       "\n",
       "    .dataframe tbody tr th {\n",
       "        vertical-align: top;\n",
       "    }\n",
       "\n",
       "    .dataframe thead th {\n",
       "        text-align: right;\n",
       "    }\n",
       "</style>\n",
       "<table border=\"1\" class=\"dataframe\">\n",
       "  <thead>\n",
       "    <tr style=\"text-align: right;\">\n",
       "      <th></th>\n",
       "      <th>id</th>\n",
       "      <th>f0</th>\n",
       "      <th>f1</th>\n",
       "      <th>f2</th>\n",
       "      <th>product</th>\n",
       "    </tr>\n",
       "  </thead>\n",
       "  <tbody>\n",
       "    <tr>\n",
       "      <th>0</th>\n",
       "      <td>txEyH</td>\n",
       "      <td>0.705745</td>\n",
       "      <td>-0.497823</td>\n",
       "      <td>1.221170</td>\n",
       "      <td>105.280062</td>\n",
       "    </tr>\n",
       "    <tr>\n",
       "      <th>1</th>\n",
       "      <td>2acmU</td>\n",
       "      <td>1.334711</td>\n",
       "      <td>-0.340164</td>\n",
       "      <td>4.365080</td>\n",
       "      <td>73.037750</td>\n",
       "    </tr>\n",
       "    <tr>\n",
       "      <th>2</th>\n",
       "      <td>409Wp</td>\n",
       "      <td>1.022732</td>\n",
       "      <td>0.151990</td>\n",
       "      <td>1.419926</td>\n",
       "      <td>85.265647</td>\n",
       "    </tr>\n",
       "    <tr>\n",
       "      <th>3</th>\n",
       "      <td>iJLyR</td>\n",
       "      <td>-0.032172</td>\n",
       "      <td>0.139033</td>\n",
       "      <td>2.978566</td>\n",
       "      <td>168.620776</td>\n",
       "    </tr>\n",
       "    <tr>\n",
       "      <th>4</th>\n",
       "      <td>Xdl7t</td>\n",
       "      <td>1.988431</td>\n",
       "      <td>0.155413</td>\n",
       "      <td>4.751769</td>\n",
       "      <td>154.036647</td>\n",
       "    </tr>\n",
       "  </tbody>\n",
       "</table>\n",
       "</div>"
      ],
      "text/plain": [
       "      id        f0        f1        f2     product\n",
       "0  txEyH  0.705745 -0.497823  1.221170  105.280062\n",
       "1  2acmU  1.334711 -0.340164  4.365080   73.037750\n",
       "2  409Wp  1.022732  0.151990  1.419926   85.265647\n",
       "3  iJLyR -0.032172  0.139033  2.978566  168.620776\n",
       "4  Xdl7t  1.988431  0.155413  4.751769  154.036647"
      ]
     },
     "metadata": {},
     "output_type": "display_data"
    },
    {
     "name": "stdout",
     "output_type": "stream",
     "text": [
      "Всего дубликатов = 0\n",
      "\n",
      "\t**** Регион 1 ***\n",
      "<class 'pandas.core.frame.DataFrame'>\n",
      "RangeIndex: 100000 entries, 0 to 99999\n",
      "Data columns (total 5 columns):\n",
      " #   Column   Non-Null Count   Dtype  \n",
      "---  ------   --------------   -----  \n",
      " 0   id       100000 non-null  object \n",
      " 1   f0       100000 non-null  float64\n",
      " 2   f1       100000 non-null  float64\n",
      " 3   f2       100000 non-null  float64\n",
      " 4   product  100000 non-null  float64\n",
      "dtypes: float64(4), object(1)\n",
      "memory usage: 3.8+ MB\n",
      "None\n"
     ]
    },
    {
     "data": {
      "text/html": [
       "<div>\n",
       "<style scoped>\n",
       "    .dataframe tbody tr th:only-of-type {\n",
       "        vertical-align: middle;\n",
       "    }\n",
       "\n",
       "    .dataframe tbody tr th {\n",
       "        vertical-align: top;\n",
       "    }\n",
       "\n",
       "    .dataframe thead th {\n",
       "        text-align: right;\n",
       "    }\n",
       "</style>\n",
       "<table border=\"1\" class=\"dataframe\">\n",
       "  <thead>\n",
       "    <tr style=\"text-align: right;\">\n",
       "      <th></th>\n",
       "      <th>f0</th>\n",
       "      <th>f1</th>\n",
       "      <th>f2</th>\n",
       "      <th>product</th>\n",
       "    </tr>\n",
       "  </thead>\n",
       "  <tbody>\n",
       "    <tr>\n",
       "      <th>count</th>\n",
       "      <td>100000.000000</td>\n",
       "      <td>100000.000000</td>\n",
       "      <td>100000.000000</td>\n",
       "      <td>100000.000000</td>\n",
       "    </tr>\n",
       "    <tr>\n",
       "      <th>mean</th>\n",
       "      <td>1.141296</td>\n",
       "      <td>-4.796579</td>\n",
       "      <td>2.494541</td>\n",
       "      <td>68.825000</td>\n",
       "    </tr>\n",
       "    <tr>\n",
       "      <th>std</th>\n",
       "      <td>8.965932</td>\n",
       "      <td>5.119872</td>\n",
       "      <td>1.703572</td>\n",
       "      <td>45.944423</td>\n",
       "    </tr>\n",
       "    <tr>\n",
       "      <th>min</th>\n",
       "      <td>-31.609576</td>\n",
       "      <td>-26.358598</td>\n",
       "      <td>-0.018144</td>\n",
       "      <td>0.000000</td>\n",
       "    </tr>\n",
       "    <tr>\n",
       "      <th>25%</th>\n",
       "      <td>-6.298551</td>\n",
       "      <td>-8.267985</td>\n",
       "      <td>1.000021</td>\n",
       "      <td>26.953261</td>\n",
       "    </tr>\n",
       "    <tr>\n",
       "      <th>50%</th>\n",
       "      <td>1.153055</td>\n",
       "      <td>-4.813172</td>\n",
       "      <td>2.011479</td>\n",
       "      <td>57.085625</td>\n",
       "    </tr>\n",
       "    <tr>\n",
       "      <th>75%</th>\n",
       "      <td>8.621015</td>\n",
       "      <td>-1.332816</td>\n",
       "      <td>3.999904</td>\n",
       "      <td>107.813044</td>\n",
       "    </tr>\n",
       "    <tr>\n",
       "      <th>max</th>\n",
       "      <td>29.421755</td>\n",
       "      <td>18.734063</td>\n",
       "      <td>5.019721</td>\n",
       "      <td>137.945408</td>\n",
       "    </tr>\n",
       "  </tbody>\n",
       "</table>\n",
       "</div>"
      ],
      "text/plain": [
       "                  f0             f1             f2        product\n",
       "count  100000.000000  100000.000000  100000.000000  100000.000000\n",
       "mean        1.141296      -4.796579       2.494541      68.825000\n",
       "std         8.965932       5.119872       1.703572      45.944423\n",
       "min       -31.609576     -26.358598      -0.018144       0.000000\n",
       "25%        -6.298551      -8.267985       1.000021      26.953261\n",
       "50%         1.153055      -4.813172       2.011479      57.085625\n",
       "75%         8.621015      -1.332816       3.999904     107.813044\n",
       "max        29.421755      18.734063       5.019721     137.945408"
      ]
     },
     "metadata": {},
     "output_type": "display_data"
    },
    {
     "data": {
      "text/html": [
       "<div>\n",
       "<style scoped>\n",
       "    .dataframe tbody tr th:only-of-type {\n",
       "        vertical-align: middle;\n",
       "    }\n",
       "\n",
       "    .dataframe tbody tr th {\n",
       "        vertical-align: top;\n",
       "    }\n",
       "\n",
       "    .dataframe thead th {\n",
       "        text-align: right;\n",
       "    }\n",
       "</style>\n",
       "<table border=\"1\" class=\"dataframe\">\n",
       "  <thead>\n",
       "    <tr style=\"text-align: right;\">\n",
       "      <th></th>\n",
       "      <th>id</th>\n",
       "      <th>f0</th>\n",
       "      <th>f1</th>\n",
       "      <th>f2</th>\n",
       "      <th>product</th>\n",
       "    </tr>\n",
       "  </thead>\n",
       "  <tbody>\n",
       "    <tr>\n",
       "      <th>0</th>\n",
       "      <td>kBEdx</td>\n",
       "      <td>-15.001348</td>\n",
       "      <td>-8.276000</td>\n",
       "      <td>-0.005876</td>\n",
       "      <td>3.179103</td>\n",
       "    </tr>\n",
       "    <tr>\n",
       "      <th>1</th>\n",
       "      <td>62mP7</td>\n",
       "      <td>14.272088</td>\n",
       "      <td>-3.475083</td>\n",
       "      <td>0.999183</td>\n",
       "      <td>26.953261</td>\n",
       "    </tr>\n",
       "    <tr>\n",
       "      <th>2</th>\n",
       "      <td>vyE1P</td>\n",
       "      <td>6.263187</td>\n",
       "      <td>-5.948386</td>\n",
       "      <td>5.001160</td>\n",
       "      <td>134.766305</td>\n",
       "    </tr>\n",
       "    <tr>\n",
       "      <th>3</th>\n",
       "      <td>KcrkZ</td>\n",
       "      <td>-13.081196</td>\n",
       "      <td>-11.506057</td>\n",
       "      <td>4.999415</td>\n",
       "      <td>137.945408</td>\n",
       "    </tr>\n",
       "    <tr>\n",
       "      <th>4</th>\n",
       "      <td>AHL4O</td>\n",
       "      <td>12.702195</td>\n",
       "      <td>-8.147433</td>\n",
       "      <td>5.004363</td>\n",
       "      <td>134.766305</td>\n",
       "    </tr>\n",
       "  </tbody>\n",
       "</table>\n",
       "</div>"
      ],
      "text/plain": [
       "      id         f0         f1        f2     product\n",
       "0  kBEdx -15.001348  -8.276000 -0.005876    3.179103\n",
       "1  62mP7  14.272088  -3.475083  0.999183   26.953261\n",
       "2  vyE1P   6.263187  -5.948386  5.001160  134.766305\n",
       "3  KcrkZ -13.081196 -11.506057  4.999415  137.945408\n",
       "4  AHL4O  12.702195  -8.147433  5.004363  134.766305"
      ]
     },
     "metadata": {},
     "output_type": "display_data"
    },
    {
     "name": "stdout",
     "output_type": "stream",
     "text": [
      "Всего дубликатов = 0\n",
      "\n",
      "\t**** Регион 2 ***\n",
      "<class 'pandas.core.frame.DataFrame'>\n",
      "RangeIndex: 100000 entries, 0 to 99999\n",
      "Data columns (total 5 columns):\n",
      " #   Column   Non-Null Count   Dtype  \n",
      "---  ------   --------------   -----  \n",
      " 0   id       100000 non-null  object \n",
      " 1   f0       100000 non-null  float64\n",
      " 2   f1       100000 non-null  float64\n",
      " 3   f2       100000 non-null  float64\n",
      " 4   product  100000 non-null  float64\n",
      "dtypes: float64(4), object(1)\n",
      "memory usage: 3.8+ MB\n",
      "None\n"
     ]
    },
    {
     "data": {
      "text/html": [
       "<div>\n",
       "<style scoped>\n",
       "    .dataframe tbody tr th:only-of-type {\n",
       "        vertical-align: middle;\n",
       "    }\n",
       "\n",
       "    .dataframe tbody tr th {\n",
       "        vertical-align: top;\n",
       "    }\n",
       "\n",
       "    .dataframe thead th {\n",
       "        text-align: right;\n",
       "    }\n",
       "</style>\n",
       "<table border=\"1\" class=\"dataframe\">\n",
       "  <thead>\n",
       "    <tr style=\"text-align: right;\">\n",
       "      <th></th>\n",
       "      <th>f0</th>\n",
       "      <th>f1</th>\n",
       "      <th>f2</th>\n",
       "      <th>product</th>\n",
       "    </tr>\n",
       "  </thead>\n",
       "  <tbody>\n",
       "    <tr>\n",
       "      <th>count</th>\n",
       "      <td>100000.000000</td>\n",
       "      <td>100000.000000</td>\n",
       "      <td>100000.000000</td>\n",
       "      <td>100000.000000</td>\n",
       "    </tr>\n",
       "    <tr>\n",
       "      <th>mean</th>\n",
       "      <td>0.002023</td>\n",
       "      <td>-0.002081</td>\n",
       "      <td>2.495128</td>\n",
       "      <td>95.000000</td>\n",
       "    </tr>\n",
       "    <tr>\n",
       "      <th>std</th>\n",
       "      <td>1.732045</td>\n",
       "      <td>1.730417</td>\n",
       "      <td>3.473445</td>\n",
       "      <td>44.749921</td>\n",
       "    </tr>\n",
       "    <tr>\n",
       "      <th>min</th>\n",
       "      <td>-8.760004</td>\n",
       "      <td>-7.084020</td>\n",
       "      <td>-11.970335</td>\n",
       "      <td>0.000000</td>\n",
       "    </tr>\n",
       "    <tr>\n",
       "      <th>25%</th>\n",
       "      <td>-1.162288</td>\n",
       "      <td>-1.174820</td>\n",
       "      <td>0.130359</td>\n",
       "      <td>59.450441</td>\n",
       "    </tr>\n",
       "    <tr>\n",
       "      <th>50%</th>\n",
       "      <td>0.009424</td>\n",
       "      <td>-0.009482</td>\n",
       "      <td>2.484236</td>\n",
       "      <td>94.925613</td>\n",
       "    </tr>\n",
       "    <tr>\n",
       "      <th>75%</th>\n",
       "      <td>1.158535</td>\n",
       "      <td>1.163678</td>\n",
       "      <td>4.858794</td>\n",
       "      <td>130.595027</td>\n",
       "    </tr>\n",
       "    <tr>\n",
       "      <th>max</th>\n",
       "      <td>7.238262</td>\n",
       "      <td>7.844801</td>\n",
       "      <td>16.739402</td>\n",
       "      <td>190.029838</td>\n",
       "    </tr>\n",
       "  </tbody>\n",
       "</table>\n",
       "</div>"
      ],
      "text/plain": [
       "                  f0             f1             f2        product\n",
       "count  100000.000000  100000.000000  100000.000000  100000.000000\n",
       "mean        0.002023      -0.002081       2.495128      95.000000\n",
       "std         1.732045       1.730417       3.473445      44.749921\n",
       "min        -8.760004      -7.084020     -11.970335       0.000000\n",
       "25%        -1.162288      -1.174820       0.130359      59.450441\n",
       "50%         0.009424      -0.009482       2.484236      94.925613\n",
       "75%         1.158535       1.163678       4.858794     130.595027\n",
       "max         7.238262       7.844801      16.739402     190.029838"
      ]
     },
     "metadata": {},
     "output_type": "display_data"
    },
    {
     "data": {
      "text/html": [
       "<div>\n",
       "<style scoped>\n",
       "    .dataframe tbody tr th:only-of-type {\n",
       "        vertical-align: middle;\n",
       "    }\n",
       "\n",
       "    .dataframe tbody tr th {\n",
       "        vertical-align: top;\n",
       "    }\n",
       "\n",
       "    .dataframe thead th {\n",
       "        text-align: right;\n",
       "    }\n",
       "</style>\n",
       "<table border=\"1\" class=\"dataframe\">\n",
       "  <thead>\n",
       "    <tr style=\"text-align: right;\">\n",
       "      <th></th>\n",
       "      <th>id</th>\n",
       "      <th>f0</th>\n",
       "      <th>f1</th>\n",
       "      <th>f2</th>\n",
       "      <th>product</th>\n",
       "    </tr>\n",
       "  </thead>\n",
       "  <tbody>\n",
       "    <tr>\n",
       "      <th>0</th>\n",
       "      <td>fwXo0</td>\n",
       "      <td>-1.146987</td>\n",
       "      <td>0.963328</td>\n",
       "      <td>-0.828965</td>\n",
       "      <td>27.758673</td>\n",
       "    </tr>\n",
       "    <tr>\n",
       "      <th>1</th>\n",
       "      <td>WJtFt</td>\n",
       "      <td>0.262778</td>\n",
       "      <td>0.269839</td>\n",
       "      <td>-2.530187</td>\n",
       "      <td>56.069697</td>\n",
       "    </tr>\n",
       "    <tr>\n",
       "      <th>2</th>\n",
       "      <td>ovLUW</td>\n",
       "      <td>0.194587</td>\n",
       "      <td>0.289035</td>\n",
       "      <td>-5.586433</td>\n",
       "      <td>62.871910</td>\n",
       "    </tr>\n",
       "    <tr>\n",
       "      <th>3</th>\n",
       "      <td>q6cA6</td>\n",
       "      <td>2.236060</td>\n",
       "      <td>-0.553760</td>\n",
       "      <td>0.930038</td>\n",
       "      <td>114.572842</td>\n",
       "    </tr>\n",
       "    <tr>\n",
       "      <th>4</th>\n",
       "      <td>WPMUX</td>\n",
       "      <td>-0.515993</td>\n",
       "      <td>1.716266</td>\n",
       "      <td>5.899011</td>\n",
       "      <td>149.600746</td>\n",
       "    </tr>\n",
       "  </tbody>\n",
       "</table>\n",
       "</div>"
      ],
      "text/plain": [
       "      id        f0        f1        f2     product\n",
       "0  fwXo0 -1.146987  0.963328 -0.828965   27.758673\n",
       "1  WJtFt  0.262778  0.269839 -2.530187   56.069697\n",
       "2  ovLUW  0.194587  0.289035 -5.586433   62.871910\n",
       "3  q6cA6  2.236060 -0.553760  0.930038  114.572842\n",
       "4  WPMUX -0.515993  1.716266  5.899011  149.600746"
      ]
     },
     "metadata": {},
     "output_type": "display_data"
    },
    {
     "name": "stdout",
     "output_type": "stream",
     "text": [
      "Всего дубликатов = 0\n",
      "\n"
     ]
    }
   ],
   "source": [
    "for data in [data_0, data_1, data_2]:\n",
    "    whats_inside(data)"
   ]
  },
  {
   "cell_type": "markdown",
   "metadata": {},
   "source": [
    "Из чего видно, что:\n",
    "- для кажого региона параметры f0, f1 и f2 колеблются в различных пределах (и учитывая то как мало о них сказанно, они вообще могут быть различными показателями в разных регионах), так что для каждого региона будет необходимо обучить отельную модель;\n",
    "- пропусков нет;\n",
    "- дубликатов нет.\n",
    "\n",
    "Для будущих предсказаний id скважины неважен. Идентификатором уникальной скважины будет служить индекс колонки в таблице."
   ]
  },
  {
   "cell_type": "code",
   "execution_count": 5,
   "metadata": {},
   "outputs": [],
   "source": [
    "for data in [data_0, data_1, data_2]:\n",
    "    data.drop('id', axis=1, inplace=True)"
   ]
  },
  {
   "cell_type": "markdown",
   "metadata": {},
   "source": [
    "# Обучение и проверка модели"
   ]
  },
  {
   "cell_type": "code",
   "execution_count": 6,
   "metadata": {},
   "outputs": [],
   "source": [
    "results = {}\n",
    "for data in [data_0, data_1, data_2]:\n",
    "    results[data.name] = {}\n",
    "    \n",
    "    features = data.drop('product', axis=1)\n",
    "    target = data['product']\n",
    "    features_train, features_valid, target_train, target_valid = train_test_split(features, target, test_size=0.25, random_state=24) # Разбивка на выборки\n",
    "    \n",
    "    model = LinearRegression()\n",
    "    model.fit(features_train, target_train)\n",
    "    prediction = model.predict(features_valid) # Работа модели\n",
    "    \n",
    "    rmse = (mean_squared_error(target_valid, prediction))**0.5\n",
    "    mean_product = prediction.mean() # Оценка модели\n",
    "    \n",
    "    results[data.name]['Обученная модель'] = model\n",
    "    results[data.name]['Предсказания'] = pd.Series(prediction, index=target_valid.index)\n",
    "    results[data.name]['Правильные ответы'] = target_valid\n",
    "    results[data.name]['RMSE'] = rmse\n",
    "    results[data.name]['Cредний запас предсказанного сырья'] = mean_product"
   ]
  },
  {
   "cell_type": "code",
   "execution_count": 7,
   "metadata": {},
   "outputs": [
    {
     "name": "stdout",
     "output_type": "stream",
     "text": [
      "\t*** Регион 0 ***\n",
      "RMSE = 37.81479466757922\n",
      "Cредний запас предсказанного сырья = 92.4464681623946\n",
      "\n",
      "\t*** Регион 1 ***\n",
      "RMSE = 0.8916379508287229\n",
      "Cредний запас предсказанного сырья = 68.41051634077131\n",
      "\n",
      "\t*** Регион 2 ***\n",
      "RMSE = 40.226046329423475\n",
      "Cредний запас предсказанного сырья = 94.84406173360135\n",
      "\n"
     ]
    }
   ],
   "source": [
    "for key, value in results.items():\n",
    "    print(f'\\t*** {key} ***')\n",
    "    for k, v in value.items():\n",
    "        if k in ['RMSE', 'Cредний запас предсказанного сырья']:\n",
    "            print(f'{k} = {v}')\n",
    "    print()"
   ]
  },
  {
   "cell_type": "markdown",
   "metadata": {},
   "source": [
    "По результатам можно заметить, что RMSE для модели региона №1 очень низок по сравнению с другими моделями. В чем причина столь высокой точности? Можно попробовать проверить корреляции."
   ]
  },
  {
   "cell_type": "code",
   "execution_count": 8,
   "metadata": {},
   "outputs": [
    {
     "name": "stdout",
     "output_type": "stream",
     "text": [
      "\t*** Регион 0 ***\n"
     ]
    },
    {
     "data": {
      "text/html": [
       "<div>\n",
       "<style scoped>\n",
       "    .dataframe tbody tr th:only-of-type {\n",
       "        vertical-align: middle;\n",
       "    }\n",
       "\n",
       "    .dataframe tbody tr th {\n",
       "        vertical-align: top;\n",
       "    }\n",
       "\n",
       "    .dataframe thead th {\n",
       "        text-align: right;\n",
       "    }\n",
       "</style>\n",
       "<table border=\"1\" class=\"dataframe\">\n",
       "  <thead>\n",
       "    <tr style=\"text-align: right;\">\n",
       "      <th></th>\n",
       "      <th>f0</th>\n",
       "      <th>f1</th>\n",
       "      <th>f2</th>\n",
       "      <th>product</th>\n",
       "    </tr>\n",
       "  </thead>\n",
       "  <tbody>\n",
       "    <tr>\n",
       "      <th>f0</th>\n",
       "      <td>1.000000</td>\n",
       "      <td>-0.440723</td>\n",
       "      <td>-0.003153</td>\n",
       "      <td>0.143536</td>\n",
       "    </tr>\n",
       "    <tr>\n",
       "      <th>f1</th>\n",
       "      <td>-0.440723</td>\n",
       "      <td>1.000000</td>\n",
       "      <td>0.001724</td>\n",
       "      <td>-0.192356</td>\n",
       "    </tr>\n",
       "    <tr>\n",
       "      <th>f2</th>\n",
       "      <td>-0.003153</td>\n",
       "      <td>0.001724</td>\n",
       "      <td>1.000000</td>\n",
       "      <td>0.483663</td>\n",
       "    </tr>\n",
       "    <tr>\n",
       "      <th>product</th>\n",
       "      <td>0.143536</td>\n",
       "      <td>-0.192356</td>\n",
       "      <td>0.483663</td>\n",
       "      <td>1.000000</td>\n",
       "    </tr>\n",
       "  </tbody>\n",
       "</table>\n",
       "</div>"
      ],
      "text/plain": [
       "               f0        f1        f2   product\n",
       "f0       1.000000 -0.440723 -0.003153  0.143536\n",
       "f1      -0.440723  1.000000  0.001724 -0.192356\n",
       "f2      -0.003153  0.001724  1.000000  0.483663\n",
       "product  0.143536 -0.192356  0.483663  1.000000"
      ]
     },
     "metadata": {},
     "output_type": "display_data"
    },
    {
     "data": {
      "image/png": "[encoded data removed]",
      "text/plain": [
       "<Figure size 432x288 with 2 Axes>"
      ]
     },
     "metadata": {
      "needs_background": "light"
     },
     "output_type": "display_data"
    },
    {
     "name": "stdout",
     "output_type": "stream",
     "text": [
      "\n",
      "\t*** Регион 1 ***\n"
     ]
    },
    {
     "data": {
      "text/html": [
       "<div>\n",
       "<style scoped>\n",
       "    .dataframe tbody tr th:only-of-type {\n",
       "        vertical-align: middle;\n",
       "    }\n",
       "\n",
       "    .dataframe tbody tr th {\n",
       "        vertical-align: top;\n",
       "    }\n",
       "\n",
       "    .dataframe thead th {\n",
       "        text-align: right;\n",
       "    }\n",
       "</style>\n",
       "<table border=\"1\" class=\"dataframe\">\n",
       "  <thead>\n",
       "    <tr style=\"text-align: right;\">\n",
       "      <th></th>\n",
       "      <th>f0</th>\n",
       "      <th>f1</th>\n",
       "      <th>f2</th>\n",
       "      <th>product</th>\n",
       "    </tr>\n",
       "  </thead>\n",
       "  <tbody>\n",
       "    <tr>\n",
       "      <th>f0</th>\n",
       "      <td>1.000000</td>\n",
       "      <td>0.182287</td>\n",
       "      <td>-0.001777</td>\n",
       "      <td>-0.030491</td>\n",
       "    </tr>\n",
       "    <tr>\n",
       "      <th>f1</th>\n",
       "      <td>0.182287</td>\n",
       "      <td>1.000000</td>\n",
       "      <td>-0.002595</td>\n",
       "      <td>-0.010155</td>\n",
       "    </tr>\n",
       "    <tr>\n",
       "      <th>f2</th>\n",
       "      <td>-0.001777</td>\n",
       "      <td>-0.002595</td>\n",
       "      <td>1.000000</td>\n",
       "      <td>0.999397</td>\n",
       "    </tr>\n",
       "    <tr>\n",
       "      <th>product</th>\n",
       "      <td>-0.030491</td>\n",
       "      <td>-0.010155</td>\n",
       "      <td>0.999397</td>\n",
       "      <td>1.000000</td>\n",
       "    </tr>\n",
       "  </tbody>\n",
       "</table>\n",
       "</div>"
      ],
      "text/plain": [
       "               f0        f1        f2   product\n",
       "f0       1.000000  0.182287 -0.001777 -0.030491\n",
       "f1       0.182287  1.000000 -0.002595 -0.010155\n",
       "f2      -0.001777 -0.002595  1.000000  0.999397\n",
       "product -0.030491 -0.010155  0.999397  1.000000"
      ]
     },
     "metadata": {},
     "output_type": "display_data"
    },
    {
     "data": {
      "image/png": "[encoded data removed]",
      "text/plain": [
       "<Figure size 432x288 with 2 Axes>"
      ]
     },
     "metadata": {
      "needs_background": "light"
     },
     "output_type": "display_data"
    },
    {
     "name": "stdout",
     "output_type": "stream",
     "text": [
      "\n",
      "\t*** Регион 2 ***\n"
     ]
    },
    {
     "data": {
      "text/html": [
       "<div>\n",
       "<style scoped>\n",
       "    .dataframe tbody tr th:only-of-type {\n",
       "        vertical-align: middle;\n",
       "    }\n",
       "\n",
       "    .dataframe tbody tr th {\n",
       "        vertical-align: top;\n",
       "    }\n",
       "\n",
       "    .dataframe thead th {\n",
       "        text-align: right;\n",
       "    }\n",
       "</style>\n",
       "<table border=\"1\" class=\"dataframe\">\n",
       "  <thead>\n",
       "    <tr style=\"text-align: right;\">\n",
       "      <th></th>\n",
       "      <th>f0</th>\n",
       "      <th>f1</th>\n",
       "      <th>f2</th>\n",
       "      <th>product</th>\n",
       "    </tr>\n",
       "  </thead>\n",
       "  <tbody>\n",
       "    <tr>\n",
       "      <th>f0</th>\n",
       "      <td>1.000000</td>\n",
       "      <td>0.000528</td>\n",
       "      <td>-0.000448</td>\n",
       "      <td>-0.001987</td>\n",
       "    </tr>\n",
       "    <tr>\n",
       "      <th>f1</th>\n",
       "      <td>0.000528</td>\n",
       "      <td>1.000000</td>\n",
       "      <td>0.000779</td>\n",
       "      <td>-0.001012</td>\n",
       "    </tr>\n",
       "    <tr>\n",
       "      <th>f2</th>\n",
       "      <td>-0.000448</td>\n",
       "      <td>0.000779</td>\n",
       "      <td>1.000000</td>\n",
       "      <td>0.445871</td>\n",
       "    </tr>\n",
       "    <tr>\n",
       "      <th>product</th>\n",
       "      <td>-0.001987</td>\n",
       "      <td>-0.001012</td>\n",
       "      <td>0.445871</td>\n",
       "      <td>1.000000</td>\n",
       "    </tr>\n",
       "  </tbody>\n",
       "</table>\n",
       "</div>"
      ],
      "text/plain": [
       "               f0        f1        f2   product\n",
       "f0       1.000000  0.000528 -0.000448 -0.001987\n",
       "f1       0.000528  1.000000  0.000779 -0.001012\n",
       "f2      -0.000448  0.000779  1.000000  0.445871\n",
       "product -0.001987 -0.001012  0.445871  1.000000"
      ]
     },
     "metadata": {},
     "output_type": "display_data"
    },
    {
     "data": {
      "image/png": "[encoded data removed]",
      "text/plain": [
       "<Figure size 432x288 with 2 Axes>"
      ]
     },
     "metadata": {
      "needs_background": "light"
     },
     "output_type": "display_data"
    },
    {
     "name": "stdout",
     "output_type": "stream",
     "text": [
      "\n"
     ]
    }
   ],
   "source": [
    "for data in [data_0, data_1, data_2]:\n",
    "    print(f'\\t*** {data.name} ***')\n",
    "    display(data.corr())\n",
    "    sns.heatmap(data.corr(), annot=True)\n",
    "    plt.show()\n",
    "    print()"
   ]
  },
  {
   "cell_type": "markdown",
   "metadata": {},
   "source": [
    "Можно увидеть, для всех регионов давольно характерна более высокая корреляция между f2 и product. Однако в регионе №1 эта корелляция почти достигает единицы. Возможности доказать/опровергнуть утечку целевого признака в f2 в данном случае нет. Значит можно просто принять этот признак за высококоррелирующий с целевым и радоваться точности предсказаний."
   ]
  },
  {
   "cell_type": "markdown",
   "metadata": {},
   "source": [
    "# Подготовка к расчёту прибыли"
   ]
  },
  {
   "cell_type": "code",
   "execution_count": 9,
   "metadata": {},
   "outputs": [],
   "source": [
    "OIL_WELL_SCOUTED = 500 # Количество скважин при разведке\n",
    "OIL_WELL_BUILT = 200 # Количество скважин для разработки\n",
    "COST_PER_UNIT = 450000 # unit = 1000 barrels\n",
    "BUDGET = 10000000000"
   ]
  },
  {
   "cell_type": "markdown",
   "metadata": {},
   "source": [
    "Достаточный средний объём сырья с одной скважины для безубыточной разработки будет расчитываться как:\n",
    "$$ \\frac {Бюджет} {Стоимость\\ за\\ единицу\\ сырья * Количество\\ скважин\\ для\\ разработки} $$"
   ]
  },
  {
   "cell_type": "code",
   "execution_count": 10,
   "metadata": {},
   "outputs": [
    {
     "name": "stdout",
     "output_type": "stream",
     "text": [
      "Достаточный средний объём сырья с одной скважины для безубыточной разработки = 111.11111111111111\n"
     ]
    }
   ],
   "source": [
    "needed_mean_production = BUDGET / (COST_PER_UNIT * OIL_WELL_BUILT)\n",
    "print('Достаточный средний объём сырья с одной скважины для безубыточной разработки =', needed_mean_production)"
   ]
  },
  {
   "cell_type": "code",
   "execution_count": 11,
   "metadata": {},
   "outputs": [
    {
     "name": "stdout",
     "output_type": "stream",
     "text": [
      "Реальный средний объем сырья со скважины в Регион 0 = 92.49999999999974\n",
      "Реальный средний объем сырья со скважины в Регион 1 = 68.82500000002561\n",
      "Реальный средний объем сырья со скважины в Регион 2 = 95.00000000000041\n"
     ]
    }
   ],
   "source": [
    "for data in (data_0, data_1, data_2):\n",
    "    print(f'Реальный средний объем сырья со скважины в {data.name} =', data['product'].mean())"
   ]
  },
  {
   "cell_type": "markdown",
   "metadata": {},
   "source": [
    "Из чего видно, что в среднем скважины не обладают достаточным обьемом продукта, чтобы окупить затраты на свою разработку.\n",
    "\n",
    "Однако если проверить TOP-200 скважин каждого региона:"
   ]
  },
  {
   "cell_type": "code",
   "execution_count": 12,
   "metadata": {},
   "outputs": [
    {
     "name": "stdout",
     "output_type": "stream",
     "text": [
      "Реальный средний объем сырья с TOP-200 лучших скважин в Регион 0 = 184.83373964536023\n",
      "Реальный средний объем сырья с TOP-200 лучших скважин в Регион 1 = 137.94540774090612\n",
      "Реальный средний объем сырья с TOP-200 лучших скважин в Регион 2 = 189.55147698176654\n"
     ]
    }
   ],
   "source": [
    "for data in (data_0, data_1, data_2):\n",
    "    best_oil_wells = data['product'].sort_values(ascending=False).iloc[:OIL_WELL_BUILT]\n",
    "    print(f'Реальный средний объем сырья с TOP-200 лучших скважин в {data.name} =', best_oil_wells.mean())"
   ]
  },
  {
   "cell_type": "markdown",
   "metadata": {},
   "source": [
    "То видно, что разработка только лучших скважин может обеспечить окупаемость компании."
   ]
  },
  {
   "cell_type": "markdown",
   "metadata": {
    "tags": []
   },
   "source": [
    "# Расчёт прибыли и рисков "
   ]
  },
  {
   "cell_type": "markdown",
   "metadata": {},
   "source": [
    "Прибыль будет расчитываться по формуле: $ (Суммарный\\ объем\\ продукции\\ от\\ 200\\ лучших\\ скважин * Цена\\ единицы\\ объема) - Бюджет $\n",
    "\n",
    "Риск убытков рассчитывается как: $ \\frac {Количество\\ убыточных\\ выборок} {Общее\\ количество\\ выборок} $\n",
    "\n",
    "Прибыль рассчитывается для 200 лучших скважин из 500 скважин выбранных случайным образом."
   ]
  },
  {
   "cell_type": "code",
   "execution_count": 13,
   "metadata": {},
   "outputs": [],
   "source": [
    "def income_eval (prediction, target, cost, n_oil_well, budget):\n",
    "    '''\n",
    "    Берет n_oil_well лучших предсказаний и из соответсвующих им реальных данных рассчитывает прибыль.\n",
    "    Важно чтобы prediction и target имели одинаковую индексацию.\n",
    "    '''\n",
    "    predicted_best = prediction.sort_values(ascending=False).iloc[:n_oil_well]\n",
    "    real_income = target.loc[predicted_best.index]\n",
    "    income = real_income.sum() * cost - budget\n",
    "    return income"
   ]
  },
  {
   "cell_type": "code",
   "execution_count": 14,
   "metadata": {},
   "outputs": [],
   "source": [
    "for k in results:\n",
    "    income = []\n",
    "    random_p = RandomState(24)\n",
    "    random_t = RandomState(24) # Два одинаковых RandomState необходимы для того, чтобы в качестве subsample выбирались одинаковые выборки как из предсказаний, так и из правильных ответов\n",
    "    \n",
    "    prediction = results[k]['Предсказания']\n",
    "    target = results[k]['Правильные ответы']\n",
    "    for _ in range(1000):\n",
    "        prediction_subsample = prediction.sample(n=OIL_WELL_SCOUTED, replace=True, random_state=random_p)\n",
    "        target_subsample = target.sample(n=OIL_WELL_SCOUTED, replace=True, random_state=random_t)\n",
    "        income.append(income_eval(prediction_subsample, target_subsample, COST_PER_UNIT, OIL_WELL_BUILT, BUDGET))\n",
    "    income = pd.Series(income)\n",
    "    \n",
    "    loss_risk = income[income < 0].count() / income.count()\n",
    "    \n",
    "    results[k]['Средняя прибыль'] = income.mean()\n",
    "    results[k]['95%-й доверительный интервал'] = st.t.interval(alpha=.95, df=len(income)-1, loc=income.mean(), scale=income.sem())\n",
    "    results[k]['Риск убытков'] = loss_risk"
   ]
  },
  {
   "cell_type": "code",
   "execution_count": 15,
   "metadata": {},
   "outputs": [
    {
     "name": "stdout",
     "output_type": "stream",
     "text": [
      "\t*** Регион 0 ***\n",
      "Средняя прибыль = 651564611.5495917\n",
      "95%-й доверительный интервал = (632955365.1138272, 670173857.9853561)\n",
      "Риск убытков = 0.80%\n",
      "\n",
      "\t*** Регион 1 ***\n",
      "Средняя прибыль = 644016235.9563988\n",
      "95%-й доверительный интервал = (628033202.5528064, 659999269.3599913)\n",
      "Риск убытков = 0.10%\n",
      "\n",
      "\t*** Регион 2 ***\n",
      "Средняя прибыль = 597854087.629322\n",
      "95%-й доверительный интервал = (576976539.6275196, 618731635.6311245)\n",
      "Риск убытков = 3.30%\n",
      "\n"
     ]
    }
   ],
   "source": [
    "for key, value in results.items():\n",
    "    print(f'\\t*** {key} ***')\n",
    "    for k, v in value.items():\n",
    "        if k in ['Средняя прибыль', '95%-й доверительный интервал']:\n",
    "            print(f'{k} = {v}')\n",
    "        if k == 'Риск убытков':\n",
    "            print(f'{k} = {v:.2%}')\n",
    "    print()"
   ]
  },
  {
   "cell_type": "markdown",
   "metadata": {},
   "source": [
    "# Вывод"
   ]
  },
  {
   "cell_type": "markdown",
   "metadata": {},
   "source": [
    "Согласно условию *\"После оценки рисков нужно оставить лишь те регионы, в которых вероятность убытков меньше 2.5%. Среди них выбирают регион с наибольшей средней прибылью\"* нам подходит **Регион №0**. Так как риск убытков для него сотавляет 0.8%, а средняя прибыль является самой большой среди других регионов проходящих по условию вероятности убытков."
   ]
  }
 ],
 "metadata": {
  "ExecuteTimeLog": [
   {
    "duration": 1107,
    "start_time": "2022-02-11T13:17:45.266Z"
   },
   {
    "duration": 1225,
    "start_time": "2022-02-11T13:17:46.375Z"
   },
   {
    "duration": 3,
    "start_time": "2022-02-11T13:17:47.601Z"
   },
   {
    "duration": 237,
    "start_time": "2022-02-11T13:17:47.606Z"
   },
   {
    "duration": 27,
    "start_time": "2022-02-11T13:17:47.845Z"
   },
   {
    "duration": 309,
    "start_time": "2022-02-11T13:17:47.873Z"
   },
   {
    "duration": 87,
    "start_time": "2022-02-11T13:17:48.184Z"
   },
   {
    "duration": 965,
    "start_time": "2022-02-11T13:17:48.275Z"
   },
   {
    "duration": 2,
    "start_time": "2022-02-11T13:17:49.242Z"
   },
   {
    "duration": 5,
    "start_time": "2022-02-11T13:17:49.246Z"
   },
   {
    "duration": 22,
    "start_time": "2022-02-11T13:17:49.252Z"
   },
   {
    "duration": 36,
    "start_time": "2022-02-11T13:17:49.275Z"
   },
   {
    "duration": 3,
    "start_time": "2022-02-11T13:17:49.313Z"
   },
   {
    "duration": 3816,
    "start_time": "2022-02-11T13:17:49.318Z"
   },
   {
    "duration": 5,
    "start_time": "2022-02-11T13:17:53.135Z"
   },
   {
    "duration": 4022,
    "start_time": "2022-02-11T13:19:09.343Z"
   },
   {
    "duration": 8,
    "start_time": "2022-02-11T13:19:13.366Z"
   },
   {
    "duration": 4162,
    "start_time": "2022-02-11T13:19:57.529Z"
   },
   {
    "duration": 5,
    "start_time": "2022-02-11T13:20:01.692Z"
   },
   {
    "duration": 320,
    "start_time": "2022-02-12T05:25:16.314Z"
   },
   {
    "duration": 1362,
    "start_time": "2022-02-12T05:25:22.471Z"
   },
   {
    "duration": 1329,
    "start_time": "2022-02-12T05:25:23.836Z"
   },
   {
    "duration": 4,
    "start_time": "2022-02-12T05:25:25.167Z"
   },
   {
    "duration": 296,
    "start_time": "2022-02-12T05:25:25.173Z"
   },
   {
    "duration": 14,
    "start_time": "2022-02-12T05:25:25.471Z"
   },
   {
    "duration": 330,
    "start_time": "2022-02-12T05:25:25.487Z"
   },
   {
    "duration": 90,
    "start_time": "2022-02-12T05:25:25.820Z"
   },
   {
    "duration": 1008,
    "start_time": "2022-02-12T05:25:25.913Z"
   },
   {
    "duration": 3,
    "start_time": "2022-02-12T05:25:26.923Z"
   },
   {
    "duration": 23,
    "start_time": "2022-02-12T05:25:26.928Z"
   },
   {
    "duration": 14,
    "start_time": "2022-02-12T05:25:26.953Z"
   },
   {
    "duration": 70,
    "start_time": "2022-02-12T05:25:26.969Z"
   },
   {
    "duration": 4,
    "start_time": "2022-02-12T05:25:27.041Z"
   },
   {
    "duration": 4304,
    "start_time": "2022-02-12T05:25:27.047Z"
   },
   {
    "duration": 5,
    "start_time": "2022-02-12T05:25:31.353Z"
   },
   {
    "duration": 13,
    "start_time": "2022-02-12T05:25:35.056Z"
   },
   {
    "duration": 4,
    "start_time": "2022-02-12T05:26:11.808Z"
   },
   {
    "duration": 6,
    "start_time": "2022-02-12T05:26:21.431Z"
   },
   {
    "duration": 4,
    "start_time": "2022-02-12T05:26:37.399Z"
   },
   {
    "duration": 5,
    "start_time": "2022-02-12T05:26:39.478Z"
   },
   {
    "duration": 4,
    "start_time": "2022-02-12T05:28:55.237Z"
   },
   {
    "duration": 78,
    "start_time": "2022-02-12T05:29:59.420Z"
   },
   {
    "duration": 6,
    "start_time": "2022-02-12T05:30:05.388Z"
   },
   {
    "duration": 5,
    "start_time": "2022-02-12T05:32:11.793Z"
   },
   {
    "duration": 6,
    "start_time": "2022-02-12T05:32:13.465Z"
   },
   {
    "duration": 10,
    "start_time": "2022-02-12T05:45:50.947Z"
   },
   {
    "duration": 9,
    "start_time": "2022-02-12T05:46:02.091Z"
   },
   {
    "duration": 22,
    "start_time": "2022-02-12T06:02:02.090Z"
   },
   {
    "duration": 19,
    "start_time": "2022-02-12T06:02:11.673Z"
   },
   {
    "duration": 18,
    "start_time": "2022-02-12T06:02:34.944Z"
   },
   {
    "duration": 19,
    "start_time": "2022-02-12T06:02:45.817Z"
   },
   {
    "duration": 19,
    "start_time": "2022-02-12T06:02:50.209Z"
   },
   {
    "duration": 19,
    "start_time": "2022-02-12T06:03:00.777Z"
   },
   {
    "duration": 19,
    "start_time": "2022-02-12T06:03:11.584Z"
   },
   {
    "duration": 24,
    "start_time": "2022-02-12T06:05:29.655Z"
   },
   {
    "duration": 20,
    "start_time": "2022-02-12T06:05:33.613Z"
   },
   {
    "duration": 21,
    "start_time": "2022-02-12T06:05:37.301Z"
   },
   {
    "duration": 47,
    "start_time": "2022-02-12T06:05:50.957Z"
   },
   {
    "duration": 21,
    "start_time": "2022-02-12T06:06:32.117Z"
   },
   {
    "duration": 19,
    "start_time": "2022-02-12T06:08:48.699Z"
   },
   {
    "duration": 21,
    "start_time": "2022-02-12T06:16:56.201Z"
   },
   {
    "duration": 1237,
    "start_time": "2022-02-12T06:19:45.581Z"
   },
   {
    "duration": 1089,
    "start_time": "2022-02-12T06:19:46.820Z"
   },
   {
    "duration": 5,
    "start_time": "2022-02-12T06:19:47.911Z"
   },
   {
    "duration": 305,
    "start_time": "2022-02-12T06:19:47.919Z"
   },
   {
    "duration": 15,
    "start_time": "2022-02-12T06:19:48.226Z"
   },
   {
    "duration": 368,
    "start_time": "2022-02-12T06:19:48.243Z"
   },
   {
    "duration": 96,
    "start_time": "2022-02-12T06:19:48.613Z"
   },
   {
    "duration": 1006,
    "start_time": "2022-02-12T06:19:48.716Z"
   },
   {
    "duration": 4,
    "start_time": "2022-02-12T06:19:49.724Z"
   },
   {
    "duration": 10,
    "start_time": "2022-02-12T06:19:49.729Z"
   },
   {
    "duration": 11,
    "start_time": "2022-02-12T06:19:49.741Z"
   },
   {
    "duration": 63,
    "start_time": "2022-02-12T06:19:49.754Z"
   },
   {
    "duration": 4,
    "start_time": "2022-02-12T06:19:49.819Z"
   },
   {
    "duration": 4617,
    "start_time": "2022-02-12T06:19:49.824Z"
   },
   {
    "duration": 20,
    "start_time": "2022-02-12T06:19:54.443Z"
   },
   {
    "duration": 6,
    "start_time": "2022-02-12T06:19:54.465Z"
   },
   {
    "duration": 139,
    "start_time": "2022-02-12T06:27:56.542Z"
   },
   {
    "duration": 20,
    "start_time": "2022-02-12T06:28:03.296Z"
   },
   {
    "duration": 1374,
    "start_time": "2022-02-12T06:29:30.910Z"
   },
   {
    "duration": 989,
    "start_time": "2022-02-12T06:29:32.286Z"
   },
   {
    "duration": 4,
    "start_time": "2022-02-12T06:29:33.278Z"
   },
   {
    "duration": 302,
    "start_time": "2022-02-12T06:29:33.284Z"
   },
   {
    "duration": 27,
    "start_time": "2022-02-12T06:29:33.588Z"
   },
   {
    "duration": 300,
    "start_time": "2022-02-12T06:29:33.617Z"
   },
   {
    "duration": 99,
    "start_time": "2022-02-12T06:29:34.008Z"
   },
   {
    "duration": 1000,
    "start_time": "2022-02-12T06:29:34.110Z"
   },
   {
    "duration": 4,
    "start_time": "2022-02-12T06:29:35.113Z"
   },
   {
    "duration": 12,
    "start_time": "2022-02-12T06:29:35.119Z"
   },
   {
    "duration": 8,
    "start_time": "2022-02-12T06:29:35.134Z"
   },
   {
    "duration": 71,
    "start_time": "2022-02-12T06:29:35.144Z"
   },
   {
    "duration": 4,
    "start_time": "2022-02-12T06:29:35.217Z"
   },
   {
    "duration": 4459,
    "start_time": "2022-02-12T06:29:35.223Z"
   },
   {
    "duration": 27,
    "start_time": "2022-02-12T06:29:39.684Z"
   },
   {
    "duration": 5,
    "start_time": "2022-02-12T06:29:39.713Z"
   },
   {
    "duration": 1429,
    "start_time": "2022-02-12T19:15:27.273Z"
   },
   {
    "duration": 1068,
    "start_time": "2022-02-12T19:15:28.705Z"
   },
   {
    "duration": 4,
    "start_time": "2022-02-12T19:15:29.777Z"
   },
   {
    "duration": 397,
    "start_time": "2022-02-12T19:15:29.798Z"
   },
   {
    "duration": 38,
    "start_time": "2022-02-12T19:15:30.198Z"
   },
   {
    "duration": 402,
    "start_time": "2022-02-12T19:15:30.239Z"
   },
   {
    "duration": 91,
    "start_time": "2022-02-12T19:15:30.645Z"
   },
   {
    "duration": 1323,
    "start_time": "2022-02-12T19:15:30.742Z"
   },
   {
    "duration": 3,
    "start_time": "2022-02-12T19:15:32.069Z"
   },
   {
    "duration": 8,
    "start_time": "2022-02-12T19:15:32.075Z"
   },
   {
    "duration": 13,
    "start_time": "2022-02-12T19:15:32.085Z"
   },
   {
    "duration": 79,
    "start_time": "2022-02-12T19:15:32.100Z"
   },
   {
    "duration": 5,
    "start_time": "2022-02-12T19:15:32.181Z"
   },
   {
    "duration": 6737,
    "start_time": "2022-02-12T19:15:32.189Z"
   },
   {
    "duration": 22,
    "start_time": "2022-02-12T19:15:38.929Z"
   },
   {
    "duration": 11,
    "start_time": "2022-02-12T19:15:38.953Z"
   },
   {
    "duration": 6979,
    "start_time": "2022-02-12T19:17:20.946Z"
   },
   {
    "duration": 8,
    "start_time": "2022-02-12T19:17:27.928Z"
   },
   {
    "duration": 6717,
    "start_time": "2022-02-12T19:17:39.567Z"
   },
   {
    "duration": 21,
    "start_time": "2022-02-12T19:17:46.287Z"
   },
   {
    "duration": 25,
    "start_time": "2022-02-12T19:17:46.311Z"
   }
  ],
  "kernelspec": {
   "display_name": "Python 3",
   "language": "python",
   "name": "python3"
  },
  "language_info": {
   "codemirror_mode": {
    "name": "ipython",
    "version": 3
   },
   "file_extension": ".py",
   "mimetype": "text/x-python",
   "name": "python",
   "nbconvert_exporter": "python",
   "pygments_lexer": "ipython3",
   "version": "3.8.8"
  },
  "toc": {
   "base_numbering": 1,
   "nav_menu": {},
   "number_sections": true,
   "sideBar": true,
   "skip_h1_title": true,
   "title_cell": "Table of Contents",
   "title_sidebar": "Contents",
   "toc_cell": false,
   "toc_position": {},
   "toc_section_display": true,
   "toc_window_display": false
  }
 },
 "nbformat": 4,
 "nbformat_minor": 4
}
